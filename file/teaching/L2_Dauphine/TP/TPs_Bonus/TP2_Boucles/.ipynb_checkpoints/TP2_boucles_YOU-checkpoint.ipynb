{
 "cells": [
  {
   "cell_type": "markdown",
   "metadata": {},
   "source": [
    "# Séance 2. Boucles et récursivité"
   ]
  },
  {
   "cell_type": "code",
   "execution_count": 1,
   "metadata": {},
   "outputs": [
    {
     "name": "stdout",
     "output_type": "stream",
     "text": [
      "Populating the interactive namespace from numpy and matplotlib\n"
     ]
    }
   ],
   "source": [
    "# chargement des bibliothèques\n",
    "%pylab inline\n",
    "import time # pour les tests de performance"
   ]
  },
  {
   "cell_type": "markdown",
   "metadata": {},
   "source": [
    "## Exercice 1 (suite de Fibonacci)\n",
    "\n",
    "**1.** Écrire une boucle calculant les valeurs des vingt premiers termes de la [suite de Fibonacci](https://fr.wikipedia.org/wiki/Suite_de_Fibonacci), définie par\n",
    "$$\n",
    "u^{(0)}=0,\\ u^{(1)}=1\\text{ et},\\ \\forall k\\in\\mathbb{N},\\ u^{(k+2)}=u^{(k+1)}+u^{(k)},\n",
    "$$\n",
    "et conservant ces valeurs dans un tableau."
   ]
  },
  {
   "cell_type": "code",
   "execution_count": 15,
   "metadata": {},
   "outputs": [
    {
     "name": "stdout",
     "output_type": "stream",
     "text": [
      "0\n",
      "1\n",
      "1\n",
      "2\n",
      "3\n",
      "5\n",
      "8\n",
      "13\n",
      "21\n",
      "34\n",
      "55\n",
      "89\n",
      "144\n",
      "233\n",
      "377\n",
      "610\n",
      "987\n",
      "1597\n",
      "2584\n",
      "4181\n"
     ]
    }
   ],
   "source": [
    "u0 = 0\n",
    "u1 = 1\n",
    "print(u0)\n",
    "print(u1)\n",
    "n = 2\n",
    "while n < 20 :\n",
    "    u2 = u0 + u1\n",
    "    u0 = u1\n",
    "    u1 = u2\n",
    "    print(u1)\n",
    "    n += 1"
   ]
  },
  {
   "cell_type": "markdown",
   "metadata": {},
   "source": [
    "**2.** Écrire une boucle calculant les termes successifs de la suite de Fibonacci dont la valeur est inférieure ou égale à $50000$ et afficher le dernier de ces termes."
   ]
  },
  {
   "cell_type": "code",
   "execution_count": 16,
   "metadata": {},
   "outputs": [
    {
     "name": "stdout",
     "output_type": "stream",
     "text": [
      "46368\n"
     ]
    }
   ],
   "source": [
    "u0 = 0\n",
    "u1 = 1\n",
    "n = 2\n",
    "while u1 <= 50000 :\n",
    "    u2 = u0 + u1\n",
    "    u0 = u1\n",
    "    u1 = u2\n",
    "    n += 1\n",
    "print(u0)"
   ]
  },
  {
   "cell_type": "markdown",
   "metadata": {},
   "source": [
    "**3.** Écrire enfin une fonction `fibonacci(n)` calculant de manière itérative $n$<sup>e</sup> terme de la suite de Fibonacci, sans toutefois conserver les valeurs de tous les termes de la suite."
   ]
  },
  {
   "cell_type": "code",
   "execution_count": 19,
   "metadata": {},
   "outputs": [
    {
     "name": "stdout",
     "output_type": "stream",
     "text": [
      "Saisir un entier7\n",
      "13\n"
     ]
    }
   ],
   "source": [
    "def fibonacci(n):\n",
    "    u0 = 0\n",
    "    u1 = 1\n",
    "    x = 2\n",
    "    while x <= n :\n",
    "        u2 = u0 + u1\n",
    "        u0 = u1\n",
    "        u1 = u2\n",
    "        x += 1\n",
    "    return u1\n",
    "    \n",
    "n = int(input(\"Saisir un entier : \"))\n",
    "print(fibonacci(n))"
   ]
  },
  {
   "cell_type": "markdown",
   "metadata": {},
   "source": [
    "## Exercice 2 (suites adjacentes)\n",
    "\n",
    "On définit deux suites $(u^{(k)})_{k\\in\\mathbb{N}}$ et $(v^{(k)})_{k\\in\\mathbb{N}}$ par\n",
    "$$\n",
    "u^{(0)}=1,\\ v^{(0)}=2\\text{ et, }\\forall k\\in\\mathbb{N},\\\n",
    "u^{(k+1)}=\\frac{u^{(k)}+v^{(k)}}{2},\\ v^{(k+1)}=\\sqrt{u^{(k+1)}v^{(k)}}.\n",
    "$$\n",
    "On admet que ces suites sont adjacentes, de limite $\\dfrac{\\sqrt{27}}{\\pi}$.\n",
    "\n",
    "**1.** Écrire une fonction ayant pour argument un entier $n$ et renvoyant l'approximation du nombre $\\pi$ obtenue à partir de la valeur de $v^{(n)}$."
   ]
  },
  {
   "cell_type": "code",
   "execution_count": 36,
   "metadata": {},
   "outputs": [
    {
     "name": "stdout",
     "output_type": "stream",
     "text": [
      "Saisir un entier : 100\n",
      "3.1415926535897936\n"
     ]
    }
   ],
   "source": [
    "def approxPI_index(n):\n",
    "    u0=1\n",
    "    v0=2\n",
    "    for i in range(n):\n",
    "        u1=(u0+v0)/2\n",
    "        v1=sqrt(u1*v0)\n",
    "        u0=u1\n",
    "        v0=v1\n",
    "    return (1/v1*sqrt(27))\n",
    "\n",
    "n = int(input(\"Saisir un entier : \"))\n",
    "print(approxPI_index(n))"
   ]
  },
  {
   "cell_type": "markdown",
   "metadata": {},
   "source": [
    "**2.** Écrire une fonction ayant pour argument un réel $\\varepsilon$ strictement positif et renvoyant l'approximation du nombre $\\pi$ obtenue à partir de la valeur de $v^{(n)}$, premier terme de la suite $(v^{(k)})_{k\\in\\mathbb{N}}$ à satisfaire la condition\n",
    "$$\n",
    "\\left\\vert\\frac{u^{(n)}-v^{(n)}}{u^{(n)}+v^{(n)}}\\right\\vert\\leq\\varepsilon.\n",
    "$$"
   ]
  },
  {
   "cell_type": "code",
   "execution_count": 37,
   "metadata": {},
   "outputs": [
    {
     "name": "stdout",
     "output_type": "stream",
     "text": [
      "3.1415926450336915\n"
     ]
    }
   ],
   "source": [
    "def approxPI_tol(eps):\n",
    "    u0=1\n",
    "    v0=2\n",
    "    while abs((u0-v0)/(u0+v0))>eps:\n",
    "        u1=(u0+v0)/2\n",
    "        v1=sqrt(u1*v0)\n",
    "        u0=u1\n",
    "        v0=v1\n",
    "    return (1/v0*sqrt(27))\n",
    "\n",
    "print(approxPI_tol(0.00000001))"
   ]
  },
  {
   "cell_type": "markdown",
   "metadata": {},
   "source": [
    "## Exercice 3 (développements en série entière de $\\cos$ et $\\sin$)\n",
    "\n",
    "**1.** Écrire une fonction `cosn(n,x)`, prenant comme arguments un entier naturel non nul $n$ et un réel $x$, calculant une approximation de la valeur de la fonction cosinus en $x$ obtenue en ne conservant que les $n$ premiers termes du développement en série entière\n",
    "$$\n",
    "\\cos(x)=1-\\frac{x^2}{2!}+\\dots+(-1)^k\\frac{x^{2k}}{(2k)!}+\\dots\n",
    "$$\n",
    "Comparer l'erreur entre le résultat `cosn(n,x)` et la valeur exacte `cos(x)` pour différentes valeurs de $n$ et de $x$."
   ]
  },
  {
   "cell_type": "code",
   "execution_count": 42,
   "metadata": {},
   "outputs": [
    {
     "name": "stdout",
     "output_type": "stream",
     "text": [
      "0.5416666666666666\n"
     ]
    },
    {
     "data": {
      "text/plain": [
       "<matplotlib.legend.Legend at 0x1224c7070>"
      ]
     },
     "execution_count": 42,
     "metadata": {},
     "output_type": "execute_result"
    },
    {
     "data": {
      "image/png": "[encoded data removed]",
      "text/plain": [
       "<Figure size 432x288 with 1 Axes>"
      ]
     },
     "metadata": {
      "needs_background": "light"
     },
     "output_type": "display_data"
    }
   ],
   "source": [
    "def fact(n):\n",
    "    if n<=1:\n",
    "        return 1\n",
    "    else:\n",
    "        return(n*fact(n-1))\n",
    "    \n",
    "def cosn(x,n):\n",
    "    cos=0\n",
    "    for i in range(n):\n",
    "        cos=cos+(((-1)**i)*(x**(2*i)))/(fact(2*i))\n",
    "    return cos\n",
    "print(cosn(1,3))\n",
    "\n",
    "x=linspace(0,10,num=100,endpoint=True)\n",
    "y=cos(x)\n",
    "z=cosn(x,20)\n",
    "plot(x,y,label='cos(x)')\n",
    "plot(x,z,label='cos(x,n)')\n",
    "title('Graph cosinus')\n",
    "xlabel('abscisses')\n",
    "ylabel('ordonnées')\n",
    "legend()"
   ]
  },
  {
   "cell_type": "markdown",
   "metadata": {},
   "source": [
    "**2.** Même question avec la fonction `sinn(n,x)` basée sur le développement en série entière de la fonction sinus\n",
    "$$\n",
    "\\sin(x)=x-\\frac{x^3}{3!}+\\dots+(-1)^k\\frac{x^{2k+1}}{(2k+1)!}+\\dots\n",
    "$$"
   ]
  },
  {
   "cell_type": "code",
   "execution_count": 43,
   "metadata": {},
   "outputs": [
    {
     "name": "stdout",
     "output_type": "stream",
     "text": [
      "0.8416666666666667\n"
     ]
    },
    {
     "data": {
      "text/plain": [
       "<matplotlib.legend.Legend at 0x122561f70>"
      ]
     },
     "execution_count": 43,
     "metadata": {},
     "output_type": "execute_result"
    },
    {
     "data": {
      "image/png": "[encoded data removed]",
      "text/plain": [
       "<Figure size 432x288 with 1 Axes>"
      ]
     },
     "metadata": {
      "needs_background": "light"
     },
     "output_type": "display_data"
    }
   ],
   "source": [
    "def sinn(x,n):\n",
    "    sin=0\n",
    "    for i in range(n):\n",
    "        sin=sin+(((-1)**i)*(x**((2*i)+1)))/(fact((2*i)+1))\n",
    "    return sin\n",
    "print(sinn(1,3))  \n",
    "\n",
    "x=linspace(0,2*pi,num=100,endpoint=True)\n",
    "y=sin(x)\n",
    "z=sinn(x,20)\n",
    "plot(x,y,label='sin(x)')\n",
    "plot(x,z,label='sin(x,n)')\n",
    "title('Graph sinus')\n",
    "xlabel('abscisses')\n",
    "ylabel('ordonnées')\n",
    "legend()"
   ]
  },
  {
   "cell_type": "markdown",
   "metadata": {},
   "source": [
    "## Exercice 4 (programmation récursive)\n",
    "\n",
    "En informatique, une fonction est dite *récursive* lorsqu'elle s'appelle elle-même. En pratique, une telle fonction aura toujours au moins une instruction conditionnelle, afin que, dans certains cas au moins, il n'y ait pas d'appel récursif (sans quoi la fonction s'appellerait indéfiniment jusqu'à la saturation de la pile, provoquant une interruption du programme). Le concept de fonction récursive est généralement opposé à celui de fonction itérative, qui s'exécute sans s'invoquer ou s'appeler explicitement.\n",
    "\n",
    "Bien que cette forme de programmation aboutisse à des programmes concis et proches des formulations mathématiques qui en sont à l'origine, il peut parfois être mal indiqué ou même catastrophique d'employer la récursivité (toute fonction récursive pouvant être remplacée par une fonction itérative), comme on le vérifiera à la troisième question du présent exercice.\n",
    "\n",
    "**1.** Écrire une fonction récursive `rfactorielle(n)` calculant $n!$."
   ]
  },
  {
   "cell_type": "code",
   "execution_count": 30,
   "metadata": {},
   "outputs": [
    {
     "name": "stdout",
     "output_type": "stream",
     "text": [
      "Saisir un entier : 5\n",
      "120\n"
     ]
    }
   ],
   "source": [
    "def rfactorielle(n):\n",
    "    if (n == 0):\n",
    "        return 1\n",
    "    else :\n",
    "        return (n * rfactorielle(n-1))\n",
    "\n",
    "n = int(input(\"Saisir un entier : \"))\n",
    "print(rfactorielle(n))"
   ]
  },
  {
   "cell_type": "markdown",
   "metadata": {},
   "source": [
    "**2.** Écrire, en utilisant la fonction `remainder` de NumPy donnant le reste de la division euclidienne de deux entiers, une fonction récursive `rpgcd(a,b)` renvoyant le plus grand commun diviseur des entiers naturels $a$ et $b$ calculé par l'[algorithme d'Euclide](https://fr.wikipedia.org/wiki/Algorithme_d%27Euclide)."
   ]
  },
  {
   "cell_type": "code",
   "execution_count": 33,
   "metadata": {},
   "outputs": [
    {
     "name": "stdout",
     "output_type": "stream",
     "text": [
      "Saisir un entier : 6\n",
      "Saisir un entier : 93\n",
      "3\n"
     ]
    }
   ],
   "source": [
    "def rpgcd(a,b):\n",
    "    if (a * b == 0):\n",
    "        return a + b\n",
    "    else :\n",
    "        if (a > b):\n",
    "            return rpgcd(b, remainder(a,b))\n",
    "        else :\n",
    "            return rpgcd(a, remainder(b,a))\n",
    "\n",
    "a = int(input(\"Saisir un entier : \"))\n",
    "b = int(input(\"Saisir un entier : \"))\n",
    "print(rpgcd(a,b))"
   ]
  },
  {
   "cell_type": "markdown",
   "metadata": {},
   "source": [
    "**3.** Écrire une fonction récursive `rfibonacci(n)` calculant le $n$<sup>e</sup> terme de la suite de Fibonacci et comparer son temps d'exécution avec celui de la fonction `fibonacci(n)` de l'exercice 1."
   ]
  },
  {
   "cell_type": "code",
   "execution_count": 35,
   "metadata": {},
   "outputs": [
    {
     "name": "stdout",
     "output_type": "stream",
     "text": [
      "Saisir un entier : 7\n",
      "13\n"
     ]
    }
   ],
   "source": [
    "def rfibonacci(n):\n",
    "    if (n == 0):\n",
    "        return 0\n",
    "    if (n == 1) :\n",
    "        return 1\n",
    "    else :\n",
    "        return rfibonacci(n-1) + rfibonacci(n-2)\n",
    "    \n",
    "n = int(input(\"Saisir un entier : \"))\n",
    "print(rfibonacci(n))\n",
    "\n",
    "# COMPARER TEMPS D'EXECUTION"
   ]
  },
  {
   "cell_type": "markdown",
   "metadata": {},
   "source": [
    "**4.** Écrire une fonction récursive `rcollatz(n)` renvoyant la valeur booléenne `True` si la [conjecture de Collatz](https://fr.wikipedia.org/wiki/Conjecture_de_Syracuse) est vérifiée pour l'entier naturel non nul $n$. On pourra utiliser la fonction `remainder` de NumPy."
   ]
  },
  {
   "cell_type": "code",
   "execution_count": 49,
   "metadata": {},
   "outputs": [
    {
     "name": "stdout",
     "output_type": "stream",
     "text": [
      "Saisir un entier : 9\n",
      "True\n"
     ]
    }
   ],
   "source": [
    "def f(x):\n",
    "    if (remainder(x,2) == 0):\n",
    "        return x // 2\n",
    "    else :\n",
    "        return (3 * x) + 1\n",
    "\n",
    "def rcollatz(n):\n",
    "    if (n <= 0):\n",
    "        return False\n",
    "    if (n == 1):\n",
    "        return True\n",
    "    else :\n",
    "        return rcollatz(f(n))\n",
    "\n",
    "n = int(input(\"Saisir un entier : \"))\n",
    "print(rcollatz(n))"
   ]
  },
  {
   "cell_type": "markdown",
   "metadata": {},
   "source": [
    "**5.** Écrire une fonction récursive `rcosn(n,x)` calculant l'approximation de $\\cos(x)$ vue dans l'exercice 3 et utilisant la relation existant entre les termes de la série, c'est-à-dire\n",
    "$$\n",
    "u^{(0)}=1\\mbox{ et},\\ \\forall k\\in\\mathbb{N}^*,\\ u^{(k)}=-\\frac{x^2}{2k(2k-1)}\\,u^{(k-1)}.\n",
    "$$"
   ]
  },
  {
   "cell_type": "code",
   "execution_count": null,
   "metadata": {},
   "outputs": [],
   "source": [
    "def rcosn(x, n):\n",
    "    if (x == 0):\n",
    "        return 1\n",
    "    else :\n",
    "        "
   ]
  },
  {
   "cell_type": "markdown",
   "metadata": {},
   "source": [
    "## Exercice 5 (procédé $\\Delta^2$ d'Aitken)\n",
    "\n",
    "On peut obtenir une valeur approchée du réel $\\pi$ en sommant un nombre fini de termes de la [série de Madhava-Gregory-Leibniz](https://en.wikipedia.org/wiki/Leibniz_formula_for_%CF%80),\n",
    "$$\n",
    "\\sum_{n=0}^{+\\infty}\\frac{(-1)^n}{2n+1}=\\frac{\\pi}{4}.\n",
    "$$\n",
    "La convergence de cette série est malheureusement lente et, pour l'accélérer, on se propose d'utiliser le [procédé $\\Delta^2$ d'Aitken](https://en.wikipedia.org/wiki/Aitken%27s_delta-squared_process). Cette technique consiste en la construction d'une suite $(u^{(k)})_{k\\in\\mathbb{N}}$ définie par\n",
    "$$\n",
    "\\forall k\\in\\mathbb{N},\\ u^{(k)}=s^{(k)}-\\frac{\\left(s^{(k+1)}-s^{(k)}\\right)^2}{s^{(k)}-2\\,s^{(k+1)}+s^{(k+2)}},\\text{ avec},\\forall m\\in\\mathbb{N},\\ s^{(m)}=\\sum_{n=0}^m\\frac{(-1)^n}{2n+1},\n",
    "$$\n",
    "ayant même limite que la suite $(s^{(k)})_{k\\in\\mathbb{N}}$ des sommes partielles de la série de Madhava-Gregory-Leibniz et convergeant plus rapidement.\n",
    "\n",
    "**1.** Écrire une boucle calculant les termes de la suite $(s^{(k)})_{k\\in\\mathbb{N}}$ et s'arrêtant lorsque la condition $\\vert s^{(k)}-\\frac{\\pi}{4}\\vert\\leq\\varepsilon$ est vérifiée, avec $\\varepsilon$ un réel strictement positif fixé. En prenant $\\varepsilon=10^{-6}$, combien faut-il calculer de termes pour satisfaire le critère ?"
   ]
  },
  {
   "cell_type": "code",
   "execution_count": 2,
   "metadata": {},
   "outputs": [
    {
     "name": "stdout",
     "output_type": "stream",
     "text": [
      "Temps écoulé : 0.16815662384033203 s.\n",
      "On a besoin de 250001 termes\n"
     ]
    }
   ],
   "source": [
    "epsilon = 1e-6\n",
    "t = time.time()\n",
    "s,k = 1,0\n",
    "while (abs(s-(pi/4)) > epsilon) :\n",
    "    k = k+1\n",
    "    s = s + pow(-1, k) / (2*k+1)\n",
    "elapsed = time.time()-t\n",
    "print('Temps écoulé :', elapsed, 's.')\n",
    "print('On a besoin de', k+1, 'termes')"
   ]
  },
  {
   "cell_type": "markdown",
   "metadata": {},
   "source": [
    "**2.** Modifier la boucle de façon à calculer les termes de la suite $(u^{(k)})_{k\\in\\mathbb{N}}$. Pour quelle valeur de l'entier $k$ a-t-on $\\vert u^{(k)}-\\frac{\\pi}{4}\\vert\\leq\\varepsilon$, avec $\\varepsilon=10^{-6}$ ?"
   ]
  },
  {
   "cell_type": "code",
   "execution_count": 6,
   "metadata": {},
   "outputs": [
    {
     "name": "stdout",
     "output_type": "stream",
     "text": [
      "Temps écoulé : 0.0011861324310302734 s.\n",
      "On a besoin de 184 termes\n"
     ]
    }
   ],
   "source": [
    "t = time.time()\n",
    "s,j = 1,0\n",
    "sp1, j = s - 1/3, 1\n",
    "u,k = 0, -1\n",
    "while (abs(u-(pi/4)) > epsilon) :\n",
    "    j = j+1\n",
    "    sp2 = sp1 + pow(-1, j) / (2*j+1)\n",
    "    k = k+1\n",
    "    u = s - pow(sp1-s, 2) / (s-2*sp1+sp2)\n",
    "    s, sp1 = sp1, sp2\n",
    "elapsed = time.time()-t\n",
    "print('Temps écoulé :', elapsed, 's.')\n",
    "print('On a besoin de', k+1, 'termes')"
   ]
  },
  {
   "cell_type": "markdown",
   "metadata": {},
   "source": [
    "**3.** Reprendre les questions précédentes avec $\\varepsilon=10^{-8}$."
   ]
  },
  {
   "cell_type": "code",
   "execution_count": 7,
   "metadata": {},
   "outputs": [
    {
     "ename": "KeyboardInterrupt",
     "evalue": "",
     "output_type": "error",
     "traceback": [
      "\u001b[0;31m---------------------------------------------------------------------------\u001b[0m",
      "\u001b[0;31mKeyboardInterrupt\u001b[0m                         Traceback (most recent call last)",
      "\u001b[0;32m<ipython-input-7-c936f9ee849a>\u001b[0m in \u001b[0;36m<module>\u001b[0;34m\u001b[0m\n\u001b[1;32m      4\u001b[0m \u001b[0;32mwhile\u001b[0m \u001b[0;34m(\u001b[0m\u001b[0mabs\u001b[0m\u001b[0;34m(\u001b[0m\u001b[0ms\u001b[0m\u001b[0;34m-\u001b[0m\u001b[0;34m(\u001b[0m\u001b[0mpi\u001b[0m\u001b[0;34m/\u001b[0m\u001b[0;36m4\u001b[0m\u001b[0;34m)\u001b[0m\u001b[0;34m)\u001b[0m \u001b[0;34m>\u001b[0m \u001b[0mepsilon\u001b[0m\u001b[0;34m)\u001b[0m \u001b[0;34m:\u001b[0m\u001b[0;34m\u001b[0m\u001b[0;34m\u001b[0m\u001b[0m\n\u001b[1;32m      5\u001b[0m     \u001b[0mk\u001b[0m \u001b[0;34m=\u001b[0m \u001b[0mk\u001b[0m\u001b[0;34m+\u001b[0m\u001b[0;36m1\u001b[0m\u001b[0;34m\u001b[0m\u001b[0;34m\u001b[0m\u001b[0m\n\u001b[0;32m----> 6\u001b[0;31m     \u001b[0ms\u001b[0m \u001b[0;34m=\u001b[0m \u001b[0ms\u001b[0m \u001b[0;34m+\u001b[0m \u001b[0mpow\u001b[0m\u001b[0;34m(\u001b[0m\u001b[0;34m-\u001b[0m\u001b[0;36m1\u001b[0m\u001b[0;34m,\u001b[0m \u001b[0mk\u001b[0m\u001b[0;34m)\u001b[0m \u001b[0;34m/\u001b[0m \u001b[0;34m(\u001b[0m\u001b[0;36m2\u001b[0m\u001b[0;34m*\u001b[0m\u001b[0mk\u001b[0m\u001b[0;34m+\u001b[0m\u001b[0;36m1\u001b[0m\u001b[0;34m)\u001b[0m\u001b[0;34m\u001b[0m\u001b[0;34m\u001b[0m\u001b[0m\n\u001b[0m\u001b[1;32m      7\u001b[0m \u001b[0melapsed\u001b[0m \u001b[0;34m=\u001b[0m \u001b[0mtime\u001b[0m\u001b[0;34m.\u001b[0m\u001b[0mtime\u001b[0m\u001b[0;34m(\u001b[0m\u001b[0;34m)\u001b[0m\u001b[0;34m-\u001b[0m\u001b[0mt\u001b[0m\u001b[0;34m\u001b[0m\u001b[0;34m\u001b[0m\u001b[0m\n\u001b[1;32m      8\u001b[0m \u001b[0mprint\u001b[0m\u001b[0;34m(\u001b[0m\u001b[0;34m'Temps écoulé :'\u001b[0m\u001b[0;34m,\u001b[0m \u001b[0melapsed\u001b[0m\u001b[0;34m,\u001b[0m \u001b[0;34m's.'\u001b[0m\u001b[0;34m)\u001b[0m\u001b[0;34m\u001b[0m\u001b[0;34m\u001b[0m\u001b[0m\n",
      "\u001b[0;31mKeyboardInterrupt\u001b[0m: "
     ]
    }
   ],
   "source": [
    "epsilon = 1e-8\n",
    "t = time.time()\n",
    "s,k = 1,0\n",
    "while (abs(s-(pi/4)) > epsilon) :\n",
    "    k = k+1\n",
    "    s = s + pow(-1, k) / (2*k+1)\n",
    "elapsed = time.time()-t\n",
    "print('Temps écoulé :', elapsed, 's.')\n",
    "print('On a besoin de', k+1, 'termes')"
   ]
  },
  {
   "cell_type": "code",
   "execution_count": null,
   "metadata": {},
   "outputs": [],
   "source": [
    "t = time.time()\n",
    "s,j = 1,0\n",
    "sp1, j = s - 1/3, 1\n",
    "u,k = 0, -1\n",
    "while (abs(u-(pi/4)) > epsilon) :\n",
    "    j = j+1\n",
    "    sp2 = sp1 + pow(-1, j) / (2*j+1)\n",
    "    k = k+1\n",
    "    u = s - pow(sp1-s, 2) / (s-2*sp1+sp2)\n",
    "    s, sp1 = sp1, sp2\n",
    "elapsed = time.time()-t\n",
    "print('Temps écoulé :', elapsed, 's.')\n",
    "print('On a besoin de', k+1, 'termes')"
   ]
  }
 ],
 "metadata": {
  "kernelspec": {
   "display_name": "Python 3 (ipykernel)",
   "language": "python",
   "name": "python3"
  },
  "language_info": {
   "codemirror_mode": {
    "name": "ipython",
    "version": 3
   },
   "file_extension": ".py",
   "mimetype": "text/x-python",
   "name": "python",
   "nbconvert_exporter": "python",
   "pygments_lexer": "ipython3",
   "version": "3.9.12"
  }
 },
 "nbformat": 4,
 "nbformat_minor": 1
}
