{
 "cells": [
  {
   "cell_type": "markdown",
   "metadata": {},
   "source": [
    "# Feuille de travaux pratiques. Boucles et récursivité"
   ]
  },
  {
   "cell_type": "code",
   "execution_count": 1,
   "metadata": {},
   "outputs": [],
   "source": [
    "# chargement des bibliothèques\n",
    "import numpy as np\n",
    "\n",
    "%matplotlib inline\n",
    "import matplotlib.pyplot as plt"
   ]
  },
  {
   "cell_type": "markdown",
   "metadata": {},
   "source": [
    "## Exercice 1 (suite de Fibonacci)\n",
    "\n",
    "**1.** Écrire une boucle calculant les valeurs des vingt premiers termes de la [suite de Fibonacci](https://fr.wikipedia.org/wiki/Suite_de_Fibonacci), définie par\n",
    "$$\n",
    "u^{(0)}=0,\\ u^{(1)}=1\\text{ et},\\ \\forall k\\in\\mathbb{N},\\ u^{(k+2)}=u^{(k+1)}+u^{(k)},\n",
    "$$\n",
    "et conservant ces valeurs dans un tableau."
   ]
  },
  {
   "cell_type": "code",
   "execution_count": 24,
   "metadata": {},
   "outputs": [
    {
     "name": "stdout",
     "output_type": "stream",
     "text": [
      "[    0     1     1     2     3     5     8    13    21    34    55    89\n",
      "   144   233   377   610   987  1597  2584  4181  6765 10946 17711 28657\n",
      " 46368 75025]\n"
     ]
    }
   ],
   "source": [
    "def fibo(N):\n",
    "    T = np.zeros(N).astype(int)\n",
    "    T[0]=0\n",
    "    T[1]=1\n",
    "    for k in range(2,N):\n",
    "        T[k]=T[k-1]+T[k-2]\n",
    "    print(T)\n",
    "fibo(26)\n"
   ]
  },
  {
   "cell_type": "markdown",
   "metadata": {},
   "source": [
    "**2.** Écrire une boucle calculant les termes successifs de la suite de Fibonacci dont la valeur est inférieure ou égale à $50000$ et afficher le dernier de ces termes."
   ]
  },
  {
   "cell_type": "code",
   "execution_count": 25,
   "metadata": {},
   "outputs": [
    {
     "name": "stdout",
     "output_type": "stream",
     "text": [
      "25\n"
     ]
    }
   ],
   "source": [
    "max = 50000\n",
    "u = 0\n",
    "v=1\n",
    "w = u+v\n",
    "n =3\n",
    "while(w<max):\n",
    "    n = n+1\n",
    "    u= v\n",
    "    v= w\n",
    "    w = u+v\n",
    "print(n)\n",
    "    "
   ]
  },
  {
   "cell_type": "markdown",
   "metadata": {},
   "source": [
    "**3.** Écrire enfin une fonction `fibonacci(n)` calculant de manière itérative $n$<sup>e</sup> terme de la suite de Fibonacci, sans toutefois conserver les valeurs de tous les termes de la suite."
   ]
  },
  {
   "cell_type": "code",
   "execution_count": 30,
   "metadata": {},
   "outputs": [
    {
     "data": {
      "text/plain": [
       "46368"
      ]
     },
     "execution_count": 30,
     "metadata": {},
     "output_type": "execute_result"
    }
   ],
   "source": [
    "def fibonacci(n):\n",
    "    u = 0\n",
    "    v=1\n",
    "    w = u+v\n",
    "    for k in range (3,n):\n",
    "        u =v\n",
    "        v =w\n",
    "        w =u+v\n",
    "    return w\n",
    "fibonacci(25)"
   ]
  },
  {
   "cell_type": "markdown",
   "metadata": {},
   "source": [
    "## Exercice 2 (suites adjacentes)\n",
    "\n",
    "On définit deux suites $(u^{(k)})_{k\\in\\mathbb{N}}$ et $(v^{(k)})_{k\\in\\mathbb{N}}$ par\n",
    "$$\n",
    "u^{(0)}=1,\\ v^{(0)}=2\\text{ et, }\\forall k\\in\\mathbb{N},\\\n",
    "u^{(k+1)}=\\frac{u^{(k)}+v^{(k)}}{2},\\ v^{(k+1)}=\\sqrt{u^{(k+1)}v^{(k)}}.\n",
    "$$\n",
    "On admet que ces suites sont adjacentes, de limite $\\dfrac{\\sqrt{27}}{\\pi}$.\n",
    "\n",
    "**1.** Écrire une fonction ayant pour argument un entier $n$ et renvoyant l'approximation du nombre $\\pi$ obtenue à partir de la valeur de $v^{(n)}$."
   ]
  },
  {
   "cell_type": "code",
   "execution_count": 45,
   "metadata": {},
   "outputs": [
    {
     "data": {
      "text/plain": [
       "[1.653396214626991, 1.6542819378941616]"
      ]
     },
     "execution_count": 45,
     "metadata": {},
     "output_type": "execute_result"
    }
   ],
   "source": [
    "from math import sqrt \n",
    "def pi(n):\n",
    "    u = 1\n",
    "    v = 2\n",
    "    for k in range(3,n):\n",
    "        u= (u+v)/2\n",
    "        v = sqrt(u*v)\n",
    "    return [u,v]\n",
    "pi(8)"
   ]
  },
  {
   "cell_type": "markdown",
   "metadata": {},
   "source": [
    "**2.** Écrire une fonction ayant pour argument un réel $\\varepsilon$ strictement positif et renvoyant l'approximation du nombre $\\pi$ obtenue à partir de la valeur de $v^{(n)}$, premier terme de la suite $(v^{(k)})_{k\\in\\mathbb{N}}$ à satisfaire la condition\n",
    "$$\n",
    "\\left\\vert\\frac{u^{(n)}-v^{(n)}}{u^{(n)}+v^{(n)}}\\right\\vert\\leq\\varepsilon.\n",
    "$$"
   ]
  },
  {
   "cell_type": "code",
   "execution_count": 52,
   "metadata": {},
   "outputs": [
    {
     "data": {
      "text/plain": [
       "(30, 3.141592653589794)"
      ]
     },
     "execution_count": 52,
     "metadata": {},
     "output_type": "execute_result"
    }
   ],
   "source": [
    "def delta(e):\n",
    "    n =4\n",
    "    while (abs((pi(n)[0]-pi(n)[1])/(pi(n)[0]+pi(n)[1])) >e):\n",
    "        n = n+1\n",
    "    return (n,sqrt(27)/(pi(n)[1]))\n",
    "delta(0.0000000000000000001)\n",
    "    "
   ]
  },
  {
   "cell_type": "markdown",
   "metadata": {},
   "source": [
    "## Exercice 3 (développements en série entière de $\\cos$ et $\\sin$)\n",
    "\n",
    "**1.** Écrire une fonction `cosn(n,x)`, prenant comme arguments un entier naturel non nul $n$ et un réel $x$, calculant une approximation de la valeur de la fonction cosinus en $x$ obtenue en ne conservant que les $n$ premiers termes du développement en série entière\n",
    "$$\n",
    "\\cos(x)=1-\\frac{x^2}{2!}+\\dots+(-1)^k\\frac{x^{2k}}{(2k)!}+\\dots\n",
    "$$\n",
    "Comparer l'erreur entre le résultat `cosn(n,x)` et la valeur exacte `cos(x)` pour différentes valeurs de $n$ et de $x$."
   ]
  },
  {
   "cell_type": "code",
   "execution_count": 57,
   "metadata": {},
   "outputs": [
    {
     "data": {
      "text/plain": [
       "-0.14750750339955454"
      ]
     },
     "execution_count": 57,
     "metadata": {},
     "output_type": "execute_result"
    }
   ],
   "source": [
    "from math import factorial, cos\n",
    "def cosn(n,x):\n",
    "    c = 1\n",
    "    for k in range(1,n):\n",
    "        c = c + ((-1)**k)*(((x)**(2*k))/(factorial(2*k)))\n",
    "    return c\n",
    "cosn(4,3)-cos(3)\n"
   ]
  },
  {
   "cell_type": "markdown",
   "metadata": {},
   "source": [
    "**2.** Même question avec la fonction `sinn(n,x)` basée sur le développement en série entière de la fonction sinus\n",
    "$$\n",
    "\\sin(x)=x-\\frac{x^3}{3!}+\\dots+(-1)^k\\frac{x^{2k+1}}{(2k+1)!}+\\dots\n",
    "$$"
   ]
  },
  {
   "cell_type": "code",
   "execution_count": 58,
   "metadata": {},
   "outputs": [
    {
     "data": {
      "text/plain": [
       "-0.050048579488438744"
      ]
     },
     "execution_count": 58,
     "metadata": {},
     "output_type": "execute_result"
    }
   ],
   "source": [
    "from math import factorial, sin\n",
    "def sinn(n,x):\n",
    "    s = 0\n",
    "    for k in range(n):\n",
    "        s = s + ((-1)**k)*(((x)**((2*k)+1))/(factorial((2*k)+1)))\n",
    "    return s\n",
    "sinn(4,3)-sin(3)"
   ]
  },
  {
   "cell_type": "markdown",
   "metadata": {},
   "source": [
    "## Exercice 4 (programmation récursive)\n",
    "\n",
    "En informatique, une fonction est dite *récursive* lorsqu'elle s'appelle elle-même. En pratique, une telle fonction aura toujours au moins une instruction conditionnelle, afin que, dans certains cas au moins, il n'y ait pas d'appel récursif (sans quoi la fonction s'appellerait indéfiniment jusqu'à la saturation de la pile, provoquant une interruption du programme). Le concept de fonction récursive est généralement opposé à celui de fonction itérative, qui s'exécute sans s'invoquer ou s'appeler explicitement.\n",
    "\n",
    "Bien que cette forme de programmation aboutisse à des programmes concis et proches des formulations mathématiques qui en sont à l'origine, il peut parfois être mal indiqué ou même catastrophique d'employer la récursivité (toute fonction récursive pouvant être remplacée par une fonction itérative), comme on le vérifiera à la troisième question du présent exercice.\n",
    "\n",
    "**1.** Écrire une fonction récursive `rfactorielle(n)` calculant $n!$."
   ]
  },
  {
   "cell_type": "code",
   "execution_count": 62,
   "metadata": {},
   "outputs": [
    {
     "data": {
      "text/plain": [
       "24"
      ]
     },
     "execution_count": 62,
     "metadata": {},
     "output_type": "execute_result"
    }
   ],
   "source": [
    "def rfactorielle(n):\n",
    "    if(n<=1):\n",
    "        return 1\n",
    "    else:\n",
    "        return n*rfactorielle(n-1)\n",
    "rfactorielle(4)"
   ]
  },
  {
   "cell_type": "markdown",
   "metadata": {},
   "source": [
    "**2.** Écrire, en utilisant la fonction `remainder` de NumPy donnant le reste de la division euclidienne de deux entiers, une fonction récursive `rpgcd(a,b)` renvoyant le plus grand commun diviseur des entiers naturels $a$ et $b$ calculé par l'[algorithme d'Euclide](https://fr.wikipedia.org/wiki/Algorithme_d%27Euclide)."
   ]
  },
  {
   "cell_type": "code",
   "execution_count": 65,
   "metadata": {},
   "outputs": [
    {
     "data": {
      "text/plain": [
       "17"
      ]
     },
     "execution_count": 65,
     "metadata": {},
     "output_type": "execute_result"
    }
   ],
   "source": [
    "def rpgcd(a,b):\n",
    "    if (a <b):\n",
    "        return rpgcd(b,a)\n",
    "    if (b ==0):\n",
    "        return a \n",
    "    else:\n",
    "        return rpgcd(b,np.remainder(a,b))\n",
    "rpgcd(221,782)"
   ]
  },
  {
   "cell_type": "markdown",
   "metadata": {},
   "source": [
    "**3.** Écrire une fonction récursive `rfibonacci(n)` calculant le $n$<sup>e</sup> terme de la suite de Fibonacci et comparer son temps d'exécution avec celui de la fonction `fibonacci(n)` de l'exercice 1."
   ]
  },
  {
   "cell_type": "code",
   "execution_count": null,
   "metadata": {},
   "outputs": [],
   "source": []
  },
  {
   "cell_type": "markdown",
   "metadata": {},
   "source": [
    "**4.** Écrire une fonction récursive `rcollatz(n)` renvoyant la valeur booléenne `True` si la [conjecture de Collatz](https://fr.wikipedia.org/wiki/Conjecture_de_Syracuse) est vérifiée pour l'entier naturel non nul $n$. On pourra utiliser la fonction `remainder` de NumPy."
   ]
  },
  {
   "cell_type": "code",
   "execution_count": null,
   "metadata": {},
   "outputs": [],
   "source": []
  },
  {
   "cell_type": "markdown",
   "metadata": {},
   "source": [
    "**5.** Écrire une fonction récursive `rcosn(n,x)` calculant l'approximation de $\\cos(x)$ vue dans l'exercice 3 et utilisant la relation existant entre les termes de la série, c'est-à-dire\n",
    "$$\n",
    "u^{(0)}=1\\mbox{ et},\\ \\forall k\\in\\mathbb{N}^*,\\ u^{(k)}=-\\frac{x^2}{2k(2k-1)}\\,u^{(k-1)}.\n",
    "$$"
   ]
  },
  {
   "cell_type": "code",
   "execution_count": null,
   "metadata": {},
   "outputs": [],
   "source": []
  },
  {
   "cell_type": "markdown",
   "metadata": {},
   "source": [
    "## Exercice bonus (procédé $\\Delta^2$ d'Aitken)\n",
    "\n",
    "On peut obtenir une valeur approchée du réel $\\pi$ en sommant un nombre fini de termes de la [série de Madhava-Gregory-Leibniz](https://en.wikipedia.org/wiki/Leibniz_formula_for_%CF%80),\n",
    "$$\n",
    "\\sum_{n=0}^{+\\infty}\\frac{(-1)^n}{2n+1}=\\frac{\\pi}{4}.\n",
    "$$\n",
    "La convergence de cette série est malheureusement lente et, pour l'accélérer, on se propose d'utiliser le [procédé $\\Delta^2$ d'Aitken](https://en.wikipedia.org/wiki/Aitken%27s_delta-squared_process). Cette technique consiste en la construction d'une suite $(u^{(k)})_{k\\in\\mathbb{N}}$ définie par\n",
    "$$\n",
    "\\forall k\\in\\mathbb{N},\\ u^{(k)}=s^{(k)}-\\frac{\\left(s^{(k+1)}-s^{(k)}\\right)^2}{s^{(k)}-2\\,s^{(k+1)}+s^{(k+2)}},\\text{ avec},\\forall m\\in\\mathbb{N},\\ s^{(m)}=\\sum_{n=0}^m\\frac{(-1)^n}{2n+1},\n",
    "$$\n",
    "ayant même limite que la suite $(s^{(k)})_{k\\in\\mathbb{N}}$ des sommes partielles de la série de Madhava-Gregory-Leibniz et convergeant plus rapidement.\n",
    "\n",
    "**1.** Écrire une boucle calculant les termes de la suite $(s^{(k)})_{k\\in\\mathbb{N}}$ et s'arrêtant lorsque la condition $\\vert s^{(k)}-\\frac{\\pi}{4}\\vert\\leq\\varepsilon$ est vérifiée, avec $\\varepsilon$ un réel strictement positif fixé. En prenant $\\varepsilon=10^{-6}$, combien faut-il calculer de termes pour satisfaire le critère ? On mesurera le temps nécessaire au calcul de la série tronquée au moyen de la fonction `time.time` de Python."
   ]
  },
  {
   "cell_type": "code",
   "execution_count": 28,
   "metadata": {},
   "outputs": [
    {
     "name": "stdout",
     "output_type": "stream",
     "text": [
      "temps necessaire  =  1.4150137901306152\n",
      "2500000\n",
      "3.1415930535895824\n"
     ]
    }
   ],
   "source": [
    "import time\n",
    "from numpy import *\n",
    "epsi = 10e-6\n",
    "#tab=[]\n",
    "s = 1 #s0\n",
    "n = 0\n",
    "t0 = time.time()\n",
    "while (abs(s-(pi/4))>epsi):\n",
    "    n = n +1\n",
    "    s = s + ((-1)**(n))/(2*n +1)\n",
    "tn = time.time()\n",
    "print(\"temps necessaire  = \" ,tn-t0)\n",
    "print(\"Il faudra \",n)#etape à partir de laquelle la condtion est satisfaite\n",
    "print(s*4)\n"
   ]
  },
  {
   "cell_type": "markdown",
   "metadata": {},
   "source": [
    "**2.** Modifier la boucle de façon à calculer les termes de la suite $(u^{(k)})_{k\\in\\mathbb{N}}$. Pour quelle valeur de l'entier $k$ a-t-on $\\vert u^{(k)}-\\frac{\\pi}{4}\\vert\\leq\\varepsilon$, avec $\\varepsilon=10^{-6}$ ?"
   ]
  },
  {
   "cell_type": "code",
   "execution_count": 37,
   "metadata": {},
   "outputs": [
    {
     "name": "stdout",
     "output_type": "stream",
     "text": [
      "temps nécessaire = 0.0003418922424316406 \n",
      " nombre étape = 17 \n",
      " approx de pi = 3.141556330284574\n"
     ]
    }
   ],
   "source": [
    "\n",
    "import time\n",
    "from numpy import *\n",
    "\n",
    "def s(k):\n",
    "    s = 1\n",
    "    i = 0\n",
    "    while(i<k):\n",
    "        i = i+1\n",
    "        s = s + ((-1)**i)/(2*i +1)\n",
    "    return s  \n",
    "        \n",
    "epsi = 10e-6\n",
    "\n",
    "def u(k):\n",
    "    return s(k) -(((s(k+1)-s(k))**2)/(s(k)- 2*s(k+1) + s(k+2)))\n",
    "\n",
    "n = 0\n",
    "t0 = time.time()\n",
    "while(abs(u(n)-pi/4)>epsi):\n",
    "      n = n+1\n",
    "tn = time.time()\n",
    "t = tn -t0\n",
    "print (f\"temps nécessaire = {t} \\n nombre étape = {n} \\n approx de pi = {u(n)*4}\")"
   ]
  },
  {
   "cell_type": "markdown",
   "metadata": {},
   "source": [
    "**3.** Reprendre les questions précédentes avec $\\varepsilon=10^{-8}$."
   ]
  },
  {
   "cell_type": "code",
   "execution_count": 41,
   "metadata": {},
   "outputs": [
    {
     "name": "stdout",
     "output_type": "stream",
     "text": [
      " Pour la suite u: \n",
      " temps nécessaire = 0.00035643577575683594 \n",
      " nombre étape = 17 \n",
      " approx de pi = 3.141556330284574\n",
      " Pour la suite s: \n",
      " temps nécessaire = 102.54440712928772 \n",
      " nombre étape = 24999 \n",
      " approx de pi = 3.141552653589803\n"
     ]
    }
   ],
   "source": [
    "import time\n",
    "from numpy import *\n",
    "\n",
    "def s(k):\n",
    "    s = 1\n",
    "    i = 0\n",
    "    while(i<k):\n",
    "        i = i+1\n",
    "        s = s + ((-1)**i)/(2*i +1)\n",
    "    return s  \n",
    "        \n",
    "epsi = 10e-8\n",
    "\n",
    "def u(k):\n",
    "    return s(k) -(((s(k+1)-s(k))**2)/(s(k)- 2*s(k+1) + s(k+2)))\n",
    "\n",
    "n = 0\n",
    "t0 = time.time()\n",
    "while(abs(u(n)-pi/4)>epsi):\n",
    "      n = n+1\n",
    "tn = time.time()\n",
    "t = tn -t0\n",
    "\n",
    "print (f\" Pour la suite u: \\n temps nécessaire = {t} \\n nombre étape = {n} \\n approx de pi = {u(n)*4}\")\n",
    "\n",
    "\n",
    "\n",
    "\n",
    "tzero = time.time()\n",
    "nbis = 0\n",
    "\n",
    "while(abs(s(nbis)-pi/4)>epsi):\n",
    "      nbis = nbis +1\n",
    "tnbis = time.time()\n",
    "tbis = tnbis - tzero\n",
    "print (f\" Pour la suite s: \\n temps nécessaire = {tbis} \\n nombre étape = {nbis} \\n approx de pi = {s(nbis)*4}\")"
   ]
  }
 ],
 "metadata": {
  "kernelspec": {
   "display_name": "Python 3 (ipykernel)",
   "language": "python",
   "name": "python3"
  },
  "language_info": {
   "codemirror_mode": {
    "name": "ipython",
    "version": 3
   },
   "file_extension": ".py",
   "mimetype": "text/x-python",
   "name": "python",
   "nbconvert_exporter": "python",
   "pygments_lexer": "ipython3",
   "version": "3.9.12"
  }
 },
 "nbformat": 4,
 "nbformat_minor": 1
}
