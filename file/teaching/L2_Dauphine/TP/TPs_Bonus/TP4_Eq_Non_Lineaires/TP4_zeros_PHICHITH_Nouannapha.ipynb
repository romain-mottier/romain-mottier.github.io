{
  "cells": [
    {
      "cell_type": "markdown",
      "metadata": {
        "id": "CC2xNr_coyJm"
      },
      "source": [
        "# Feuille de travaux pratiques. Résolution numérique d'équations non linéaires"
      ]
    },
    {
      "cell_type": "code",
      "execution_count": null,
      "metadata": {
        "id": "jSgi6kAvqA3I"
      },
      "outputs": [],
      "source": []
    },
    {
      "cell_type": "code",
      "execution_count": 1,
      "metadata": {
        "id": "pj2HbKA3oyJp",
        "scrolled": true
      },
      "outputs": [],
      "source": [
        "# chargement des bibliothèques\n",
        "import numpy as np\n",
        "import math\n",
        "\n",
        "%matplotlib inline\n",
        "import matplotlib.pyplot as plt"
      ]
    },
    {
      "cell_type": "markdown",
      "metadata": {
        "id": "99VINjFroyJq"
      },
      "source": [
        "## Exercice 1 (méthodes de dichotomie et de Newton-Raphson, d'après A. Quarteroni)\n",
        "\n",
        "Dans cet exercice, on souhaite utiliser sur des exemples différentes méthodes d'approximation d'un zéro d'une fonction.\n",
        "\n",
        "**1.** On considère tout d'abord la fonction\n",
        "$$\n",
        "f(x)=\\frac{x}{2}-\\sin(x)+\\frac{\\pi}{6}-\\frac{\\sqrt{3}}{2}\n",
        "$$\n",
        "sur l'intervalle $\\left[-\\frac{\\pi}{2},\\pi\\right]$, en observant qu'elle y possède deux zéros.\n",
        "\n",
        "**(a)** &Eacute;crire une fonction `f` prenant en entrée un réel $x$ et renvoyant la valeur de $f(x)$."
      ]
    },
    {
      "cell_type": "code",
      "execution_count": 2,
      "metadata": {
        "colab": {
          "base_uri": "https://localhost:8080/"
        },
        "id": "LpiAKpu9oyJr",
        "outputId": "a2e36e6e-3ed8-4067-e86d-504569489692"
      },
      "outputs": [
        {
          "name": "stdout",
          "output_type": "stream",
          "text": [
            "-0.3424266281861398\n"
          ]
        }
      ],
      "source": [
        "def f(x):\n",
        "    return 0.5*x-np.sin(x)+np.pi/6-0.5*np.sqrt(3)\n",
        "\n",
        "print(f(0))"
      ]
    },
    {
      "cell_type": "markdown",
      "metadata": {
        "id": "HKbw3OyIoyJs"
      },
      "source": [
        "**(b)** À l'aide du graphe de la fonction $f$ sur $\\left[-\\frac{\\pi}{2},\\pi\\right]$, expliquer pourquoi la [méthode de dichotomie](http://fr.wikipedia.org/wiki/M%C3%A9thode_de_dichotomie) ne peut être utilisée que pour approcher l'un des deux zéros de $f$, que l'on notera $\\xi$ dans la suite."
      ]
    },
    {
      "cell_type": "code",
      "execution_count": 3,
      "metadata": {
        "id": "l89ZyO5eoyJs"
      },
      "outputs": [],
      "source": [
        "####"
      ]
    },
    {
      "cell_type": "markdown",
      "metadata": {
        "id": "iUyc2wLfoyJt"
      },
      "source": []
    },
    {
      "cell_type": "markdown",
      "metadata": {
        "id": "_aWENsXNoyJt"
      },
      "source": [
        "**(c)** Écrire une fonction `[zero,iter,res,inc]=dichotomie(f,a,b,tol,itermax)` mettant en &oelig;uvre la méthode de dichotomie pour l'approximation d'un zéro d'une fonction $f$ donnée, compris dans un intervalle $[a,b]$ tel que $f(a)f(b)<0$. En plus de la fonction et des bornes de l'intervalle, les autre paramètres d'entrée seront une tolérance `tol` pour le critère d'arrêt de la méthode et un nombre maximum `itermax` d'itérations à effectuer. Elle reverra en sortie l'approximation du zéro obtenue `zero`, le nombre d'itérations\n",
        "nécessaire au calcul de cette approximation `iter`, la valeur `res` de la fonction $f$ en cette approximationt et un vecteur `inc` contenant la suite des valeurs absolues des différences entre deux approximations successives (dite suite des incréments). On réfléchira au choix du critère d'arrêt à employer."
      ]
    },
    {
      "cell_type": "code",
      "execution_count": 4,
      "metadata": {
        "id": "fxZKH85ZoyJt"
      },
      "outputs": [],
      "source": [
        "def dichotomie(f,a,b,tol,itermax):\n",
        "    fa,fb=f(a),f(b)\n",
        "    if fa*fb>0:\n",
        "        raise ValueError('Le signe de la fonction doit différer en chaque extrémité de l\\'intervalle.')\n",
        "    iter=0\n",
        "    ak,bk=a,b\n",
        "    inc=[0.5*(ak+bk)]\n",
        "    err=0.5*(bk-ak)\n",
        "    while (err>=tol and iter<=itermax):\n",
        "        iter=iter+1\n",
        "        xk=inc[-1]\n",
        "        res=f(xk)\n",
        "        if res*fa>0:\n",
        "            ak=xk\n",
        "            fa=res\n",
        "        elif res*fa<0:\n",
        "            bk=xk\n",
        "            fb=res\n",
        "        else:\n",
        "            return [xk,iter,res,inc[:-2]]\n",
        "        inc.append(0.5*(ak+bk))\n",
        "        inc[-2]=abs(inc[-1]-xk)\n",
        "        err=0.5*err\n",
        "    if iter>itermax:\n",
        "        print('Le nombre maximum d\\'itérations a été atteint sans convergence avec la tolérance désirée.')\n",
        "    return [inc[-1],iter,f(inc[-1]),inc[:-2]]"
      ]
    },
    {
      "cell_type": "markdown",
      "metadata": {
        "id": "4YHMEmQPoyJu"
      },
      "source": [
        "**(d)** Utiliser la fonction `dichotomie` pour calculer une approximation de $\\xi$ avec une tolérance égale à $10^{-10}$ pour le critère d'arrêt à partir du choix d'un intervalle $[a,b]$ convenable."
      ]
    },
    {
      "cell_type": "code",
      "execution_count": 5,
      "metadata": {
        "id": "f7fi8dssoyJu",
        "outputId": "d8f75b6d-e3c5-476d-fddc-5a802337f99e"
      },
      "outputs": [
        {
          "name": "stdout",
          "output_type": "stream",
          "text": [
            "[2.246005589319479, 35, 2.419398015263141e-11, [1.1780972450961724, 0.5890486225480864, 0.294524311274043, 0.14726215563702194, 0.07363107781851097, 0.03681553890925526, 0.018407769454627854, 0.009203884727313927, 0.004601942363656963, 0.0023009711818287037, 0.0011504855909141298, 0.0005752427954570649, 0.00028762139772853246, 0.00014381069886448827, 7.190534943202209e-05, 3.5952674716011046e-05, 1.797633735778348e-05, 8.988168679113784e-06, 4.4940843397789365e-06, 2.247042170111513e-06, 1.1235210850557564e-06, 5.617605425278782e-07, 2.808802714859837e-07, 1.4044013596503646e-07, 7.022006798251823e-08, 3.5110033991259115e-08, 1.7555016995629558e-08, 8.777508497814779e-09, 4.388754248907389e-09, 2.1943771244536947e-09, 1.0971885622268474e-09, 5.485945031580286e-10, 2.742970295344094e-10, 1.3714895885641454e-10]]\n"
          ]
        }
      ],
      "source": [
        "print(dichotomie(f, -math.pi/2, math.pi, 10**(-10), 100))"
      ]
    },
    {
      "cell_type": "markdown",
      "metadata": {
        "id": "moVvCyUToyJu"
      },
      "source": [
        "**(e)** Au moyen de la commande `semilogy`, tracer le graphe de la suite des incréments $|x^{(k+1)}-x^{(k)}|$ en fonction de $k$ avec une échelle semilogarithmique et déterminer la loi selon laquelle ces quantités tendent vers $0$ quand $k$ tend vers l'infini."
      ]
    },
    {
      "cell_type": "code",
      "execution_count": null,
      "metadata": {},
      "outputs": [],
      "source": []
    },
    {
      "cell_type": "code",
      "execution_count": null,
      "metadata": {
        "id": "5vP-S4ePoyJv",
        "outputId": "3860e5c3-065f-4b9a-9cc5-05fb35bdc84b",
        "scrolled": true
      },
      "outputs": [],
      "source": []
    },
    {
      "cell_type": "markdown",
      "metadata": {
        "id": "Ca6WT-QmoyJv"
      },
      "source": []
    },
    {
      "cell_type": "markdown",
      "metadata": {
        "id": "BRSY7A8royJv"
      },
      "source": [
        "**(f)** Écrire une fonction `[zero,iter,res,inc]=newton(f,df,x0,tol,itermax)` qui met en &oelig;uvre la [méthode de Newton-Raphson](http://fr.wikipedia.org/wiki/M%C3%A9thode_de_Newton) pour l'approximation d'un zéro d'une fonction dérivable $f$ donnée. Les paramètres d'entrée `df`, `x0`, `tol` et `itermax` représenteront respectivement la fonction correspondant à la fonction dérivée $f'$, l'initialisation de la suite des approximations, la tolérance pour le critère d'arrêt de la méthode et le nombre maximum d'itérations à effectuer. En sortie, les paramètres seront identiques à ceux de la fonction `dichotomie`. La encore, on réfléchira au choix du critère d'arrêt à employer."
      ]
    },
    {
      "cell_type": "code",
      "execution_count": 6,
      "metadata": {
        "id": "6EOkv2l2oyJw",
        "outputId": "8cd0a658-07f3-4ca7-b99f-fb2aba542b49"
      },
      "outputs": [],
      "source": [
        "def newton(f,df,x0,tol,itermax):\n",
        "    x=x0\n",
        "    inc=[]\n",
        "    iter=0\n",
        "    diff=tol+1\n",
        "    while (abs(diff)>=tol and iter<=itermax):\n",
        "        iter=iter+1\n",
        "        fx,dfx=f(x),df(x)\n",
        "        diff=-fx/dfx\n",
        "        x=x+diff\n",
        "        inc.append(abs(diff))\n",
        "    if iter>itermax:\n",
        "        print('Le nombre maximum d\\'itérations a été atteint sans convergence avec la tolérance désirée.')\n",
        "    return [x,iter,f(x),inc[-1]]\n"
      ]
    },
    {
      "cell_type": "markdown",
      "metadata": {
        "id": "iHmD48vQoyJw"
      },
      "source": [
        "**(g)** Calculer des approximations des deux zéros $\\xi$ et $\\zeta$ de la fonction $f$ avec la méthode de Newton-Raphson, en prenant une tolérance égale à $10^{-10}$ pour le critère d'arrêt et comme initialisations le point $\\pi$ pour $\\xi$ et $-\\frac{\\pi}{2}$ pour $\\zeta$. Comparer les nombres d'itérations effectuées pour obtenir une approximation de chacun des zéros. Pourquoi sont-ils très différents ? Comparer également les graphes des suites des incréments obtenus avec la commande `semilogy`."
      ]
    },
    {
      "cell_type": "code",
      "execution_count": 7,
      "metadata": {
        "id": "ejwQkRvvoyJx",
        "scrolled": true
      },
      "outputs": [
        {
          "name": "stdout",
          "output_type": "stream",
          "text": [
            "[2.2460055892979742, 5, 0.0, 4.94293974563901e-13]\n",
            "[-1.0471975514276985, 28, 0.0, 0.0]\n"
          ]
        }
      ],
      "source": [
        "def df(x):\n",
        "    return 1/2-math.cos(x)\n",
        "\n",
        "print(newton(f,df,math.pi,10**(-10),100))\n",
        "print(newton(f,df,-math.pi/2,10**(-10),100))"
      ]
    },
    {
      "cell_type": "markdown",
      "metadata": {
        "id": "y5SP2uLgoyJx"
      },
      "source": []
    },
    {
      "cell_type": "markdown",
      "metadata": {
        "id": "HGVCAv7royJx"
      },
      "source": [
        "**(h)** On cherche à réduire le nombre d'itérations nécessaires à l'obtention d'une approximation du zéro négatif $\\zeta$ de la fonction $f$. La méthode de Newton-Raphson modifiée, basée sur la modification suivante de la relation de récurrence de la méthode de Newton-Raphson\n",
        "$$\n",
        "\\forall k\\in\\mathbb{N},\\ x^{(k+1)}=x^{(k)}−2\\frac{f(x^{(k)})}{f'(x^{(k)})},\n",
        "$$\n",
        "a une convergence quadratique si $f'(\\zeta)=0$. Mettre en &oelig;uvre cette méthode dans une fonction `modnewton` et voir combien d'itérations sont nécessaires pour qu'elle fournisse une approximation de $\\zeta$ avec une tolérance égale à $10^{-10}$ pour le critère d'arrêt."
      ]
    },
    {
      "cell_type": "code",
      "execution_count": 8,
      "metadata": {
        "id": "-3xeNWJBoyJx",
        "outputId": "95087024-d862-49e9-f613-6fcf04e0b4b1"
      },
      "outputs": [
        {
          "name": "stdout",
          "output_type": "stream",
          "text": [
            "(-1.0471982061253842, 5, -1.857403120197887e-13)\n",
            "(-1.0472119021804789, 2, -8.91795526314354e-11)\n"
          ]
        }
      ],
      "source": [
        "def modnewton(f,df,x0,tol,itermax):\n",
        "    iter1 = 0\n",
        "    zero = x0\n",
        "    res = f(x0)\n",
        "    while((iter1 < itermax)and(abs(res) > tol)):\n",
        "        iter1 += 1\n",
        "        zero -= 2*(res/df(zero))\n",
        "        res = f(zero)\n",
        "    return (zero, iter1, res)\n",
        "print(modnewton(f,df,math.pi,10**(-10),100))\n",
        "print(modnewton(f,df,-math.pi/2,10**(-10),100))"
      ]
    },
    {
      "cell_type": "markdown",
      "metadata": {
        "id": "dI83wfluoyJy"
      },
      "source": [
        "**2.** On considère à présent la fonction $g(x)=x+e^{-20\\,x^2}\\cos(x)$, dont on veut approcher les zéros par la méthode de Newton-Raphson.\n",
        "\n",
        "**(a)** &Eacute;crire une fonction `g` pour la fonction $g$ et une fonction `dg` pour sa dérivée $g'$."
      ]
    },
    {
      "cell_type": "code",
      "execution_count": 9,
      "metadata": {
        "id": "G3e2odvpoyJy"
      },
      "outputs": [],
      "source": [
        "def g(x):\n",
        "    return x + np.exp(-20*(x**2))*np.cos(x)\n",
        "def dg(x):\n",
        "    return 1 -40*x*np.exp(-20*(x**2))*np.cos(x) -np.sin(x)*np.exp(-20*(x**2))"
      ]
    },
    {
      "cell_type": "markdown",
      "metadata": {
        "id": "KQbUbGl6oyJy"
      },
      "source": [
        "**(b)** Utiliser la fonction `newton` pour essayer d'approcher d'un zéro de $g$ en prenant $x^{(0)}=0$ pour initialisation et une tolérance égale à $10^{-10}$ pour le critère d'arrêt."
      ]
    },
    {
      "cell_type": "code",
      "execution_count": 10,
      "metadata": {
        "id": "iDEsQzN-oyJy",
        "outputId": "7dc174d0-2435-41e2-c7bb-b2421903018f",
        "scrolled": true
      },
      "outputs": [
        {
          "name": "stdout",
          "output_type": "stream",
          "text": [
            "Le nombre maximum d'itérations a été atteint sans convergence avec la tolérance désirée.\n",
            "[-0.99999805670506, 101, -0.999998055591324, 0.9999980093075292]\n"
          ]
        }
      ],
      "source": [
        "print(newton(g,dg,0,10**(-10),100))"
      ]
    },
    {
      "cell_type": "markdown",
      "metadata": {
        "id": "kycur7ZQoyJy"
      },
      "source": [
        "**(c)** Tracer le graphe de $g$ sur l'intervalle $[-1,1]$ et tenter de donner une explication qualitative du fait la méthode de Newton-Raphson ne converge pas avec l'initialisation précédente."
      ]
    },
    {
      "cell_type": "code",
      "execution_count": 11,
      "metadata": {
        "id": "ljE0pP5ioyJy",
        "scrolled": true
      },
      "outputs": [
        {
          "data": {
            "text/plain": [
              "<matplotlib.legend.Legend at 0x1efabc59490>"
            ]
          },
          "execution_count": 11,
          "metadata": {},
          "output_type": "execute_result"
        },
        {
          "data": {
            "image/png": "[encoded data removed]",
            "text/plain": [
              "<Figure size 640x480 with 1 Axes>"
            ]
          },
          "metadata": {},
          "output_type": "display_data"
        },
        {
          "data": {
            "image/png": "[encoded data removed]",
            "text/plain": [
              "<Figure size 640x480 with 1 Axes>"
            ]
          },
          "metadata": {},
          "output_type": "display_data"
        }
      ],
      "source": [
        "plt.grid()\n",
        "x=np.linspace(-1,1,200)\n",
        "plt.plot(x,g(x),label='$g(x)$')\n",
        "plt.legend()\n",
        "\n",
        "fig=plt.figure()\n",
        "plt.grid()\n",
        "plt.plot(x, dg(x), label='$g\\'(x)$')\n",
        "plt.legend()"
      ]
    },
    {
      "cell_type": "markdown",
      "metadata": {
        "id": "zgKPcZ9EoyJz"
      },
      "source": []
    },
    {
      "cell_type": "markdown",
      "metadata": {
        "id": "yh8kUToQoyJz"
      },
      "source": [
        "**(d)** Appliquer cinq intérations de la méthode de dichotomie à la fonction $g$ sur l'intervalle $[-1,1]$ et utiliser le point obtenu comme initialisation de la méthode de Newton-Raphson pour la recherche d'un zéro de $g$."
      ]
    },
    {
      "cell_type": "code",
      "execution_count": 12,
      "metadata": {
        "id": "Wdfuji10oyJz",
        "scrolled": true
      },
      "outputs": [
        {
          "name": "stdout",
          "output_type": "stream",
          "text": [
            "Le nombre maximum d'itérations a été atteint sans convergence avec la tolérance désirée.\n",
            "Initialisation obtenue par la méthode de dichotomie : -0.265625\n",
            "Approximation du zéro de de g obtenue par la méthode de Newton-Raphson : -0.25729815080399304\n",
            "Nombre d'itérations nécessaires : 4\n"
          ]
        }
      ],
      "source": [
        "[x0,iter,res,inc]=dichotomie(g,-1.,1.,1e-10,5)\n",
        "print('Initialisation obtenue par la méthode de dichotomie :',x0)\n",
        "[zero,iter,res,inc]=newton(g,dg,x0,1e-10,1000)\n",
        "print('Approximation du zéro de de g obtenue par la méthode de Newton-Raphson :',zero)\n",
        "print('Nombre d\\'itérations nécessaires :',iter)"
      ]
    },
    {
      "cell_type": "markdown",
      "metadata": {
        "id": "n2qLXQOYoyJz"
      },
      "source": [
        "**3.** Modifier la fonction `dichotomie` pour obtenir une fonction\n",
        "`regulafalsi` mettant en &oelig;uvre la [méthode de la fausse position](http://fr.wikipedia.org/wiki/M%C3%A9thode_de_la_fausse_position). De la même manière,\n",
        "modifier la fonction `newton` pour obtenir une fonction `secante` mettant en &oelig;uvre la [méthode de la sécante](http://fr.wikipedia.org/wiki/M%C3%A9thode_de_la_s%C3%A9cante)."
      ]
    },
    {
      "cell_type": "code",
      "execution_count": 13,
      "metadata": {
        "id": "S_Qkum6LoyJz"
      },
      "outputs": [
        {
          "name": "stdout",
          "output_type": "stream",
          "text": [
            "Approximation de xi obtenue par la méthode de la fausse position : 2.2460055892979742\n",
            "Nombre d'itérations nécessaires : 20\n",
            "Approximation de xi obtenue par la méthode de la sécante : 2.2460055892979742\n",
            "Nombre d'itérations nécessaires : 6\n"
          ]
        }
      ],
      "source": [
        "def regulafalsi(f,a,b,tol,itermax):\n",
        "    fa,fb=f(a),f(b)\n",
        "    if fa*fb>0:\n",
        "        raise ValueError('Le signe de la fonction doit différer en chaque extrémité de l\\'intervalle.')\n",
        "    iter=0\n",
        "    ak,bk=a,b\n",
        "    inc=[ak-fa*(ak-bk)/(fa-fb)]\n",
        "    while (0.5*(bk-ak)>=tol and iter<=itermax):\n",
        "        iter=iter+1\n",
        "        xk=inc[-1]\n",
        "        res=f(xk)\n",
        "        if res*fa>0:\n",
        "            ak=xk\n",
        "            fa=res\n",
        "        elif res*fa<0:\n",
        "            bk=xk\n",
        "            fb=res\n",
        "        else:\n",
        "            return [xk,iter,res,inc[:-2]]\n",
        "        inc.append(ak-fa*(ak-bk)/(fa-fb))\n",
        "        inc[-2]=abs(inc[-1]-xk)\n",
        "    if iter>itermax:\n",
        "        print('Le nombre maximum d\\'itérations a été atteint sans convergence avec la tolérance désirée.')\n",
        "    return [inc[-1],iter,f(inc[-1]),inc[:-2]]\n",
        "\n",
        "[xi,iter,res,inc]=regulafalsi(f,2,3,1e-10,1000)\n",
        "print('Approximation de xi obtenue par la méthode de la fausse position :',xi)\n",
        "print('Nombre d\\'itérations nécessaires :',iter)\n",
        "\n",
        "def secante(f,x0,xm1,tol,itermax):\n",
        "    if (x0==xm1):\n",
        "        raise ValueError('Les deux initialisations données doivent être distinctes.')\n",
        "    fxm1,fx0=f(xm1),f(x0)\n",
        "    inc=[]\n",
        "    iter=0\n",
        "    diff=tol+1\n",
        "    while (abs(diff)>=tol and iter<=itermax):\n",
        "        iter=iter+1\n",
        "        diff=-fx0*(x0-xm1)/(fx0-fxm1)\n",
        "        xm1=x0\n",
        "        fxm1=fx0\n",
        "        x0=x0+diff\n",
        "        fx0=f(x0)\n",
        "        inc.append(abs(diff))\n",
        "    if iter>itermax:\n",
        "        print('Le nombre maximum d\\'itérations a été atteint sans convergence avec la tolérance désirée.')\n",
        "    return [x0,iter,fx0,inc]\n",
        "\n",
        "[xi,iter,res,inc]=secante(f,np.pi,np.pi-0.5,1e-10,1000)\n",
        "print('Approximation de xi obtenue par la méthode de la sécante :',xi)\n",
        "print('Nombre d\\'itérations nécessaires :',iter)"
      ]
    },
    {
      "cell_type": "markdown",
      "metadata": {
        "id": "vFjWsHxQoyJz"
      },
      "source": [
        "## Exercice bonus (variantes de la méthode de la fausse position)"
      ]
    },
    {
      "cell_type": "markdown",
      "metadata": {
        "id": "0dpQA1zgoyJ0"
      },
      "source": [
        "Le phénomène de rétention d'une des bornes d'encadrement observé lors de l'application de la méthode de la fausse position à la résolution numérique d'une équation non linéaire dans $\\mathbb{R}$ a pour effet de diminuer sa vitesse de convergence, ce qui la rend parfois moins efficace que la méthode de dichotomie. Pour corriger ce défaut, plusieurs variantes ont été introduites. On propose dans cet exercice de les tester sur quelques exemples.\n",
        "\n",
        "Pour décrire de manière explicite ces modifications, on adopte les notations suivantes. On suppose disposer initialement d'un intervalle $[x^{(0)},x^{(1)}]$ non vide de $\\mathbb{R}$ et d'une application continue $f$ de $[x^{(0)},x^{(1)}]$ dans $\\mathbb{R}$, telle que $f(x^{(0)})f(x^{(1)})<0$, ce qui assure l'existence d'un zéro $\\xi$ de $f$. On pose alors $y^{(0)}=f(x^{(0)})$ et $y^{(1)}=f(x^{(1)})$. À l'étape $k$, avec $k$ un entier naturel non nul, on pose\n",
        "$$\n",
        "x^{(k+1)}=\\frac{x^{(k-1)}y^{(k)}-x^{(k)}y^{(k-1)}}{y^{(k)}-y^{(k-1)}}\\text{ et }y^{(k+1)}=f(x^{(k+1)}).\n",
        "$$\n",
        "Si $y^{(k+1)}y^{(k)}<0$, on passe à l'étape suivante. En revanche, si $y^{(k+1)}y^{(k)}>0$, on fait la mise à jour suivante\n",
        "$$\n",
        "x^{(k)}=x^{(k-1)}\\text{ et }y^{(k)}=\\alpha\\,y^{(k-1)}\n",
        "$$\n",
        "avant de passer à l'étape suivante, avec\n",
        "* $\\alpha=\\frac{1}{2}$ pour la <a href=\"https://doi.org/10.1007/BF01934364\">méthode Illinois</a>,\n",
        "* $\\alpha=\\frac{y^{(k)}}{y^{(k)}+y^{(k+1)}}$ pour la <a href=\"https://doi.org/10.1007/BF01932959\">méthode Pegasus</a>,\n",
        "* $\\alpha=\\frac{y^{(k)}-y^{(k+1)}}{y^{(k)}}$ si cette quantité est strictement positive, $\\alpha=\\frac{1}{2}$ sinon, pour la <a href=\"https://doi.org/10.1007/BF01951936\">méthode d'Anderson-Björck</a>.\n",
        "\n",
        "**1.** Sur le modèle de la fonction `regulafalsi` écrite dans l'exercice précédent, écrire des fonctions mettant en &oelig;uvre chacune des variantes données ci-dessus."
      ]
    },
    {
      "cell_type": "code",
      "execution_count": 42,
      "metadata": {
        "id": "Yz_lj9bwoyJ0"
      },
      "outputs": [],
      "source": [
        "def illinois(f,x0,x1,tol,itermax):\n",
        "    f0=f(x0)\n",
        "    f1=f(x1)\n",
        "    if f0*f1>0:\n",
        "        raise ValueError('Le signe de la fonction doit différer en chaque extrémité de l\\'intervalle.')\n",
        "    \n",
        "    iter=0\n",
        "    alpha = 1/2\n",
        "\n",
        "    xk0, xk = x0, x1\n",
        "    while (0.5*abs(xk-xk0)>=tol and iter<=itermax):\n",
        "        iter=iter+1\n",
        "        if (f1-f0!=0):\n",
        "            newx = ((xk0*f1)-(xk*f0))/(f1-f0)\n",
        "            newf = f(newx)\n",
        "            tempxk = xk\n",
        "            tempf1 = f1\n",
        "            tempxk0 = xk0\n",
        "            tempf0 = f0\n",
        "            if (newf*f1<0):\n",
        "                f0 = tempf1\n",
        "                xk0 = tempxk\n",
        "                xk = newx\n",
        "            elif(f1*newf>0):         \n",
        "                xk = tempxk0\n",
        "                f1 = alpha*tempf0\n",
        "            else:\n",
        "                return xk\n",
        "    if iter>itermax:\n",
        "        print('Le nombre maximum d\\'itérations a été atteint sans convergence avec la tolérance désirée.')\n",
        "    return xk\n",
        "\n",
        "def pegasus(f,x0,x1,tol,itermax):\n",
        "    f0=f(x0)\n",
        "    f1=f(x1)\n",
        "    if f0*f1>0:\n",
        "        raise ValueError('Le signe de la fonction doit différer en chaque extrémité de l\\'intervalle.')\n",
        "    \n",
        "    iter=0\n",
        "    alpha = f0/(f0+f1)\n",
        "    xk0, xk = x0, x1\n",
        "    while (0.5*abs(xk-xk0)>=tol and iter<=itermax):\n",
        "        iter=iter+1\n",
        "        if (f1-f0!=0):\n",
        "            newx = ((xk0*f1)-(xk*f0))/(f1-f0)\n",
        "            newf = f(newx)\n",
        "            tempxk = xk\n",
        "            tempf1 = f1\n",
        "            tempxk0 = xk0\n",
        "            tempf0 = f0\n",
        "            if (newf*f1<0):\n",
        "                f0 = tempf1\n",
        "                xk0 = tempxk\n",
        "                xk = newx\n",
        "            elif(f1*newf>0):\n",
        "                xk = tempxk0\n",
        "                f1 = alpha*tempf0\n",
        "                alpha = f1/(f1+newf)\n",
        "            else:\n",
        "                return xk\n",
        "    if iter>itermax:\n",
        "        print('Le nombre maximum d\\'itérations a été atteint sans convergence avec la tolérance désirée.')\n",
        "    return xk\n",
        "\n",
        "def Anderbjork(f,x0,x1,tol,itermax):\n",
        "    f0=f(x0)\n",
        "    f1=f(x1)\n",
        "    if f0*f1>0:\n",
        "        raise ValueError('Le signe de la fonction doit différer en chaque extrémité de l\\'intervalle.')\n",
        "    \n",
        "    iter=0\n",
        "    alpha = (f0-f1)/f0\n",
        "    xk0, xk = x0, x1\n",
        "    if(alpha < 0):\n",
        "        alpha = 1/2\n",
        "    while (0.5*abs(xk-xk0)>=tol and iter<=itermax):\n",
        "        iter=iter+1\n",
        "        if (f1-f0!=0):\n",
        "            newx = ((xk0*f1)-(xk*f0))/(f1-f0)\n",
        "            newf = f(newx)\n",
        "            tempxk = xk\n",
        "            tempf1 = f1\n",
        "            tempxk0 = xk0\n",
        "            tempf0 = f0\n",
        "            if (newf*f1<0):\n",
        "                f0 = tempf1\n",
        "                xk0 = tempxk\n",
        "                xk = newx\n",
        "            elif(f1*newf>0):\n",
        "                xk = tempxk0\n",
        "                f1 = alpha*tempf0\n",
        "            alpha = (f1-newf)/f1\n",
        "            if(alpha < 0):\n",
        "                alpha = 1/2\n",
        "            if (f1-f0==0):\n",
        "                return xk\n",
        "    if iter>itermax:\n",
        "        print('Le nombre maximum d\\'itérations a été atteint sans convergence avec la tolérance désirée.')\n",
        "    return xk\n"
      ]
    },
    {
      "cell_type": "code",
      "execution_count": null,
      "metadata": {
        "id": "cZLUs1Nb3-gS"
      },
      "outputs": [],
      "source": []
    },
    {
      "cell_type": "markdown",
      "metadata": {
        "id": "UWE0nfCXoyJ0"
      },
      "source": [
        "**1.** Tester ces fonctions, ainsi que les fonctions `dichotomie` et `regulafalsi`, pour la détermination du zéro de la fonction $f(x)=11x^{11}-1$. On utilisera l'intervalle $\\left[\\frac{1}{10},1\\right]$ comme encadrement initial et une tolérance égale à $10^{-12}$."
      ]
    },
    {
      "cell_type": "code",
      "execution_count": 48,
      "metadata": {
        "colab": {
          "base_uri": "https://localhost:8080/"
        },
        "id": "p-bsP1OgoyJ1",
        "outputId": "d123a5c9-5f74-4e28-9fbb-e5b507a8bbe9"
      },
      "outputs": [
        {
          "name": "stdout",
          "output_type": "stream",
          "text": [
            "Le nombre maximum d'itérations a été atteint sans convergence avec la tolérance désirée.\n",
            "0.18181818180999998\n",
            "Le nombre maximum d'itérations a été atteint sans convergence avec la tolérance désirée.\n",
            "0.18181818180999998\n",
            "0.18181818180999998\n"
          ]
        }
      ],
      "source": [
        "def f(x):\n",
        "    return 11*(x**11)-1\n",
        "            \n",
        "print(illinois(f,0.1,1,10**(-12), 12))\n",
        "print(pegasus(f,0.1,1,10**(-12), 12))\n",
        "print(Anderbjork(f,0.1, 1, 10**(-12), 12))        #plus on augmente le nombre d'occurences, plus les résultats se rapprochent les uns des autres"
      ]
    },
    {
      "cell_type": "markdown",
      "metadata": {
        "id": "47DMvwp4oyJ1"
      },
      "source": [
        "**2.** Reprendre la question précédente avec la fonction $f(x)=1-\\frac{1}{x^5}$. On utilisera l'intervalle $\\left[\\frac{1}{2},2\\right]$ comme encadrement initial et une tolérance égale à $10^{-12}$."
      ]
    },
    {
      "cell_type": "code",
      "execution_count": 49,
      "metadata": {
        "id": "bKStepZeoyJ1",
        "outputId": "34ce7da2-c9d4-4f56-d212-d8853eb53b29",
        "scrolled": false
      },
      "outputs": [
        {
          "name": "stdout",
          "output_type": "stream",
          "text": [
            "0.5\n",
            "0.5\n",
            "0.5\n"
          ]
        }
      ],
      "source": [
        "def f(x):\n",
        "    return 1 - (1/(x**5))\n",
        "            \n",
        "print(illinois(f,0.5,2,10**(-12), 12))\n",
        "print(pegasus(f,0.5,2,10**(-12), 12))\n",
        "print(Anderbjork(f,0.5, 2, 10**(-12), 12))"
      ]
    },
    {
      "cell_type": "markdown",
      "metadata": {
        "id": "ZCTp8VTooyJ1"
      },
      "source": [
        "**3.** Reprendre la question précédente avec la fonction $f(x)=1-\\frac{1}{x}$. On utilisera l'intervalle $\\left[\\frac{1}{2},2\\right]$ comme encadrement initial et une tolérance égale à $10^{-12}$."
      ]
    },
    {
      "cell_type": "code",
      "execution_count": 50,
      "metadata": {
        "id": "JDcb72tdoyJ2",
        "outputId": "7340a01b-4b8e-4a46-87a1-375e2272af00"
      },
      "outputs": [
        {
          "name": "stdout",
          "output_type": "stream",
          "text": [
            "0.5\n",
            "0.5\n",
            "0.5\n"
          ]
        }
      ],
      "source": [
        "def f(x):\n",
        "    return 1 - (1/x)\n",
        "            \n",
        "print(illinois(f,0.5,2,10**(-12), 12))\n",
        "print(pegasus(f,0.5,2,10**(-12), 12))\n",
        "print(Anderbjork(f,0.5, 2, 10**(-12), 12)) "
      ]
    },
    {
      "cell_type": "markdown",
      "metadata": {
        "collapsed": true,
        "id": "poRPZ2rsoyJ2"
      },
      "source": [
        "## Exercice 2 (calcul de $\\sqrt{2}$)\n",
        "Dans cet exercice, on cherche à calculer une approximation de $\\sqrt{2}$ de diverses façons.\n",
        "\n",
        "**1.** On peut tout d'abord obtenir une valeur approchée de $\\sqrt{2}$ en cherchant la racine positive de la fonction polynomiale $f(x)=x^2-2$. Pour cela, appliquer successivement à $f$ les méthodes de dichotomie et de de la fausse position sur l'intervalle $[1,2]$, de Newton-Raphson et de la sécante."
      ]
    },
    {
      "cell_type": "code",
      "execution_count": null,
      "metadata": {
        "id": "qqrdm4R_oyJ2",
        "scrolled": true
      },
      "outputs": [],
      "source": []
    },
    {
      "cell_type": "markdown",
      "metadata": {
        "collapsed": true,
        "id": "FtNRN-HXoyJ2"
      },
      "source": [
        "**2.** On peut également se servir de méthodes de point fixe, définies à partir des applications suivantes\n",
        "$$\n",
        "g_1(x)=2+x-x^2,\\ g_2(x)=\\frac{2}{x}\\text{ et }g_3(x)=\\frac{x+2}{x+1},\n",
        "$$\n",
        "considérées sur l'intervalle $[1,2]$.\n",
        "\n",
        "**(a)** Parmi les trois fonctions ci-dessus, lesquelles conduisent à une méthode de point fixe convergente ?"
      ]
    },
    {
      "cell_type": "markdown",
      "metadata": {
        "id": "eTMxhumkoyJ2"
      },
      "source": []
    },
    {
      "cell_type": "markdown",
      "metadata": {
        "id": "gM9Yr_iuoyJ3"
      },
      "source": [
        "**(b)** Vérifier cette affirmation en calculant les vingt premiers termes des suites définies par les relations de récurrence\n",
        "$$\n",
        "x^{(0)}=\\frac{1}{2}\\text{ et },\\forall k\\in\\mathbb{N},\\ x^{(k+1)}=g_i(x^{(k)}),\\ i\\in\\{1,2,3\\}.\n",
        "$$"
      ]
    },
    {
      "cell_type": "code",
      "execution_count": null,
      "metadata": {
        "id": "L5c35AC0oyJ3"
      },
      "outputs": [],
      "source": []
    },
    {
      "cell_type": "markdown",
      "metadata": {
        "id": "s_2TZeJVoyJ3"
      },
      "source": [
        "## Exercice 3 (bassins de convergence de la méthode de Newton-Raphson)\n",
        "\n",
        "On s'intéresse à la recherche des solutions complexes de l'équation $z^3=1$ par la méthode de Newton-Raphson. On considère pour cela la fonction d'une variable complexe $f(z)=z^3-1$, qui s'annule en chaque point $z$ du plan complexe tel que $z^3=1$.\n",
        "\n",
        "**1.** &Eacute;crire deux fonctions `f` et `df` renvoyant respectivement les valeurs de $f(z)$ et de $f'(z)$ en un point quelconque $z$ de $\\mathbb{C}$."
      ]
    },
    {
      "cell_type": "code",
      "execution_count": null,
      "metadata": {
        "id": "3Inx81NQoyJ3"
      },
      "outputs": [],
      "source": []
    },
    {
      "cell_type": "markdown",
      "metadata": {
        "id": "dQF4iHqroyJ3"
      },
      "source": [
        "**2.** Pour tout entier naturel $n$ supérieur ou égal à $2$, on définit une grille de pas $h=\\frac{3}{n-1}$ couvrant le carré $[-1,5,1,5]\\times[-1,5\\mathrm{i},1,5\\mathrm{i}]$.\n",
        "\n",
        "&Eacute;crire un programme résolvant, pour une valeur donnée de $n$, l'équation $f(z)=0$ avec une tolérance égale à $10^{-4}$ par la méthode de Newton-Raphson utilisant successivement chaque point de la grille $z_{ij}=-1,5(1+\\mathrm{i})+(i+\\mathrm{i}j)h$, $0\\leq i,j\\leq n$ comme initialisation. Pour chaque couple $(i,j)$, stocker dans le tableau à deux dimensions `nrac` le numéro $k$ ($k=0$, $1$ ou $2$) de la racine cubique complexe de l'unité $e^{\\mathrm{i}\\frac{2k\\pi}{3}}$ vers laquelle la méthode aura convergée à partir de $z_{ij}$ (on posera $k=3$ lorsque la méthode n'a pas convergé après $100$ itérations) et dans le tableau `niter` le nombre d'itérations nécessaires pour atteindre la convergence (en stockant le nombre maximal d'itérations autorisées en l'absence de convergence).\n",
        "\n",
        "Pour automatiser le processus de reconnaissance de la racine approchée par la valeur `zero` renvoyée, on pourra utiliser les instructions suivantes (ci-dessous, `racines` désigne un tableau contenant les trois racines cubiques complexes de l'unité et `tol` est la tolérance du critère d'arrêt de la méthode de Newton-Raphson) :\n",
        "\n",
        "`d=racines-[zero,zero,zero]\n",
        " m,k=min(abs(d)),argmin(abs(d))\n",
        " if (abs(m)>tol):\n",
        "     k=3`\n",
        "     \n",
        "Lancer le programme avec $n$ valant $100$ et une tolérance fixée à $10^{-4}$ (compte tenu du nombre important d'appels de la méthode de Newton--Raphson)."
      ]
    },
    {
      "cell_type": "code",
      "execution_count": null,
      "metadata": {
        "id": "6w7VqJvBoyJ3"
      },
      "outputs": [],
      "source": []
    },
    {
      "cell_type": "markdown",
      "metadata": {
        "id": "YjwpSLqAoyJ3"
      },
      "source": [
        "**3.** &Agrave; l'aide des commandes `matshow(nrac.T)` et `matshow(niter.T)`, afficher une représentation des bassins de convergence de la méthode."
      ]
    },
    {
      "cell_type": "code",
      "execution_count": null,
      "metadata": {
        "id": "qiChuLEOoyJ4",
        "scrolled": true
      },
      "outputs": [],
      "source": []
    },
    {
      "cell_type": "markdown",
      "metadata": {
        "id": "j_li4-5AoyJ4"
      },
      "source": [
        "**4.** Refaire des tracés pour des pas de grille plus petits (c'est-à-dire de plus grandes valeurs de $n$). Que dire des &laquo; frontières &raquo; des trois bassins de convergence de la méthode ?"
      ]
    },
    {
      "cell_type": "code",
      "execution_count": null,
      "metadata": {
        "id": "IuIm9mpyoyJ4",
        "scrolled": true
      },
      "outputs": [],
      "source": []
    },
    {
      "cell_type": "markdown",
      "metadata": {
        "id": "n3iipStFoyJ4"
      },
      "source": []
    }
  ],
  "metadata": {
    "colab": {
      "provenance": []
    },
    "kernelspec": {
      "display_name": "Python 3",
      "language": "python",
      "name": "python3"
    },
    "language_info": {
      "codemirror_mode": {
        "name": "ipython",
        "version": 3
      },
      "file_extension": ".py",
      "mimetype": "text/x-python",
      "name": "python",
      "nbconvert_exporter": "python",
      "pygments_lexer": "ipython3",
      "version": "3.11.2"
    }
  },
  "nbformat": 4,
  "nbformat_minor": 0
}
