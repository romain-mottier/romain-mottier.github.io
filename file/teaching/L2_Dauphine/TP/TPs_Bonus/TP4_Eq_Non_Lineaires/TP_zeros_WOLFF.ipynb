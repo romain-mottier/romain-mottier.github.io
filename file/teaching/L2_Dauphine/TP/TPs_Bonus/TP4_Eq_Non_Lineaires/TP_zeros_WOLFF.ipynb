{
 "cells": [
  {
   "cell_type": "markdown",
   "metadata": {},
   "source": [
    "# Feuille de travaux pratiques. Résolution numérique d'équations non linéaires"
   ]
  },
  {
   "cell_type": "code",
   "execution_count": 18,
   "metadata": {
    "scrolled": true
   },
   "outputs": [],
   "source": [
    "# chargement des bibliothèques\n",
    "import numpy as np\n",
    "from math import *\n",
    "%matplotlib inline\n",
    "import matplotlib.pyplot as plt"
   ]
  },
  {
   "cell_type": "markdown",
   "metadata": {},
   "source": [
    "## Exercice 1 (méthodes de dichotomie et de Newton-Raphson, d'après A. Quarteroni)\n",
    "\n",
    "Dans cet exercice, on souhaite utiliser sur des exemples différentes méthodes d'approximation d'un zéro d'une fonction.\n",
    "\n",
    "**1.** On considère tout d'abord la fonction\n",
    "$$\n",
    "f(x)=\\frac{x}{2}-\\sin(x)+\\frac{\\pi}{6}-\\frac{\\sqrt{3}}{2}\n",
    "$$\n",
    "sur l'intervalle $\\left[-\\frac{\\pi}{2},\\pi\\right]$, en observant qu'elle y possède deux zéros.\n",
    "\n",
    "**(a)** &Eacute;crire une fonction `f` prenant en entrée un réel $x$ et renvoyant la valeur de $f(x)$."
   ]
  },
  {
   "cell_type": "code",
   "execution_count": 19,
   "metadata": {},
   "outputs": [
    {
     "name": "stdout",
     "output_type": "stream",
     "text": [
      "1.0164533637539932\n"
     ]
    }
   ],
   "source": [
    "def f(x):\n",
    "    return (x/2)-sin(x)+ (np.pi/6)-(sqrt(3)/2)\n",
    "def df(x):\n",
    "    return 1/2-cos(x)\n",
    "print(f(3))"
   ]
  },
  {
   "cell_type": "markdown",
   "metadata": {},
   "source": [
    "**(b)** À l'aide du graphe de la fonction $f$ sur $\\left[-\\frac{\\pi}{2},\\pi\\right]$, expliquer pourquoi la [méthode de dichotomie](http://fr.wikipedia.org/wiki/M%C3%A9thode_de_dichotomie) ne peut être utilisée que pour approcher l'un des deux zéros de $f$, que l'on notera $\\xi$ dans la suite."
   ]
  },
  {
   "cell_type": "code",
   "execution_count": 20,
   "metadata": {},
   "outputs": [
    {
     "ename": "SyntaxError",
     "evalue": "invalid syntax (<ipython-input-20-b10c8e71e8c9>, line 1)",
     "output_type": "error",
     "traceback": [
      "\u001b[0;36m  File \u001b[0;32m\"<ipython-input-20-b10c8e71e8c9>\"\u001b[0;36m, line \u001b[0;32m1\u001b[0m\n\u001b[0;31m    La méthode de dichotomie prend en compte le changement de signe\u001b[0m\n\u001b[0m             ^\u001b[0m\n\u001b[0;31mSyntaxError\u001b[0m\u001b[0;31m:\u001b[0m invalid syntax\n"
     ]
    }
   ],
   "source": [
    "La méthode de dichotomie prend en compte le changement de signe \n",
    "de la fonction à gauche et à droite de la fonction.\n",
    "Or, sur un zéro de la fonction, il n y a pas de changement de signe\n",
    "Donc, la méthode de dichotomie n est pas effective sur ce zéro "
   ]
  },
  {
   "cell_type": "markdown",
   "metadata": {},
   "source": []
  },
  {
   "cell_type": "markdown",
   "metadata": {},
   "source": [
    "**(c)** Écrire une fonction `[zero,iter,res,inc]=dichotomie(f,a,b,tol,itermax)` mettant en &oelig;uvre la méthode de dichotomie pour l'approximation d'un zéro d'une fonction $f$ donnée, compris dans un intervalle $[a,b]$ tel que $f(a)f(b)<0$. En plus de la fonction et des bornes de l'intervalle, les autre paramètres d'entrée seront une tolérance `tol` pour le critère d'arrêt de la méthode et un nombre maximum `itermax` d'itérations à effectuer. Elle reverra en sortie l'approximation du zéro obtenue `zero`, le nombre d'itérations\n",
    "nécessaire au calcul de cette approximation `iter`, la valeur `res` de la fonction $f$ en cette approximationt et un vecteur `inc` contenant la suite des valeurs absolues des différences entre deux approximations successives (dite suite des incréments). On réfléchira au choix du critère d'arrêt à employer."
   ]
  },
  {
   "cell_type": "code",
   "execution_count": 40,
   "metadata": {},
   "outputs": [],
   "source": [
    "def dichotomie(f,a,b,tol,itermax):\n",
    "    i=0\n",
    "    inc=[]\n",
    "    while i<itermax and (b-a)/2>tol:\n",
    "        c=(a+b)/2\n",
    "        if f(a)*f(c)<0:\n",
    "            b=c\n",
    "            inc.append(abs(b-(a+b)/2))\n",
    "        else:\n",
    "            a=c\n",
    "            inc.append(abs(a-(a+b)/2))\n",
    "        i+=1\n",
    "    return [c,i,f(c),inc]\n",
    "\n"
   ]
  },
  {
   "cell_type": "markdown",
   "metadata": {},
   "source": [
    "**(d)** Utiliser la fonction `dichotomie` pour calculer une approximation de $\\xi$ avec une tolérance égale à $10^{-10}$ pour le critère d'arrêt à partir du choix d'un intervalle $[a,b]$ convenable."
   ]
  },
  {
   "cell_type": "code",
   "execution_count": 41,
   "metadata": {},
   "outputs": [
    {
     "data": {
      "text/plain": [
       "[2.246005589258857,\n",
       " 33,\n",
       " -4.400912967383874e-11,\n",
       " [0.25,\n",
       "  0.125,\n",
       "  0.0625,\n",
       "  0.03125,\n",
       "  0.015625,\n",
       "  0.0078125,\n",
       "  0.00390625,\n",
       "  0.001953125,\n",
       "  0.0009765625,\n",
       "  0.00048828125,\n",
       "  0.000244140625,\n",
       "  0.0001220703125,\n",
       "  6.103515625e-05,\n",
       "  3.0517578125e-05,\n",
       "  1.52587890625e-05,\n",
       "  7.62939453125e-06,\n",
       "  3.814697265625e-06,\n",
       "  1.9073486328125e-06,\n",
       "  9.5367431640625e-07,\n",
       "  4.76837158203125e-07,\n",
       "  2.384185791015625e-07,\n",
       "  1.1920928955078125e-07,\n",
       "  5.960464477539063e-08,\n",
       "  2.9802322387695312e-08,\n",
       "  1.4901161193847656e-08,\n",
       "  7.450580596923828e-09,\n",
       "  3.725290298461914e-09,\n",
       "  1.862645149230957e-09,\n",
       "  9.313225746154785e-10,\n",
       "  4.656612873077393e-10,\n",
       "  2.3283064365386963e-10,\n",
       "  1.1641532182693481e-10,\n",
       "  5.820766091346741e-11]]"
      ]
     },
     "execution_count": 41,
     "metadata": {},
     "output_type": "execute_result"
    }
   ],
   "source": [
    "dichotomie(f,2,3,pow(10,-10),100000)"
   ]
  },
  {
   "cell_type": "markdown",
   "metadata": {},
   "source": [
    "**(e)** Au moyen de la commande `semilogy`, tracer le graphe de la suite des incréments $|x^{(k+1)}-x^{(k)}|$ en fonction de $k$ avec une échelle semilogarithmique et déterminer la loi selon laquelle ces quantités tendent vers $0$ quand $k$ tend vers l'infini."
   ]
  },
  {
   "cell_type": "code",
   "execution_count": 23,
   "metadata": {
    "scrolled": true
   },
   "outputs": [
    {
     "data": {
      "text/plain": [
       "[<matplotlib.lines.Line2D at 0x7f96eac49320>]"
      ]
     },
     "execution_count": 23,
     "metadata": {},
     "output_type": "execute_result"
    },
    {
     "data": {
      "image/png": "[encoded data removed]",
      "text/plain": [
       "<matplotlib.figure.Figure at 0x7f96eac8f860>"
      ]
     },
     "metadata": {
      "needs_background": "light"
     },
     "output_type": "display_data"
    }
   ],
   "source": [
    "plt.semilogy(dichotomie(f,2,3,pow(10,-10),10000000000)[3])"
   ]
  },
  {
   "cell_type": "markdown",
   "metadata": {},
   "source": []
  },
  {
   "cell_type": "markdown",
   "metadata": {},
   "source": [
    "**(f)** Écrire une fonction `[zero,iter,res,inc]=newton(f,df,x0,tol,itermax)` qui met en &oelig;uvre la [méthode de Newton-Raphson](http://fr.wikipedia.org/wiki/M%C3%A9thode_de_Newton) pour l'approximation d'un zéro d'une fonction dérivable $f$ donnée. Les paramètres d'entrée `df`, `x0`, `tol` et `itermax` représenteront respectivement la fonction correspondant à la fonction dérivée $f'$, l'initialisation de la suite des approximations, la tolérance pour le critère d'arrêt de la méthode et le nombre maximum d'itérations à effectuer. En sortie, les paramètres seront identiques à ceux de la fonction `dichotomie`. La encore, on réfléchira au choix du critère d'arrêt à employer."
   ]
  },
  {
   "cell_type": "code",
   "execution_count": 24,
   "metadata": {},
   "outputs": [],
   "source": [
    "def newton(f,df,x0,tol,itermax):\n",
    "    i=0\n",
    "    inc=[]  \n",
    "    err=tol+1\n",
    "    while i<itermax and err>tol:\n",
    "        m=x0\n",
    "        x0= x0-f(x0)/df(x0)\n",
    "        i+=1\n",
    "        err=abs(m-x0)\n",
    "        inc.append(err)\n",
    "    \n",
    "    return [x0,i,f(x0),inc]\n",
    "        "
   ]
  },
  {
   "cell_type": "markdown",
   "metadata": {},
   "source": [
    "**(g)** Calculer des approximations des deux zéros $\\xi$ et $\\zeta$ de la fonction $f$ avec la méthode de Newton-Raphson, en prenant une tolérance égale à $10^{-10}$ pour le critère d'arrêt et comme initialisations le point $\\pi$ pour $\\xi$ et $-\\frac{\\pi}{2}$ pour $\\zeta$. Comparer les nombres d'itérations effectuées pour obtenir une approximation de chacun des zéros. Pourquoi sont-ils très différents ? Comparer également les graphes des suites des incréments obtenus avec la commande `semilogy`."
   ]
  },
  {
   "cell_type": "code",
   "execution_count": 25,
   "metadata": {
    "scrolled": true
   },
   "outputs": [
    {
     "name": "stdout",
     "output_type": "stream",
     "text": [
      "[2.2460055892979742, 5, 0.0, [0.8189131324058376, 0.07481662013373169, 0.0018561177946692098, 1.1939570860874937e-06, 4.942712905631197e-13]]\n",
      "[-1.0471975514275533, 28, 0.0, [0.2556495831671761, 0.1315149115741061, 0.06745727032243054, 0.03427746069029691, 0.017294141837665755, 0.008688419811546222, 0.004354874926536523, 0.0021801457528014545, 0.0010907552717758229, 0.0005455489045040895, 0.0002728173533983469, 0.00013641941268627278, 6.821239163579129e-05, 3.410686659899298e-05, 1.7053600876559827e-05, 8.526844136103051e-06, 4.263437340501497e-06, 2.13171491503239e-06, 1.0658874431968002e-06, 5.329581400648209e-07, 2.66560721939868e-07, 1.3334271842246892e-07, 6.652406292495527e-08, 3.2799529092741864e-08, 1.5241080175698585e-08, 6.965675147796446e-09, 1.1207545114189088e-08, 0.0]]\n"
     ]
    },
    {
     "data": {
      "text/plain": [
       "[<matplotlib.lines.Line2D at 0x7f96e8b38c88>]"
      ]
     },
     "execution_count": 25,
     "metadata": {},
     "output_type": "execute_result"
    },
    {
     "data": {
      "image/png": "[encoded data removed]",
      "text/plain": [
       "<matplotlib.figure.Figure at 0x7f96e8b38160>"
      ]
     },
     "metadata": {
      "needs_background": "light"
     },
     "output_type": "display_data"
    }
   ],
   "source": [
    "print(newton(f,df,np.pi,pow(10,-10),1000000))\n",
    "print(newton(f,df,-(np.pi)/2,pow(10,-10),1000000))\n",
    "\n",
    "plt.semilogy(newton(f,df,np.pi,pow(10,-10),10000000000)[3])\n",
    "plt.semilogy(newton(f,df,-np.pi/2,pow(10,-10),10000000000)[3])"
   ]
  },
  {
   "cell_type": "markdown",
   "metadata": {},
   "source": []
  },
  {
   "cell_type": "markdown",
   "metadata": {},
   "source": [
    "**(h)** On cherche à réduire le nombre d'itérations nécessaires à l'obtention d'une approximation du zéro négatif $\\zeta$ de la fonction $f$. La méthode de Newton-Raphson modifiée, basée sur la modification suivante de la relation de récurrence de la méthode de Newton-Raphson\n",
    "$$\n",
    "\\forall k\\in\\mathbb{N},\\ x^{(k+1)}=x^{(k)}−2\\frac{f(x^{(k)})}{f'(x^{(k)})},\n",
    "$$\n",
    "a une convergence quadratique si $f'(\\zeta)=0$. Mettre en &oelig;uvre cette méthode dans une fonction `modnewton` et voir combien d'itérations sont nécessaires pour qu'elle fournisse une approximation de $\\zeta$ avec une tolérance égale à $10^{-10}$ pour le critère d'arrêt."
   ]
  },
  {
   "cell_type": "code",
   "execution_count": 26,
   "metadata": {},
   "outputs": [
    {
     "name": "stdout",
     "output_type": "stream",
     "text": [
      "[-1.0471975511776659, 6, 0.0, [3.610269315343607, 1.4508718249742139, 0.3563264812995792, 0.007868890900904146, 5.913047354200174e-06, 0.0]]\n"
     ]
    }
   ],
   "source": [
    "def modnewton(f,df,tol,x0):\n",
    "    i=0\n",
    "    x=x0-2*f(x0)/f(x0)\n",
    "    inc=[]\n",
    "    err=tol+1\n",
    "    while err>tol:\n",
    "        m=x\n",
    "        x=x-2*f(x)/df(x)\n",
    "        i+=1\n",
    "        err=abs(m-x)\n",
    "        inc.append(err)\n",
    "    return [x,i,f(x),inc]\n",
    "\n",
    "print(modnewton(f,df,pow(10,-10),-(np.pi)/2))"
   ]
  },
  {
   "cell_type": "markdown",
   "metadata": {},
   "source": [
    "**2.** On considère à présent la fonction $g(x)=x+e^{-20\\,x^2}\\cos(x)$, dont on veut approcher les zéros par la méthode de Newton-Raphson.\n",
    "\n",
    "**(a)** &Eacute;crire une fonction `g` pour la fonction $g$ et une fonction `dg` pour sa dérivée $g'$."
   ]
  },
  {
   "cell_type": "code",
   "execution_count": 27,
   "metadata": {},
   "outputs": [],
   "source": [
    "def g(x):\n",
    "    return x+np.exp(-20*(x**2))\n",
    "\n",
    "def dg(x):\n",
    "    return 1-40*x*np.exp(-20*(x**2))"
   ]
  },
  {
   "cell_type": "markdown",
   "metadata": {},
   "source": [
    "**(b)** Utiliser la fonction `newton` pour essayer d'approcher d'un zéro de $g$ en prenant $x^{(0)}=0$ pour initialisation et une tolérance égale à $10^{-10}$ pour le critère d'arrêt."
   ]
  },
  {
   "cell_type": "code",
   "execution_count": 28,
   "metadata": {
    "scrolled": true
   },
   "outputs": [
    {
     "name": "stdout",
     "output_type": "stream",
     "text": [
      "[-0.25965409195031514, 7, -5.551115123125783e-17, [0.2502586247132618, 0.679972672503159, 0.028190469796488038, 0.0017423548617323537, 7.21937796749339e-06, 1.2423012618612006e-10, 0.0]]\n"
     ]
    }
   ],
   "source": [
    "print(newton(g,dg,0.2,pow(10,-10),1000))"
   ]
  },
  {
   "cell_type": "markdown",
   "metadata": {},
   "source": [
    "**(c)** Tracer le graphe de $g$ sur l'intervalle $[-1,1]$ et tenter de donner une explication qualitative du fait la méthode de Newton-Raphson ne converge pas avec l'initialisation précédente."
   ]
  },
  {
   "cell_type": "code",
   "execution_count": 29,
   "metadata": {
    "scrolled": true
   },
   "outputs": [
    {
     "data": {
      "image/png": "[encoded data removed]",
      "text/plain": [
       "<matplotlib.figure.Figure at 0x7f96e8a73ac8>"
      ]
     },
     "metadata": {
      "needs_background": "light"
     },
     "output_type": "display_data"
    }
   ],
   "source": [
    "x = np.linspace(-1, 1, 700)\n",
    "fig = plt.figure(figsize = (10, 5))\n",
    "plt.plot(x, g(x))\n",
    "plt.show()"
   ]
  },
  {
   "cell_type": "markdown",
   "metadata": {},
   "source": []
  },
  {
   "cell_type": "markdown",
   "metadata": {},
   "source": [
    "**(d)** Appliquer cinq intérations de la méthode de dichotomie à la fonction $g$ sur l'intervalle $[-1,1]$ et utiliser le point obtenu comme initialisation de la méthode de Newton-Raphson pour la recherche d'un zéro de $g$."
   ]
  },
  {
   "cell_type": "code",
   "execution_count": null,
   "metadata": {
    "scrolled": true
   },
   "outputs": [],
   "source": []
  },
  {
   "cell_type": "markdown",
   "metadata": {},
   "source": [
    "**3.** Modifier la fonction `dichotomie` pour obtenir une fonction\n",
    "`regulafalsi` mettant en &oelig;uvre la [méthode de la fausse position](http://fr.wikipedia.org/wiki/M%C3%A9thode_de_la_fausse_position). De la même manière,\n",
    "modifier la fonction `newton` pour obtenir une fonction `secante` mettant en &oelig;uvre la [méthode de la sécante](http://fr.wikipedia.org/wiki/M%C3%A9thode_de_la_s%C3%A9cante)."
   ]
  },
  {
   "cell_type": "code",
   "execution_count": 47,
   "metadata": {},
   "outputs": [],
   "source": [
    "def regulafalsi(f,a,b,tol,itermax):\n",
    "    i=2\n",
    "    x=[a,b]\n",
    "    y=[f(a),f(b)]\n",
    "    while i<itermax and abs((x[i-1]-x[i-2])/2)>tol:\n",
    "        \n",
    "        x.append((x[i-2]*y[i-1]-x[i-1]*y[i-2])/(y[i-1]-y[i-2]))\n",
    "        y.append(f(x[i]))\n",
    "                 \n",
    "        if y[i]*y[i-1]>0:\n",
    "                 x[i-1]=x[i-2]\n",
    "                 y[i-1]=y[i-2]\n",
    "        i+=1\n",
    "    return x[i-1]"
   ]
  },
  {
   "cell_type": "markdown",
   "metadata": {},
   "source": [
    "## Exercice bonus (variantes de la méthode de la fausse position)"
   ]
  },
  {
   "cell_type": "markdown",
   "metadata": {},
   "source": [
    "Le phénomène de rétention d'une des bornes d'encadrement observé lors de l'application de la méthode de la fausse position à la résolution numérique d'une équation non linéaire dans $\\mathbb{R}$ a pour effet de diminuer sa vitesse de convergence, ce qui la rend parfois moins efficace que la méthode de dichotomie. Pour corriger ce défaut, plusieurs variantes ont été introduites. On propose dans cet exercice de les tester sur quelques exemples.\n",
    "\n",
    "Pour décrire de manière explicite ces modifications, on adopte les notations suivantes. On suppose disposer initialement d'un intervalle $[x^{(0)},x^{(1)}]$ non vide de $\\mathbb{R}$ et d'une application continue $f$ de $[x^{(0)},x^{(1)}]$ dans $\\mathbb{R}$, telle que $f(x^{(0)})f(x^{(1)})<0$, ce qui assure l'existence d'un zéro $\\xi$ de $f$. On pose alors $y^{(0)}=f(x^{(0)})$ et $y^{(1)}=f(x^{(1)})$. À l'étape $k$, avec $k$ un entier naturel non nul, on pose\n",
    "$$\n",
    "x^{(k+1)}=\\frac{x^{(k-1)}y^{(k)}-x^{(k)}y^{(k-1)}}{y^{(k)}-y^{(k-1)}}\\text{ et }y^{(k+1)}=f(x^{(k+1)}).\n",
    "$$\n",
    "Si $y^{(k+1)}y^{(k)}<0$, on passe à l'étape suivante. En revanche, si $y^{(k+1)}y^{(k)}>0$, on fait la mise à jour suivante\n",
    "$$\n",
    "x^{(k)}=x^{(k-1)}\\text{ et }y^{(k)}=\\alpha\\,y^{(k-1)}\n",
    "$$\n",
    "avant de passer à l'étape suivante, avec\n",
    "* $\\alpha=\\frac{1}{2}$ pour la <a href=\"https://doi.org/10.1007/BF01934364\">méthode Illinois</a>,\n",
    "* $\\alpha=\\frac{y^{(k)}}{y^{(k)}+y^{(k+1)}}$ pour la <a href=\"https://doi.org/10.1007/BF01932959\">méthode Pegasus</a>,\n",
    "* $\\alpha=\\frac{y^{(k)}-y^{(k+1)}}{y^{(k)}}$ si cette quantité est strictement positive, $\\alpha=\\frac{1}{2}$ sinon, pour la <a href=\"https://doi.org/10.1007/BF01951936\">méthode d'Anderson-Björck</a>.\n",
    "\n",
    "**1.** Sur le modèle de la fonction `regulafalsi` écrite dans l'exercice précédent, écrire des fonctions mettant en &oelig;uvre chacune des variantes données ci-dessus."
   ]
  },
  {
   "cell_type": "code",
   "execution_count": 86,
   "metadata": {},
   "outputs": [],
   "source": [
    "def illinois(f,a,b,tol,itermax):\n",
    "    i=2\n",
    "    x=[a,b]\n",
    "    y=[f(a),f(b)]\n",
    "    while i<itermax and abs((x[i-1]-x[i-2])/2)>tol:\n",
    "        \n",
    "        x.append((x[i-2]*y[i-1]-x[i-1]*y[i-2])/(y[i-1]-y[i-2]))\n",
    "        y.append(f(x[i]))\n",
    "                 \n",
    "        if y[i]*y[i-1]>0:\n",
    "                 x[i-1]=x[i-2]\n",
    "                 y[i-1]=0.5*y[i-2]\n",
    "        i+=1\n",
    "    return x[i-1]\n",
    "\n",
    "def pegasus(f,a,b,tol,itermax):\n",
    "    i=2\n",
    "    x=[a,b]\n",
    "    y=[f(a),f(b)]\n",
    "    while i<itermax and abs((x[i-1]-x[i-2])/2)>tol:\n",
    "        \n",
    "        x.append((x[i-2]*y[i-1]-x[i-1]*y[i-2])/(y[i-1]-y[i-2]))\n",
    "        y.append(f(x[i]))\n",
    "                 \n",
    "        if y[i]*y[i-1]>0:\n",
    "                 x[i-1]=x[i-2]\n",
    "                 y[i-1]=y[i-1]/(y[i-1]+y[i])*y[i-2]\n",
    "        i+=1\n",
    "\n",
    "    return x[i-1]\n",
    "\n",
    "def AB(f,a,b,tol,itermax):\n",
    "    i=2\n",
    "    x=[a,b]\n",
    "    y=[f(a),f(b)]\n",
    "    while i<itermax and abs((x[i-1]-x[i-2])/2)>tol:\n",
    "        if (y[i-1]-y[i-2])==0:\n",
    "            break\n",
    "        x.append((x[i-2]*y[i-1]-x[i-1]*y[i-2])/(y[i-1]-y[i-2]))\n",
    "        y.append(f(x[i]))\n",
    "                 \n",
    "        if y[i]*y[i-1]==0:\n",
    "            x[i-1]=x[i-2]\n",
    "            y[i-1]=0.5*y[i-2]\n",
    "\n",
    "        if y[i]*y[i-1]>0:\n",
    "            x[i-1]=x[i-2]\n",
    "            y[i-1]=((y[i-1]-y[i])/y[i])*y[i-2]\n",
    "        i+=1\n",
    "    return x[i-1]"
   ]
  },
  {
   "cell_type": "markdown",
   "metadata": {},
   "source": [
    "**1.** Tester ces fonctions, ainsi que les fonctions `dichotomie` et `regulafalsi`, pour la détermination du zéro de la fonction $f(x)=11x^{11}-1$. On utilisera l'intervalle $\\left[\\frac{1}{10},1\\right]$ comme encadrement initial et une tolérance égale à $10^{-12}$."
   ]
  },
  {
   "cell_type": "code",
   "execution_count": 93,
   "metadata": {},
   "outputs": [
    {
     "name": "stdout",
     "output_type": "stream",
     "text": [
      "[0.8041330975042003, 39, 7.331246720809759e-12, [0.22499999999999998, 0.11249999999999993, 0.05624999999999991, 0.028124999999999956, 0.014062499999999978, 0.007031249999999933, 0.003515625000000022, 0.0017578125000000666, 0.0008789062499999778, 0.0004394531249999334, 0.00021972656249991118, 0.00010986328124995559, 5.4931640624977796e-05, 2.7465820312433387e-05, 1.3732910156272204e-05, 6.866455078191613e-06, 3.433227539151318e-06, 1.716613769575659e-06, 8.583068847878295e-07, 4.291534424494259e-07, 2.145767212802241e-07, 1.0728836064011205e-07, 5.364418032005602e-08, 2.6822090215539163e-08, 1.341104505225843e-08, 6.705522470618064e-09, 3.3527611797978807e-09, 1.6763805898989403e-09, 8.381902949494702e-10, 4.1909509196358385e-10, 2.095474904706407e-10, 1.0477374523532035e-10, 5.2386872617660174e-11, 2.6193380797678856e-11, 1.3096634887688197e-11, 6.548317443844098e-12, 3.274158721922049e-12, 1.6370238498097933e-12, 8.184564137536654e-13]]\n",
      "0.804133097503345\n",
      "0.8041330975036645\n",
      "0.8041330975036645\n",
      "0.8041330975036644\n"
     ]
    }
   ],
   "source": [
    "def f5(x):\n",
    "    return 11*(x**11)-1\n",
    "\n",
    "print(dichotomie(f5,0.1,1,pow(10,-12),100))\n",
    "print(regulafalsi(f5,0.1,1,pow(10,-12),100))\n",
    "print(illinois(f5,0.1,1,pow(10,-12),100))\n",
    "print(pegasus(f5,0.1,1,pow(10,-12),100))\n",
    "print(AB(f5,0.1,1,pow(10,-12),1000))"
   ]
  },
  {
   "cell_type": "markdown",
   "metadata": {},
   "source": [
    "**2.** Reprendre la question précédente avec la fonction $f(x)=1-\\frac{1}{x^5}$. On utilisera l'intervalle $\\left[\\frac{1}{2},2\\right]$ comme encadrement initial et une tolérance égale à $10^{-12}$."
   ]
  },
  {
   "cell_type": "code",
   "execution_count": 91,
   "metadata": {
    "scrolled": false
   },
   "outputs": [
    {
     "name": "stdout",
     "output_type": "stream",
     "text": [
      "[0.9999999999995453, 40, -2.2737367544323206e-12, [0.375, 0.1875, 0.09375, 0.046875, 0.0234375, 0.01171875, 0.005859375, 0.0029296875, 0.00146484375, 0.000732421875, 0.0003662109375, 0.00018310546875, 9.1552734375e-05, 4.57763671875e-05, 2.288818359375e-05, 1.1444091796875e-05, 5.7220458984375e-06, 2.86102294921875e-06, 1.430511474609375e-06, 7.152557373046875e-07, 3.5762786865234375e-07, 1.7881393432617188e-07, 8.940696716308594e-08, 4.470348358154297e-08, 2.2351741790771484e-08, 1.1175870895385742e-08, 5.587935447692871e-09, 2.7939677238464355e-09, 1.3969838619232178e-09, 6.984919309616089e-10, 3.4924596548080444e-10, 1.7462298274040222e-10, 8.731149137020111e-11, 4.3655745685100555e-11, 2.1827872842550278e-11, 1.0913936421275139e-11, 5.4569682106375694e-12, 2.7284841053187847e-12, 1.3642420526593924e-12, 6.821210263296962e-13]]\n",
      "1.0007382773388607\n",
      "1.0\n",
      "1.0\n",
      "1.0\n"
     ]
    }
   ],
   "source": [
    "def f6(x):\n",
    "    return 1-1/x**5\n",
    "\n",
    "print(dichotomie(f6,0.5,2,pow(10,-12),100))\n",
    "print(regulafalsi(f6,0.5,2,pow(10,-12),100))\n",
    "print(illinois(f6,0.5,2,pow(10,-12),100))\n",
    "print(pegasus(f6,0.5,2,pow(10,-12),100))\n",
    "print(AB(f6,0.5,2,pow(10,-12),100))"
   ]
  },
  {
   "cell_type": "markdown",
   "metadata": {},
   "source": [
    "**3.** Reprendre la question précédente avec la fonction $f(x)=1-\\frac{1}{x}$. On utilisera l'intervalle $\\left[\\frac{1}{2},2\\right]$ comme encadrement initial et une tolérance égale à $10^{-12}$."
   ]
  },
  {
   "cell_type": "code",
   "execution_count": 90,
   "metadata": {},
   "outputs": [
    {
     "name": "stdout",
     "output_type": "stream",
     "text": [
      "[0.9999999999995453, 40, -4.547473508864641e-13, [0.375, 0.1875, 0.09375, 0.046875, 0.0234375, 0.01171875, 0.005859375, 0.0029296875, 0.00146484375, 0.000732421875, 0.0003662109375, 0.00018310546875, 9.1552734375e-05, 4.57763671875e-05, 2.288818359375e-05, 1.1444091796875e-05, 5.7220458984375e-06, 2.86102294921875e-06, 1.430511474609375e-06, 7.152557373046875e-07, 3.5762786865234375e-07, 1.7881393432617188e-07, 8.940696716308594e-08, 4.470348358154297e-08, 2.2351741790771484e-08, 1.1175870895385742e-08, 5.587935447692871e-09, 2.7939677238464355e-09, 1.3969838619232178e-09, 6.984919309616089e-10, 3.4924596548080444e-10, 1.7462298274040222e-10, 8.731149137020111e-11, 4.3655745685100555e-11, 2.1827872842550278e-11, 1.0913936421275139e-11, 5.4569682106375694e-12, 2.7284841053187847e-12, 1.3642420526593924e-12, 6.821210263296962e-13]]\n",
      "1.0000000000000002\n",
      "1.0\n",
      "1.0\n",
      "1.0\n"
     ]
    }
   ],
   "source": [
    "def f7(x):\n",
    "    return 1-1/x\n",
    "\n",
    "print(dichotomie(f7,0.5,2,pow(10,-12),100))\n",
    "print(regulafalsi(f7,0.5,2,pow(10,-12),100))\n",
    "print(illinois(f7,0.5,2,pow(10,-12),100))\n",
    "print(pegasus(f7,0.5,2,pow(10,-12),100))\n",
    "print(AB(f7,0.5,2,pow(10,-12),100))"
   ]
  },
  {
   "cell_type": "markdown",
   "metadata": {
    "collapsed": true
   },
   "source": [
    "## Exercice 2 (calcul de $\\sqrt{2}$)\n",
    "Dans cet exercice, on cherche à calculer une approximation de $\\sqrt{2}$ de diverses façons.\n",
    "\n",
    "**1.** On peut tout d'abord obtenir une valeur approchée de $\\sqrt{2}$ en cherchant la racine positive de la fonction polynomiale $f(x)=x^2-2$. Pour cela, appliquer successivement à $f$ les méthodes de dichotomie et de de la fausse position sur l'intervalle $[1,2]$, de Newton-Raphson et de la sécante."
   ]
  },
  {
   "cell_type": "code",
   "execution_count": 7,
   "metadata": {
    "scrolled": true
   },
   "outputs": [
    {
     "name": "stdout",
     "output_type": "stream",
     "text": [
      "hje\n"
     ]
    }
   ],
   "source": []
  },
  {
   "cell_type": "markdown",
   "metadata": {
    "collapsed": true
   },
   "source": [
    "**2.** On peut également se servir de méthodes de point fixe, définies à partir des applications suivantes\n",
    "$$\n",
    "g_1(x)=2+x-x^2,\\ g_2(x)=\\frac{2}{x}\\text{ et }g_3(x)=\\frac{x+2}{x+1},\n",
    "$$\n",
    "considérées sur l'intervalle $[1,2]$.\n",
    "\n",
    "**(a)** Parmi les trois fonctions ci-dessus, lesquelles conduisent à une méthode de point fixe convergente ?"
   ]
  },
  {
   "cell_type": "markdown",
   "metadata": {},
   "source": []
  },
  {
   "cell_type": "markdown",
   "metadata": {},
   "source": [
    "**(b)** Vérifier cette affirmation en calculant les vingt premiers termes des suites définies par les relations de récurrence\n",
    "$$\n",
    "x^{(0)}=\\frac{1}{2}\\text{ et },\\forall k\\in\\mathbb{N},\\ x^{(k+1)}=g_i(x^{(k)}),\\ i\\in\\{1,2,3\\}.\n",
    "$$"
   ]
  },
  {
   "cell_type": "code",
   "execution_count": null,
   "metadata": {},
   "outputs": [],
   "source": []
  },
  {
   "cell_type": "markdown",
   "metadata": {},
   "source": [
    "## Exercice 3 (bassins de convergence de la méthode de Newton-Raphson)\n",
    "\n",
    "On s'intéresse à la recherche des solutions complexes de l'équation $z^3=1$ par la méthode de Newton-Raphson. On considère pour cela la fonction d'une variable complexe $f(z)=z^3-1$, qui s'annule en chaque point $z$ du plan complexe tel que $z^3=1$.\n",
    "\n",
    "**1.** &Eacute;crire deux fonctions `f` et `df` renvoyant respectivement les valeurs de $f(z)$ et de $f'(z)$ en un point quelconque $z$ de $\\mathbb{C}$."
   ]
  },
  {
   "cell_type": "code",
   "execution_count": null,
   "metadata": {},
   "outputs": [],
   "source": []
  },
  {
   "cell_type": "markdown",
   "metadata": {},
   "source": [
    "**2.** Pour tout entier naturel $n$ supérieur ou égal à $2$, on définit une grille de pas $h=\\frac{3}{n-1}$ couvrant le carré $[-1,5,1,5]\\times[-1,5\\mathrm{i},1,5\\mathrm{i}]$.\n",
    "\n",
    "&Eacute;crire un programme résolvant, pour une valeur donnée de $n$, l'équation $f(z)=0$ avec une tolérance égale à $10^{-4}$ par la méthode de Newton-Raphson utilisant successivement chaque point de la grille $z_{ij}=-1,5(1+\\mathrm{i})+(i+\\mathrm{i}j)h$, $0\\leq i,j\\leq n$ comme initialisation. Pour chaque couple $(i,j)$, stocker dans le tableau à deux dimensions `nrac` le numéro $k$ ($k=0$, $1$ ou $2$) de la racine cubique complexe de l'unité $e^{\\mathrm{i}\\frac{2k\\pi}{3}}$ vers laquelle la méthode aura convergée à partir de $z_{ij}$ (on posera $k=3$ lorsque la méthode n'a pas convergé après $100$ itérations) et dans le tableau `niter` le nombre d'itérations nécessaires pour atteindre la convergence (en stockant le nombre maximal d'itérations autorisées en l'absence de convergence).\n",
    "\n",
    "Pour automatiser le processus de reconnaissance de la racine approchée par la valeur `zero` renvoyée, on pourra utiliser les instructions suivantes (ci-dessous, `racines` désigne un tableau contenant les trois racines cubiques complexes de l'unité et `tol` est la tolérance du critère d'arrêt de la méthode de Newton-Raphson) :\n",
    "\n",
    "`d=racines-[zero,zero,zero]\n",
    " m,k=min(abs(d)),argmin(abs(d))\n",
    " if (abs(m)>tol):\n",
    "     k=3`\n",
    "     \n",
    "Lancer le programme avec $n$ valant $100$ et une tolérance fixée à $10^{-4}$ (compte tenu du nombre important d'appels de la méthode de Newton--Raphson)."
   ]
  },
  {
   "cell_type": "code",
   "execution_count": null,
   "metadata": {},
   "outputs": [],
   "source": []
  },
  {
   "cell_type": "markdown",
   "metadata": {},
   "source": [
    "**3.** &Agrave; l'aide des commandes `matshow(nrac.T)` et `matshow(niter.T)`, afficher une représentation des bassins de convergence de la méthode."
   ]
  },
  {
   "cell_type": "code",
   "execution_count": null,
   "metadata": {
    "scrolled": true
   },
   "outputs": [],
   "source": []
  },
  {
   "cell_type": "markdown",
   "metadata": {},
   "source": [
    "**4.** Refaire des tracés pour des pas de grille plus petits (c'est-à-dire de plus grandes valeurs de $n$). Que dire des &laquo; frontières &raquo; des trois bassins de convergence de la méthode ?"
   ]
  },
  {
   "cell_type": "code",
   "execution_count": null,
   "metadata": {
    "scrolled": true
   },
   "outputs": [],
   "source": []
  },
  {
   "cell_type": "markdown",
   "metadata": {},
   "source": []
  }
 ],
 "metadata": {
  "kernelspec": {
   "display_name": "Python 3",
   "language": "python",
   "name": "python3"
  },
  "language_info": {
   "codemirror_mode": {
    "name": "ipython",
    "version": 3
   },
   "file_extension": ".py",
   "mimetype": "text/x-python",
   "name": "python",
   "nbconvert_exporter": "python",
   "pygments_lexer": "ipython3",
   "version": "3.6.9"
  }
 },
 "nbformat": 4,
 "nbformat_minor": 1
}
