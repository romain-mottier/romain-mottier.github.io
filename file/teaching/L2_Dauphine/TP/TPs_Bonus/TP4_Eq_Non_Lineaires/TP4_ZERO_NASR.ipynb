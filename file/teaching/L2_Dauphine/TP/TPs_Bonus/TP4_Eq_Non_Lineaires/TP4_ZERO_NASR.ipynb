{
 "cells": [
  {
   "cell_type": "markdown",
   "metadata": {},
   "source": [
    "# Feuille de travaux pratiques. Résolution numérique d'équations non linéaires"
   ]
  },
  {
   "cell_type": "code",
   "execution_count": 1,
   "metadata": {
    "scrolled": true
   },
   "outputs": [],
   "source": [
    "# chargement des bibliothèques\n",
    "import numpy as np\n",
    "from math import sin,cos\n",
    "from math import sqrt,exp\n",
    "from math import pi\n",
    "\n",
    "%matplotlib inline\n",
    "import matplotlib.pyplot as plt"
   ]
  },
  {
   "cell_type": "markdown",
   "metadata": {},
   "source": [
    "## Exercice 1 (méthodes de dichotomie et de Newton-Raphson, d'après A. Quarteroni)\n",
    "\n",
    "Dans cet exercice, on souhaite utiliser sur des exemples différentes méthodes d'approximation d'un zéro d'une fonction.\n",
    "\n",
    "**1.** On considère tout d'abord la fonction\n",
    "$$\n",
    "f(x)=\\frac{x}{2}-\\sin(x)+\\frac{\\pi}{6}-\\frac{\\sqrt{3}}{2}\n",
    "$$\n",
    "sur l'intervalle $\\left[-\\frac{\\pi}{2},\\pi\\right]$, en observant qu'elle y possède deux zéros.\n",
    "\n",
    "**(a)** &Eacute;crire une fonction `f` prenant en entrée un réel $x$ et renvoyant la valeur de $f(x)$."
   ]
  },
  {
   "cell_type": "code",
   "execution_count": 2,
   "metadata": {},
   "outputs": [],
   "source": [
    "def f(x):\n",
    "    return x/2-sin(x)+pi/6-sqrt(3)/2"
   ]
  },
  {
   "cell_type": "markdown",
   "metadata": {},
   "source": [
    "**(b)** À l'aide du graphe de la fonction $f$ sur $\\left[-\\frac{\\pi}{2},\\pi\\right]$, expliquer pourquoi la [méthode de dichotomie](http://fr.wikipedia.org/wiki/M%C3%A9thode_de_dichotomie) ne peut être utilisée que pour approcher l'un des deux zéros de $f$, que l'on notera $\\xi$ dans la suite."
   ]
  },
  {
   "cell_type": "code",
   "execution_count": 3,
   "metadata": {},
   "outputs": [],
   "source": [
    "#Parce que la méthode de dichotomie permet d'approcher seulement un seul des zéros qui sont compris entre -pi/2 et\n",
    "#pi, selon le signe des deux bornes dans laquelle on applique la méthode."
   ]
  },
  {
   "cell_type": "markdown",
   "metadata": {},
   "source": []
  },
  {
   "cell_type": "markdown",
   "metadata": {},
   "source": [
    "**(c)** Écrire une fonction `[zero,iter,res,inc]=dichotomie(f,a,b,tol,itermax)` mettant en &oelig;uvre la méthode de dichotomie pour l'approximation d'un zéro d'une fonction $f$ donnée, compris dans un intervalle $[a,b]$ tel que $f(a)f(b)<0$. En plus de la fonction et des bornes de l'intervalle, les autre paramètres d'entrée seront une tolérance `tol` pour le critère d'arrêt de la méthode et un nombre maximum `itermax` d'itérations à effectuer. Elle reverra en sortie l'approximation du zéro obtenue `zero`, le nombre d'itérations\n",
    "nécessaire au calcul de cette approximation `iter`, la valeur `res` de la fonction $f$ en cette approximationt et un vecteur `inc` contenant la suite des valeurs absolues des différences entre deux approximations successives (dite suite des incréments). On réfléchira au choix du critère d'arrêt à employer."
   ]
  },
  {
   "cell_type": "code",
   "execution_count": 4,
   "metadata": {},
   "outputs": [],
   "source": [
    "def dichotomie(f,a,b,tol,itermax):\n",
    "    if f(a)*f(b)>0:\n",
    "        raise ValueError(\"les bornes sont de meme signe : dichotomie non possible\")\n",
    "    if f(a)>0:\n",
    "        (a,b)=(b,a)\n",
    "    inc =[0.5*(b+a)]\n",
    "    x=b\n",
    "    iter=0\n",
    "    err = 0.5*(b-a)\n",
    "    while (iter=<itermax and err>= tol):\n",
    "        iter+=1\n",
    "        x=(a+b)/2\n",
    "        res=f(x)\n",
    "        if res==0:\n",
    "            return [x,iter,0,inc]\n",
    "        if res>0:\n",
    "            b=x\n",
    "        else:\n",
    "            a=x\n",
    "        inc.append(b-a)\n",
    "    return [x,iter,res,inc]"
   ]
  },
  {
   "cell_type": "markdown",
   "metadata": {},
   "source": [
    "**(d)** Utiliser la fonction `dichotomie` pour calculer une approximation de $\\xi$ avec une tolérance égale à $10^{-10}$ pour le critère d'arrêt à partir du choix d'un intervalle $[a,b]$ convenable."
   ]
  },
  {
   "cell_type": "code",
   "execution_count": 5,
   "metadata": {},
   "outputs": [
    {
     "name": "stdout",
     "output_type": "stream",
     "text": [
      "[2.2460055892509043, 34, -5.295652805159534e-11]\n"
     ]
    }
   ],
   "source": [
    "print(dichotomie(f,-pi/2,pi,10**(-10),10000)[:3])"
   ]
  },
  {
   "cell_type": "markdown",
   "metadata": {},
   "source": [
    "**(e)** Au moyen de la commande `semilogy`, tracer le graphe de la suite des incréments $|x^{(k+1)}-x^{(k)}|$ en fonction de $k$ avec une échelle semilogarithmique et déterminer la loi selon laquelle ces quantités tendent vers $0$ quand $k$ tend vers l'infini."
   ]
  },
  {
   "cell_type": "code",
   "execution_count": null,
   "metadata": {
    "scrolled": true
   },
   "outputs": [],
   "source": []
  },
  {
   "cell_type": "markdown",
   "metadata": {},
   "source": []
  },
  {
   "cell_type": "markdown",
   "metadata": {},
   "source": [
    "**(f)** Écrire une fonction `[zero,iter,res,inc]=newton(f,df,x0,tol,itermax)` qui met en &oelig;uvre la [méthode de Newton-Raphson](http://fr.wikipedia.org/wiki/M%C3%A9thode_de_Newton) pour l'approximation d'un zéro d'une fonction dérivable $f$ donnée. Les paramètres d'entrée `df`, `x0`, `tol` et `itermax` représenteront respectivement la fonction correspondant à la fonction dérivée $f'$, l'initialisation de la suite des approximations, la tolérance pour le critère d'arrêt de la méthode et le nombre maximum d'itérations à effectuer. En sortie, les paramètres seront identiques à ceux de la fonction `dichotomie`. La encore, on réfléchira au choix du critère d'arrêt à employer."
   ]
  },
  {
   "cell_type": "code",
   "execution_count": 6,
   "metadata": {},
   "outputs": [],
   "source": [
    "def newton(f,df,x0,tol,itermax):\n",
    "    inc=[]\n",
    "    for iter in range(1,itermax):\n",
    "        x=x0\n",
    "        res=f(x0)\n",
    "        resd=df(x0)\n",
    "        if resd==0:\n",
    "            raise ValueError(\"La méthode ne converge pas : dérivée nulle\")\n",
    "        x0=x0-res/resd\n",
    "        inc.append(abs(x-x0))\n",
    "        if res==0:\n",
    "            return [x0,iter,res,inc]\n",
    "        if abs(res)<tol:\n",
    "            break\n",
    "    return [x0,iter,res,inc]\n",
    "\n",
    "\n",
    "        "
   ]
  },
  {
   "cell_type": "markdown",
   "metadata": {},
   "source": [
    "**(g)** Calculer des approximations des deux zéros $\\xi$ et $\\zeta$ de la fonction $f$ avec la méthode de Newton-Raphson, en prenant une tolérance égale à $10^{-10}$ pour le critère d'arrêt et comme initialisations le point $\\pi$ pour $\\xi$ et $-\\frac{\\pi}{2}$ pour $\\zeta$. Comparer les nombres d'itérations effectuées pour obtenir une approximation de chacun des zéros. Pourquoi sont-ils très différents ? Comparer également les graphes des suites des incréments obtenus avec la commande `semilogy`."
   ]
  },
  {
   "cell_type": "code",
   "execution_count": 7,
   "metadata": {
    "scrolled": true
   },
   "outputs": [
    {
     "name": "stdout",
     "output_type": "stream",
     "text": [
      "[2.2460055892979742, 5, 5.561107130347409e-13]\n",
      "[-1.0472018146293844, 17, -3.14833714654128e-11]\n"
     ]
    }
   ],
   "source": [
    "def df(x):\n",
    "    return (1/2)-cos(x)\n",
    "\n",
    "print(newton(f,df,pi,10**(-10),1000)[:3])\n",
    "print(newton(f,df,-pi/2,10**(-10),1000)[:3])"
   ]
  },
  {
   "cell_type": "markdown",
   "metadata": {},
   "source": []
  },
  {
   "cell_type": "markdown",
   "metadata": {},
   "source": [
    "**(h)** On cherche à réduire le nombre d'itérations nécessaires à l'obtention d'une approximation du zéro négatif $\\zeta$ de la fonction $f$. La méthode de Newton-Raphson modifiée, basée sur la modification suivante de la relation de récurrence de la méthode de Newton-Raphson\n",
    "$$\n",
    "\\forall k\\in\\mathbb{N},\\ x^{(k+1)}=x^{(k)}−2\\frac{f(x^{(k)})}{f'(x^{(k)})},\n",
    "$$\n",
    "a une convergence quadratique si $f'(\\zeta)=0$. Mettre en &oelig;uvre cette méthode dans une fonction `modnewton` et voir combien d'itérations sont nécessaires pour qu'elle fournisse une approximation de $\\zeta$ avec une tolérance égale à $10^{-10}$ pour le critère d'arrêt."
   ]
  },
  {
   "cell_type": "code",
   "execution_count": 8,
   "metadata": {},
   "outputs": [
    {
     "name": "stdout",
     "output_type": "stream",
     "text": [
      "[-1.0471975511705183, 6, -1.857403120197887e-13]\n",
      "[-1.0471975512130902, 3, -8.91795526314354e-11]\n"
     ]
    }
   ],
   "source": [
    "def modnewton(f,df,x0,tol,itermax):\n",
    "    inc=[]\n",
    "    for iter in range(1,itermax):\n",
    "        x=x0\n",
    "        res=f(x0)\n",
    "        resd=df(x0)\n",
    "        if resd==0:\n",
    "            raise ValueError(\"La méthode ne converge pas : dérivée nulle\")\n",
    "        x0=x0-2*res/resd\n",
    "        inc.append(abs(x-x0))\n",
    "        if res==0:\n",
    "            return [x0,iter,res,inc]\n",
    "        if abs(res)<tol:\n",
    "            break\n",
    "    return [x0,iter,res,inc]\n",
    "\n",
    "print(modnewton(f,df,pi,10**(-10),1000)[:3])\n",
    "print(modnewton(f,df,-pi/2,10**(-10),1000)[:3])\n"
   ]
  },
  {
   "cell_type": "markdown",
   "metadata": {},
   "source": [
    "**2.** On considère à présent la fonction $g(x)=x+e^{-20\\,x^2}\\cos(x)$, dont on veut approcher les zéros par la méthode de Newton-Raphson.\n",
    "\n",
    "**(a)** &Eacute;crire une fonction `g` pour la fonction $g$ et une fonction `dg` pour sa dérivée $g'$."
   ]
  },
  {
   "cell_type": "code",
   "execution_count": 9,
   "metadata": {},
   "outputs": [],
   "source": [
    "def g(x):\n",
    "    return x+exp((-20)*x*x)*cos(x)\n",
    "\n",
    "def dg(x):\n",
    "    return 1-40*x*exp((-20)*x*x)*cos(x)-exp((-20)*x*x)*sin(x)"
   ]
  },
  {
   "cell_type": "markdown",
   "metadata": {},
   "source": [
    "**(b)** Utiliser la fonction `newton` pour essayer d'approcher d'un zéro de $g$ en prenant $x^{(0)}=0$ pour initialisation et une tolérance égale à $10^{-10}$ pour le critère d'arrêt."
   ]
  },
  {
   "cell_type": "code",
   "execution_count": 10,
   "metadata": {
    "scrolled": true
   },
   "outputs": [
    {
     "name": "stdout",
     "output_type": "stream",
     "text": [
      "[-0.99999805670506, 999, 0.9999999526024231]\n"
     ]
    }
   ],
   "source": [
    "print(newton(g,dg,0,10**(-10),1000)[:3])\n",
    "#ne converge pas"
   ]
  },
  {
   "cell_type": "markdown",
   "metadata": {},
   "source": [
    "**(c)** Tracer le graphe de $g$ sur l'intervalle $[-1,1]$ et tenter de donner une explication qualitative du fait la méthode de Newton-Raphson ne converge pas avec l'initialisation précédente."
   ]
  },
  {
   "cell_type": "code",
   "execution_count": null,
   "metadata": {
    "scrolled": true
   },
   "outputs": [],
   "source": []
  },
  {
   "cell_type": "markdown",
   "metadata": {},
   "source": []
  },
  {
   "cell_type": "markdown",
   "metadata": {},
   "source": [
    "**(d)** Appliquer cinq intérations de la méthode de dichotomie à la fonction $g$ sur l'intervalle $[-1,1]$ et utiliser le point obtenu comme initialisation de la méthode de Newton-Raphson pour la recherche d'un zéro de $g$."
   ]
  },
  {
   "cell_type": "code",
   "execution_count": 11,
   "metadata": {
    "scrolled": true
   },
   "outputs": [
    {
     "name": "stdout",
     "output_type": "stream",
     "text": [
      "[-0.25729815080399304, 5, 1.268984917146554e-13]\n"
     ]
    }
   ],
   "source": [
    "print(newton(g,dg,dichotomie(g,-1,1,10**(-10),5)[0],10**(-10),1000)[:3])"
   ]
  },
  {
   "cell_type": "markdown",
   "metadata": {},
   "source": [
    "**3.** Modifier la fonction `dichotomie` pour obtenir une fonction\n",
    "`regulafalsi` mettant en &oelig;uvre la [méthode de la fausse position](http://fr.wikipedia.org/wiki/M%C3%A9thode_de_la_fausse_position). De la même manière,\n",
    "modifier la fonction `newton` pour obtenir une fonction `secante` mettant en &oelig;uvre la [méthode de la sécante](http://fr.wikipedia.org/wiki/M%C3%A9thode_de_la_s%C3%A9cante)."
   ]
  },
  {
   "cell_type": "code",
   "execution_count": 12,
   "metadata": {},
   "outputs": [
    {
     "name": "stdout",
     "output_type": "stream",
     "text": [
      "[2.2460055892979742, 6, -3.3373304120232206e-13]\n",
      "[2.24600558924839, 16, -5.578537631834024e-11]\n",
      "[2.2460055892509043, 34, -5.295652805159534e-11]\n"
     ]
    }
   ],
   "source": [
    "def regulafalsi(f,a,b,tol,itermax):\n",
    "    if f(a)*f(b)>0:\n",
    "        (a,b)=(b,a)\n",
    "    tol=abs(tol)\n",
    "    inc =[b-a]\n",
    "    x=b\n",
    "    iter=0\n",
    "    while iter<itermax:\n",
    "        iter+=1\n",
    "        if f(b)==f(a):\n",
    "            raise ValueError(\"La méthode ne converge pas : sécante nulle\")\n",
    "        x=b-f(b)*(b-a)/(f(b)-f(a))\n",
    "        res=f(x)\n",
    "        if res==0:\n",
    "            return [x,iter,0,inc]\n",
    "        if res>0:\n",
    "            b=x\n",
    "        else:\n",
    "            a=x\n",
    "        inc.append(b-a)\n",
    "        if abs(f(x))<tol:\n",
    "            break\n",
    "    return [x,iter,res,inc]\n",
    "\n",
    "\n",
    "def secante(f,x0,tol,itermax):\n",
    "    inc=[]\n",
    "    x=x0+1\n",
    "    for iter in range(1,itermax):\n",
    "        res=f(x0)\n",
    "        resd=f(x)\n",
    "        a=x0\n",
    "        if resd==res:\n",
    "            raise ValueError(\"La méthode ne converge pas : secante nulle\")\n",
    "        x0=x0-res*(x-x0)/(resd-res)\n",
    "        x=a\n",
    "        inc.append(abs(x-x0))\n",
    "        if res==0:\n",
    "            return [x0,iter,res,inc]\n",
    "        if abs(res)<tol:\n",
    "            break\n",
    "    return [x0,iter,res,inc]\n",
    "\n",
    "print(secante(f,pi,10**(-10),1000)[:3])\n",
    "print(regulafalsi(f,0,pi,10**(-10),1000)[:3])\n",
    "print(dichotomie(f,-pi/2,pi,10**(-10),10000)[:3])"
   ]
  },
  {
   "cell_type": "markdown",
   "metadata": {},
   "source": [
    "## Exercice bonus (variantes de la méthode de la fausse position)"
   ]
  },
  {
   "cell_type": "markdown",
   "metadata": {},
   "source": [
    "Le phénomène de rétention d'une des bornes d'encadrement observé lors de l'application de la méthode de la fausse position à la résolution numérique d'une équation non linéaire dans $\\mathbb{R}$ a pour effet de diminuer sa vitesse de convergence, ce qui la rend parfois moins efficace que la méthode de dichotomie. Pour corriger ce défaut, plusieurs variantes ont été introduites. On propose dans cet exercice de les tester sur quelques exemples.\n",
    "\n",
    "Pour décrire de manière explicite ces modifications, on adopte les notations suivantes. On suppose disposer initialement d'un intervalle $[x^{(0)},x^{(1)}]$ non vide de $\\mathbb{R}$ et d'une application continue $f$ de $[x^{(0)},x^{(1)}]$ dans $\\mathbb{R}$, telle que $f(x^{(0)})f(x^{(1)})<0$, ce qui assure l'existence d'un zéro $\\xi$ de $f$. On pose alors $y^{(0)}=f(x^{(0)})$ et $y^{(1)}=f(x^{(1)})$. À l'étape $k$, avec $k$ un entier naturel non nul, on pose\n",
    "$$\n",
    "x^{(k+1)}=\\frac{x^{(k-1)}y^{(k)}-x^{(k)}y^{(k-1)}}{y^{(k)}-y^{(k-1)}}\\text{ et }y^{(k+1)}=f(x^{(k+1)}).\n",
    "$$\n",
    "Si $y^{(k+1)}y^{(k)}<0$, on passe à l'étape suivante. En revanche, si $y^{(k+1)}y^{(k)}>0$, on fait la mise à jour suivante\n",
    "$$\n",
    "x^{(k)}=x^{(k-1)}\\text{ et }y^{(k)}=\\alpha\\,y^{(k-1)}\n",
    "$$\n",
    "avant de passer à l'étape suivante, avec\n",
    "* $\\alpha=\\frac{1}{2}$ pour la <a href=\"https://doi.org/10.1007/BF01934364\">méthode Illinois</a>,\n",
    "* $\\alpha=\\frac{y^{(k)}}{y^{(k)}+y^{(k+1)}}$ pour la <a href=\"https://doi.org/10.1007/BF01932959\">méthode Pegasus</a>,\n",
    "* $\\alpha=\\frac{y^{(k)}-y^{(k+1)}}{y^{(k)}}$ si cette quantité est strictement positive, $\\alpha=\\frac{1}{2}$ sinon, pour la <a href=\"https://doi.org/10.1007/BF01951936\">méthode d'Anderson-Björck</a>.\n",
    "\n",
    "**1.** Sur le modèle de la fonction `regulafalsi` écrite dans l'exercice précédent, écrire des fonctions mettant en &oelig;uvre chacune des variantes données ci-dessus."
   ]
  },
  {
   "cell_type": "code",
   "execution_count": 13,
   "metadata": {},
   "outputs": [],
   "source": [
    "def regulafalsi2(f,a,b,tol,itermax,meth=\"Illinois\"):\n",
    "    if f(a)*f(b)>0:\n",
    "        raise ValueError(\"les bornes sont de meme signe : regulafalsi non possible\")\n",
    "    if f(a)>0:\n",
    "        (a,b)=(b,a)\n",
    "    tol=abs(tol)\n",
    "    inc =[b-a]\n",
    "    (xk,xk_1)=(b,a)\n",
    "    (yk,yk_1)=(f(b),f(a))\n",
    "    iter=0\n",
    "    while iter<itermax:\n",
    "        iter+=1\n",
    "        x=xk-yk*(xk-xk_1)/(yk-yk_1)\n",
    "        y=f(x)\n",
    "        if y==0:\n",
    "            return [x,iter,y,inc]\n",
    "        if yk*y>0:\n",
    "            if meth==\"Illinois\":\n",
    "                yk_1=yk_1/2\n",
    "            elif meth==\"Pegasus\":\n",
    "                yk_1=yk*yk_1/(yk+y)\n",
    "                yk=y\n",
    "                xk=x\n",
    "        else:\n",
    "            (yk,yk_1)=(y,yk)\n",
    "            (xk,xk_1)=(x,xk)\n",
    "        inc.append(xk-xk_1)\n",
    "        if abs(y)<tol:\n",
    "            break\n",
    "    return [xk,iter,yk,inc]"
   ]
  },
  {
   "cell_type": "markdown",
   "metadata": {},
   "source": [
    "**1.** Tester ces fonctions, ainsi que les fonctions `dichotomie` et `regulafalsi`, pour la détermination du zéro de la fonction $f(x)=11x^{11}-1$. On utilisera l'intervalle $\\left[\\frac{1}{10},1\\right]$ comme encadrement initial et une tolérance égale à $10^{-12}$."
   ]
  },
  {
   "cell_type": "code",
   "execution_count": 14,
   "metadata": {},
   "outputs": [
    {
     "name": "stdout",
     "output_type": "stream",
     "text": [
      "[0.8041330975036887, 43, 3.3306690738754696e-13]\n",
      "[0.8041330975035972, 103, -9.18487508272392e-13]\n",
      "[0.8041330975036642, 17, -1.2212453270876722e-15]\n",
      "[0.8041330975036644, 13, 4.440892098500626e-16]\n"
     ]
    }
   ],
   "source": [
    "def h(x):\n",
    "    return 11*(x**11)-1\n",
    "\n",
    "print(dichotomie(h,0.1,1,10**(-12),1000)[:3])\n",
    "print(regulafalsi(h,0.1,1,10**(-12),1000)[:3])\n",
    "print(regulafalsi2(h,0.1,1,10**(-12),1000)[:3])#illinois\n",
    "print(regulafalsi2(h,0.1,1,10**(-12),1000,\"Pegasus\")[:3])"
   ]
  },
  {
   "cell_type": "markdown",
   "metadata": {},
   "source": [
    "**2.** Reprendre la question précédente avec la fonction $f(x)=1-\\frac{1}{x^5}$. On utilisera l'intervalle $\\left[\\frac{1}{2},2\\right]$ comme encadrement initial et une tolérance égale à $10^{-12}$."
   ]
  },
  {
   "cell_type": "code",
   "execution_count": 18,
   "metadata": {
    "scrolled": false
   },
   "outputs": [
    {
     "name": "stdout",
     "output_type": "stream",
     "text": [
      "[0.9999999999998863, 42, -5.684341886080801e-13]\n",
      "[1.0000000000001839, 361, 9.192646643896296e-13]\n",
      "[1.0, 7, 0.0]\n",
      "[1.0, 12, 0.0]\n"
     ]
    }
   ],
   "source": [
    "def i(x):\n",
    "    return 1-1/(x**5)\n",
    "\n",
    "print(dichotomie(i,0.5,2,10**(-12),1000)[:3])\n",
    "print(regulafalsi(i,0.5,2,10**(-12),1000)[:3])\n",
    "print(regulafalsi2(i,0.5,2,10**(-12),1000)[:3])#illinois\n",
    "print(regulafalsi2(i,0.5,2,10**(-12),1000,\"Pegasus\")[:3])"
   ]
  },
  {
   "cell_type": "markdown",
   "metadata": {},
   "source": [
    "**3.** Reprendre la question précédente avec la fonction $f(x)=1-\\frac{1}{x}$. On utilisera l'intervalle $\\left[\\frac{1}{2},2\\right]$ comme encadrement initial et une tolérance égale à $10^{-12}$."
   ]
  },
  {
   "cell_type": "code",
   "execution_count": 63,
   "metadata": {},
   "outputs": [
    {
     "name": "stdout",
     "output_type": "stream",
     "text": [
      "[0.9999999999998863, 42, -5.684341886080801e-13]\n",
      "[1.0000000000001839, 361, 9.192646643896296e-13]\n",
      "[1.0, 7, 0.0]\n",
      "[1.0, 12, 0.0]\n"
     ]
    }
   ],
   "source": [
    "def j(x):\n",
    "    return 1-1/(x**5)\n",
    "\n",
    "print(dichotomie(j,0.5,2,10**(-12),1000)[:3])\n",
    "print(regulafalsi(j,0.5,2,10**(-12),1000)[:3])\n",
    "print(regulafalsi2(j,0.5,2,10**(-12),1000)[:3])#illinois\n",
    "print(regulafalsi2(j,0.5,2,10**(-12),1000,\"Pegasus\")[:3])"
   ]
  },
  {
   "cell_type": "markdown",
   "metadata": {
    "collapsed": true
   },
   "source": [
    "## Exercice 2 (calcul de $\\sqrt{2}$)\n",
    "Dans cet exercice, on cherche à calculer une approximation de $\\sqrt{2}$ de diverses façons.\n",
    "\n",
    "**1.** On peut tout d'abord obtenir une valeur approchée de $\\sqrt{2}$ en cherchant la racine positive de la fonction polynomiale $f(x)=x^2-2$. Pour cela, appliquer successivement à $f$ les méthodes de dichotomie et de de la fausse position sur l'intervalle $[1,2]$, de Newton-Raphson et de la sécante."
   ]
  },
  {
   "cell_type": "code",
   "execution_count": 23,
   "metadata": {
    "scrolled": true
   },
   "outputs": [
    {
     "name": "stdout",
     "output_type": "stream",
     "text": [
      "[1.4142135623733338, 38, 6.754596881819452e-13]\n",
      "[1.414213562373095, 6, 4.440892098500626e-16]\n",
      "[1.414213562373095, 7, -8.881784197001252e-16]\n"
     ]
    }
   ],
   "source": [
    "def k(x):\n",
    "    return x*x-2\n",
    "\n",
    "def dk(x):\n",
    "    return 2*x\n",
    "\n",
    "print(dichotomie(k,1,2,10**(-12),1000)[:3])\n",
    "print(newton(k,dk,1,10**(-12),1000)[:3])\n",
    "print(secante(k,1,10**(-12),1000)[:3])\n"
   ]
  },
  {
   "cell_type": "markdown",
   "metadata": {
    "collapsed": true
   },
   "source": [
    "**2.** On peut également se servir de méthodes de point fixe, définies à partir des applications suivantes\n",
    "$$\n",
    "g_1(x)=2+x-x^2,\\ g_2(x)=\\frac{2}{x}\\text{ et }g_3(x)=\\frac{x+2}{x+1},\n",
    "$$\n",
    "considérées sur l'intervalle $[1,2]$.\n",
    "\n",
    "**(a)** Parmi les trois fonctions ci-dessus, lesquelles conduisent à une méthode de point fixe convergente ?"
   ]
  },
  {
   "cell_type": "markdown",
   "metadata": {},
   "source": []
  },
  {
   "cell_type": "markdown",
   "metadata": {},
   "source": [
    "**(b)** Vérifier cette affirmation en calculant les vingt premiers termes des suites définies par les relations de récurrence\n",
    "$$\n",
    "x^{(0)}=\\frac{1}{2}\\text{ et },\\forall k\\in\\mathbb{N},\\ x^{(k+1)}=g_i(x^{(k)}),\\ i\\in\\{1,2,3\\}.\n",
    "$$"
   ]
  },
  {
   "cell_type": "code",
   "execution_count": 25,
   "metadata": {},
   "outputs": [
    {
     "name": "stdout",
     "output_type": "stream",
     "text": [
      "1 1 1\n",
      "2 2.0 1.5\n",
      "0 1.0 1.4\n",
      "2 2.0 1.4166666666666667\n",
      "0 1.0 1.4137931034482758\n",
      "2 2.0 1.4142857142857144\n",
      "0 1.0 1.4142011834319526\n",
      "2 2.0 1.4142156862745099\n",
      "0 1.0 1.4142131979695431\n",
      "2 2.0 1.4142136248948696\n",
      "0 1.0 1.4142135516460548\n",
      "2 2.0 1.4142135642135643\n",
      "0 1.0 1.4142135620573204\n",
      "2 2.0 1.4142135624272734\n",
      "0 1.0 1.4142135623637995\n",
      "2 2.0 1.41421356237469\n",
      "0 1.0 1.4142135623728214\n",
      "2 2.0 1.414213562373142\n",
      "0 1.0 1.414213562373087\n",
      "2 2.0 1.4142135623730965\n"
     ]
    }
   ],
   "source": [
    "def g1(x):\n",
    "    return 2+x-x*x\n",
    "def g2(x):\n",
    "    return 2/x\n",
    "def g3(x):\n",
    "    return 1+1/(x+1)\n",
    "\n",
    "x1=x2=x3=1\n",
    "for i in range(20):\n",
    "    print(x1,x2,x3)\n",
    "    (x1,x2,x3)=(g1(x1),g2(x2),g3(x3))"
   ]
  },
  {
   "cell_type": "markdown",
   "metadata": {},
   "source": [
    "## Exercice 3 (bassins de convergence de la méthode de Newton-Raphson)\n",
    "\n",
    "On s'intéresse à la recherche des solutions complexes de l'équation $z^3=1$ par la méthode de Newton-Raphson. On considère pour cela la fonction d'une variable complexe $f(z)=z^3-1$, qui s'annule en chaque point $z$ du plan complexe tel que $z^3=1$.\n",
    "\n",
    "**1.** &Eacute;crire deux fonctions `f` et `df` renvoyant respectivement les valeurs de $f(z)$ et de $f'(z)$ en un point quelconque $z$ de $\\mathbb{C}$."
   ]
  },
  {
   "cell_type": "code",
   "execution_count": null,
   "metadata": {},
   "outputs": [],
   "source": [
    "def l(x):\n",
    "    return l**3-1\n",
    "def dl(x):\n",
    "    return 3*x"
   ]
  },
  {
   "cell_type": "markdown",
   "metadata": {},
   "source": [
    "**2.** Pour tout entier naturel $n$ supérieur ou égal à $2$, on définit une grille de pas $h=\\frac{3}{n-1}$ couvrant le carré $[-1,5,1,5]\\times[-1,5\\mathrm{i},1,5\\mathrm{i}]$.\n",
    "\n",
    "&Eacute;crire un programme résolvant, pour une valeur donnée de $n$, l'équation $f(z)=0$ avec une tolérance égale à $10^{-4}$ par la méthode de Newton-Raphson utilisant successivement chaque point de la grille $z_{ij}=-1,5(1+\\mathrm{i})+(i+\\mathrm{i}j)h$, $0\\leq i,j\\leq n$ comme initialisation. Pour chaque couple $(i,j)$, stocker dans le tableau à deux dimensions `nrac` le numéro $k$ ($k=0$, $1$ ou $2$) de la racine cubique complexe de l'unité $e^{\\mathrm{i}\\frac{2k\\pi}{3}}$ vers laquelle la méthode aura convergée à partir de $z_{ij}$ (on posera $k=3$ lorsque la méthode n'a pas convergé après $100$ itérations) et dans le tableau `niter` le nombre d'itérations nécessaires pour atteindre la convergence (en stockant le nombre maximal d'itérations autorisées en l'absence de convergence).\n",
    "\n",
    "Pour automatiser le processus de reconnaissance de la racine approchée par la valeur `zero` renvoyée, on pourra utiliser les instructions suivantes (ci-dessous, `racines` désigne un tableau contenant les trois racines cubiques complexes de l'unité et `tol` est la tolérance du critère d'arrêt de la méthode de Newton-Raphson) :\n",
    "\n",
    "`d=racines-[zero,zero,zero]\n",
    " m,k=min(abs(d)),argmin(abs(d))\n",
    " if (abs(m)>tol):\n",
    "     k=3`\n",
    "     \n",
    "Lancer le programme avec $n$ valant $100$ et une tolérance fixée à $10^{-4}$ (compte tenu du nombre important d'appels de la méthode de Newton--Raphson)."
   ]
  },
  {
   "cell_type": "code",
   "execution_count": null,
   "metadata": {},
   "outputs": [],
   "source": [
    "n=100\n",
    "h=3/(n-1)\n",
    "\n"
   ]
  },
  {
   "cell_type": "markdown",
   "metadata": {},
   "source": [
    "**3.** &Agrave; l'aide des commandes `matshow(nrac.T)` et `matshow(niter.T)`, afficher une représentation des bassins de convergence de la méthode."
   ]
  },
  {
   "cell_type": "code",
   "execution_count": null,
   "metadata": {
    "scrolled": true
   },
   "outputs": [],
   "source": []
  },
  {
   "cell_type": "markdown",
   "metadata": {},
   "source": [
    "**4.** Refaire des tracés pour des pas de grille plus petits (c'est-à-dire de plus grandes valeurs de $n$). Que dire des &laquo; frontières &raquo; des trois bassins de convergence de la méthode ?"
   ]
  },
  {
   "cell_type": "code",
   "execution_count": null,
   "metadata": {
    "scrolled": true
   },
   "outputs": [],
   "source": []
  },
  {
   "cell_type": "markdown",
   "metadata": {},
   "source": []
  }
 ],
 "metadata": {
  "kernelspec": {
   "display_name": "Python 3",
   "language": "python",
   "name": "python3"
  },
  "language_info": {
   "codemirror_mode": {
    "name": "ipython",
    "version": 3
   },
   "file_extension": ".py",
   "mimetype": "text/x-python",
   "name": "python",
   "nbconvert_exporter": "python",
   "pygments_lexer": "ipython3",
   "version": "3.6.9"
  }
 },
 "nbformat": 4,
 "nbformat_minor": 1
}
