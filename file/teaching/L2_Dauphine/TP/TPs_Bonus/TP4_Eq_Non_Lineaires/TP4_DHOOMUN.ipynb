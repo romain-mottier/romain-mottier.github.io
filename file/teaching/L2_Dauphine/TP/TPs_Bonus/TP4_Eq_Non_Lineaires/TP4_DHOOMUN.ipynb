{
 "cells": [
  {
   "cell_type": "code",
   "execution_count": null,
   "metadata": {
    "id": "XpJc_yWdjeX6"
   },
   "outputs": [],
   "source": []
  },
  {
   "cell_type": "markdown",
   "metadata": {
    "id": "qwCLy0LOF0MO"
   },
   "source": [
    "# Feuille de travaux pratiques. Résolution numérique d'équations non linéaires\n",
    "\n",
    "*PARTIE BONUS ;  Nom : Dhoomun  \n",
    " Prénom : Yousouf   \n",
    "  TD : 4*"
   ]
  },
  {
   "cell_type": "markdown",
   "metadata": {
    "id": "x6o7WwoBF0Mc"
   },
   "source": [
    "## Exercice bonus (variantes de la méthode de la fausse position)"
   ]
  },
  {
   "cell_type": "markdown",
   "metadata": {
    "id": "rn-1h254F0Mc"
   },
   "source": [
    "Le phÃ©nomÃ¨ne de rÃ©tention d'une des bornes d'encadrement observÃ© lors de l'application de la mÃ©thode de la fausse position Ã  la rÃ©solution numÃ©rique d'une Ã©quation non linÃ©aire dans $\\mathbb{R}$ a pour effet de diminuer sa vitesse de convergence, ce qui la rend parfois moins efficace que la mÃ©thode de dichotomie. Pour corriger ce dÃ©faut, plusieurs variantes ont Ã©tÃ© introduites. On propose dans cet exercice de les tester sur quelques exemples.\n",
    "\n",
    "Pour dÃ©crire de maniÃ¨re explicite ces modifications, on adopte les notations suivantes. On suppose disposer initialement d'un intervalle $[x^{(0)},x^{(1)}]$ non vide de $\\mathbb{R}$ et d'une application continue $f$ de $[x^{(0)},x^{(1)}]$ dans $\\mathbb{R}$, telle que $f(x^{(0)})f(x^{(1)})<0$, ce qui assure l'existence d'un zÃ©ro $\\xi$ de $f$. On pose alors $y^{(0)}=f(x^{(0)})$ et $y^{(1)}=f(x^{(1)})$. Ã€ l'Ã©tape $k$, avec $k$ un entier naturel non nul, on pose\n",
    "$$\n",
    "x^{(k+1)}=\\frac{x^{(k-1)}y^{(k)}-x^{(k)}y^{(k-1)}}{y^{(k)}-y^{(k-1)}}\\text{ et }y^{(k+1)}=f(x^{(k+1)}).\n",
    "$$\n",
    "Si $y^{(k+1)}y^{(k)}<0$, on passe Ã  l'Ã©tape suivante. En revanche, si $y^{(k+1)}y^{(k)}>0$, on fait la mise Ã  jour suivante\n",
    "$$\n",
    "x^{(k)}=x^{(k-1)}\\text{ et }y^{(k)}=\\alpha\\,y^{(k-1)}\n",
    "$$\n",
    "avant de passer Ã  l'Ã©tape suivante, avec\n",
    "* $\\alpha=\\frac{1}{2}$ pour la <a href=\"https://doi.org/10.1007/BF01934364\">mÃ©thode Illinois</a>,\n",
    "* $\\alpha=\\frac{y^{(k)}}{y^{(k)}+y^{(k+1)}}$ pour la <a href=\"https://doi.org/10.1007/BF01932959\">mÃ©thode Pegasus</a>,\n",
    "* $\\alpha=\\frac{y^{(k)}-y^{(k+1)}}{y^{(k)}}$ si cette quantitÃ© est strictement positive, $\\alpha=\\frac{1}{2}$ sinon, pour la <a href=\"https://doi.org/10.1007/BF01951936\">mÃ©thode d'Anderson-BjÃ¶rck</a>.\n",
    "\n",
    "**1.** Sur le modÃ¨le de la fonction `regulafalsi` Ã©crite dans l'exercice prÃ©cÃ©dent, Ã©crire des fonctions mettant en &oelig;uvre chacune des variantes donnÃ©es ci-dessus."
   ]
  },
  {
   "cell_type": "code",
   "execution_count": 1,
   "metadata": {
    "id": "LpFFwnKvF0Mc"
   },
   "outputs": [],
   "source": [
    "def illinois(f,x0,xm1,tol,itermax):\n",
    "    if (x0==xm1):\n",
    "        raise ValueError(\"Erreur d'initialisation: l'intervalle est vide.\")\n",
    "    fxm1,fx0=f(xm1),f(x0)\n",
    "    inc=[]\n",
    "    iter=0\n",
    "    diff=tol+1\n",
    "    while (abs(diff)>=tol and iter<=itermax):\n",
    "          iter=iter+1\n",
    "          tmpx=xm1\n",
    "          diff=-fx0*(x0-xm1)/(fx0-fxm1)\n",
    "          xm1=x0\n",
    "          tmp=fxm1\n",
    "          fxm1=fx0\n",
    "          x0=x0+diff\n",
    "          fx0=f(x0)\n",
    "          inc.append(abs(diff))\n",
    "          if fx0*fxm1 > 0:\n",
    "            xm1=tmpx\n",
    "            a=1/2\n",
    "            fxm1=a*tmp\n",
    "    if iter>itermax:\n",
    "        print(\"Le maximum d'itération a été atteint. Fin de l'algorithme\")\n",
    "    else:\n",
    "        print(\"Tolérance atteinte. Fin de l'algorithme\")\n",
    "    return [x0,iter,fx0,inc]\n",
    "\n",
    "def pegasus(f,x0,xm1,tol,itermax):\n",
    "    if (x0==xm1):\n",
    "        raise ValueError(\"Erreur d'initialisation: l'intervalle est vide.\")\n",
    "    fxm1,fx0=f(xm1),f(x0)\n",
    "    inc=[]\n",
    "    iter=0\n",
    "    diff=tol+1\n",
    "    while (abs(diff)>=tol and iter<=itermax):\n",
    "          iter=iter+1\n",
    "          tmpx=xm1\n",
    "          diff=-fx0*(x0-xm1)/(fx0-fxm1)\n",
    "          xm1=x0\n",
    "          tmp=fxm1\n",
    "          fxm1=fx0\n",
    "          x0=x0+diff\n",
    "          fx0=f(x0)\n",
    "          inc.append(abs(diff))\n",
    "          if fx0*fxm1 > 0:\n",
    "            xm1=tmpx\n",
    "            a=fxm1/(fx0+fxm1)\n",
    "            fxm1=a*tmp\n",
    "    if iter>itermax:\n",
    "        print(\"Le maximum d'itération a été atteint. Fin de l'algorithme\")\n",
    "    else:\n",
    "        print(\"Tolérance atteinte. Fin de l'algorithme\")\n",
    "    return [x0,iter,fx0,inc]\n",
    "\n",
    "def anderson(f,x0,xm1,tol,itermax):\n",
    "    if (x0==xm1):\n",
    "        raise ValueError(\"Erreur d'initialisation: l'intervalle est vide.\")\n",
    "    fxm1,fx0=f(xm1),f(x0)\n",
    "    inc=[]\n",
    "    iter=0\n",
    "    diff=tol+1\n",
    "    while (abs(diff)>=tol and iter<=itermax):\n",
    "          iter=iter+1\n",
    "          tmpx=xm1\n",
    "          diff=-fx0*(x0-xm1)/(fx0-fxm1)\n",
    "          xm1=x0\n",
    "          tmp=fxm1\n",
    "          fxm1=fx0\n",
    "          x0=x0+diff\n",
    "          fx0=f(x0)\n",
    "          inc.append(abs(diff))\n",
    "          if fx0*fxm1 > 0:\n",
    "            xm1=tmpx\n",
    "            a=(fxm1-fx0)/fxm1\n",
    "            if a > 0:\n",
    "              fxm1=a*tmp\n",
    "            else:\n",
    "              fxm1=tmp/2\n",
    "    if iter>itermax:\n",
    "        print(\"Le maximum d'itération a été atteint. Fin de l'algorithme\")\n",
    "    else:\n",
    "        print(\"Tolérance atteinte. Fin de l'algorithme\")\n",
    "    return [x0,iter,fx0,inc]"
   ]
  },
  {
   "cell_type": "markdown",
   "metadata": {
    "id": "YHS0KwfkF0Mc"
   },
   "source": [
    "**1.** Tester ces fonctions, ainsi que les fonctions `dichotomie` et `regulafalsi`, pour la dÃ©termination du zÃ©ro de la fonction $f(x)=11x^{11}-1$. On utilisera l'intervalle $\\left[\\frac{1}{10},1\\right]$ comme encadrement initial et une tolÃ©rance Ã©gale Ã  $10^{-12}$."
   ]
  },
  {
   "cell_type": "code",
   "execution_count": 2,
   "metadata": {
    "colab": {
     "base_uri": "https://localhost:8080/"
    },
    "id": "IPenUk-fF0Mc",
    "outputId": "7d6704bc-5735-4720-871c-b5eee4f2c6c8"
   },
   "outputs": [
    {
     "name": "stdout",
     "output_type": "stream",
     "text": [
      "Tolérance atteinte. Fin de l'algorithme\n",
      "Le maximum d'itération a été atteint. Fin de l'algorithme\n",
      "Tolérance atteinte. Fin de l'algorithme\n",
      "Tolérance atteinte. Fin de l'algorithme\n",
      "Tolérance atteinte. Fin de l'algorithme\n",
      "Dichotomie : 0.0002536773681640625\n",
      "Regula Falsi : 0.04382038116455078\n",
      "Illinois : 9.393692016601562e-05\n",
      "Pégasus : 5.555152893066406e-05\n",
      "Anderson : 7.700920104980469e-05\n"
     ]
    }
   ],
   "source": [
    "def f(x):\n",
    "    return (11*(x**11))-1\n",
    "\n",
    "tol=10**-12\n",
    "\n",
    "def dichotomie(f,a,b,tol,itermax):\n",
    "    fa,fb=f(a),f(b)\n",
    "    if fa*fb>0:\n",
    "        raise ValueError(\"Le maximum d'itération a été atteint. Fin de l'algorithme\")\n",
    "    iter=0\n",
    "    ak,bk=a,b\n",
    "    inc=[0.5*(ak+bk)]\n",
    "    err=0.5*(bk-ak)\n",
    "    while (err>=tol and iter<=itermax):\n",
    "        iter=iter+1\n",
    "        xk=inc[-1]\n",
    "        res=f(xk)\n",
    "        if res*fa>0:\n",
    "            ak=xk\n",
    "            fa=res\n",
    "        elif res*fa<0:\n",
    "            bk=xk\n",
    "            fb=res\n",
    "        else:\n",
    "            return [xk,iter,res,inc[:-2]]\n",
    "        inc.append(0.5*(ak+bk))\n",
    "        inc[-2]=abs(inc[-1]-xk)\n",
    "        err=0.5*err\n",
    "    if iter>itermax:\n",
    "        print(\"Le maximum d'itération a été atteint. Fin de l'algorithme\")\n",
    "    else:\n",
    "        print(\"Tolérance atteinte. Fin de l'algorithme\")\n",
    "    return [inc[-1],iter,f(inc[-1]),inc[:-2]]\n",
    "\n",
    "def regulafalsi(f,a,b,tol,itermax):\n",
    "    fa,fb=f(a),f(b)\n",
    "    if fa*fb>0:\n",
    "        raise ValueError(\"Le maximum d'itération a été atteint. Fin de l'algorithme\")\n",
    "    iter=0\n",
    "    ak,bk=a,b\n",
    "    inc=[ak-fa*(ak-bk)/(fa-fb)]\n",
    "    while (0.5*(bk-ak)>=tol and iter<=itermax):\n",
    "        iter=iter+1\n",
    "        xk=inc[-1]\n",
    "        res=f(xk)\n",
    "        if res*fa>0:\n",
    "            ak=xk\n",
    "            fa=res\n",
    "        elif res*fa<0:\n",
    "            bk=xk\n",
    "            fb=res\n",
    "        else:\n",
    "            return [xk,iter,res,inc[:-2]]\n",
    "        inc.append(ak-fa*(ak-bk)/(fa-fb))\n",
    "        inc[-2]=abs(inc[-1]-xk)\n",
    "    if iter>itermax:\n",
    "        print(\"Le maximum d'itération a été atteint. Fin de l'algorithme\")\n",
    "    else:\n",
    "        print(\"Tolérance atteinte. Fin de l'algorithme\")\n",
    "    return [inc[-1],iter,f(inc[-1]),inc[:-2]]\n",
    "\n",
    "\n",
    "# TESTS\n",
    "\n",
    "import time\n",
    "\n",
    "\n",
    "td=time.time()\n",
    "dichotomie(f,0.1,1,tol,100000)\n",
    "te=time.time()\n",
    "regulafalsi(f,0.1,1,tol,100000)\n",
    "tf=time.time()\n",
    "illinois(f,0.1,1,tol,100000)\n",
    "tg=time.time()\n",
    "pegasus(f,0.1,1,tol,100000)\n",
    "th=time.time()\n",
    "anderson(f,0.1,1,tol,100000)\n",
    "ti=time.time()\n",
    "\n",
    "print(f\"Dichotomie : {te-td}\")\n",
    "print(f\"Regula Falsi : {tf-te}\")\n",
    "print(f\"Illinois : {tg-tf}\")\n",
    "print(f\"Pégasus : {th-tg}\")\n",
    "print(f\"Anderson : {ti-th}\")\n"
   ]
  },
  {
   "cell_type": "markdown",
   "metadata": {
    "id": "MMicQ_hDF0Md"
   },
   "source": [
    "**2.** Reprendre la question prÃ©cÃ©dente avec la fonction $f(x)=1-\\frac{1}{x^5}$. On utilisera l'intervalle $\\left[\\frac{1}{2},2\\right]$ comme encadrement initial et une tolÃ©rance Ã©gale Ã  $10^{-12}$."
   ]
  },
  {
   "cell_type": "code",
   "execution_count": 3,
   "metadata": {
    "colab": {
     "base_uri": "https://localhost:8080/"
    },
    "id": "Z3Q0VVgKF0Md",
    "outputId": "c1417d28-1719-4064-da31-31c60f5c81d5",
    "scrolled": false
   },
   "outputs": [
    {
     "name": "stdout",
     "output_type": "stream",
     "text": [
      "Tolérance atteinte. Fin de l'algorithme\n",
      "Le maximum d'itération a été atteint. Fin de l'algorithme\n",
      "Tolérance atteinte. Fin de l'algorithme\n",
      "Tolérance atteinte. Fin de l'algorithme\n",
      "Tolérance atteinte. Fin de l'algorithme\n",
      "Dichotomie : 0.0001678466796875\n",
      "Regula Falsi : 0.043486595153808594\n",
      "Illinois : 8.630752563476562e-05\n",
      "Pégasus : 5.078315734863281e-05\n",
      "Anderson : 4.982948303222656e-05\n"
     ]
    }
   ],
   "source": [
    "def f(x):\n",
    "    return 1-(1/(x**5))\n",
    "\n",
    "# TESTS\n",
    "\n",
    "import time\n",
    "\n",
    "tol=10**(-12)\n",
    "\n",
    "td=time.time()\n",
    "dichotomie(f,0.5,2,tol,100000)\n",
    "te=time.time()\n",
    "regulafalsi(f,0.5,2,tol,100000)\n",
    "tf=time.time()\n",
    "illinois(f,0.5,2,tol,100000)\n",
    "tg=time.time()\n",
    "pegasus(f,0.5,2,tol,100000)\n",
    "th=time.time()\n",
    "anderson(f,0.5,2,tol,100000)\n",
    "ti=time.time()\n",
    "\n",
    "print(f\"Dichotomie : {te-td}\")\n",
    "print(f\"Regula Falsi : {tf-te}\")\n",
    "print(f\"Illinois : {tg-tf}\")\n",
    "print(f\"Pégasus : {th-tg}\")\n",
    "print(f\"Anderson : {ti-th}\")"
   ]
  },
  {
   "cell_type": "markdown",
   "metadata": {
    "id": "GQRKBD5vF0Md"
   },
   "source": [
    "**3.** Reprendre la question prÃ©cÃ©dente avec la fonction $f(x)=1-\\frac{1}{x}$. On utilisera l'intervalle $\\left[\\frac{1}{2},2\\right]$ comme encadrement initial et une tolÃ©rance Ã©gale Ã  $10^{-12}$."
   ]
  },
  {
   "cell_type": "code",
   "execution_count": 4,
   "metadata": {
    "colab": {
     "base_uri": "https://localhost:8080/"
    },
    "id": "yIuSPUW1F0Md",
    "outputId": "7fb27635-0e82-41df-83f8-52b6d9fb13e7"
   },
   "outputs": [
    {
     "name": "stdout",
     "output_type": "stream",
     "text": [
      "Tolérance atteinte. Fin de l'algorithme\n",
      "Tolérance atteinte. Fin de l'algorithme\n",
      "Tolérance atteinte. Fin de l'algorithme\n",
      "Tolérance atteinte. Fin de l'algorithme\n",
      "Dichotomie : 0.00025081634521484375\n",
      "Regula Falsi : 9.775161743164062e-05\n",
      "Illinois : 9.274482727050781e-05\n",
      "Pégasus : 7.104873657226562e-05\n",
      "Anderson : 8.082389831542969e-05\n"
     ]
    }
   ],
   "source": [
    "def f(x):\n",
    "    return 1-(1/(x))\n",
    "\n",
    "# TESTS\n",
    "\n",
    "import time\n",
    "\n",
    "tol=10**(-12)\n",
    "\n",
    "td=time.time()\n",
    "dichotomie(f,0.5,2,tol,100000)\n",
    "te=time.time()\n",
    "regulafalsi(f,0.5,2,tol,100000)\n",
    "tf=time.time()\n",
    "illinois(f,0.5,2,tol,100000)\n",
    "tg=time.time()\n",
    "pegasus(f,0.5,2,tol,100000)\n",
    "th=time.time()\n",
    "anderson(f,0.5,2,tol,100000)\n",
    "ti=time.time()\n",
    "\n",
    "print(f\"Dichotomie : {te-td}\")\n",
    "print(f\"Regula Falsi : {tf-te}\")\n",
    "print(f\"Illinois : {tg-tf}\")\n",
    "print(f\"Pégasus : {th-tg}\")\n",
    "print(f\"Anderson : {ti-th}\")"
   ]
  },
  {
   "cell_type": "code",
   "execution_count": null,
   "metadata": {},
   "outputs": [],
   "source": []
  },
  {
   "cell_type": "code",
   "execution_count": null,
   "metadata": {},
   "outputs": [],
   "source": []
  },
  {
   "cell_type": "code",
   "execution_count": null,
   "metadata": {},
   "outputs": [],
   "source": []
  },
  {
   "cell_type": "code",
   "execution_count": null,
   "metadata": {},
   "outputs": [],
   "source": []
  },
  {
   "cell_type": "code",
   "execution_count": null,
   "metadata": {},
   "outputs": [],
   "source": []
  },
  {
   "cell_type": "code",
   "execution_count": null,
   "metadata": {},
   "outputs": [],
   "source": []
  }
 ],
 "metadata": {
  "colab": {
   "provenance": []
  },
  "kernelspec": {
   "display_name": "Python 3 (ipykernel)",
   "language": "python",
   "name": "python3"
  },
  "language_info": {
   "codemirror_mode": {
    "name": "ipython",
    "version": 3
   },
   "file_extension": ".py",
   "mimetype": "text/x-python",
   "name": "python",
   "nbconvert_exporter": "python",
   "pygments_lexer": "ipython3",
   "version": "3.9.12"
  }
 },
 "nbformat": 4,
 "nbformat_minor": 1
}
