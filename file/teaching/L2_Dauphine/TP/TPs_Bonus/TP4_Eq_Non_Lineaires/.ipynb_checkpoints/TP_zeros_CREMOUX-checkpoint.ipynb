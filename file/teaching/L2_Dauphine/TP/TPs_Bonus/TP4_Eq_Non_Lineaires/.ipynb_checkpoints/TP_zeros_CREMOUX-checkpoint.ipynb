{
 "cells": [
  {
   "cell_type": "markdown",
   "metadata": {},
   "source": [
    "# Feuille de travaux pratiques. Résolution numérique d'équations non linéaires"
   ]
  },
  {
   "cell_type": "code",
   "execution_count": 18,
   "metadata": {
    "scrolled": true
   },
   "outputs": [],
   "source": [
    "# chargement des bibliothèques\n",
    "import numpy as np\n",
    "from math import *\n",
    "\n",
    "\n",
    "%matplotlib inline\n",
    "import matplotlib.pyplot as plt"
   ]
  },
  {
   "cell_type": "markdown",
   "metadata": {},
   "source": [
    "## Exercice 1 (méthodes de dichotomie et de Newton-Raphson, d'après A. Quarteroni)\n",
    "\n",
    "Dans cet exercice, on souhaite utiliser sur des exemples différentes méthodes d'approximation d'un zéro d'une fonction.\n",
    "\n",
    "**1.** On considère tout d'abord la fonction\n",
    "$$\n",
    "f(x)=\\frac{x}{2}-\\sin(x)+\\frac{\\pi}{6}-\\frac{\\sqrt{3}}{2}\n",
    "$$\n",
    "sur l'intervalle $\\left[-\\frac{\\pi}{2},\\pi\\right]$, en observant qu'elle y possède deux zéros.\n",
    "\n",
    "**(a)** &Eacute;crire une fonction `f` prenant en entrée un réel $x$ et renvoyant la valeur de $f(x)$."
   ]
  },
  {
   "cell_type": "code",
   "execution_count": 19,
   "metadata": {},
   "outputs": [],
   "source": [
    "def f(x):\n",
    "    return x/2 - sin(x) + (pi/6) - (sqrt(3)/2) "
   ]
  },
  {
   "cell_type": "markdown",
   "metadata": {},
   "source": [
    "**(b)** À l'aide du graphe de la fonction $f$ sur $\\left[-\\frac{\\pi}{2},\\pi\\right]$, expliquer pourquoi la [méthode de dichotomie](http://fr.wikipedia.org/wiki/M%C3%A9thode_de_dichotomie) ne peut être utilisée que pour approcher l'un des deux zéros de $f$, que l'on notera $\\xi$ dans la suite."
   ]
  },
  {
   "cell_type": "code",
   "execution_count": 20,
   "metadata": {},
   "outputs": [],
   "source": [
    "#les deux zeros sont trop proches"
   ]
  },
  {
   "cell_type": "markdown",
   "metadata": {},
   "source": []
  },
  {
   "cell_type": "markdown",
   "metadata": {},
   "source": [
    "**(c)** Écrire une fonction `[zero,iter,res,inc]=dichotomie(f,a,b,tol,itermax)` mettant en &oelig;uvre la méthode de dichotomie pour l'approximation d'un zéro d'une fonction $f$ donnée, compris dans un intervalle $[a,b]$ tel que $f(a)f(b)<0$. En plus de la fonction et des bornes de l'intervalle, les autre paramètres d'entrée seront une tolérance `tol` pour le critère d'arrêt de la méthode et un nombre maximum `itermax` d'itérations à effectuer. Elle reverra en sortie l'approximation du zéro obtenue `zero`, le nombre d'itérations\n",
    "nécessaire au calcul de cette approximation `iter`, la valeur `res` de la fonction $f$ en cette approximationt et un vecteur `inc` contenant la suite des valeurs absolues des différences entre deux approximations successives (dite suite des incréments). On réfléchira au choix du critère d'arrêt à employer."
   ]
  },
  {
   "cell_type": "code",
   "execution_count": 21,
   "metadata": {},
   "outputs": [],
   "source": [
    "def dichotomie(f,a,b,tol,itermax):\n",
    "    fa= f(a)\n",
    "    fb= f(b)\n",
    "    if fa*fb>0:\n",
    "        raise ValueError('Dichotomie impossible')\n",
    "    ak= a\n",
    "    bk= b\n",
    "    iter1 =0 \n",
    "    while(bk - ak >tol):\n",
    "        iter1 = iter1 + 1\n",
    "        fa = f(ak)\n",
    "        fb = f(bk)\n",
    "        xk = (ak + bk)/2\n",
    "        fxk= f(xk)\n",
    "        if(fa*fxk <0):\n",
    "            bk = xk\n",
    "        else:\n",
    "            ak = xk\n",
    "    return [xk,iter1,f(xk)]\n",
    "    \n",
    "        \n"
   ]
  },
  {
   "cell_type": "markdown",
   "metadata": {},
   "source": [
    "**(d)** Utiliser la fonction `dichotomie` pour calculer une approximation de $\\xi$ avec une tolérance égale à $10^{-10}$ pour le critère d'arrêt à partir du choix d'un intervalle $[a,b]$ convenable."
   ]
  },
  {
   "cell_type": "code",
   "execution_count": 22,
   "metadata": {},
   "outputs": [
    {
     "name": "stdout",
     "output_type": "stream",
     "text": [
      "[2.2460055891594726, 32, -1.558227991083072e-10]\n"
     ]
    }
   ],
   "source": [
    "print(dichotomie(f,0,pi,10e-10,1000000))"
   ]
  },
  {
   "cell_type": "markdown",
   "metadata": {},
   "source": [
    "**(e)** Au moyen de la commande `semilogy`, tracer le graphe de la suite des incréments $|x^{(k+1)}-x^{(k)}|$ en fonction de $k$ avec une échelle semilogarithmique et déterminer la loi selon laquelle ces quantités tendent vers $0$ quand $k$ tend vers l'infini."
   ]
  },
  {
   "cell_type": "code",
   "execution_count": 23,
   "metadata": {
    "scrolled": false
   },
   "outputs": [
    {
     "ename": "AttributeError",
     "evalue": "module 'numpy' has no attribute 'semilogy'",
     "output_type": "error",
     "traceback": [
      "\u001b[0;31m---------------------------------------------------------------------------\u001b[0m",
      "\u001b[0;31mAttributeError\u001b[0m                            Traceback (most recent call last)",
      "Input \u001b[0;32mIn [23]\u001b[0m, in \u001b[0;36m<cell line: 1>\u001b[0;34m()\u001b[0m\n\u001b[0;32m----> 1\u001b[0m help(\u001b[43mnp\u001b[49m\u001b[38;5;241;43m.\u001b[39;49m\u001b[43msemilogy\u001b[49m)\n",
      "File \u001b[0;32m~/anaconda3/lib/python3.9/site-packages/numpy/__init__.py:313\u001b[0m, in \u001b[0;36m__getattr__\u001b[0;34m(attr)\u001b[0m\n\u001b[1;32m    310\u001b[0m     \u001b[38;5;28;01mfrom\u001b[39;00m \u001b[38;5;21;01m.\u001b[39;00m\u001b[38;5;21;01mtesting\u001b[39;00m \u001b[38;5;28;01mimport\u001b[39;00m Tester\n\u001b[1;32m    311\u001b[0m     \u001b[38;5;28;01mreturn\u001b[39;00m Tester\n\u001b[0;32m--> 313\u001b[0m \u001b[38;5;28;01mraise\u001b[39;00m \u001b[38;5;167;01mAttributeError\u001b[39;00m(\u001b[38;5;124m\"\u001b[39m\u001b[38;5;124mmodule \u001b[39m\u001b[38;5;132;01m{!r}\u001b[39;00m\u001b[38;5;124m has no attribute \u001b[39m\u001b[38;5;124m\"\u001b[39m\n\u001b[1;32m    314\u001b[0m                      \u001b[38;5;124m\"\u001b[39m\u001b[38;5;132;01m{!r}\u001b[39;00m\u001b[38;5;124m\"\u001b[39m\u001b[38;5;241m.\u001b[39mformat(\u001b[38;5;18m__name__\u001b[39m, attr))\n",
      "\u001b[0;31mAttributeError\u001b[0m: module 'numpy' has no attribute 'semilogy'"
     ]
    }
   ],
   "source": [
    "help(np.semilogy)"
   ]
  },
  {
   "cell_type": "markdown",
   "metadata": {},
   "source": []
  },
  {
   "cell_type": "markdown",
   "metadata": {},
   "source": [
    "**(f)** Écrire une fonction `[zero,iter,res,inc]=newton(f,df,x0,tol,itermax)` qui met en &oelig;uvre la [méthode de Newton-Raphson](http://fr.wikipedia.org/wiki/M%C3%A9thode_de_Newton) pour l'approximation d'un zéro d'une fonction dérivable $f$ donnée. Les paramètres d'entrée `df`, `x0`, `tol` et `itermax` représenteront respectivement la fonction correspondant à la fonction dérivée $f'$, l'initialisation de la suite des approximations, la tolérance pour le critère d'arrêt de la méthode et le nombre maximum d'itérations à effectuer. En sortie, les paramètres seront identiques à ceux de la fonction `dichotomie`. La encore, on réfléchira au choix du critère d'arrêt à employer."
   ]
  },
  {
   "cell_type": "code",
   "execution_count": 24,
   "metadata": {},
   "outputs": [
    {
     "name": "stdout",
     "output_type": "stream",
     "text": [
      "[2.2460055892984685, 4, 5.561107130347409e-13]\n",
      "[-1.0472316585117376, 14, -5.037308348221359e-10]\n"
     ]
    }
   ],
   "source": [
    "def newton(f,df,x0,tol,itermax):\n",
    "    iter1 =0\n",
    "    zero = x0\n",
    "    res = f(x0)\n",
    "    while (iter1 < itermax) and (abs(res)>tol):\n",
    "        iter1 = iter1 + 1\n",
    "        zero = zero - (res/df(zero))\n",
    "        res = f(zero)\n",
    "    return [zero,iter1,res]\n",
    "\n",
    "def f(x):\n",
    "    return x/2 - sin(x) + (pi/6) - (sqrt(3)/2)\n",
    "def df(x):\n",
    "    return 1/2 -cos(x)\n",
    "\n",
    "print(newton(f,df,pi,10e-10,100))\n",
    "print(newton(f,df,-pi/2,10e-10,100))\n",
    "                                                                                                                                                                  \n",
    "    "
   ]
  },
  {
   "cell_type": "markdown",
   "metadata": {},
   "source": [
    "**(g)** Calculer des approximations des deux zéros $\\xi$ et $\\zeta$ de la fonction $f$ avec la méthode de Newton-Raphson, en prenant une tolérance égale à $10^{-10}$ pour le critère d'arrêt et comme initialisations le point $\\pi$ pour $\\xi$ et $-\\frac{\\pi}{2}$ pour $\\zeta$. Comparer les nombres d'itérations effectuées pour obtenir une approximation de chacun des zéros. Pourquoi sont-ils très différents ? Comparer également les graphes des suites des incréments obtenus avec la commande `semilogy`."
   ]
  },
  {
   "cell_type": "code",
   "execution_count": 25,
   "metadata": {
    "scrolled": true
   },
   "outputs": [
    {
     "name": "stdout",
     "output_type": "stream",
     "text": [
      "[2.2460055892984685, 4, 5.561107130347409e-13]\n",
      "[-1.0472316585117376, 14, -5.037308348221359e-10]\n"
     ]
    }
   ],
   "source": [
    "print(newton(f,df,pi,10e-10,100))\n",
    "print(newton(f,df,-pi/2,10e-10,100))"
   ]
  },
  {
   "cell_type": "markdown",
   "metadata": {},
   "source": []
  },
  {
   "cell_type": "markdown",
   "metadata": {},
   "source": [
    "**(h)** On cherche à réduire le nombre d'itérations nécessaires à l'obtention d'une approximation du zéro négatif $\\zeta$ de la fonction $f$. La méthode de Newton-Raphson modifiée, basée sur la modification suivante de la relation de récurrence de la méthode de Newton-Raphson\n",
    "$$\n",
    "\\forall k\\in\\mathbb{N},\\ x^{(k+1)}=x^{(k)}−2\\frac{f(x^{(k)})}{f'(x^{(k)})},\n",
    "$$\n",
    "a une convergence quadratique si $f'(\\zeta)=0$. Mettre en &oelig;uvre cette méthode dans une fonction `modnewton` et voir combien d'itérations sont nécessaires pour qu'elle fournisse une approximation de $\\zeta$ avec une tolérance égale à $10^{-10}$ pour le critère d'arrêt."
   ]
  },
  {
   "cell_type": "code",
   "execution_count": 26,
   "metadata": {},
   "outputs": [
    {
     "name": "stdout",
     "output_type": "stream",
     "text": [
      "[-1.0471982061253842, 5, -1.857403120197887e-13]\n",
      "[-1.0472119021804789, 2, -8.91795526314354e-11]\n"
     ]
    }
   ],
   "source": [
    "def modnewton(f,df,x0,tol,itermax):\n",
    "    iter1 =0\n",
    "    zero = x0\n",
    "    res = f(x0)\n",
    "    while (iter1 < itermax) and (abs(res)>tol):\n",
    "        iter1 = iter1 + 1\n",
    "        zero = zero - 2*(res/df(zero))\n",
    "        res = f(zero)\n",
    "    return [zero,iter1,res]\n",
    "print(modnewton(f,df,pi,10e-10,100))\n",
    "print(modnewton(f,df,-pi/2,10e-10,100))"
   ]
  },
  {
   "cell_type": "markdown",
   "metadata": {},
   "source": [
    "**2.** On considère à présent la fonction $g(x)=x+e^{-20\\,x^2}\\cos(x)$, dont on veut approcher les zéros par la méthode de Newton-Raphson.\n",
    "\n",
    "**(a)** &Eacute;crire une fonction `g` pour la fonction $g$ et une fonction `dg` pour sa dérivée $g'$."
   ]
  },
  {
   "cell_type": "code",
   "execution_count": 27,
   "metadata": {},
   "outputs": [],
   "source": [
    "def g(x):\n",
    "    return x + exp(-20*(x**2))*cos(x)\n",
    "def dg(x):\n",
    "    return 1 -40*x*exp(-20*(x**2))*cos(x) -sin(x)*exp(-20*(x**2))"
   ]
  },
  {
   "cell_type": "markdown",
   "metadata": {},
   "source": [
    "**(b)** Utiliser la fonction `newton` pour essayer d'approcher d'un zéro de $g$ en prenant $x^{(0)}=0$ pour initialisation et une tolérance égale à $10^{-10}$ pour le critère d'arrêt."
   ]
  },
  {
   "cell_type": "code",
   "execution_count": 28,
   "metadata": {
    "scrolled": true
   },
   "outputs": [
    {
     "name": "stdout",
     "output_type": "stream",
     "text": [
      "[-4.739753078908393e-08, 100, 0.9999999526024231]\n"
     ]
    }
   ],
   "source": [
    "print(newton(g,dg,0,10e-10,100))"
   ]
  },
  {
   "cell_type": "markdown",
   "metadata": {},
   "source": [
    "**(c)** Tracer le graphe de $g$ sur l'intervalle $[-1,1]$ et tenter de donner une explication qualitative du fait la méthode de Newton-Raphson ne converge pas avec l'initialisation précédente."
   ]
  },
  {
   "cell_type": "code",
   "execution_count": null,
   "metadata": {
    "scrolled": true
   },
   "outputs": [],
   "source": []
  },
  {
   "cell_type": "markdown",
   "metadata": {},
   "source": []
  },
  {
   "cell_type": "markdown",
   "metadata": {},
   "source": [
    "**(d)** Appliquer cinq intérations de la méthode de dichotomie à la fonction $g$ sur l'intervalle $[-1,1]$ et utiliser le point obtenu comme initialisation de la méthode de Newton-Raphson pour la recherche d'un zéro de $g$."
   ]
  },
  {
   "cell_type": "code",
   "execution_count": 29,
   "metadata": {
    "scrolled": true
   },
   "outputs": [
    {
     "data": {
      "text/plain": [
       "[-0.25729815080399304, 1, 0.0]"
      ]
     },
     "execution_count": 29,
     "metadata": {},
     "output_type": "execute_result"
    }
   ],
   "source": [
    "newton(g,dg,dichotomie(g,-1,1,10e-10,5)[0],10e-10,1000)"
   ]
  },
  {
   "cell_type": "markdown",
   "metadata": {},
   "source": [
    "**3.** Modifier la fonction `dichotomie` pour obtenir une fonction\n",
    "`regulafalsi` mettant en &oelig;uvre la [méthode de la fausse position](http://fr.wikipedia.org/wiki/M%C3%A9thode_de_la_fausse_position). De la même manière,\n",
    "modifier la fonction `newton` pour obtenir une fonction `secante` mettant en &oelig;uvre la [méthode de la sécante](http://fr.wikipedia.org/wiki/M%C3%A9thode_de_la_s%C3%A9cante)."
   ]
  },
  {
   "cell_type": "code",
   "execution_count": 30,
   "metadata": {},
   "outputs": [
    {
     "name": "stdout",
     "output_type": "stream",
     "text": [
      "[2.2460055892979742, 1000, 0.0]\n"
     ]
    }
   ],
   "source": [
    "def regulafalsi(f,a,b,tol,itermax):\n",
    "    fa= f(a)\n",
    "    fb= f(b)\n",
    "    if fa*fb>0:\n",
    "        raise ValueError('Dichotomie impossible')\n",
    "    ak= a\n",
    "    bk= b\n",
    "    iter1 =0 \n",
    "    while(bk - ak >tol) and (iter1<itermax):\n",
    "        iter1 = iter1 + 1\n",
    "        fa = f(ak)\n",
    "        fb = f(bk)\n",
    "        xk = (f(ak)*bk -f(bk)*ak)/(f(ak)-f(bk))     #(ak + bk)/2\n",
    "        fxk= f(xk)\n",
    "        if(fa*fxk <0):\n",
    "            bk = xk\n",
    "        else:\n",
    "            ak = xk\n",
    "    return [xk,iter1,f(xk)]\n",
    "print(regulafalsi(f,0,pi,10e-10,1000))\n",
    "    "
   ]
  },
  {
   "cell_type": "markdown",
   "metadata": {},
   "source": [
    "## Exercice bonus (variantes de la méthode de la fausse position)"
   ]
  },
  {
   "cell_type": "markdown",
   "metadata": {},
   "source": [
    "Le phénomène de rétention d'une des bornes d'encadrement observé lors de l'application de la méthode de la fausse position à la résolution numérique d'une équation non linéaire dans $\\mathbb{R}$ a pour effet de diminuer sa vitesse de convergence, ce qui la rend parfois moins efficace que la méthode de dichotomie. Pour corriger ce défaut, plusieurs variantes ont été introduites. On propose dans cet exercice de les tester sur quelques exemples.\n",
    "\n",
    "Pour décrire de manière explicite ces modifications, on adopte les notations suivantes. On suppose disposer initialement d'un intervalle $[x^{(0)},x^{(1)}]$ non vide de $\\mathbb{R}$ et d'une application continue $f$ de $[x^{(0)},x^{(1)}]$ dans $\\mathbb{R}$, telle que $f(x^{(0)})f(x^{(1)})<0$, ce qui assure l'existence d'un zéro $\\xi$ de $f$. On pose alors $y^{(0)}=f(x^{(0)})$ et $y^{(1)}=f(x^{(1)})$. À l'étape $k$, avec $k$ un entier naturel non nul, on pose\n",
    "$$\n",
    "x^{(k+1)}=\\frac{x^{(k-1)}y^{(k)}-x^{(k)}y^{(k-1)}}{y^{(k)}-y^{(k-1)}}\\text{ et }y^{(k+1)}=f(x^{(k+1)}).\n",
    "$$\n",
    "Si $y^{(k+1)}y^{(k)}<0$, on passe à l'étape suivante. En revanche, si $y^{(k+1)}y^{(k)}>0$, on fait la mise à jour suivante\n",
    "$$\n",
    "x^{(k)}=x^{(k-1)}\\text{ et }y^{(k)}=\\alpha\\,y^{(k-1)}\n",
    "$$\n",
    "avant de passer à l'étape suivante, avec\n",
    "* $\\alpha=\\frac{1}{2}$ pour la <a href=\"https://doi.org/10.1007/BF01934364\">méthode Illinois</a>,\n",
    "* $\\alpha=\\frac{y^{(k)}}{y^{(k)}+y^{(k+1)}}$ pour la <a href=\"https://doi.org/10.1007/BF01932959\">méthode Pegasus</a>,\n",
    "* $\\alpha=\\frac{y^{(k)}-y^{(k+1)}}{y^{(k)}}$ si cette quantité est strictement positive, $\\alpha=\\frac{1}{2}$ sinon, pour la <a href=\"https://doi.org/10.1007/BF01951936\">méthode d'Anderson-Björck</a>.\n",
    "\n",
    "**1.** Sur le modèle de la fonction `regulafalsi` écrite dans l'exercice précédent, écrire des fonctions mettant en &oelig;uvre chacune des variantes données ci-dessus."
   ]
  },
  {
   "cell_type": "code",
   "execution_count": 31,
   "metadata": {},
   "outputs": [
    {
     "name": "stdout",
     "output_type": "stream",
     "text": [
      "[2.246005589297974, 1000, -4.440892098500626e-16]\n"
     ]
    }
   ],
   "source": [
    "#variantes de la méthode de la fausse position \n",
    "#Illinois numVar = 1\n",
    "#Pegasus numVar = 2\n",
    "#AndersonBjork = 3\n",
    "\n",
    "def variantes(f,x0,x1,tol,itermax,numVar):\n",
    "    \n",
    "    def actuAlpha():\n",
    "        if numVar ==1:\n",
    "            return  1/2\n",
    "        elif numVar ==2:\n",
    "            return  f(ak)/(f(ak)+f(bk))\n",
    "        else:\n",
    "            if ((f(ak)- f(bk))/(f(ak)))>0:\n",
    "                return ((f(ak)- f(bk))/(f(ak)))\n",
    "            else:\n",
    "                return  1/2\n",
    "    \n",
    "    \n",
    "    \n",
    "    \n",
    "    \n",
    "    if(f(x0)*f(x1)>0):\n",
    "        return \"error\"\n",
    "    ak = x0\n",
    "    bk = x1\n",
    "    fak = f(ak)\n",
    "    fbk = f(bk)\n",
    "    it = 0\n",
    "    while(abs(bk -ak)>tol) and (it<itermax):\n",
    "        it = it +1\n",
    "        ck = ak - ((ak - bk)/(fak-fbk))*fak\n",
    "        if f(ck)*fak == 0:\n",
    "            return [ck,it,f(ck)]\n",
    "        elif f(ck)*fak<0:\n",
    "            ak = ak\n",
    "            bk = ck\n",
    "            fbk=f(ck)\n",
    "            fak = f(ak)\n",
    "        else:\n",
    "            ak =ck\n",
    "            bk = bk\n",
    "            fak = actuAlpha()*(f(ak))\n",
    "            fbk = f(bk)\n",
    "    return [ck,it, f(ck)]\n",
    "\n",
    "print(variantes(f,0,pi,10e-12,1000,1))\n"
   ]
  },
  {
   "cell_type": "markdown",
   "metadata": {},
   "source": [
    "**1.** Tester ces fonctions, ainsi que les fonctions `dichotomie` et `regulafalsi`, pour la détermination du zéro de la fonction $f(x)=11x^{11}-1$. On utilisera l'intervalle $\\left[\\frac{1}{10},1\\right]$ comme encadrement initial et une tolérance égale à $10^{-12}$."
   ]
  },
  {
   "cell_type": "code",
   "execution_count": 32,
   "metadata": {},
   "outputs": [
    {
     "name": "stdout",
     "output_type": "stream",
     "text": [
      "[0.8041330974992891, 37, -5.985045792300525e-11]\n",
      "[0.8041330975036639, 10000, -5.773159728050814e-15]\n",
      "[0.804133097503664, 10000, -4.218847493575595e-15]\n",
      "[0.18181818181, 5, -0.9999999210407343]\n",
      "[0.8041330975036644, 16, 4.440892098500626e-16]\n"
     ]
    }
   ],
   "source": [
    "def f(x):\n",
    "    return (11*x**11) -1\n",
    "itermax=10000\n",
    "tol = 10e-12\n",
    "a = 1/10\n",
    "b = 1\n",
    "print(dichotomie(f,a,b,tol,itermax))\n",
    "print(regulafalsi(f,a,b,tol,itermax))\n",
    "print(variantes(f,a,b,tol,itermax,1))\n",
    "print(variantes(f,a,b,tol,itermax,2))\n",
    "print(variantes(f,a,b,tol,itermax,3))\n"
   ]
  },
  {
   "cell_type": "markdown",
   "metadata": {},
   "source": [
    "**2.** Reprendre la question précédente avec la fonction $f(x)=1-\\frac{1}{x^5}$. On utilisera l'intervalle $\\left[\\frac{1}{2},2\\right]$ comme encadrement initial et une tolérance égale à $10^{-12}$."
   ]
  },
  {
   "cell_type": "code",
   "execution_count": 33,
   "metadata": {
    "scrolled": false
   },
   "outputs": [
    {
     "name": "stdout",
     "output_type": "stream",
     "text": [
      "[0.999999999998181, 38, -9.094947017729282e-12]\n",
      "[1.0000000000000018, 10000, 8.881784197001252e-15]\n",
      "[1.0000000000000018, 10000, 8.881784197001252e-15]\n",
      "[1.0000000000000018, 10000, 8.881784197001252e-15]\n",
      "[1.0000000000000018, 10000, 8.881784197001252e-15]\n"
     ]
    }
   ],
   "source": [
    "def f(x):\n",
    "    return 1 - (1/(x**5))\n",
    "itermax=10000\n",
    "tol = 10e-12\n",
    "a = 1/2\n",
    "b = 2\n",
    "print(dichotomie(f,a,b,tol,itermax))\n",
    "print(regulafalsi(f,a,b,tol,itermax))\n",
    "print(variantes(f,a,b,tol,itermax,1))\n",
    "print(variantes(f,a,b,tol,itermax,2))\n",
    "print(variantes(f,a,b,tol,itermax,3))"
   ]
  },
  {
   "cell_type": "markdown",
   "metadata": {},
   "source": [
    "**3.** Reprendre la question précédente avec la fonction $f(x)=1-\\frac{1}{x}$. On utilisera l'intervalle $\\left[\\frac{1}{2},2\\right]$ comme encadrement initial et une tolérance égale à $10^{-12}$."
   ]
  },
  {
   "cell_type": "code",
   "execution_count": 34,
   "metadata": {},
   "outputs": [
    {
     "name": "stdout",
     "output_type": "stream",
     "text": [
      "[0.999999999998181, 38, -1.8189894035458565e-12]\n",
      "[1.0000000000000002, 10000, 2.220446049250313e-16]\n",
      "[1.0, 53, 0.0]\n",
      "[1.0, 53, 0.0]\n",
      "[1.0, 53, 0.0]\n"
     ]
    }
   ],
   "source": [
    "def f(x):\n",
    "    return 1 - (1/(x))\n",
    "itermax=10000\n",
    "tol = 10e-12\n",
    "a = 1/2\n",
    "b = 2\n",
    "print(dichotomie(f,a,b,tol,itermax))\n",
    "print(regulafalsi(f,a,b,tol,itermax))\n",
    "print(variantes(f,a,b,tol,itermax,1))\n",
    "print(variantes(f,a,b,tol,itermax,2))\n",
    "print(variantes(f,a,b,tol,itermax,3))"
   ]
  },
  {
   "cell_type": "markdown",
   "metadata": {
    "collapsed": true
   },
   "source": [
    "## Exercice 2 (calcul de $\\sqrt{2}$)\n",
    "Dans cet exercice, on cherche à calculer une approximation de $\\sqrt{2}$ de diverses façons.\n",
    "\n",
    "**1.** On peut tout d'abord obtenir une valeur approchée de $\\sqrt{2}$ en cherchant la racine positive de la fonction polynomiale $f(x)=x^2-2$. Pour cela, appliquer successivement à $f$ les méthodes de dichotomie et de de la fausse position sur l'intervalle $[1,2]$, de Newton-Raphson et de la sécante."
   ]
  },
  {
   "cell_type": "code",
   "execution_count": null,
   "metadata": {
    "scrolled": true
   },
   "outputs": [],
   "source": []
  },
  {
   "cell_type": "markdown",
   "metadata": {
    "collapsed": true
   },
   "source": [
    "**2.** On peut également se servir de méthodes de point fixe, définies à partir des applications suivantes\n",
    "$$\n",
    "g_1(x)=2+x-x^2,\\ g_2(x)=\\frac{2}{x}\\text{ et }g_3(x)=\\frac{x+2}{x+1},\n",
    "$$\n",
    "considérées sur l'intervalle $[1,2]$.\n",
    "\n",
    "**(a)** Parmi les trois fonctions ci-dessus, lesquelles conduisent à une méthode de point fixe convergente ?"
   ]
  },
  {
   "cell_type": "markdown",
   "metadata": {},
   "source": []
  },
  {
   "cell_type": "markdown",
   "metadata": {},
   "source": [
    "**(b)** Vérifier cette affirmation en calculant les vingt premiers termes des suites définies par les relations de récurrence\n",
    "$$\n",
    "x^{(0)}=\\frac{1}{2}\\text{ et },\\forall k\\in\\mathbb{N},\\ x^{(k+1)}=g_i(x^{(k)}),\\ i\\in\\{1,2,3\\}.\n",
    "$$"
   ]
  },
  {
   "cell_type": "code",
   "execution_count": null,
   "metadata": {},
   "outputs": [],
   "source": []
  },
  {
   "cell_type": "markdown",
   "metadata": {},
   "source": [
    "## Exercice 3 (bassins de convergence de la méthode de Newton-Raphson)\n",
    "\n",
    "On s'intéresse à la recherche des solutions complexes de l'équation $z^3=1$ par la méthode de Newton-Raphson. On considère pour cela la fonction d'une variable complexe $f(z)=z^3-1$, qui s'annule en chaque point $z$ du plan complexe tel que $z^3=1$.\n",
    "\n",
    "**1.** &Eacute;crire deux fonctions `f` et `df` renvoyant respectivement les valeurs de $f(z)$ et de $f'(z)$ en un point quelconque $z$ de $\\mathbb{C}$."
   ]
  },
  {
   "cell_type": "code",
   "execution_count": null,
   "metadata": {},
   "outputs": [],
   "source": []
  },
  {
   "cell_type": "markdown",
   "metadata": {},
   "source": [
    "**2.** Pour tout entier naturel $n$ supérieur ou égal à $2$, on définit une grille de pas $h=\\frac{3}{n-1}$ couvrant le carré $[-1,5,1,5]\\times[-1,5\\mathrm{i},1,5\\mathrm{i}]$.\n",
    "\n",
    "&Eacute;crire un programme résolvant, pour une valeur donnée de $n$, l'équation $f(z)=0$ avec une tolérance égale à $10^{-4}$ par la méthode de Newton-Raphson utilisant successivement chaque point de la grille $z_{ij}=-1,5(1+\\mathrm{i})+(i+\\mathrm{i}j)h$, $0\\leq i,j\\leq n$ comme initialisation. Pour chaque couple $(i,j)$, stocker dans le tableau à deux dimensions `nrac` le numéro $k$ ($k=0$, $1$ ou $2$) de la racine cubique complexe de l'unité $e^{\\mathrm{i}\\frac{2k\\pi}{3}}$ vers laquelle la méthode aura convergée à partir de $z_{ij}$ (on posera $k=3$ lorsque la méthode n'a pas convergé après $100$ itérations) et dans le tableau `niter` le nombre d'itérations nécessaires pour atteindre la convergence (en stockant le nombre maximal d'itérations autorisées en l'absence de convergence).\n",
    "\n",
    "Pour automatiser le processus de reconnaissance de la racine approchée par la valeur `zero` renvoyée, on pourra utiliser les instructions suivantes (ci-dessous, `racines` désigne un tableau contenant les trois racines cubiques complexes de l'unité et `tol` est la tolérance du critère d'arrêt de la méthode de Newton-Raphson) :\n",
    "\n",
    "`d=racines-[zero,zero,zero]\n",
    " m,k=min(abs(d)),argmin(abs(d))\n",
    " if (abs(m)>tol):\n",
    "     k=3`\n",
    "     \n",
    "Lancer le programme avec $n$ valant $100$ et une tolérance fixée à $10^{-4}$ (compte tenu du nombre important d'appels de la méthode de Newton--Raphson)."
   ]
  },
  {
   "cell_type": "code",
   "execution_count": null,
   "metadata": {},
   "outputs": [],
   "source": []
  },
  {
   "cell_type": "markdown",
   "metadata": {},
   "source": [
    "**3.** &Agrave; l'aide des commandes `matshow(nrac.T)` et `matshow(niter.T)`, afficher une représentation des bassins de convergence de la méthode."
   ]
  },
  {
   "cell_type": "code",
   "execution_count": null,
   "metadata": {
    "scrolled": true
   },
   "outputs": [],
   "source": []
  },
  {
   "cell_type": "markdown",
   "metadata": {},
   "source": [
    "**4.** Refaire des tracés pour des pas de grille plus petits (c'est-à-dire de plus grandes valeurs de $n$). Que dire des &laquo; frontières &raquo; des trois bassins de convergence de la méthode ?"
   ]
  },
  {
   "cell_type": "code",
   "execution_count": null,
   "metadata": {
    "scrolled": true
   },
   "outputs": [],
   "source": []
  },
  {
   "cell_type": "markdown",
   "metadata": {},
   "source": []
  }
 ],
 "metadata": {
  "kernelspec": {
   "display_name": "Python 3 (ipykernel)",
   "language": "python",
   "name": "python3"
  },
  "language_info": {
   "codemirror_mode": {
    "name": "ipython",
    "version": 3
   },
   "file_extension": ".py",
   "mimetype": "text/x-python",
   "name": "python",
   "nbconvert_exporter": "python",
   "pygments_lexer": "ipython3",
   "version": "3.9.12"
  }
 },
 "nbformat": 4,
 "nbformat_minor": 1
}
