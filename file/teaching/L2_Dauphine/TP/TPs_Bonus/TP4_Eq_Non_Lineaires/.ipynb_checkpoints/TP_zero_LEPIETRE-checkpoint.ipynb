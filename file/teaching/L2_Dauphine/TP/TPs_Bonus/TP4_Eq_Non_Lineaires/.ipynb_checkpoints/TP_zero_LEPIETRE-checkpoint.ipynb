{
 "cells": [
  {
   "cell_type": "markdown",
   "metadata": {},
   "source": [
    "# Feuille de travaux pratiques. Résolution numérique d'équations non linéaires"
   ]
  },
  {
   "cell_type": "code",
   "execution_count": 1,
   "metadata": {
    "scrolled": true
   },
   "outputs": [],
   "source": [
    "# chargement des bibliothèques\n",
    "import numpy as np\n",
    "\n",
    "%matplotlib inline\n",
    "import matplotlib.pyplot as plt"
   ]
  },
  {
   "cell_type": "markdown",
   "metadata": {},
   "source": [
    "## Exercice 1 (méthodes de dichotomie et de Newton-Raphson, d'après A. Quarteroni)\n",
    "\n",
    "Dans cet exercice, on souhaite utiliser sur des exemples différentes méthodes d'approximation d'un zéro d'une fonction.\n",
    "\n",
    "**1.** On considère tout d'abord la fonction\n",
    "$$\n",
    "f(x)=\\frac{x}{2}-\\sin(x)+\\frac{\\pi}{6}-\\frac{\\sqrt{3}}{2}\n",
    "$$\n",
    "sur l'intervalle $\\left[-\\frac{\\pi}{2},\\pi\\right]$, en observant qu'elle y possède deux zéros.\n",
    "\n",
    "**(a)** &Eacute;crire une fonction `f` prenant en entrée un réel $x$ et renvoyant la valeur de $f(x)$."
   ]
  },
  {
   "cell_type": "code",
   "execution_count": null,
   "metadata": {},
   "outputs": [],
   "source": []
  },
  {
   "cell_type": "markdown",
   "metadata": {},
   "source": [
    "**(b)** À l'aide du graphe de la fonction $f$ sur $\\left[-\\frac{\\pi}{2},\\pi\\right]$, expliquer pourquoi la [méthode de dichotomie](http://fr.wikipedia.org/wiki/M%C3%A9thode_de_dichotomie) ne peut être utilisée que pour approcher l'un des deux zéros de $f$, que l'on notera $\\xi$ dans la suite."
   ]
  },
  {
   "cell_type": "code",
   "execution_count": null,
   "metadata": {},
   "outputs": [],
   "source": []
  },
  {
   "cell_type": "markdown",
   "metadata": {},
   "source": []
  },
  {
   "cell_type": "markdown",
   "metadata": {},
   "source": [
    "**(c)** Écrire une fonction `[zero,iter,res,inc]=dichotomie(f,a,b,tol,itermax)` mettant en &oelig;uvre la méthode de dichotomie pour l'approximation d'un zéro d'une fonction $f$ donnée, compris dans un intervalle $[a,b]$ tel que $f(a)f(b)<0$. En plus de la fonction et des bornes de l'intervalle, les autre paramètres d'entrée seront une tolérance `tol` pour le critère d'arrêt de la méthode et un nombre maximum `itermax` d'itérations à effectuer. Elle reverra en sortie l'approximation du zéro obtenue `zero`, le nombre d'itérations\n",
    "nécessaire au calcul de cette approximation `iter`, la valeur `res` de la fonction $f$ en cette approximationt et un vecteur `inc` contenant la suite des valeurs absolues des différences entre deux approximations successives (dite suite des incréments). On réfléchira au choix du critère d'arrêt à employer."
   ]
  },
  {
   "cell_type": "code",
   "execution_count": null,
   "metadata": {},
   "outputs": [],
   "source": []
  },
  {
   "cell_type": "markdown",
   "metadata": {},
   "source": [
    "**(d)** Utiliser la fonction `dichotomie` pour calculer une approximation de $\\xi$ avec une tolérance égale à $10^{-10}$ pour le critère d'arrêt à partir du choix d'un intervalle $[a,b]$ convenable."
   ]
  },
  {
   "cell_type": "code",
   "execution_count": null,
   "metadata": {},
   "outputs": [],
   "source": []
  },
  {
   "cell_type": "markdown",
   "metadata": {},
   "source": [
    "**(e)** Au moyen de la commande `semilogy`, tracer le graphe de la suite des incréments $|x^{(k+1)}-x^{(k)}|$ en fonction de $k$ avec une échelle semilogarithmique et déterminer la loi selon laquelle ces quantités tendent vers $0$ quand $k$ tend vers l'infini."
   ]
  },
  {
   "cell_type": "code",
   "execution_count": null,
   "metadata": {
    "scrolled": true
   },
   "outputs": [],
   "source": []
  },
  {
   "cell_type": "markdown",
   "metadata": {},
   "source": []
  },
  {
   "cell_type": "markdown",
   "metadata": {},
   "source": [
    "**(f)** Écrire une fonction `[zero,iter,res,inc]=newton(f,df,x0,tol,itermax)` qui met en &oelig;uvre la [méthode de Newton-Raphson](http://fr.wikipedia.org/wiki/M%C3%A9thode_de_Newton) pour l'approximation d'un zéro d'une fonction dérivable $f$ donnée. Les paramètres d'entrée `df`, `x0`, `tol` et `itermax` représenteront respectivement la fonction correspondant à la fonction dérivée $f'$, l'initialisation de la suite des approximations, la tolérance pour le critère d'arrêt de la méthode et le nombre maximum d'itérations à effectuer. En sortie, les paramètres seront identiques à ceux de la fonction `dichotomie`. La encore, on réfléchira au choix du critère d'arrêt à employer."
   ]
  },
  {
   "cell_type": "code",
   "execution_count": null,
   "metadata": {},
   "outputs": [],
   "source": []
  },
  {
   "cell_type": "markdown",
   "metadata": {},
   "source": [
    "**(g)** Calculer des approximations des deux zéros $\\xi$ et $\\zeta$ de la fonction $f$ avec la méthode de Newton-Raphson, en prenant une tolérance égale à $10^{-10}$ pour le critère d'arrêt et comme initialisations le point $\\pi$ pour $\\xi$ et $-\\frac{\\pi}{2}$ pour $\\zeta$. Comparer les nombres d'itérations effectuées pour obtenir une approximation de chacun des zéros. Pourquoi sont-ils très différents ? Comparer également les graphes des suites des incréments obtenus avec la commande `semilogy`."
   ]
  },
  {
   "cell_type": "code",
   "execution_count": null,
   "metadata": {
    "scrolled": true
   },
   "outputs": [],
   "source": []
  },
  {
   "cell_type": "markdown",
   "metadata": {},
   "source": []
  },
  {
   "cell_type": "markdown",
   "metadata": {},
   "source": [
    "**(h)** On cherche à réduire le nombre d'itérations nécessaires à l'obtention d'une approximation du zéro négatif $\\zeta$ de la fonction $f$. La méthode de Newton-Raphson modifiée, basée sur la modification suivante de la relation de récurrence de la méthode de Newton-Raphson\n",
    "$$\n",
    "\\forall k\\in\\mathbb{N},\\ x^{(k+1)}=x^{(k)}−2\\frac{f(x^{(k)})}{f'(x^{(k)})},\n",
    "$$\n",
    "a une convergence quadratique si $f'(\\zeta)=0$. Mettre en &oelig;uvre cette méthode dans une fonction `modnewton` et voir combien d'itérations sont nécessaires pour qu'elle fournisse une approximation de $\\zeta$ avec une tolérance égale à $10^{-10}$ pour le critère d'arrêt."
   ]
  },
  {
   "cell_type": "code",
   "execution_count": null,
   "metadata": {},
   "outputs": [],
   "source": []
  },
  {
   "cell_type": "markdown",
   "metadata": {},
   "source": [
    "**2.** On considère à présent la fonction $g(x)=x+e^{-20\\,x^2}\\cos(x)$, dont on veut approcher les zéros par la méthode de Newton-Raphson.\n",
    "\n",
    "**(a)** &Eacute;crire une fonction `g` pour la fonction $g$ et une fonction `dg` pour sa dérivée $g'$."
   ]
  },
  {
   "cell_type": "code",
   "execution_count": null,
   "metadata": {},
   "outputs": [],
   "source": []
  },
  {
   "cell_type": "markdown",
   "metadata": {},
   "source": [
    "**(b)** Utiliser la fonction `newton` pour essayer d'approcher d'un zéro de $g$ en prenant $x^{(0)}=0$ pour initialisation et une tolérance égale à $10^{-10}$ pour le critère d'arrêt."
   ]
  },
  {
   "cell_type": "code",
   "execution_count": null,
   "metadata": {
    "scrolled": true
   },
   "outputs": [],
   "source": []
  },
  {
   "cell_type": "markdown",
   "metadata": {},
   "source": [
    "**(c)** Tracer le graphe de $g$ sur l'intervalle $[-1,1]$ et tenter de donner une explication qualitative du fait la méthode de Newton-Raphson ne converge pas avec l'initialisation précédente."
   ]
  },
  {
   "cell_type": "code",
   "execution_count": null,
   "metadata": {
    "scrolled": true
   },
   "outputs": [],
   "source": []
  },
  {
   "cell_type": "markdown",
   "metadata": {},
   "source": []
  },
  {
   "cell_type": "markdown",
   "metadata": {},
   "source": [
    "**(d)** Appliquer cinq intérations de la méthode de dichotomie à la fonction $g$ sur l'intervalle $[-1,1]$ et utiliser le point obtenu comme initialisation de la méthode de Newton-Raphson pour la recherche d'un zéro de $g$."
   ]
  },
  {
   "cell_type": "code",
   "execution_count": null,
   "metadata": {
    "scrolled": true
   },
   "outputs": [],
   "source": []
  },
  {
   "cell_type": "markdown",
   "metadata": {},
   "source": [
    "**3.** Modifier la fonction `dichotomie` pour obtenir une fonction\n",
    "`regulafalsi` mettant en &oelig;uvre la [méthode de la fausse position](http://fr.wikipedia.org/wiki/M%C3%A9thode_de_la_fausse_position). De la même manière,\n",
    "modifier la fonction `newton` pour obtenir une fonction `secante` mettant en &oelig;uvre la [méthode de la sécante](http://fr.wikipedia.org/wiki/M%C3%A9thode_de_la_s%C3%A9cante)."
   ]
  },
  {
   "cell_type": "code",
   "execution_count": null,
   "metadata": {},
   "outputs": [],
   "source": []
  },
  {
   "cell_type": "markdown",
   "metadata": {},
   "source": [
    "## Exercice bonus (variantes de la méthode de la fausse position)"
   ]
  },
  {
   "cell_type": "markdown",
   "metadata": {},
   "source": [
    "Le phénomène de rétention d'une des bornes d'encadrement observé lors de l'application de la méthode de la fausse position à la résolution numérique d'une équation non linéaire dans $\\mathbb{R}$ a pour effet de diminuer sa vitesse de convergence, ce qui la rend parfois moins efficace que la méthode de dichotomie. Pour corriger ce défaut, plusieurs variantes ont été introduites. On propose dans cet exercice de les tester sur quelques exemples.\n",
    "\n",
    "Pour décrire de manière explicite ces modifications, on adopte les notations suivantes. On suppose disposer initialement d'un intervalle $[x^{(0)},x^{(1)}]$ non vide de $\\mathbb{R}$ et d'une application continue $f$ de $[x^{(0)},x^{(1)}]$ dans $\\mathbb{R}$, telle que $f(x^{(0)})f(x^{(1)})<0$, ce qui assure l'existence d'un zéro $\\xi$ de $f$. On pose alors $y^{(0)}=f(x^{(0)})$ et $y^{(1)}=f(x^{(1)})$. À l'étape $k$, avec $k$ un entier naturel non nul, on pose\n",
    "$$\n",
    "x^{(k+1)}=\\frac{x^{(k-1)}y^{(k)}-x^{(k)}y^{(k-1)}}{y^{(k)}-y^{(k-1)}}\\text{ et }y^{(k+1)}=f(x^{(k+1)}).\n",
    "$$\n",
    "Si $y^{(k+1)}y^{(k)}<0$, on passe à l'étape suivante. En revanche, si $y^{(k+1)}y^{(k)}>0$, on fait la mise à jour suivante\n",
    "$$\n",
    "x^{(k)}=x^{(k-1)}\\text{ et }y^{(k)}=\\alpha\\,y^{(k-1)}\n",
    "$$\n",
    "avant de passer à l'étape suivante, avec\n",
    "* $\\alpha=\\frac{1}{2}$ pour la <a href=\"https://doi.org/10.1007/BF01934364\">méthode Illinois</a>,\n",
    "* $\\alpha=\\frac{y^{(k)}}{y^{(k)}+y^{(k+1)}}$ pour la <a href=\"https://doi.org/10.1007/BF01932959\">méthode Pegasus</a>,\n",
    "* $\\alpha=\\frac{y^{(k)}-y^{(k+1)}}{y^{(k)}}$ si cette quantité est strictement positive, $\\alpha=\\frac{1}{2}$ sinon, pour la <a href=\"https://doi.org/10.1007/BF01951936\">méthode d'Anderson-Björck</a>.\n",
    "\n",
    "**1.** Sur le modèle de la fonction `regulafalsi` écrite dans l'exercice précédent, écrire des fonctions mettant en &oelig;uvre chacune des variantes données ci-dessus."
   ]
  },
  {
   "cell_type": "code",
   "execution_count": 2,
   "metadata": {},
   "outputs": [],
   "source": [
    "def regulafalsi(f,a,b,tol,itermax):\n",
    "    fa,fb=f(a),f(b)\n",
    "    if fa*fb>0:\n",
    "        raise ValueError('Le signe de la fonction doit différer en chaque extrémité de l\\'intervalle.')\n",
    "    iter=1\n",
    "    ak,bk=a,b\n",
    "    xk=(bk*fa-ak*fb)/(fa-fb)\n",
    "    inc=[abs(bk-xk)]\n",
    "    res=f(xk)\n",
    "    while (abs(res)>=tol and inc[-1]>=tol and iter<=itermax):\n",
    "        iter=iter+1\n",
    "        if res*fa>0:\n",
    "            inc.append(abs(ak-xk))\n",
    "            ak=xk\n",
    "            fa=res\n",
    "        elif res*fa<0:\n",
    "            inc.append(abs(bk-xk))\n",
    "            bk=xk\n",
    "            fb=res\n",
    "        else:\n",
    "            return [xk,iter,res,inc]\n",
    "        xk=(bk*fa-ak*fb)/(fa-fb)\n",
    "        res=f(xk)\n",
    "    if iter>itermax:\n",
    "        print('Le nombre maximum d\\'itérations a été atteint sans convergence avec la tolérance désirée.')\n",
    "    return [xk,iter,res,inc]\n",
    "\n",
    "def dichotomie(f,a,b,tol,itermax):\n",
    "    fa,fb=f(a),f(b)\n",
    "    if fa*fb>0:\n",
    "        raise ValueError('Le signe de la fonction doit différer en chaque extrémité de l\\'intervalle.')\n",
    "    iter=1\n",
    "    ak,bk=a,b\n",
    "    xk=0.5*(ak+bk)\n",
    "    res=f(xk)\n",
    "    inc=[abs(bk-xk)]\n",
    "    while (abs(res)>=tol and inc[-1]>=tol and iter<=itermax):\n",
    "        iter=iter+1\n",
    "        if res*fa>0:\n",
    "            ak=xk\n",
    "            fa=res\n",
    "        elif res*fa<0:\n",
    "            bk=xk\n",
    "            fb=res\n",
    "        else:\n",
    "            return [xk,iter,res,inc]\n",
    "        inc.append(0.5*inc[-1])\n",
    "        xk=0.5*(ak+bk)\n",
    "        res=f(xk)\n",
    "    if iter>itermax:\n",
    "        print('Le nombre maximum d\\'itérations a été atteint sans convergence avec la tolérance désirée.')\n",
    "    return [xk,iter,res,inc]\n",
    "\n",
    "def illinois(f, a, b, tol, itermax):\n",
    "    inc = []\n",
    "    ya, yb = f(a), f(b)\n",
    "    \n",
    "    for i in range(itermax):\n",
    "        # Calculer la prochaine approximation de la racine\n",
    "        x = (a*yb - b*ya) / (yb - ya)\n",
    "        fx = f(x)\n",
    "        \n",
    "        # Calculer la différence entre la nouvelle approximation et la précédente\n",
    "        n = len(inc)\n",
    "        if n > 0:\n",
    "            inc.append(abs(inc[n-1] - abs(x)))\n",
    "        else:\n",
    "            inc.append(abs(x))\n",
    "        \n",
    "        # Vérifier si la précision souhaitée a été atteinte\n",
    "        if abs(fx) < tol:\n",
    "            return x, i+1, fx, inc\n",
    "        \n",
    "        # Mise à jour des bornes a et b pour continuer la recherche de la racine\n",
    "        if fx*ya < 0:\n",
    "            b, yb = x, fx\n",
    "        else:\n",
    "            a, ya = x\n",
    "            yb = yb/2\n",
    "    return x, i+1, fx, inc\n",
    "\n",
    "def pegasus(f, a, b, tol=1e-9, max_iter=1000):\n",
    "#Retourne l'approximation de la racine d'une fonction f sur l'intervalle [a,b] avec une précision de tolérance tol et un nombre maximal d'itérations max_iter.\n",
    "    inc = []\n",
    "    ya, yb = f(a), f(b)\n",
    "    for i in range(itermax):\n",
    "        x = (a*yb - b*ya) / (yb - ya)\n",
    "        fx = f(x)\n",
    "        n = len(inc)\n",
    "        if n > 0:\n",
    "            inc.append(abs(inc[n-1] - abs(x)))\n",
    "        else:\n",
    "            inc.append(abs(x))\n",
    "        if abs(fx) < tol:\n",
    "            return x, i+1, fx, inc\n",
    "        elif fx*ya < 0:\n",
    "            b, yb = x, fx\n",
    "        else:\n",
    "            yb = yb * (ya/(ya + fx)) \n",
    "            a, ya = x, fx\n",
    "    return x, i+1, fx, inc\n",
    "\n",
    "def anderson(f, a, b, tol, itermax):\n",
    "    # Initialiser une liste pour stocker les valeurs de convergence à chaque itération\n",
    "    inc = []\n",
    "    \n",
    "    # Calculer les valeurs de la fonction f aux extrémités de l'intervalle\n",
    "    ya, yb = f(a), f(b)\n",
    "    \n",
    "    # Boucler sur un nombre maximum d'itérations\n",
    "    for i in range(itermax):\n",
    "        # Calculer le point intermédiaire en utilisant l'interpolation linéaire d'Anderson\n",
    "        x = (a*yb - b*ya) / (yb - ya)\n",
    "        fx = f(x)\n",
    "        \n",
    "        # Calculer l'erreur de convergence à chaque itération\n",
    "        n = len(inc)\n",
    "        if n > 0:\n",
    "            inc.append(abs(inc[n-1] - abs(x)))\n",
    "        else:\n",
    "            inc.append(abs(x))\n",
    "        if abs(fx) < tol:\n",
    "            return x, i+1, fx, inc\n",
    "        elif fx*ya < 0:\n",
    "            b, yb = x, fx\n",
    "        else:\n",
    "            yc = (ya - fx) / ya\n",
    "            if (yc <= 0):\n",
    "                yc = 1/2\n",
    "            yb = yb * yc\n",
    "            a, ya = x, fx\n",
    "    return x, i+1, fx, inc"
   ]
  },
  {
   "cell_type": "markdown",
   "metadata": {},
   "source": [
    "**1.** Tester ces fonctions, ainsi que les fonctions `dichotomie` et `regulafalsi`, pour la détermination du zéro de la fonction $f(x)=11x^{11}-1$. On utilisera l'intervalle $\\left[\\frac{1}{10},1\\right]$ comme encadrement initial et une tolérance égale à $10^{-12}$."
   ]
  },
  {
   "cell_type": "code",
   "execution_count": 3,
   "metadata": {},
   "outputs": [
    {
     "data": {
      "image/png": "[encoded data removed]",
      "text/plain": [
       "<Figure size 432x288 with 1 Axes>"
      ]
     },
     "metadata": {
      "needs_background": "light"
     },
     "output_type": "display_data"
    },
    {
     "name": "stdout",
     "output_type": "stream",
     "text": [
      "Le nombre maximum d'itérations a été atteint sans convergence avec la tolérance désirée.\n",
      "regulafalsi [0.8041323554476363, 51, -1.0150780600293174e-05]\n",
      "dichotomie [0.8041330975033818, 40, -3.8647973710226324e-12]\n"
     ]
    },
    {
     "ename": "TypeError",
     "evalue": "cannot unpack non-iterable float object",
     "output_type": "error",
     "traceback": [
      "\u001b[0;31m---------------------------------------------------------------------------\u001b[0m",
      "\u001b[0;31mTypeError\u001b[0m                                 Traceback (most recent call last)",
      "Input \u001b[0;32mIn [3]\u001b[0m, in \u001b[0;36m<cell line: 18>\u001b[0;34m()\u001b[0m\n\u001b[1;32m     16\u001b[0m [zero,iterations,res,inc] \u001b[38;5;241m=\u001b[39m dichotomie(f,a, b, tol, itermax)\n\u001b[1;32m     17\u001b[0m \u001b[38;5;28mprint\u001b[39m(\u001b[38;5;124m\"\u001b[39m\u001b[38;5;124mdichotomie\u001b[39m\u001b[38;5;124m\"\u001b[39m, [zero,iterations,res])\n\u001b[0;32m---> 18\u001b[0m [zero,iterations,res,inc] \u001b[38;5;241m=\u001b[39m \u001b[43millinois\u001b[49m\u001b[43m(\u001b[49m\u001b[43mf\u001b[49m\u001b[43m,\u001b[49m\u001b[43ma\u001b[49m\u001b[43m,\u001b[49m\u001b[43m \u001b[49m\u001b[43mb\u001b[49m\u001b[43m,\u001b[49m\u001b[43m \u001b[49m\u001b[43mtol\u001b[49m\u001b[43m,\u001b[49m\u001b[43m \u001b[49m\u001b[43mitermax\u001b[49m\u001b[43m)\u001b[49m\n\u001b[1;32m     19\u001b[0m \u001b[38;5;28mprint\u001b[39m(\u001b[38;5;124m\"\u001b[39m\u001b[38;5;124millinois\u001b[39m\u001b[38;5;124m\"\u001b[39m, [zero,iterations,res])\n\u001b[1;32m     20\u001b[0m [zero,iterations,res,inc] \u001b[38;5;241m=\u001b[39m pegasus(f,a, b, tol, itermax)\n",
      "Input \u001b[0;32mIn [2]\u001b[0m, in \u001b[0;36millinois\u001b[0;34m(f, a, b, tol, itermax)\u001b[0m\n\u001b[1;32m     76\u001b[0m         b, yb \u001b[38;5;241m=\u001b[39m x, fx\n\u001b[1;32m     77\u001b[0m     \u001b[38;5;28;01melse\u001b[39;00m:\n\u001b[0;32m---> 78\u001b[0m         a, ya \u001b[38;5;241m=\u001b[39m x\n\u001b[1;32m     79\u001b[0m         yb \u001b[38;5;241m=\u001b[39m yb\u001b[38;5;241m/\u001b[39m\u001b[38;5;241m2\u001b[39m\n\u001b[1;32m     80\u001b[0m \u001b[38;5;28;01mreturn\u001b[39;00m x, i\u001b[38;5;241m+\u001b[39m\u001b[38;5;241m1\u001b[39m, fx, inc\n",
      "\u001b[0;31mTypeError\u001b[0m: cannot unpack non-iterable float object"
     ]
    }
   ],
   "source": [
    "def f(x):\n",
    "    return 11 * x ** 11 - 1\n",
    "\n",
    "x = np.linspace(-1, 1, 101)\n",
    "y = f(x)\n",
    "plt.plot(x, y, label='f(x)')\n",
    "plt.legend()\n",
    "plt.show()\n",
    "\n",
    "tol = 10**-12\n",
    "itermax = 50\n",
    "a = 1/10\n",
    "b = 1\n",
    "[zero,iterations,res,inc] = regulafalsi(f,a, b, tol, itermax)\n",
    "print(\"regulafalsi\", [zero,iterations,res])\n",
    "[zero,iterations,res,inc] = dichotomie(f,a, b, tol, itermax)\n",
    "print(\"dichotomie\", [zero,iterations,res])\n",
    "[zero,iterations,res,inc] = illinois(f,a, b, tol, itermax)\n",
    "print(\"illinois\", [zero,iterations,res])\n",
    "[zero,iterations,res,inc] = pegasus(f,a, b, tol, itermax)\n",
    "print(\"pegasus\", [zero,iterations,res])\n",
    "[zero,iterations,res,inc] = anderson(f,a, b, tol, itermax)\n",
    "print(\"anderson\", [zero,iterations,res])"
   ]
  },
  {
   "cell_type": "markdown",
   "metadata": {},
   "source": [
    "**2.** Reprendre la question précédente avec la fonction $f(x)=1-\\frac{1}{x^5}$. On utilisera l'intervalle $\\left[\\frac{1}{2},2\\right]$ comme encadrement initial et une tolérance égale à $10^{-12}$."
   ]
  },
  {
   "cell_type": "code",
   "execution_count": 4,
   "metadata": {
    "scrolled": false
   },
   "outputs": [
    {
     "data": {
      "image/png": "[encoded data removed]",
      "text/plain": [
       "<Figure size 432x288 with 1 Axes>"
      ]
     },
     "metadata": {
      "needs_background": "light"
     },
     "output_type": "display_data"
    },
    {
     "name": "stdout",
     "output_type": "stream",
     "text": [
      "Le nombre maximum d'itérations a été atteint sans convergence avec la tolérance désirée.\n",
      "regulafalsi [1.036719805903685, 51, 0.1649874126859706]\n",
      "dichotomie [1.0000000000002274, 41, 1.1368683772161603e-12]\n",
      "illinois [1.0397883923086735, 50, 0.17723619942527902]\n",
      "pegasus [1.0397883923086735, 50, 0.17723619942527902]\n"
     ]
    }
   ],
   "source": [
    "def f(x):\n",
    "    return 1 - 1 / (x**5)\n",
    "\n",
    "x = np.linspace(1/2, 2, 101)\n",
    "y = f(x)\n",
    "plt.plot(x, y, label='f(x)')\n",
    "plt.legend()\n",
    "plt.show()\n",
    "\n",
    "tol = 10**-12\n",
    "itermax = 50\n",
    "a = 1/2\n",
    "b = 2\n",
    "[zero,iterations,res,inc] = regulafalsi(f,a, b, tol, itermax)\n",
    "print(\"regulafalsi\", [zero,iterations,res])\n",
    "[zero,iterations,res,inc] = dichotomie(f,a, b, tol, itermax)\n",
    "print(\"dichotomie\", [zero,iterations,res])\n",
    "[zero,iterations,res,inc] = illinois(f,a, b, tol, itermax)\n",
    "print(\"illinois\", [zero,iterations,res])\n",
    "[zero,iterations,res,inc] = pegasus(f,a, b, tol, itermax)\n",
    "print(\"pegasus\", [zero,iterations,res])\n",
    "#[zero,iterations,res,inc] = anderson(f,a, b, tol, itermax"
   ]
  },
  {
   "cell_type": "markdown",
   "metadata": {},
   "source": [
    "**3.** Reprendre la question précédente avec la fonction $f(x)=1-\\frac{1}{x}$. On utilisera l'intervalle $\\left[\\frac{1}{2},2\\right]$ comme encadrement initial et une tolérance égale à $10^{-12}$."
   ]
  },
  {
   "cell_type": "code",
   "execution_count": 5,
   "metadata": {},
   "outputs": [
    {
     "data": {
      "image/png": "[encoded data removed]",
      "text/plain": [
       "<Figure size 432x288 with 1 Axes>"
      ]
     },
     "metadata": {
      "needs_background": "light"
     },
     "output_type": "display_data"
    },
    {
     "name": "stdout",
     "output_type": "stream",
     "text": [
      "regulafalsi [1.0000000000009097, 40, 9.097167463778533e-13]\n",
      "dichotomie [1.0000000000009095, 39, 9.094947017729282e-13]\n",
      "illinois [1.0000000000009097, 40, 9.097167463778533e-13]\n",
      "pegasus [1.0000000000009097, 40, 9.097167463778533e-13]\n",
      "anderson [1.0000000000009097, 40, 9.097167463778533e-13]\n"
     ]
    }
   ],
   "source": [
    "def f(x):\n",
    "    return 1 - 1 / x\n",
    "\n",
    "x = np.linspace(1/2, 2, 101)\n",
    "y = f(x)\n",
    "plt.plot(x, y, label='f(x)')\n",
    "plt.legend()\n",
    "plt.show()\n",
    "tol = 10**-12\n",
    "itermax = 50\n",
    "a = 1/2\n",
    "b = 2\n",
    "[zero,iterations,res,inc] = regulafalsi(f,a, b, tol, itermax)\n",
    "print(\"regulafalsi\", [zero,iterations,res])\n",
    "[zero,iterations,res,inc] = dichotomie(f,a, b, tol, itermax)\n",
    "print(\"dichotomie\", [zero,iterations,res])\n",
    "[zero,iterations,res,inc] = illinois(f,a, b, tol, itermax)\n",
    "print(\"illinois\", [zero,iterations,res])\n",
    "[zero,iterations,res,inc] = pegasus(f,a, b, tol, itermax)\n",
    "print(\"pegasus\", [zero,iterations,res])\n",
    "[zero,iterations,res,inc] = anderson(f,a, b, tol, itermax)\n",
    "print(\"anderson\", [zero,iterations,res])"
   ]
  },
  {
   "cell_type": "markdown",
   "metadata": {
    "collapsed": true
   },
   "source": [
    "## Exercice 2 (calcul de $\\sqrt{2}$)\n",
    "Dans cet exercice, on cherche à calculer une approximation de $\\sqrt{2}$ de diverses façons.\n",
    "\n",
    "**1.** On peut tout d'abord obtenir une valeur approchée de $\\sqrt{2}$ en cherchant la racine positive de la fonction polynomiale $f(x)=x^2-2$. Pour cela, appliquer successivement à $f$ les méthodes de dichotomie et de de la fausse position sur l'intervalle $[1,2]$, de Newton-Raphson et de la sécante."
   ]
  },
  {
   "cell_type": "code",
   "execution_count": null,
   "metadata": {
    "scrolled": true
   },
   "outputs": [],
   "source": []
  },
  {
   "cell_type": "markdown",
   "metadata": {
    "collapsed": true
   },
   "source": [
    "**2.** On peut également se servir de méthodes de point fixe, définies à partir des applications suivantes\n",
    "$$\n",
    "g_1(x)=2+x-x^2,\\ g_2(x)=\\frac{2}{x}\\text{ et }g_3(x)=\\frac{x+2}{x+1},\n",
    "$$\n",
    "considérées sur l'intervalle $[1,2]$.\n",
    "\n",
    "**(a)** Parmi les trois fonctions ci-dessus, lesquelles conduisent à une méthode de point fixe convergente ?"
   ]
  },
  {
   "cell_type": "markdown",
   "metadata": {},
   "source": []
  },
  {
   "cell_type": "markdown",
   "metadata": {},
   "source": [
    "**(b)** Vérifier cette affirmation en calculant les vingt premiers termes des suites définies par les relations de récurrence\n",
    "$$\n",
    "x^{(0)}=\\frac{1}{2}\\text{ et },\\forall k\\in\\mathbb{N},\\ x^{(k+1)}=g_i(x^{(k)}),\\ i\\in\\{1,2,3\\}.\n",
    "$$"
   ]
  },
  {
   "cell_type": "code",
   "execution_count": null,
   "metadata": {},
   "outputs": [],
   "source": []
  },
  {
   "cell_type": "markdown",
   "metadata": {},
   "source": [
    "## Exercice 3 (bassins de convergence de la méthode de Newton-Raphson)\n",
    "\n",
    "On s'intéresse à la recherche des solutions complexes de l'équation $z^3=1$ par la méthode de Newton-Raphson. On considère pour cela la fonction d'une variable complexe $f(z)=z^3-1$, qui s'annule en chaque point $z$ du plan complexe tel que $z^3=1$.\n",
    "\n",
    "**1.** &Eacute;crire deux fonctions `f` et `df` renvoyant respectivement les valeurs de $f(z)$ et de $f'(z)$ en un point quelconque $z$ de $\\mathbb{C}$."
   ]
  },
  {
   "cell_type": "code",
   "execution_count": null,
   "metadata": {},
   "outputs": [],
   "source": []
  },
  {
   "cell_type": "markdown",
   "metadata": {},
   "source": [
    "**2.** Pour tout entier naturel $n$ supérieur ou égal à $2$, on définit une grille de pas $h=\\frac{3}{n-1}$ couvrant le carré $[-1,5,1,5]\\times[-1,5\\mathrm{i},1,5\\mathrm{i}]$.\n",
    "\n",
    "&Eacute;crire un programme résolvant, pour une valeur donnée de $n$, l'équation $f(z)=0$ avec une tolérance égale à $10^{-4}$ par la méthode de Newton-Raphson utilisant successivement chaque point de la grille $z_{ij}=-1,5(1+\\mathrm{i})+(i+\\mathrm{i}j)h$, $0\\leq i,j\\leq n$ comme initialisation. Pour chaque couple $(i,j)$, stocker dans le tableau à deux dimensions `nrac` le numéro $k$ ($k=0$, $1$ ou $2$) de la racine cubique complexe de l'unité $e^{\\mathrm{i}\\frac{2k\\pi}{3}}$ vers laquelle la méthode aura convergée à partir de $z_{ij}$ (on posera $k=3$ lorsque la méthode n'a pas convergé après $100$ itérations) et dans le tableau `niter` le nombre d'itérations nécessaires pour atteindre la convergence (en stockant le nombre maximal d'itérations autorisées en l'absence de convergence).\n",
    "\n",
    "Pour automatiser le processus de reconnaissance de la racine approchée par la valeur `zero` renvoyée, on pourra utiliser les instructions suivantes (ci-dessous, `racines` désigne un tableau contenant les trois racines cubiques complexes de l'unité et `tol` est la tolérance du critère d'arrêt de la méthode de Newton-Raphson) :\n",
    "\n",
    "`d=racines-[zero,zero,zero]\n",
    " m,k=min(abs(d)),argmin(abs(d))\n",
    " if (abs(m)>tol):\n",
    "     k=3`\n",
    "     \n",
    "Lancer le programme avec $n$ valant $100$ et une tolérance fixée à $10^{-4}$ (compte tenu du nombre important d'appels de la méthode de Newton--Raphson)."
   ]
  },
  {
   "cell_type": "code",
   "execution_count": null,
   "metadata": {},
   "outputs": [],
   "source": []
  },
  {
   "cell_type": "markdown",
   "metadata": {},
   "source": [
    "**3.** &Agrave; l'aide des commandes `matshow(nrac.T)` et `matshow(niter.T)`, afficher une représentation des bassins de convergence de la méthode."
   ]
  },
  {
   "cell_type": "code",
   "execution_count": null,
   "metadata": {
    "scrolled": true
   },
   "outputs": [],
   "source": []
  },
  {
   "cell_type": "markdown",
   "metadata": {},
   "source": [
    "**4.** Refaire des tracés pour des pas de grille plus petits (c'est-à-dire de plus grandes valeurs de $n$). Que dire des &laquo; frontières &raquo; des trois bassins de convergence de la méthode ?"
   ]
  },
  {
   "cell_type": "code",
   "execution_count": null,
   "metadata": {
    "scrolled": true
   },
   "outputs": [],
   "source": []
  },
  {
   "cell_type": "markdown",
   "metadata": {},
   "source": []
  },
  {
   "cell_type": "code",
   "execution_count": null,
   "metadata": {},
   "outputs": [],
   "source": []
  },
  {
   "cell_type": "code",
   "execution_count": null,
   "metadata": {},
   "outputs": [],
   "source": []
  },
  {
   "cell_type": "code",
   "execution_count": null,
   "metadata": {},
   "outputs": [],
   "source": []
  }
 ],
 "metadata": {
  "kernelspec": {
   "display_name": "Python 3 (ipykernel)",
   "language": "python",
   "name": "python3"
  },
  "language_info": {
   "codemirror_mode": {
    "name": "ipython",
    "version": 3
   },
   "file_extension": ".py",
   "mimetype": "text/x-python",
   "name": "python",
   "nbconvert_exporter": "python",
   "pygments_lexer": "ipython3",
   "version": "3.9.12"
  }
 },
 "nbformat": 4,
 "nbformat_minor": 1
}
