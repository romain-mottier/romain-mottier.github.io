{
 "cells": [
  {
   "cell_type": "markdown",
   "metadata": {},
   "source": [
    "# Feuille de travaux pratiques. Résolution numérique d'équations non linéaires"
   ]
  },
  {
   "cell_type": "code",
   "execution_count": 1,
   "metadata": {
    "scrolled": true
   },
   "outputs": [],
   "source": [
    "# chargement des bibliothèques\n",
    "import numpy as np\n",
    "\n",
    "%matplotlib inline\n",
    "import matplotlib.pyplot as plt"
   ]
  },
  {
   "cell_type": "markdown",
   "metadata": {},
   "source": [
    "## Exercice 1 (méthodes de dichotomie et de Newton-Raphson, d'après A. Quarteroni)\n",
    "\n",
    "Dans cet exercice, on souhaite utiliser sur des exemples différentes méthodes d'approximation d'un zéro d'une fonction.\n",
    "\n",
    "**1.** On considère tout d'abord la fonction\n",
    "$$\n",
    "f(x)=\\frac{x}{2}-\\sin(x)+\\frac{\\pi}{6}-\\frac{\\sqrt{3}}{2}\n",
    "$$\n",
    "sur l'intervalle $\\left[-\\frac{\\pi}{2},\\pi\\right]$, en observant qu'elle y possède deux zéros.\n",
    "\n",
    "**(a)** &Eacute;crire une fonction `f` prenant en entrée un réel $x$ et renvoyant la valeur de $f(x)$."
   ]
  },
  {
   "cell_type": "code",
   "execution_count": 2,
   "metadata": {},
   "outputs": [
    {
     "name": "stdout",
     "output_type": "stream",
     "text": [
      "-0.6838976129940363\n"
     ]
    }
   ],
   "source": [
    "def f(x):\n",
    "    return x/2 - np.sin(x) + np.pi/6 - np.sqrt(3)/2\n",
    "\n",
    "def f_prime(x):\n",
    "    return 1/2 - np.cos(x)\n",
    "\n",
    "print(f(1))"
   ]
  },
  {
   "cell_type": "markdown",
   "metadata": {},
   "source": [
    "#**(b)** À l'aide du graphe de la fonction $f$ sur $\\left[-\\frac{\\pi}{2},\\pi\\right]$, expliquer pourquoi la [méthode de dichotomie](http://fr.wikipedia.org/wiki/M%C3%A9thode_de_dichotomie) ne peut être utilisée que pour approcher l'un des deux zéros de $f$, que l'on notera $\\xi$ dans la suite."
   ]
  },
  {
   "cell_type": "code",
   "execution_count": 3,
   "metadata": {},
   "outputs": [
    {
     "data": {
      "image/png": "[encoded data removed]",
      "text/plain": [
       "<Figure size 432x288 with 1 Axes>"
      ]
     },
     "metadata": {
      "needs_background": "light"
     },
     "output_type": "display_data"
    }
   ],
   "source": [
    "x=np.linspace(-np.pi/2, np.pi, 101)\n",
    "y=f(x)\n",
    "plt.plot(x, y, label='f(x)')\n",
    "\n",
    "plt.title('Graphe de f')\n",
    "\n",
    "plt.legend()\n",
    "plt.show()\n",
    "\n",
    "# La méthode de dichotomie va converger vers un des deux zéros"
   ]
  },
  {
   "cell_type": "markdown",
   "metadata": {},
   "source": []
  },
  {
   "cell_type": "markdown",
   "metadata": {},
   "source": [
    "**(c)** Écrire une fonction `[zero,iter,res,inc]=dichotomie(f,a,b,tol,itermax)` mettant en &oelig;uvre la méthode de dichotomie pour l'approximation d'un zéro d'une fonction $f$ donnée, compris dans un intervalle $[a,b]$ tel que $f(a)f(b)<0$. En plus de la fonction et des bornes de l'intervalle, les autre paramètres d'entrée seront une tolérance `tol` pour le critère d'arrêt de la méthode et un nombre maximum `itermax` d'itérations à effectuer. Elle reverra en sortie l'approximation du zéro obtenue `zero`, le nombre d'itérations\n",
    "nécessaire au calcul de cette approximation `iter`, la valeur `res` de la fonction $f$ en cette approximationt et un vecteur `inc` contenant la suite des valeurs absolues des différences entre deux approximations successives (dite suite des incréments). On réfléchira au choix du critère d'arrêt à employer."
   ]
  },
  {
   "cell_type": "code",
   "execution_count": 4,
   "metadata": {},
   "outputs": [
    {
     "name": "stdout",
     "output_type": "stream",
     "text": [
      "[2.246005591005087, 30, 1.9206053414322355e-09]\n"
     ]
    }
   ],
   "source": [
    "def dichotomie(f, a, b, tol, itermax):\n",
    "    inc = []\n",
    "    for i in range(0, itermax):\n",
    "        fa = f(a)\n",
    "        fb = f(b)\n",
    "        x = (a + b)/2\n",
    "        n = len(inc)\n",
    "        fx = f(x)\n",
    "        if n > 0:\n",
    "            inc.append(abs(inc[n-1] - abs(x)))\n",
    "        else: \n",
    "            inc.append(abs(x))\n",
    "        if abs(fx) < tol:\n",
    "            return x, i+1, fx, inc\n",
    "        if fa*fx < 0:\n",
    "            b = x\n",
    "        else: \n",
    "            a = x\n",
    "    return x, i+1, fx, inc\n",
    "            \n",
    "tol = 0.00000001\n",
    "itermax = 10000\n",
    "[zero,iterations,res,inc] = dichotomie(f,-10, 10, tol, itermax)\n",
    "print([zero,iterations,res])"
   ]
  },
  {
   "cell_type": "markdown",
   "metadata": {},
   "source": [
    "**(d)** Utiliser la fonction `dichotomie` pour calculer une approximation de $\\xi$ avec une tolérance égale à $10^{-10}$ pour le critère d'arrêt à partir du choix d'un intervalle $[a,b]$ convenable."
   ]
  },
  {
   "cell_type": "code",
   "execution_count": 5,
   "metadata": {},
   "outputs": [
    {
     "name": "stdout",
     "output_type": "stream",
     "text": [
      "2.2460055892224773 40 -8.493861169966976e-11\n",
      "[0.0, 50.0, 25.0, 12.5, 6.25, 3.125, 1.5625, 0.78125, 1.171875, 0.9765625, 1.26953125, 0.927734375, 1.2939453125, 0.93994140625, 1.300048828125, 0.9429931640625, 1.30157470703125, 0.943756103515625, 1.3019561767578125, 0.9439468383789062, 1.3020515441894531, 0.9439945220947266, 1.302027702331543, 0.9439826011657715, 1.3020217418670654, 0.9439855813980103, 1.302020251750946, 0.9439848363399506, 1.302020624279976, 0.9439850226044655, 1.3020205311477184, 0.9439850691705942, 1.302020507864654, 0.9439850808121264, 1.3020205136854202, 0.9439850779017434, 1.3020205122302286, 0.9439850771741476, 1.3020205118664308, 0.9439850773560465]\n"
     ]
    }
   ],
   "source": [
    "tol = 10**-10\n",
    "zero,iterations,res,inc=dichotomie(f,-100, 100,tol,itermax)\n",
    "print(zero,iterations,res)\n",
    "print(inc)"
   ]
  },
  {
   "cell_type": "markdown",
   "metadata": {},
   "source": [
    "**(e)** Au moyen de la commande `semilogy`, tracer le graphe de la suite des incréments $|x^{(k+1)}-x^{(k)}|$ en fonction de $k$ avec une échelle semilogarithmique et déterminer la loi selon laquelle ces quantités tendent vers $0$ quand $k$ tend vers l'infini."
   ]
  },
  {
   "cell_type": "code",
   "execution_count": null,
   "metadata": {
    "scrolled": true
   },
   "outputs": [],
   "source": [
    "x=np.arange(1, len(inc)+1)\n",
    "plt.semilogy(x, inc, label='f(x)')\n",
    "\n",
    "plt.title('Graphe de la suite des incréments')\n",
    "\n",
    "plt.legend()\n",
    "plt.show()"
   ]
  },
  {
   "cell_type": "markdown",
   "metadata": {},
   "source": []
  },
  {
   "cell_type": "markdown",
   "metadata": {},
   "source": [
    "**(f)** Écrire une fonction `[zero,iter,res,inc]=newton(f,df,x0,tol,itermax)` qui met en &oelig;uvre la [méthode de Newton-Raphson](http://fr.wikipedia.org/wiki/M%C3%A9thode_de_Newton) pour l'approximation d'un zéro d'une fonction dérivable $f$ donnée. Les paramètres d'entrée `df`, `x0`, `tol` et `itermax` représenteront respectivement la fonction correspondant à la fonction dérivée $f'$, l'initialisation de la suite des approximations, la tolérance pour le critère d'arrêt de la méthode et le nombre maximum d'itérations à effectuer. En sortie, les paramètres seront identiques à ceux de la fonction `dichotomie`. La encore, on réfléchira au choix du critère d'arrêt à employer."
   ]
  },
  {
   "cell_type": "code",
   "execution_count": 7,
   "metadata": {},
   "outputs": [
    {
     "name": "stdout",
     "output_type": "stream",
     "text": [
      "[2.246005675842413, 4, 9.736774764235179e-08]\n"
     ]
    }
   ],
   "source": [
    "def newton(f, df, x0, tol, itermax):\n",
    "    inc = []\n",
    "    for i in range(itermax):\n",
    "        x0 = x0 - f(x0)/df(x0)\n",
    "        n = len(inc)\n",
    "        fx = f(x0)\n",
    "        if n > 0:\n",
    "            inc.append(abs(abs(inc[n-1]) - abs(x0)))\n",
    "        else: \n",
    "            inc.append(abs(x0))\n",
    "        if abs(fx) < tol:\n",
    "            return x0, i+1, fx, inc\n",
    "        \n",
    "    return x0, i+1, fx, inc\n",
    "            \n",
    "tol = 0.000001\n",
    "itermax = 10000\n",
    "[zero,iterations,res,inc] = newton(f,f_prime, np.pi/2, tol, itermax)\n",
    "print([zero,iterations,res])\n",
    "        "
   ]
  },
  {
   "cell_type": "markdown",
   "metadata": {},
   "source": [
    "**(g)** Calculer des approximations des deux zéros $\\xi$ et $\\zeta$ de la fonction $f$ avec la méthode de Newton-Raphson, en prenant une tolérance égale à $10^{-10}$ pour le critère d'arrêt et comme initialisations le point $\\pi$ pour $\\xi$ et $-\\frac{\\pi}{2}$ pour $\\zeta$. Comparer les nombres d'itérations effectuées pour obtenir une approximation de chacun des zéros. Pourquoi sont-ils très différents ? Comparer également les graphes des suites des incréments obtenus avec la commande `semilogy`."
   ]
  },
  {
   "cell_type": "code",
   "execution_count": 8,
   "metadata": {
    "scrolled": true
   },
   "outputs": [
    {
     "name": "stdout",
     "output_type": "stream",
     "text": [
      "[2.2460055892984685, 4, 5.561107130347409e-13]\n",
      "[-1.048288763440561, 9, -5.157155750223907e-07]\n",
      "[1.3151467436277204, 0.1315149115741061, 0.9846596501570777, 0.0972374508838092, 0.9673655083194119, 0.08854903107226297, 0.9630106333928754, 0.08636888531946152, 0.9619198781210996]\n"
     ]
    },
    {
     "data": {
      "image/png": "[encoded data removed]",
      "text/plain": [
       "<Figure size 432x288 with 1 Axes>"
      ]
     },
     "metadata": {
      "needs_background": "light"
     },
     "output_type": "display_data"
    }
   ],
   "source": [
    "tol = 0.000001\n",
    "itermax = 10000\n",
    "\n",
    "[zero,iterations,res,inc] = newton(f,f_prime, np.pi, tol, itermax)\n",
    "print([zero,iterations,res])\n",
    "\n",
    "x=np.arange(1, len(inc)+1)\n",
    "plt.semilogy(x, inc, label='x0 = pi')\n",
    "\n",
    "plt.title('Méthode Newton-Raphson')\n",
    "\n",
    "[zero,iterations,res,inc] = newton(f,f_prime, -np.pi/2, tol, itermax)\n",
    "print([zero,iterations,res])\n",
    "\n",
    "x=np.arange(1, len(inc)+1)\n",
    "plt.semilogy(x, inc, label='x0 = -pi/2')\n",
    "\n",
    "plt.legend()\n",
    "print(inc)\n",
    "\n",
    "plt.show()"
   ]
  },
  {
   "cell_type": "markdown",
   "metadata": {},
   "source": []
  },
  {
   "cell_type": "markdown",
   "metadata": {},
   "source": [
    "**(h)** On cherche à réduire le nombre d'itérations nécessaires à l'obtention d'une approximation du zéro négatif $\\zeta$ de la fonction $f$. La méthode de Newton-Raphson modifiée, basée sur la modification suivante de la relation de récurrence de la méthode de Newton-Raphson\n",
    "$$\n",
    "\\forall k\\in\\mathbb{N},\\ x^{(k+1)}=x^{(k)}−2\\frac{f(x^{(k)})}{f'(x^{(k)})},\n",
    "$$\n",
    "a une convergence quadratique si $f'(\\zeta)=0$. Mettre en &oelig;uvre cette méthode dans une fonction `modnewton` et voir combien d'itérations sont nécessaires pour qu'elle fournisse une approximation de $\\zeta$ avec une tolérance égale à $10^{-10}$ pour le critère d'arrêt."
   ]
  },
  {
   "cell_type": "code",
   "execution_count": 9,
   "metadata": {},
   "outputs": [
    {
     "name": "stdout",
     "output_type": "stream",
     "text": [
      "[-1.047206078066725, 16, -3.14833714654128e-11]\n",
      "[-1.0472119021804789, 2, -8.91795526314354e-11]\n"
     ]
    }
   ],
   "source": [
    "def modnewton(f, df, x0, tol, itermax):\n",
    "    inc = []\n",
    "    for i in range(itermax):\n",
    "        x0 = x0 - 2*f(x0)/df(x0)\n",
    "        n = len(inc)\n",
    "        fx = f(x0)\n",
    "        if n > 0:\n",
    "            inc.append(abs(abs(inc[n-1]) - abs(x0)))\n",
    "        else: \n",
    "            inc.append(abs(x0))\n",
    "        if abs(fx) < tol:\n",
    "            return x0, i+1, fx, inc\n",
    "        \n",
    "    return x0, i+1, fx, inc\n",
    "            \n",
    "tol = 10**-10\n",
    "itermax = 10000\n",
    "[zero,iterations,res,inc] = newton(f,f_prime, -np.pi/2, tol, itermax)\n",
    "print([zero,iterations,res])\n",
    "\n",
    "[zero,iterations,res,inc] = modnewton(f,f_prime, -np.pi/2, tol, itermax)\n",
    "print([zero,iterations,res])"
   ]
  },
  {
   "cell_type": "markdown",
   "metadata": {},
   "source": [
    "**2.** On considère à présent la fonction $g(x)=x+e^{-20\\,x^2}\\cos(x)$, dont on veut approcher les zéros par la méthode de Newton-Raphson.\n",
    "\n",
    "**(a)** &Eacute;crire une fonction `g` pour la fonction $g$ et une fonction `dg` pour sa dérivée $g'$."
   ]
  },
  {
   "cell_type": "code",
   "execution_count": 10,
   "metadata": {},
   "outputs": [],
   "source": [
    "def g(x):\n",
    "    return x + np.exp(-20*(x**2)) * np.cos(x)\n",
    "\n",
    "def g_prime(x):\n",
    "    return 1 - 40 * x * np.exp(-20*(x**2)) * np.cos(x) - np.exp(-20*(x**2)) * np.sin(x)"
   ]
  },
  {
   "cell_type": "markdown",
   "metadata": {},
   "source": [
    "**(b)** Utiliser la fonction `newton` pour essayer d'approcher d'un zéro de $g$ en prenant $x^{(0)}=0$ pour initialisation et une tolérance égale à $10^{-10}$ pour le critère d'arrêt."
   ]
  },
  {
   "cell_type": "code",
   "execution_count": 11,
   "metadata": {
    "scrolled": true
   },
   "outputs": [
    {
     "name": "stdout",
     "output_type": "stream",
     "text": [
      "[-4.739753078908393e-08, 10000, 0.9999999526024231]\n"
     ]
    }
   ],
   "source": [
    "tol = 10**-10\n",
    "itermax = 10000\n",
    "[zero,iterations,res,inc] = newton(g,g_prime, 0, tol, itermax)\n",
    "print([zero,iterations,res])"
   ]
  },
  {
   "cell_type": "markdown",
   "metadata": {},
   "source": [
    "**(c)** Tracer le graphe de $g$ sur l'intervalle $[-1,1]$ et tenter de donner une explication qualitative du fait la méthode de Newton-Raphson ne converge pas avec l'initialisation précédente."
   ]
  },
  {
   "cell_type": "code",
   "execution_count": 12,
   "metadata": {
    "scrolled": true
   },
   "outputs": [
    {
     "data": {
      "image/png": "[encoded data removed]",
      "text/plain": [
       "<Figure size 432x288 with 1 Axes>"
      ]
     },
     "metadata": {
      "needs_background": "light"
     },
     "output_type": "display_data"
    }
   ],
   "source": [
    "x = np.linspace(-1, 1, 101)\n",
    "y = g(x)\n",
    "plt.plot(x, y, label='g (x)')\n",
    "\n",
    "\n",
    "plt.title('Graphe de g')\n",
    "\n",
    "plt.legend()\n",
    "plt.show()"
   ]
  },
  {
   "cell_type": "markdown",
   "metadata": {},
   "source": []
  },
  {
   "cell_type": "markdown",
   "metadata": {},
   "source": [
    "**(d)** Appliquer cinq intérations de la méthode de dichotomie à la fonction $g$ sur l'intervalle $[-1,1]$ et utiliser le point obtenu comme initialisation de la méthode de Newton-Raphson pour la recherche d'un zéro de $g$."
   ]
  },
  {
   "cell_type": "code",
   "execution_count": 13,
   "metadata": {
    "scrolled": true
   },
   "outputs": [
    {
     "name": "stdout",
     "output_type": "stream",
     "text": [
      "[-0.3125, 5, -0.17753896654591164]\n",
      "[-0.2572981508039589, 4, 1.2684298056342413e-13]\n"
     ]
    }
   ],
   "source": [
    "tol = 0.00000001\n",
    "itermax = 5\n",
    "[zero,iterations,res,inc] = dichotomie(g,-1, 1, tol, itermax)\n",
    "print([zero,iterations,res])\n",
    "\n",
    "tol = 10**-10\n",
    "itermax = 10000\n",
    "[zero,iterations,res,inc] = newton(g,g_prime, zero, tol, itermax)\n",
    "print([zero,iterations,res])"
   ]
  },
  {
   "cell_type": "markdown",
   "metadata": {},
   "source": [
    "**3.** Modifier la fonction `dichotomie` pour obtenir une fonction\n",
    "`regulafalsi` mettant en &oelig;uvre la [méthode de la fausse position](http://fr.wikipedia.org/wiki/M%C3%A9thode_de_la_fausse_position). De la même manière,\n",
    "modifier la fonction `newton` pour obtenir une fonction `secante` mettant en &oelig;uvre la [méthode de la sécante](http://fr.wikipedia.org/wiki/M%C3%A9thode_de_la_s%C3%A9cante)."
   ]
  },
  {
   "cell_type": "code",
   "execution_count": 14,
   "metadata": {},
   "outputs": [
    {
     "name": "stdout",
     "output_type": "stream",
     "text": [
      "[-0.2572981509779601, 10, -6.464261903538215e-10]\n",
      "[-0.2572981512381366, 12, -1.6131890823167794e-09]\n"
     ]
    }
   ],
   "source": [
    "def regulafalsi(f, a, b, tol, itermax):\n",
    "    inc = []\n",
    "    for i in range(0, itermax):\n",
    "        fa = f(a)\n",
    "        fb = f(b)\n",
    "        x = a - ((a - b)*fa)/(fa-fb)\n",
    "        n = len(inc)\n",
    "        fx = f(x)\n",
    "        if n > 0:\n",
    "            inc.append(abs(inc[n-1] - abs(x)))\n",
    "        else: \n",
    "            inc.append(abs(x))\n",
    "        if abs(fx) < tol:\n",
    "            return x, i+1, fx, inc\n",
    "        if fa*fx < 0:\n",
    "            b = x\n",
    "        else: \n",
    "            a = x\n",
    "    return x, i+1, fx, inc\n",
    "\n",
    "tol = 0.00000001\n",
    "itermax = 10000\n",
    "[zero,iterations,res,inc] = regulafalsi(g,-1, 1, tol, itermax)\n",
    "print([zero,iterations,res])\n",
    "\n",
    "def secante(f, x_1, x0, tol, itermax):\n",
    "    inc = []\n",
    "    for i in range(itermax):\n",
    "        temp = x0\n",
    "        x0 = x0 - ((x0-x_1)*f(x0))/(f(x0) - f(x_1))\n",
    "        x_1 = temp\n",
    "        n = len(inc)\n",
    "        fx = f(x0)\n",
    "        if n > 0:\n",
    "            inc.append(abs(abs(inc[n-1]) - abs(x0)))\n",
    "        else: \n",
    "            inc.append(abs(x0))\n",
    "        if abs(fx) < tol:\n",
    "            return x0, i+1, fx, inc\n",
    "        \n",
    "    return x0, i+1, fx, inc\n",
    "            \n",
    "tol = 0.000001\n",
    "itermax = 10000\n",
    "[zero,iterations,res,inc] = secante(g, 0.2, 0.5, tol, itermax)\n",
    "print([zero,iterations,res])\n",
    "        "
   ]
  },
  {
   "cell_type": "markdown",
   "metadata": {},
   "source": [
    "## Exercice bonus (variantes de la méthode de la fausse position)"
   ]
  },
  {
   "cell_type": "markdown",
   "metadata": {},
   "source": [
    "Le phénomène de rétention d'une des bornes d'encadrement observé lors de l'application de la méthode de la fausse position à la résolution numérique d'une équation non linéaire dans $\\mathbb{R}$ a pour effet de diminuer sa vitesse de convergence, ce qui la rend parfois moins efficace que la méthode de dichotomie. Pour corriger ce défaut, plusieurs variantes ont été introduites. On propose dans cet exercice de les tester sur quelques exemples.\n",
    "\n",
    "Pour décrire de manière explicite ces modifications, on adopte les notations suivantes. On suppose disposer initialement d'un intervalle $[x^{(0)},x^{(1)}]$ non vide de $\\mathbb{R}$ et d'une application continue $f$ de $[x^{(0)},x^{(1)}]$ dans $\\mathbb{R}$, telle que $f(x^{(0)})f(x^{(1)})<0$, ce qui assure l'existence d'un zéro $\\xi$ de $f$. On pose alors $y^{(0)}=f(x^{(0)})$ et $y^{(1)}=f(x^{(1)})$. À l'étape $k$, avec $k$ un entier naturel non nul, on pose\n",
    "$$\n",
    "x^{(k+1)}=\\frac{x^{(k-1)}y^{(k)}-x^{(k)}y^{(k-1)}}{y^{(k)}-y^{(k-1)}}\\text{ et }y^{(k+1)}=f(x^{(k+1)}).\n",
    "$$\n",
    "Si $y^{(k+1)}y^{(k)}<0$, on passe à l'étape suivante. En revanche, si $y^{(k+1)}y^{(k)}>0$, on fait la mise à jour suivante\n",
    "$$\n",
    "x^{(k)}=x^{(k-1)}\\text{ et }y^{(k)}=\\alpha\\,y^{(k-1)}\n",
    "$$\n",
    "avant de passer à l'étape suivante, avec\n",
    "* $\\alpha=\\frac{1}{2}$ pour la <a href=\"https://doi.org/10.1007/BF01934364\">méthode Illinois</a>,\n",
    "* $\\alpha=\\frac{y^{(k)}}{y^{(k)}+y^{(k+1)}}$ pour la <a href=\"https://doi.org/10.1007/BF01932959\">méthode Pegasus</a>,\n",
    "* $\\alpha=\\frac{y^{(k)}-y^{(k+1)}}{y^{(k)}}$ si cette quantité est strictement positive, $\\alpha=\\frac{1}{2}$ sinon, pour la <a href=\"https://doi.org/10.1007/BF01951936\">méthode d'Anderson-Björck</a>.\n",
    "\n",
    "**1.** Sur le modèle de la fonction `regulafalsi` écrite dans l'exercice précédent, écrire des fonctions mettant en &oelig;uvre chacune des variantes données ci-dessus."
   ]
  },
  {
   "cell_type": "code",
   "execution_count": 28,
   "metadata": {},
   "outputs": [],
   "source": [
    "def ilinois(f, a, b, tol, itermax):\n",
    "    inc = []\n",
    "    ya, yb = f(a), f(b)\n",
    "    for i in range(itermax):\n",
    "        x = (a*yb - b*ya) / (yb - ya)\n",
    "        fx = f(x)\n",
    "        n = len(inc)\n",
    "        if n > 0:\n",
    "            inc.append(abs(inc[n-1] - abs(x)))\n",
    "        else:\n",
    "            inc.append(abs(x))\n",
    "        if abs(fx) < tol:\n",
    "            return x, i+1, fx, inc\n",
    "        elif fx*ya < 0:\n",
    "            b, yb = x, fx\n",
    "        else:\n",
    "            a, ya = x, fx\n",
    "            yb = yb/2\n",
    "    return x, i+1, fx, inc\n",
    "\n",
    "def pegasus(f, a, b, tol, itermax):\n",
    "    inc = []\n",
    "    ya, yb = f(a), f(b)\n",
    "    for i in range(itermax):\n",
    "        x = (a*yb - b*ya) / (yb - ya)\n",
    "        fx = f(x)\n",
    "        n = len(inc)\n",
    "        if n > 0:\n",
    "            inc.append(abs(inc[n-1] - abs(x)))\n",
    "        else:\n",
    "            inc.append(abs(x))\n",
    "        if abs(fx) < tol:\n",
    "            return x, i+1, fx, inc\n",
    "        elif fx*ya < 0:\n",
    "            b, yb = x, fx\n",
    "        else:\n",
    "            yb = yb * (ya/(ya + fx)) \n",
    "            a, ya = x, fx\n",
    "    return x, i+1, fx, inc\n",
    "\n",
    "def anderson(f, a, b, tol, itermax):\n",
    "    inc = []\n",
    "    ya, yb = f(a), f(b)\n",
    "    for i in range(itermax):\n",
    "        x = (a*yb - b*ya) / (yb - ya)\n",
    "        fx = f(x)\n",
    "        n = len(inc)\n",
    "        if n > 0:\n",
    "            inc.append(abs(inc[n-1] - abs(x)))\n",
    "        else:\n",
    "            inc.append(abs(x))\n",
    "        if abs(fx) < tol:\n",
    "            return x, i+1, fx, inc\n",
    "        elif fx*ya < 0:\n",
    "            b, yb = x, fx\n",
    "        else:\n",
    "            yc = (ya - fx) / ya\n",
    "            if (yc <= 0):\n",
    "                yc = 1/2\n",
    "            yb = yb * yc\n",
    "            a, ya = x, fx\n",
    "    return x, i+1, fx, inc"
   ]
  },
  {
   "cell_type": "markdown",
   "metadata": {},
   "source": [
    "**1.** Tester ces fonctions, ainsi que les fonctions `dichotomie` et `regulafalsi`, pour la détermination du zéro de la fonction $f(x)=11x^{11}-1$. On utilisera l'intervalle $\\left[\\frac{1}{10},1\\right]$ comme encadrement initial et une tolérance égale à $10^{-12}$."
   ]
  },
  {
   "cell_type": "code",
   "execution_count": 37,
   "metadata": {},
   "outputs": [
    {
     "data": {
      "image/png": "[encoded data removed]",
      "text/plain": [
       "<Figure size 432x288 with 1 Axes>"
      ]
     },
     "metadata": {
      "needs_background": "light"
     },
     "output_type": "display_data"
    },
    {
     "name": "stdout",
     "output_type": "stream",
     "text": [
      "regulafalsi [0.8041330975035972, 103, -9.18487508272392e-13]\n",
      "dichotomie [0.8041330975036887, 43, 3.3306690738754696e-13]\n",
      "illinois [0.8041330975036644, 14, 4.440892098500626e-16]\n",
      "pegasus [0.8041330975036641, 11, -2.6645352591003757e-15]\n",
      "anderson [0.8041330975036644, 24, 4.440892098500626e-16]\n"
     ]
    }
   ],
   "source": [
    "def f(x):\n",
    "    return 11 * x ** 11 - 1\n",
    "\n",
    "x = np.linspace(-1, 1, 101)\n",
    "y = f(x)\n",
    "plt.plot(x, y, label='f (x)')\n",
    "\n",
    "\n",
    "plt.title('Graphe de f')\n",
    "\n",
    "plt.legend()\n",
    "plt.show()\n",
    "\n",
    "#TESTS\n",
    "\n",
    "tol = 10**-12\n",
    "itermax = 10000\n",
    "a = 1/10\n",
    "b = 1\n",
    "[zero,iterations,res,inc] = regulafalsi(f,a, b, tol, itermax)\n",
    "print(\"regulafalsi\", [zero,iterations,res])\n",
    "[zero,iterations,res,inc] = dichotomie(f,a, b, tol, itermax)\n",
    "print(\"dichotomie\", [zero,iterations,res])\n",
    "[zero,iterations,res,inc] = illinois(f,a, b, tol, itermax)\n",
    "print(\"illinois\", [zero,iterations,res])\n",
    "[zero,iterations,res,inc] = pegasus(f,a, b, tol, itermax)\n",
    "print(\"pegasus\", [zero,iterations,res])\n",
    "[zero,iterations,res,inc] = anderson(f,a, b, tol, itermax)\n",
    "print(\"anderson\", [zero,iterations,res])"
   ]
  },
  {
   "cell_type": "markdown",
   "metadata": {},
   "source": [
    "**2.** Reprendre la question précédente avec la fonction $f(x)=1-\\frac{1}{x^5}$. On utilisera l'intervalle $\\left[\\frac{1}{2},2\\right]$ comme encadrement initial et une tolérance égale à $10^{-12}$."
   ]
  },
  {
   "cell_type": "code",
   "execution_count": 38,
   "metadata": {
    "scrolled": false
   },
   "outputs": [
    {
     "data": {
      "image/png": "[encoded data removed]",
      "text/plain": [
       "<Figure size 432x288 with 1 Axes>"
      ]
     },
     "metadata": {
      "needs_background": "light"
     },
     "output_type": "display_data"
    },
    {
     "name": "stdout",
     "output_type": "stream",
     "text": [
      "regulafalsi [1.0000000000001996, 360, 9.980904991380157e-13]\n",
      "dichotomie [0.9999999999998863, 42, -5.684341886080801e-13]\n",
      "illinois [1.0000000000001839, 361, 9.192646643896296e-13]\n",
      "pegasus [1.0000000000001839, 361, 9.192646643896296e-13]\n",
      "anderson [1.0000000000001839, 361, 9.192646643896296e-13]\n"
     ]
    }
   ],
   "source": [
    "def f(x):\n",
    "    return 1 - 1 / (x**5)\n",
    "\n",
    "x = np.linspace(1/2, 2, 101)\n",
    "y = f(x)\n",
    "plt.plot(x, y, label='f (x)')\n",
    "\n",
    "\n",
    "plt.title('Graphe de f')\n",
    "\n",
    "plt.legend()\n",
    "plt.show()\n",
    "\n",
    "#TESTS\n",
    "\n",
    "tol = 10**-12\n",
    "itermax = 10000\n",
    "a = 1/2\n",
    "b = 2\n",
    "[zero,iterations,res,inc] = regulafalsi(f,a, b, tol, itermax)\n",
    "print(\"regulafalsi\", [zero,iterations,res])\n",
    "[zero,iterations,res,inc] = dichotomie(f,a, b, tol, itermax)\n",
    "print(\"dichotomie\", [zero,iterations,res])\n",
    "[zero,iterations,res,inc] = illinois(f,a, b, tol, itermax)\n",
    "print(\"illinois\", [zero,iterations,res])\n",
    "[zero,iterations,res,inc] = pegasus(f,a, b, tol, itermax)\n",
    "print(\"pegasus\", [zero,iterations,res])\n",
    "[zero,iterations,res,inc] = anderson(f,a, b, tol, itermax)\n",
    "print(\"anderson\", [zero,iterations,res])"
   ]
  },
  {
   "cell_type": "markdown",
   "metadata": {},
   "source": [
    "**3.** Reprendre la question précédente avec la fonction $f(x)=1-\\frac{1}{x}$. On utilisera l'intervalle $\\left[\\frac{1}{2},2\\right]$ comme encadrement initial et une tolérance égale à $10^{-12}$."
   ]
  },
  {
   "cell_type": "code",
   "execution_count": 39,
   "metadata": {},
   "outputs": [
    {
     "data": {
      "image/png": "[encoded data removed]",
      "text/plain": [
       "<Figure size 432x288 with 1 Axes>"
      ]
     },
     "metadata": {
      "needs_background": "light"
     },
     "output_type": "display_data"
    },
    {
     "name": "stdout",
     "output_type": "stream",
     "text": [
      "regulafalsi [1.0000000000009095, 40, 9.094947017729282e-13]\n",
      "dichotomie [1.0000000000009095, 39, 9.094947017729282e-13]\n",
      "illinois [1.0000000000009097, 40, 9.097167463778533e-13]\n",
      "pegasus [1.0000000000009097, 40, 9.097167463778533e-13]\n",
      "anderson [1.0000000000009097, 40, 9.097167463778533e-13]\n"
     ]
    }
   ],
   "source": [
    "def f(x):\n",
    "    return 1 - 1 / x\n",
    "\n",
    "x = np.linspace(1/2, 2, 101)\n",
    "y = f(x)\n",
    "plt.plot(x, y, label='f (x)')\n",
    "\n",
    "\n",
    "plt.title('Graphe de f')\n",
    "\n",
    "plt.legend()\n",
    "plt.show()\n",
    "\n",
    "#TESTS\n",
    "\n",
    "tol = 10**-12\n",
    "itermax = 10000\n",
    "a = 1/2\n",
    "b = 2\n",
    "[zero,iterations,res,inc] = regulafalsi(f,a, b, tol, itermax)\n",
    "print(\"regulafalsi\", [zero,iterations,res])\n",
    "[zero,iterations,res,inc] = dichotomie(f,a, b, tol, itermax)\n",
    "print(\"dichotomie\", [zero,iterations,res])\n",
    "[zero,iterations,res,inc] = illinois(f,a, b, tol, itermax)\n",
    "print(\"illinois\", [zero,iterations,res])\n",
    "[zero,iterations,res,inc] = pegasus(f,a, b, tol, itermax)\n",
    "print(\"pegasus\", [zero,iterations,res])\n",
    "[zero,iterations,res,inc] = anderson(f,a, b, tol, itermax)\n",
    "print(\"anderson\", [zero,iterations,res])"
   ]
  },
  {
   "cell_type": "markdown",
   "metadata": {
    "collapsed": true
   },
   "source": [
    "## Exercice 2 (calcul de $\\sqrt{2}$)\n",
    "Dans cet exercice, on cherche à calculer une approximation de $\\sqrt{2}$ de diverses façons.\n",
    "\n",
    "**1.** On peut tout d'abord obtenir une valeur approchée de $\\sqrt{2}$ en cherchant la racine positive de la fonction polynomiale $f(x)=x^2-2$. Pour cela, appliquer successivement à $f$ les méthodes de dichotomie et de de la fausse position sur l'intervalle $[1,2]$, de Newton-Raphson et de la sécante."
   ]
  },
  {
   "cell_type": "code",
   "execution_count": null,
   "metadata": {
    "scrolled": true
   },
   "outputs": [],
   "source": []
  },
  {
   "cell_type": "markdown",
   "metadata": {
    "collapsed": true
   },
   "source": [
    "**2.** On peut également se servir de méthodes de point fixe, définies à partir des applications suivantes\n",
    "$$\n",
    "g_1(x)=2+x-x^2,\\ g_2(x)=\\frac{2}{x}\\text{ et }g_3(x)=\\frac{x+2}{x+1},\n",
    "$$\n",
    "considérées sur l'intervalle $[1,2]$.\n",
    "\n",
    "**(a)** Parmi les trois fonctions ci-dessus, lesquelles conduisent à une méthode de point fixe convergente ?"
   ]
  },
  {
   "cell_type": "markdown",
   "metadata": {},
   "source": []
  },
  {
   "cell_type": "markdown",
   "metadata": {},
   "source": [
    "**(b)** Vérifier cette affirmation en calculant les vingt premiers termes des suites définies par les relations de récurrence\n",
    "$$\n",
    "x^{(0)}=\\frac{1}{2}\\text{ et },\\forall k\\in\\mathbb{N},\\ x^{(k+1)}=g_i(x^{(k)}),\\ i\\in\\{1,2,3\\}.\n",
    "$$"
   ]
  },
  {
   "cell_type": "code",
   "execution_count": null,
   "metadata": {},
   "outputs": [],
   "source": []
  },
  {
   "cell_type": "markdown",
   "metadata": {},
   "source": [
    "## Exercice 3 (bassins de convergence de la méthode de Newton-Raphson)\n",
    "\n",
    "On s'intéresse à la recherche des solutions complexes de l'équation $z^3=1$ par la méthode de Newton-Raphson. On considère pour cela la fonction d'une variable complexe $f(z)=z^3-1$, qui s'annule en chaque point $z$ du plan complexe tel que $z^3=1$.\n",
    "\n",
    "**1.** &Eacute;crire deux fonctions `f` et `df` renvoyant respectivement les valeurs de $f(z)$ et de $f'(z)$ en un point quelconque $z$ de $\\mathbb{C}$."
   ]
  },
  {
   "cell_type": "code",
   "execution_count": null,
   "metadata": {},
   "outputs": [],
   "source": []
  },
  {
   "cell_type": "markdown",
   "metadata": {},
   "source": [
    "**2.** Pour tout entier naturel $n$ supérieur ou égal à $2$, on définit une grille de pas $h=\\frac{3}{n-1}$ couvrant le carré $[-1,5,1,5]\\times[-1,5\\mathrm{i},1,5\\mathrm{i}]$.\n",
    "\n",
    "&Eacute;crire un programme résolvant, pour une valeur donnée de $n$, l'équation $f(z)=0$ avec une tolérance égale à $10^{-4}$ par la méthode de Newton-Raphson utilisant successivement chaque point de la grille $z_{ij}=-1,5(1+\\mathrm{i})+(i+\\mathrm{i}j)h$, $0\\leq i,j\\leq n$ comme initialisation. Pour chaque couple $(i,j)$, stocker dans le tableau à deux dimensions `nrac` le numéro $k$ ($k=0$, $1$ ou $2$) de la racine cubique complexe de l'unité $e^{\\mathrm{i}\\frac{2k\\pi}{3}}$ vers laquelle la méthode aura convergée à partir de $z_{ij}$ (on posera $k=3$ lorsque la méthode n'a pas convergé après $100$ itérations) et dans le tableau `niter` le nombre d'itérations nécessaires pour atteindre la convergence (en stockant le nombre maximal d'itérations autorisées en l'absence de convergence).\n",
    "\n",
    "Pour automatiser le processus de reconnaissance de la racine approchée par la valeur `zero` renvoyée, on pourra utiliser les instructions suivantes (ci-dessous, `racines` désigne un tableau contenant les trois racines cubiques complexes de l'unité et `tol` est la tolérance du critère d'arrêt de la méthode de Newton-Raphson) :\n",
    "\n",
    "`d=racines-[zero,zero,zero]\n",
    " m,k=min(abs(d)),argmin(abs(d))\n",
    " if (abs(m)>tol):\n",
    "     k=3`\n",
    "     \n",
    "Lancer le programme avec $n$ valant $100$ et une tolérance fixée à $10^{-4}$ (compte tenu du nombre important d'appels de la méthode de Newton--Raphson)."
   ]
  },
  {
   "cell_type": "code",
   "execution_count": null,
   "metadata": {},
   "outputs": [],
   "source": []
  },
  {
   "cell_type": "markdown",
   "metadata": {},
   "source": [
    "**3.** &Agrave; l'aide des commandes `matshow(nrac.T)` et `matshow(niter.T)`, afficher une représentation des bassins de convergence de la méthode."
   ]
  },
  {
   "cell_type": "code",
   "execution_count": null,
   "metadata": {
    "scrolled": true
   },
   "outputs": [],
   "source": []
  },
  {
   "cell_type": "markdown",
   "metadata": {},
   "source": [
    "**4.** Refaire des tracés pour des pas de grille plus petits (c'est-à-dire de plus grandes valeurs de $n$). Que dire des &laquo; frontières &raquo; des trois bassins de convergence de la méthode ?"
   ]
  },
  {
   "cell_type": "code",
   "execution_count": null,
   "metadata": {
    "scrolled": true
   },
   "outputs": [],
   "source": []
  },
  {
   "cell_type": "markdown",
   "metadata": {},
   "source": []
  }
 ],
 "metadata": {
  "kernelspec": {
   "display_name": "Python 3 (ipykernel)",
   "language": "python",
   "name": "python3"
  },
  "language_info": {
   "codemirror_mode": {
    "name": "ipython",
    "version": 3
   },
   "file_extension": ".py",
   "mimetype": "text/x-python",
   "name": "python",
   "nbconvert_exporter": "python",
   "pygments_lexer": "ipython3",
   "version": "3.9.12"
  },
  "vscode": {
   "interpreter": {
    "hash": "31f2aee4e71d21fbe5cf8b01ff0e069b9275f58929596ceb00d14d90e3e16cd6"
   }
  }
 },
 "nbformat": 4,
 "nbformat_minor": 1
}
