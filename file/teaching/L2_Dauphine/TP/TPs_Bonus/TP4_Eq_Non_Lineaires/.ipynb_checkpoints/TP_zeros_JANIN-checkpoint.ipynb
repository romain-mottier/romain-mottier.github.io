{
 "cells": [
  {
   "cell_type": "markdown",
   "metadata": {},
   "source": [
    "\n",
    "# Feuille de travaux pratiques. Résolution numérique d'équations non linéaires"
   ]
  },
  {
   "cell_type": "code",
   "execution_count": 35,
   "metadata": {
    "scrolled": true
   },
   "outputs": [],
   "source": [
    "# chargement des bibliothèques\n",
    "import numpy as np\n",
    "\n",
    "%matplotlib inline\n",
    "import matplotlib.pyplot as plt\n",
    "from math import sin, pi, sqrt, cos, exp"
   ]
  },
  {
   "cell_type": "markdown",
   "metadata": {},
   "source": [
    "## Exercice 1 (méthodes de dichotomie et de Newton-Raphson, d'après A. Quarteroni)\n",
    "\n",
    "Dans cet exercice, on souhaite utiliser sur des exemples différentes méthodes d'approximation d'un zéro d'une fonction.\n",
    "\n",
    "**1.** On considère tout d'abord la fonction\n",
    "$$\n",
    "f(x)=\\frac{x}{2}-\\sin(x)+\\frac{\\pi}{6}-\\frac{\\sqrt{3}}{2}\n",
    "$$\n",
    "sur l'intervalle $\\left[-\\frac{\\pi}{2},\\pi\\right]$, en observant qu'elle y possède deux zéros.\n",
    "\n",
    "**(a)** &Eacute;crire une fonction `f` prenant en entrée un réel $x$ et renvoyant la valeur de $f(x)$."
   ]
  },
  {
   "cell_type": "code",
   "execution_count": 36,
   "metadata": {},
   "outputs": [
    {
     "name": "stdout",
     "output_type": "stream",
     "text": [
      "0.0\n"
     ]
    }
   ],
   "source": [
    "def f(x):\n",
    "    return (x/2)-sin(x)+(pi/6)-(sqrt(3)/2)\n",
    "\n",
    "print(f(-pi/3))\n"
   ]
  },
  {
   "cell_type": "markdown",
   "metadata": {},
   "source": [
    "**(b)** À l'aide du graphe de la fonction $f$ sur $\\left[-\\frac{\\pi}{2},\\pi\\right]$, expliquer pourquoi la [méthode de dichotomie](http://fr.wikipedia.org/wiki/M%C3%A9thode_de_dichotomie) ne peut être utilisée que pour approcher l'un des deux zéros de $f$, que l'on notera $\\xi$ dans la suite."
   ]
  },
  {
   "cell_type": "code",
   "execution_count": 37,
   "metadata": {},
   "outputs": [
    {
     "data": {
      "image/png": "[encoded data removed]",
      "text/plain": [
       "<Figure size 432x288 with 1 Axes>"
      ]
     },
     "metadata": {
      "needs_background": "light"
     },
     "output_type": "display_data"
    }
   ],
   "source": [
    "#dichotomie impossible à gauche, car le voisinage du zéro garde le même signe\n",
    "\n",
    "xs = np.linspace(-pi/2, pi,100)\n",
    "ys= [f(i) for i in xs]\n",
    "plt.plot(xs,ys)\n",
    "plt.show()"
   ]
  },
  {
   "cell_type": "markdown",
   "metadata": {},
   "source": []
  },
  {
   "cell_type": "markdown",
   "metadata": {},
   "source": [
    "**(c)** Écrire une fonction `[zero,iter,res,inc]=dichotomie(f,a,b,tol,itermax)` mettant en &oelig;uvre la méthode de dichotomie pour l'approximation d'un zéro d'une fonction $f$ donnée, compris dans un intervalle $[a,b]$ tel que $f(a)f(b)<0$. En plus de la fonction et des bornes de l'intervalle, les autre paramètres d'entrée seront une tolérance `tol` pour le critère d'arrêt de la méthode et un nombre maximum `itermax` d'itérations à effectuer. Elle reverra en sortie l'approximation du zéro obtenue `zero`, le nombre d'itérations\n",
    "nécessaire au calcul de cette approximation `iter`, la valeur `res` de la fonction $f$ en cette approximationt et un vecteur `inc` contenant la suite des valeurs absolues des différences entre deux approximations successives (dite suite des incréments). On réfléchira au choix du critère d'arrêt à employer."
   ]
  },
  {
   "cell_type": "code",
   "execution_count": 38,
   "metadata": {},
   "outputs": [],
   "source": [
    "\"\"\"\"\"def dichotomie(f,a,b,tol,itermax):\n",
    "    cpt_iter=1\n",
    "    inc=[]\n",
    "    if f(a)*f(b)>0:\n",
    "            raise ValueError(\"Dichotomie invalide\")\n",
    "    for i in range(itermax):\n",
    "        zero=(a+b)/2\n",
    "        erreur=(b-a)/2\n",
    "        #print(f(zero), \"and \", erreur)\n",
    "        if (f(zero)==0 or erreur<=tol):\n",
    "            return [zero, cpt_iter,f(zero),inc]\n",
    "        if f(a)*f(b)<=0:\n",
    "            b=zero\n",
    "            erreurPrec = erreur\n",
    "            cpt_iter+=1\n",
    "            erreur=(b-a)/(2**(cpt_iter))\n",
    "            inc.append(abs(erreur-erreurPrec))\n",
    "        else:\n",
    "            a=zero\n",
    "            erreurPrec = erreur\n",
    "            cpt_iter+=1\n",
    "            erreur=(b-a)/(2**(cpt_iter))\n",
    "            inc.append(abs(erreur-erreurPrec))\n",
    "          \n",
    "    return [zero, cpt_iter,f(zero),inc]\"\"\"\n",
    "    \n",
    "def dichotomie(f,a,b,tol,itermax):\n",
    "    ite = 0\n",
    "    fa,fb=f(a),f(b)\n",
    "    ak,bk=a,b\n",
    "    err = 0.5*(bk-ak)\n",
    "    inc=[0.5*(ak+bk)]\n",
    "    if fa*fb>0:\n",
    "        raise ValueError('Dichotomie invalide')\n",
    "    while ite<itermax and err>=tol:\n",
    "        xk=inc[ite]\n",
    "        inc.append(0.5*(ak+bk))\n",
    "        y=f(xk)\n",
    "        if y*fa<0:\n",
    "            bk=xk\n",
    "            fb=y\n",
    "        elif y*fa>0:\n",
    "            ak=xk\n",
    "            fa=y\n",
    "        ite=ite+1\n",
    "        err=0.5*(bk-ak)\n",
    "    return (inc[ite-1],ite,y,inc)\n",
    "    "
   ]
  },
  {
   "cell_type": "markdown",
   "metadata": {},
   "source": [
    "**(d)** Utiliser la fonction `dichotomie` pour calculer une approximation de $\\xi$ avec une tolérance égale à $10^{-10}$ pour le critère d'arrêt à partir du choix d'un intervalle $[a,b]$ convenable."
   ]
  },
  {
   "cell_type": "code",
   "execution_count": 39,
   "metadata": {},
   "outputs": [],
   "source": [
    "zero,cpt_ite, erreur, inc = dichotomie(f,0,pi,10**(-10), 100)"
   ]
  },
  {
   "cell_type": "markdown",
   "metadata": {},
   "source": [
    "**(e)** Au moyen de la commande `semilogy`, tracer le graphe de la suite des incréments $|x^{(k+1)}-x^{(k)}|$ en fonction de $k$ avec une échelle semilogarithmique et déterminer la loi selon laquelle ces quantités tendent vers $0$ quand $k$ tend vers l'infini."
   ]
  },
  {
   "cell_type": "code",
   "execution_count": 40,
   "metadata": {
    "scrolled": true
   },
   "outputs": [
    {
     "data": {
      "image/png": "[encoded data removed]",
      "text/plain": [
       "<Figure size 432x288 with 1 Axes>"
      ]
     },
     "metadata": {
      "needs_background": "light"
     },
     "output_type": "display_data"
    }
   ],
   "source": [
    "x=np.linspace(-pi/2, pi/2,100)\n",
    "y=[abs(f(i)) for i in x]\n",
    "plt.semilogy(x,y)\n",
    "plt.show()"
   ]
  },
  {
   "cell_type": "markdown",
   "metadata": {},
   "source": []
  },
  {
   "cell_type": "markdown",
   "metadata": {},
   "source": [
    "**(f)** Écrire une fonction `[zero,iter,res,inc]=newton(f,df,x0,tol,itermax)` qui met en &oelig;uvre la [méthode de Newton-Raphson](http://fr.wikipedia.org/wiki/M%C3%A9thode_de_Newton) pour l'approximation d'un zéro d'une fonction dérivable $f$ donnée. Les paramètres d'entrée `df`, `x0`, `tol` et `itermax` représenteront respectivement la fonction correspondant à la fonction dérivée $f'$, l'initialisation de la suite des approximations, la tolérance pour le critère d'arrêt de la méthode et le nombre maximum d'itérations à effectuer. En sortie, les paramètres seront identiques à ceux de la fonction `dichotomie`. La encore, on réfléchira au choix du critère d'arrêt à employer."
   ]
  },
  {
   "cell_type": "code",
   "execution_count": 41,
   "metadata": {},
   "outputs": [
    {
     "name": "stdout",
     "output_type": "stream",
     "text": [
      "0.8654740331109566 5 -2.8106184046805538e-11 [0.6121416370972725, 0.20246894336046573, 0.04240887552799033, 0.00178668291055184, 3.1021873080350204e-06]\n"
     ]
    }
   ],
   "source": [
    "def newton(f,df,x0,tol,itermax):\n",
    "    zero=x0\n",
    "    cpt_iter=0\n",
    "    inc=[]\n",
    "    \n",
    "    for i in range(itermax):\n",
    "        res = f(zero)\n",
    "        #print(\"iter\",i,\"f(zero):\",f(zero))\n",
    "        if (abs(f(zero))<=tol):\n",
    "            #print(\"STOP\")\n",
    "            return [zero, cpt_iter, res, inc]\n",
    "        errPrec=x0\n",
    "        x0=x0-(f(x0)/df(x0))\n",
    "        err=x0\n",
    "        zero=x0\n",
    "        inc.append(abs(err-errPrec))\n",
    "        cpt_iter+=1\n",
    "    return [zero, cpt_iter, f(zero), inc]\n",
    "\n",
    "def g(x):\n",
    "    return cos(x)-x**3\n",
    "\n",
    "def dg(x):\n",
    "    return -sin(x)-3*(x**2)\n",
    "\n",
    "\n",
    "#newton(g,dg,0.5,10**(-10),150)\n",
    "zero2,cpt_ite2, erreur2, inc2 = newton(g,dg,0.5,1e-10,150)\n",
    "print(zero2,cpt_ite2, erreur2, inc2)\n",
    "        \n",
    "        \n",
    "        "
   ]
  },
  {
   "cell_type": "markdown",
   "metadata": {},
   "source": [
    "**(g)** Calculer des approximations des deux zéros $\\xi$ et $\\zeta$ de la fonction $f$ avec la méthode de Newton-Raphson, en prenant une tolérance égale à $10^{-10}$ pour le critère d'arrêt et comme initialisations le point $\\pi$ pour $\\xi$ et $-\\frac{\\pi}{2}$ pour $\\zeta$. Comparer les nombres d'itérations effectuées pour obtenir une approximation de chacun des zéros. Pourquoi sont-ils très différents ? Comparer également les graphes des suites des incréments obtenus avec la commande `semilogy`."
   ]
  },
  {
   "cell_type": "code",
   "execution_count": 42,
   "metadata": {
    "scrolled": true
   },
   "outputs": [
    {
     "name": "stdout",
     "output_type": "stream",
     "text": [
      "2.2460055892984685 4 5.561107130347409e-13 [0.8189131324058376, 0.07481662013373169, 0.0018561177946692098, 1.1939570860874937e-06]\n"
     ]
    }
   ],
   "source": [
    "def df(x):\n",
    "    return 0.5-cos(x)\n",
    "\n",
    "zero3,cpt_ite3, erreur3, inc3 = newton(f,df,pi,1e-10,150)\n",
    "print(zero3,cpt_ite3, erreur3, inc3)\n",
    "\n",
    "#Les zéros trouvés diffèrent en fonction de l'initialisation"
   ]
  },
  {
   "cell_type": "markdown",
   "metadata": {},
   "source": []
  },
  {
   "cell_type": "markdown",
   "metadata": {},
   "source": [
    "**(h)** On cherche à réduire le nombre d'itérations nécessaires à l'obtention d'une approximation du zéro négatif $\\zeta$ de la fonction $f$. La méthode de Newton-Raphson modifiée, basée sur la modification suivante de la relation de récurrence de la méthode de Newton-Raphson\n",
    "$$\n",
    "\\forall k\\in\\mathbb{N},\\ x^{(k+1)}=x^{(k)}−2\\frac{f(x^{(k)})}{f'(x^{(k)})},\n",
    "$$\n",
    "a une convergence quadratique si $f'(\\zeta)=0$. Mettre en &oelig;uvre cette méthode dans une fonction `modnewton` et voir combien d'itérations sont nécessaires pour qu'elle fournisse une approximation de $\\zeta$ avec une tolérance égale à $10^{-10}$ pour le critère d'arrêt."
   ]
  },
  {
   "cell_type": "code",
   "execution_count": null,
   "metadata": {},
   "outputs": [],
   "source": []
  },
  {
   "cell_type": "markdown",
   "metadata": {},
   "source": [
    "**2.** On considère à présent la fonction $g(x)=x+e^{-20\\,x^2}\\cos(x)$, dont on veut approcher les zéros par la méthode de Newton-Raphson.\n",
    "\n",
    "**(a)** &Eacute;crire une fonction `g` pour la fonction $g$ et une fonction `dg` pour sa dérivée $g'$."
   ]
  },
  {
   "cell_type": "code",
   "execution_count": 43,
   "metadata": {},
   "outputs": [
    {
     "name": "stdout",
     "output_type": "stream",
     "text": [
      "1.000000001113646\n",
      "1.0\n",
      "[-4.7397530567039325e-08, 1000, 0.9999999526024234, [1.0, 0.999999952606113, 0.9999980094605665, 0.9999980094569232, 0.9999980093075481, 0.9999980093075479, 0.9999980093075388, 0.9999980093075388, 0.9999980093075388, 0.9999980093075388, 0.9999980093075388, 0.9999980093075388, 0.9999980093075388, 0.9999980093075388, 0.9999980093075388, 0.9999980093075388, 0.9999980093075388, 0.9999980093075388, 0.9999980093075388, 0.9999980093075388, 0.9999980093075388, 0.9999980093075388, 0.9999980093075388, 0.9999980093075388, 0.9999980093075388, 0.9999980093075388, 0.9999980093075388, 0.9999980093075388, 0.9999980093075388, 0.9999980093075388, 0.9999980093075388, 0.9999980093075388, 0.9999980093075388, 0.9999980093075388, 0.9999980093075388, 0.9999980093075388, 0.9999980093075388, 0.9999980093075388, 0.9999980093075388, 0.9999980093075388, 0.9999980093075388, 0.9999980093075388, 0.9999980093075388, 0.9999980093075388, 0.9999980093075388, 0.9999980093075388, 0.9999980093075388, 0.9999980093075388, 0.9999980093075388, 0.9999980093075388, 0.9999980093075388, 0.9999980093075388, 0.9999980093075388, 0.9999980093075388, 0.9999980093075388, 0.9999980093075388, 0.9999980093075388, 0.9999980093075388, 0.9999980093075388, 0.9999980093075388, 0.9999980093075388, 0.9999980093075388, 0.9999980093075388, 0.9999980093075388, 0.9999980093075388, 0.9999980093075388, 0.9999980093075388, 0.9999980093075388, 0.9999980093075388, 0.9999980093075388, 0.9999980093075388, 0.9999980093075388, 0.9999980093075388, 0.9999980093075388, 0.9999980093075388, 0.9999980093075388, 0.9999980093075388, 0.9999980093075388, 0.9999980093075388, 0.9999980093075388, 0.9999980093075388, 0.9999980093075388, 0.9999980093075388, 0.9999980093075388, 0.9999980093075388, 0.9999980093075388, 0.9999980093075388, 0.9999980093075388, 0.9999980093075388, 0.9999980093075388, 0.9999980093075388, 0.9999980093075388, 0.9999980093075388, 0.9999980093075388, 0.9999980093075388, 0.9999980093075388, 0.9999980093075388, 0.9999980093075388, 0.9999980093075388, 0.9999980093075388, 0.9999980093075388, 0.9999980093075388, 0.9999980093075388, 0.9999980093075388, 0.9999980093075388, 0.9999980093075388, 0.9999980093075388, 0.9999980093075388, 0.9999980093075388, 0.9999980093075388, 0.9999980093075388, 0.9999980093075388, 0.9999980093075388, 0.9999980093075388, 0.9999980093075388, 0.9999980093075388, 0.9999980093075388, 0.9999980093075388, 0.9999980093075388, 0.9999980093075388, 0.9999980093075388, 0.9999980093075388, 0.9999980093075388, 0.9999980093075388, 0.9999980093075388, 0.9999980093075388, 0.9999980093075388, 0.9999980093075388, 0.9999980093075388, 0.9999980093075388, 0.9999980093075388, 0.9999980093075388, 0.9999980093075388, 0.9999980093075388, 0.9999980093075388, 0.9999980093075388, 0.9999980093075388, 0.9999980093075388, 0.9999980093075388, 0.9999980093075388, 0.9999980093075388, 0.9999980093075388, 0.9999980093075388, 0.9999980093075388, 0.9999980093075388, 0.9999980093075388, 0.9999980093075388, 0.9999980093075388, 0.9999980093075388, 0.9999980093075388, 0.9999980093075388, 0.9999980093075388, 0.9999980093075388, 0.9999980093075388, 0.9999980093075388, 0.9999980093075388, 0.9999980093075388, 0.9999980093075388, 0.9999980093075388, 0.9999980093075388, 0.9999980093075388, 0.9999980093075388, 0.9999980093075388, 0.9999980093075388, 0.9999980093075388, 0.9999980093075388, 0.9999980093075388, 0.9999980093075388, 0.9999980093075388, 0.9999980093075388, 0.9999980093075388, 0.9999980093075388, 0.9999980093075388, 0.9999980093075388, 0.9999980093075388, 0.9999980093075388, 0.9999980093075388, 0.9999980093075388, 0.9999980093075388, 0.9999980093075388, 0.9999980093075388, 0.9999980093075388, 0.9999980093075388, 0.9999980093075388, 0.9999980093075388, 0.9999980093075388, 0.9999980093075388, 0.9999980093075388, 0.9999980093075388, 0.9999980093075388, 0.9999980093075388, 0.9999980093075388, 0.9999980093075388, 0.9999980093075388, 0.9999980093075388, 0.9999980093075388, 0.9999980093075388, 0.9999980093075388, 0.9999980093075388, 0.9999980093075388, 0.9999980093075388, 0.9999980093075388, 0.9999980093075388, 0.9999980093075388, 0.9999980093075388, 0.9999980093075388, 0.9999980093075388, 0.9999980093075388, 0.9999980093075388, 0.9999980093075388, 0.9999980093075388, 0.9999980093075388, 0.9999980093075388, 0.9999980093075388, 0.9999980093075388, 0.9999980093075388, 0.9999980093075388, 0.9999980093075388, 0.9999980093075388, 0.9999980093075388, 0.9999980093075388, 0.9999980093075388, 0.9999980093075388, 0.9999980093075388, 0.9999980093075388, 0.9999980093075388, 0.9999980093075388, 0.9999980093075388, 0.9999980093075388, 0.9999980093075388, 0.9999980093075388, 0.9999980093075388, 0.9999980093075388, 0.9999980093075388, 0.9999980093075388, 0.9999980093075388, 0.9999980093075388, 0.9999980093075388, 0.9999980093075388, 0.9999980093075388, 0.9999980093075388, 0.9999980093075388, 0.9999980093075388, 0.9999980093075388, 0.9999980093075388, 0.9999980093075388, 0.9999980093075388, 0.9999980093075388, 0.9999980093075388, 0.9999980093075388, 0.9999980093075388, 0.9999980093075388, 0.9999980093075388, 0.9999980093075388, 0.9999980093075388, 0.9999980093075388, 0.9999980093075388, 0.9999980093075388, 0.9999980093075388, 0.9999980093075388, 0.9999980093075388, 0.9999980093075388, 0.9999980093075388, 0.9999980093075388, 0.9999980093075388, 0.9999980093075388, 0.9999980093075388, 0.9999980093075388, 0.9999980093075388, 0.9999980093075388, 0.9999980093075388, 0.9999980093075388, 0.9999980093075388, 0.9999980093075388, 0.9999980093075388, 0.9999980093075388, 0.9999980093075388, 0.9999980093075388, 0.9999980093075388, 0.9999980093075388, 0.9999980093075388, 0.9999980093075388, 0.9999980093075388, 0.9999980093075388, 0.9999980093075388, 0.9999980093075388, 0.9999980093075388, 0.9999980093075388, 0.9999980093075388, 0.9999980093075388, 0.9999980093075388, 0.9999980093075388, 0.9999980093075388, 0.9999980093075388, 0.9999980093075388, 0.9999980093075388, 0.9999980093075388, 0.9999980093075388, 0.9999980093075388, 0.9999980093075388, 0.9999980093075388, 0.9999980093075388, 0.9999980093075388, 0.9999980093075388, 0.9999980093075388, 0.9999980093075388, 0.9999980093075388, 0.9999980093075388, 0.9999980093075388, 0.9999980093075388, 0.9999980093075388, 0.9999980093075388, 0.9999980093075388, 0.9999980093075388, 0.9999980093075388, 0.9999980093075388, 0.9999980093075388, 0.9999980093075388, 0.9999980093075388, 0.9999980093075388, 0.9999980093075388, 0.9999980093075388, 0.9999980093075388, 0.9999980093075388, 0.9999980093075388, 0.9999980093075388, 0.9999980093075388, 0.9999980093075388, 0.9999980093075388, 0.9999980093075388, 0.9999980093075388, 0.9999980093075388, 0.9999980093075388, 0.9999980093075388, 0.9999980093075388, 0.9999980093075388, 0.9999980093075388, 0.9999980093075388, 0.9999980093075388, 0.9999980093075388, 0.9999980093075388, 0.9999980093075388, 0.9999980093075388, 0.9999980093075388, 0.9999980093075388, 0.9999980093075388, 0.9999980093075388, 0.9999980093075388, 0.9999980093075388, 0.9999980093075388, 0.9999980093075388, 0.9999980093075388, 0.9999980093075388, 0.9999980093075388, 0.9999980093075388, 0.9999980093075388, 0.9999980093075388, 0.9999980093075388, 0.9999980093075388, 0.9999980093075388, 0.9999980093075388, 0.9999980093075388, 0.9999980093075388, 0.9999980093075388, 0.9999980093075388, 0.9999980093075388, 0.9999980093075388, 0.9999980093075388, 0.9999980093075388, 0.9999980093075388, 0.9999980093075388, 0.9999980093075388, 0.9999980093075388, 0.9999980093075388, 0.9999980093075388, 0.9999980093075388, 0.9999980093075388, 0.9999980093075388, 0.9999980093075388, 0.9999980093075388, 0.9999980093075388, 0.9999980093075388, 0.9999980093075388, 0.9999980093075388, 0.9999980093075388, 0.9999980093075388, 0.9999980093075388, 0.9999980093075388, 0.9999980093075388, 0.9999980093075388, 0.9999980093075388, 0.9999980093075388, 0.9999980093075388, 0.9999980093075388, 0.9999980093075388, 0.9999980093075388, 0.9999980093075388, 0.9999980093075388, 0.9999980093075388, 0.9999980093075388, 0.9999980093075388, 0.9999980093075388, 0.9999980093075388, 0.9999980093075388, 0.9999980093075388, 0.9999980093075388, 0.9999980093075388, 0.9999980093075388, 0.9999980093075388, 0.9999980093075388, 0.9999980093075388, 0.9999980093075388, 0.9999980093075388, 0.9999980093075388, 0.9999980093075388, 0.9999980093075388, 0.9999980093075388, 0.9999980093075388, 0.9999980093075388, 0.9999980093075388, 0.9999980093075388, 0.9999980093075388, 0.9999980093075388, 0.9999980093075388, 0.9999980093075388, 0.9999980093075388, 0.9999980093075388, 0.9999980093075388, 0.9999980093075388, 0.9999980093075388, 0.9999980093075388, 0.9999980093075388, 0.9999980093075388, 0.9999980093075388, 0.9999980093075388, 0.9999980093075388, 0.9999980093075388, 0.9999980093075388, 0.9999980093075388, 0.9999980093075388, 0.9999980093075388, 0.9999980093075388, 0.9999980093075388, 0.9999980093075388, 0.9999980093075388, 0.9999980093075388, 0.9999980093075388, 0.9999980093075388, 0.9999980093075388, 0.9999980093075388, 0.9999980093075388, 0.9999980093075388, 0.9999980093075388, 0.9999980093075388, 0.9999980093075388, 0.9999980093075388, 0.9999980093075388, 0.9999980093075388, 0.9999980093075388, 0.9999980093075388, 0.9999980093075388, 0.9999980093075388, 0.9999980093075388, 0.9999980093075388, 0.9999980093075388, 0.9999980093075388, 0.9999980093075388, 0.9999980093075388, 0.9999980093075388, 0.9999980093075388, 0.9999980093075388, 0.9999980093075388, 0.9999980093075388, 0.9999980093075388, 0.9999980093075388, 0.9999980093075388, 0.9999980093075388, 0.9999980093075388, 0.9999980093075388, 0.9999980093075388, 0.9999980093075388, 0.9999980093075388, 0.9999980093075388, 0.9999980093075388, 0.9999980093075388, 0.9999980093075388, 0.9999980093075388, 0.9999980093075388, 0.9999980093075388, 0.9999980093075388, 0.9999980093075388, 0.9999980093075388, 0.9999980093075388, 0.9999980093075388, 0.9999980093075388, 0.9999980093075388, 0.9999980093075388, 0.9999980093075388, 0.9999980093075388, 0.9999980093075388, 0.9999980093075388, 0.9999980093075388, 0.9999980093075388, 0.9999980093075388, 0.9999980093075388, 0.9999980093075388, 0.9999980093075388, 0.9999980093075388, 0.9999980093075388, 0.9999980093075388, 0.9999980093075388, 0.9999980093075388, 0.9999980093075388, 0.9999980093075388, 0.9999980093075388, 0.9999980093075388, 0.9999980093075388, 0.9999980093075388, 0.9999980093075388, 0.9999980093075388, 0.9999980093075388, 0.9999980093075388, 0.9999980093075388, 0.9999980093075388, 0.9999980093075388, 0.9999980093075388, 0.9999980093075388, 0.9999980093075388, 0.9999980093075388, 0.9999980093075388, 0.9999980093075388, 0.9999980093075388, 0.9999980093075388, 0.9999980093075388, 0.9999980093075388, 0.9999980093075388, 0.9999980093075388, 0.9999980093075388, 0.9999980093075388, 0.9999980093075388, 0.9999980093075388, 0.9999980093075388, 0.9999980093075388, 0.9999980093075388, 0.9999980093075388, 0.9999980093075388, 0.9999980093075388, 0.9999980093075388, 0.9999980093075388, 0.9999980093075388, 0.9999980093075388, 0.9999980093075388, 0.9999980093075388, 0.9999980093075388, 0.9999980093075388, 0.9999980093075388, 0.9999980093075388, 0.9999980093075388, 0.9999980093075388, 0.9999980093075388, 0.9999980093075388, 0.9999980093075388, 0.9999980093075388, 0.9999980093075388, 0.9999980093075388, 0.9999980093075388, 0.9999980093075388, 0.9999980093075388, 0.9999980093075388, 0.9999980093075388, 0.9999980093075388, 0.9999980093075388, 0.9999980093075388, 0.9999980093075388, 0.9999980093075388, 0.9999980093075388, 0.9999980093075388, 0.9999980093075388, 0.9999980093075388, 0.9999980093075388, 0.9999980093075388, 0.9999980093075388, 0.9999980093075388, 0.9999980093075388, 0.9999980093075388, 0.9999980093075388, 0.9999980093075388, 0.9999980093075388, 0.9999980093075388, 0.9999980093075388, 0.9999980093075388, 0.9999980093075388, 0.9999980093075388, 0.9999980093075388, 0.9999980093075388, 0.9999980093075388, 0.9999980093075388, 0.9999980093075388, 0.9999980093075388, 0.9999980093075388, 0.9999980093075388, 0.9999980093075388, 0.9999980093075388, 0.9999980093075388, 0.9999980093075388, 0.9999980093075388, 0.9999980093075388, 0.9999980093075388, 0.9999980093075388, 0.9999980093075388, 0.9999980093075388, 0.9999980093075388, 0.9999980093075388, 0.9999980093075388, 0.9999980093075388, 0.9999980093075388, 0.9999980093075388, 0.9999980093075388, 0.9999980093075388, 0.9999980093075388, 0.9999980093075388, 0.9999980093075388, 0.9999980093075388, 0.9999980093075388, 0.9999980093075388, 0.9999980093075388, 0.9999980093075388, 0.9999980093075388, 0.9999980093075388, 0.9999980093075388, 0.9999980093075388, 0.9999980093075388, 0.9999980093075388, 0.9999980093075388, 0.9999980093075388, 0.9999980093075388, 0.9999980093075388, 0.9999980093075388, 0.9999980093075388, 0.9999980093075388, 0.9999980093075388, 0.9999980093075388, 0.9999980093075388, 0.9999980093075388, 0.9999980093075388, 0.9999980093075388, 0.9999980093075388, 0.9999980093075388, 0.9999980093075388, 0.9999980093075388, 0.9999980093075388, 0.9999980093075388, 0.9999980093075388, 0.9999980093075388, 0.9999980093075388, 0.9999980093075388, 0.9999980093075388, 0.9999980093075388, 0.9999980093075388, 0.9999980093075388, 0.9999980093075388, 0.9999980093075388, 0.9999980093075388, 0.9999980093075388, 0.9999980093075388, 0.9999980093075388, 0.9999980093075388, 0.9999980093075388, 0.9999980093075388, 0.9999980093075388, 0.9999980093075388, 0.9999980093075388, 0.9999980093075388, 0.9999980093075388, 0.9999980093075388, 0.9999980093075388, 0.9999980093075388, 0.9999980093075388, 0.9999980093075388, 0.9999980093075388, 0.9999980093075388, 0.9999980093075388, 0.9999980093075388, 0.9999980093075388, 0.9999980093075388, 0.9999980093075388, 0.9999980093075388, 0.9999980093075388, 0.9999980093075388, 0.9999980093075388, 0.9999980093075388, 0.9999980093075388, 0.9999980093075388, 0.9999980093075388, 0.9999980093075388, 0.9999980093075388, 0.9999980093075388, 0.9999980093075388, 0.9999980093075388, 0.9999980093075388, 0.9999980093075388, 0.9999980093075388, 0.9999980093075388, 0.9999980093075388, 0.9999980093075388, 0.9999980093075388, 0.9999980093075388, 0.9999980093075388, 0.9999980093075388, 0.9999980093075388, 0.9999980093075388, 0.9999980093075388, 0.9999980093075388, 0.9999980093075388, 0.9999980093075388, 0.9999980093075388, 0.9999980093075388, 0.9999980093075388, 0.9999980093075388, 0.9999980093075388, 0.9999980093075388, 0.9999980093075388, 0.9999980093075388, 0.9999980093075388, 0.9999980093075388, 0.9999980093075388, 0.9999980093075388, 0.9999980093075388, 0.9999980093075388, 0.9999980093075388, 0.9999980093075388, 0.9999980093075388, 0.9999980093075388, 0.9999980093075388, 0.9999980093075388, 0.9999980093075388, 0.9999980093075388, 0.9999980093075388, 0.9999980093075388, 0.9999980093075388, 0.9999980093075388, 0.9999980093075388, 0.9999980093075388, 0.9999980093075388, 0.9999980093075388, 0.9999980093075388, 0.9999980093075388, 0.9999980093075388, 0.9999980093075388, 0.9999980093075388, 0.9999980093075388, 0.9999980093075388, 0.9999980093075388, 0.9999980093075388, 0.9999980093075388, 0.9999980093075388, 0.9999980093075388, 0.9999980093075388, 0.9999980093075388, 0.9999980093075388, 0.9999980093075388, 0.9999980093075388, 0.9999980093075388, 0.9999980093075388, 0.9999980093075388, 0.9999980093075388, 0.9999980093075388, 0.9999980093075388, 0.9999980093075388, 0.9999980093075388, 0.9999980093075388, 0.9999980093075388, 0.9999980093075388, 0.9999980093075388, 0.9999980093075388, 0.9999980093075388, 0.9999980093075388, 0.9999980093075388, 0.9999980093075388, 0.9999980093075388, 0.9999980093075388, 0.9999980093075388, 0.9999980093075388, 0.9999980093075388, 0.9999980093075388, 0.9999980093075388, 0.9999980093075388, 0.9999980093075388, 0.9999980093075388, 0.9999980093075388, 0.9999980093075388, 0.9999980093075388, 0.9999980093075388, 0.9999980093075388, 0.9999980093075388, 0.9999980093075388, 0.9999980093075388, 0.9999980093075388, 0.9999980093075388, 0.9999980093075388, 0.9999980093075388, 0.9999980093075388, 0.9999980093075388, 0.9999980093075388, 0.9999980093075388, 0.9999980093075388, 0.9999980093075388, 0.9999980093075388, 0.9999980093075388, 0.9999980093075388, 0.9999980093075388, 0.9999980093075388, 0.9999980093075388, 0.9999980093075388, 0.9999980093075388, 0.9999980093075388, 0.9999980093075388, 0.9999980093075388, 0.9999980093075388, 0.9999980093075388, 0.9999980093075388, 0.9999980093075388, 0.9999980093075388, 0.9999980093075388, 0.9999980093075388, 0.9999980093075388, 0.9999980093075388, 0.9999980093075388, 0.9999980093075388, 0.9999980093075388, 0.9999980093075388, 0.9999980093075388, 0.9999980093075388, 0.9999980093075388, 0.9999980093075388, 0.9999980093075388, 0.9999980093075388, 0.9999980093075388, 0.9999980093075388, 0.9999980093075388, 0.9999980093075388, 0.9999980093075388, 0.9999980093075388, 0.9999980093075388, 0.9999980093075388, 0.9999980093075388, 0.9999980093075388, 0.9999980093075388, 0.9999980093075388, 0.9999980093075388, 0.9999980093075388, 0.9999980093075388, 0.9999980093075388, 0.9999980093075388, 0.9999980093075388, 0.9999980093075388, 0.9999980093075388, 0.9999980093075388, 0.9999980093075388, 0.9999980093075388, 0.9999980093075388, 0.9999980093075388, 0.9999980093075388, 0.9999980093075388, 0.9999980093075388, 0.9999980093075388, 0.9999980093075388, 0.9999980093075388, 0.9999980093075388, 0.9999980093075388, 0.9999980093075388, 0.9999980093075388, 0.9999980093075388, 0.9999980093075388, 0.9999980093075388, 0.9999980093075388, 0.9999980093075388, 0.9999980093075388, 0.9999980093075388, 0.9999980093075388, 0.9999980093075388, 0.9999980093075388, 0.9999980093075388, 0.9999980093075388, 0.9999980093075388, 0.9999980093075388, 0.9999980093075388, 0.9999980093075388, 0.9999980093075388, 0.9999980093075388, 0.9999980093075388, 0.9999980093075388, 0.9999980093075388, 0.9999980093075388, 0.9999980093075388, 0.9999980093075388, 0.9999980093075388, 0.9999980093075388, 0.9999980093075388, 0.9999980093075388, 0.9999980093075388, 0.9999980093075388, 0.9999980093075388, 0.9999980093075388, 0.9999980093075388, 0.9999980093075388, 0.9999980093075388, 0.9999980093075388, 0.9999980093075388, 0.9999980093075388, 0.9999980093075388, 0.9999980093075388, 0.9999980093075388, 0.9999980093075388, 0.9999980093075388, 0.9999980093075388, 0.9999980093075388, 0.9999980093075388, 0.9999980093075388, 0.9999980093075388, 0.9999980093075388, 0.9999980093075388, 0.9999980093075388, 0.9999980093075388, 0.9999980093075388, 0.9999980093075388, 0.9999980093075388, 0.9999980093075388, 0.9999980093075388, 0.9999980093075388, 0.9999980093075388, 0.9999980093075388, 0.9999980093075388, 0.9999980093075388, 0.9999980093075388, 0.9999980093075388, 0.9999980093075388, 0.9999980093075388, 0.9999980093075388, 0.9999980093075388, 0.9999980093075388, 0.9999980093075388, 0.9999980093075388, 0.9999980093075388, 0.9999980093075388, 0.9999980093075388, 0.9999980093075388, 0.9999980093075388, 0.9999980093075388, 0.9999980093075388, 0.9999980093075388, 0.9999980093075388, 0.9999980093075388, 0.9999980093075388, 0.9999980093075388, 0.9999980093075388, 0.9999980093075388, 0.9999980093075388, 0.9999980093075388, 0.9999980093075388, 0.9999980093075388, 0.9999980093075388, 0.9999980093075388, 0.9999980093075388, 0.9999980093075388, 0.9999980093075388, 0.9999980093075388, 0.9999980093075388, 0.9999980093075388, 0.9999980093075388, 0.9999980093075388, 0.9999980093075388, 0.9999980093075388, 0.9999980093075388, 0.9999980093075388, 0.9999980093075388, 0.9999980093075388, 0.9999980093075388, 0.9999980093075388, 0.9999980093075388, 0.9999980093075388, 0.9999980093075388, 0.9999980093075388, 0.9999980093075388, 0.9999980093075388, 0.9999980093075388, 0.9999980093075388, 0.9999980093075388, 0.9999980093075388, 0.9999980093075388, 0.9999980093075388, 0.9999980093075388, 0.9999980093075388, 0.9999980093075388, 0.9999980093075388, 0.9999980093075388, 0.9999980093075388, 0.9999980093075388, 0.9999980093075388, 0.9999980093075388]]\n"
     ]
    }
   ],
   "source": [
    "def b(x):\n",
    "    return x+exp(-20*x**2)*cos(x)\n",
    "print(b(1))\n",
    "\n",
    "def db(x):\n",
    "    return exp(-20*x**2)*(exp(20*x**2)-sin(x)-40*x*cos(x))\n",
    "print(db(2))\n",
    "\n",
    "print(newton(b, db, 0, 1e-10, 1000))"
   ]
  },
  {
   "cell_type": "markdown",
   "metadata": {},
   "source": [
    "**(b)** Utiliser la fonction `newton` pour essayer d'approcher d'un zéro de $g$ en prenant $x^{(0)}=0$ pour initialisation et une tolérance égale à $10^{-10}$ pour le critère d'arrêt."
   ]
  },
  {
   "cell_type": "code",
   "execution_count": null,
   "metadata": {
    "scrolled": true
   },
   "outputs": [],
   "source": []
  },
  {
   "cell_type": "markdown",
   "metadata": {},
   "source": [
    "**(c)** Tracer le graphe de $g$ sur l'intervalle $[-1,1]$ et tenter de donner une explication qualitative du fait la méthode de Newton-Raphson ne converge pas avec l'initialisation précédente."
   ]
  },
  {
   "cell_type": "code",
   "execution_count": 44,
   "metadata": {
    "scrolled": true
   },
   "outputs": [
    {
     "data": {
      "image/png": "[encoded data removed]",
      "text/plain": [
       "<Figure size 432x288 with 1 Axes>"
      ]
     },
     "metadata": {
      "needs_background": "light"
     },
     "output_type": "display_data"
    }
   ],
   "source": [
    "x=np.linspace(-1, 1,100)\n",
    "y=[b(i) for i in x]\n",
    "plt.plot(x,y)\n",
    "plt.show()\n",
    "\n",
    "#le zéro d'initialisation est trop proche du vrai zéro de la fonction"
   ]
  },
  {
   "cell_type": "markdown",
   "metadata": {},
   "source": []
  },
  {
   "cell_type": "markdown",
   "metadata": {},
   "source": [
    "**(d)** Appliquer cinq intérations de la méthode de dichotomie à la fonction $g$ sur l'intervalle $[-1,1]$ et utiliser le point obtenu comme initialisation de la méthode de Newton-Raphson pour la recherche d'un zéro de $g$."
   ]
  },
  {
   "cell_type": "code",
   "execution_count": 45,
   "metadata": {
    "scrolled": true
   },
   "outputs": [
    {
     "name": "stdout",
     "output_type": "stream",
     "text": [
      "-0.25\n",
      "[-0.25729815080398966, 3, 1.2601031329495527e-14, [0.007174171956006448, 0.00012394144325533762, 3.740472787061577e-08]]\n"
     ]
    }
   ],
   "source": [
    "x_newton, nbIte, erreurDicho, incTab = dichotomie(b,-1, 1, 1e-10, 5)\n",
    "print(x_newton)\n",
    "print(newton(b, db, x_newton, 1e-10, 50))"
   ]
  },
  {
   "cell_type": "markdown",
   "metadata": {},
   "source": [
    "**3.** Modifier la fonction `dichotomie` pour obtenir une fonction\n",
    "`regulafalsi` mettant en &oelig;uvre la [méthode de la fausse position](http://fr.wikipedia.org/wiki/M%C3%A9thode_de_la_fausse_position). De la même manière,\n",
    "modifier la fonction `newton` pour obtenir une fonction `secante` mettant en &oelig;uvre la [méthode de la sécante](http://fr.wikipedia.org/wiki/M%C3%A9thode_de_la_s%C3%A9cante)."
   ]
  },
  {
   "cell_type": "code",
   "execution_count": 19,
   "metadata": {},
   "outputs": [
    {
     "name": "stdout",
     "output_type": "stream",
     "text": [
      "[1.3247179572292538, -6.606892810623322e-11, 28]\n"
     ]
    }
   ],
   "source": [
    "def regulaFalsi(f, x0, x1, tol, itermax):\n",
    "    cpt_iter=0\n",
    "    res=x0\n",
    "    if f(x0)*f(x1)>0:\n",
    "        raise ValueError(\"Méthode inutilisable\")\n",
    "    \n",
    "    elif f(x0)*f(x1)<0:\n",
    "        while cpt_iter<itermax and abs(f(res))>tol:\n",
    "            x2 = x0 - ((x0-x1) * f(x0))/(f(x0) - f(x1))\n",
    "            res = x2\n",
    "            cpt_iter+=1\n",
    "            if f(res)==0:\n",
    "                return [res, f(res), cpt_iter]\n",
    "            \n",
    "            elif f(x0)*f(x2)<0:\n",
    "                x1 = x2\n",
    "            else:\n",
    "                x0 = x2\n",
    "    return [res, f(res), cpt_iter]\n",
    "\n",
    "\n",
    "def f3(x):\n",
    "    return x**3-x-1\n",
    "\n",
    "print(regulaFalsi(f3, -3, 2, 1e-10, 1000))\n",
    "    \n",
    "\n",
    "    \n",
    "    "
   ]
  },
  {
   "cell_type": "markdown",
   "metadata": {},
   "source": [
    "## Exercice bonus (variantes de la méthode de la fausse position)"
   ]
  },
  {
   "cell_type": "markdown",
   "metadata": {},
   "source": [
    "Le phénomène de rétention d'une des bornes d'encadrement observé lors de l'application de la méthode de la fausse position à la résolution numérique d'une équation non linéaire dans $\\mathbb{R}$ a pour effet de diminuer sa vitesse de convergence, ce qui la rend parfois moins efficace que la méthode de dichotomie. Pour corriger ce défaut, plusieurs variantes ont été introduites. On propose dans cet exercice de les tester sur quelques exemples.\n",
    "\n",
    "Pour décrire de manière explicite ces modifications, on adopte les notations suivantes. On suppose disposer initialement d'un intervalle $[x^{(0)},x^{(1)}]$ non vide de $\\mathbb{R}$ et d'une application continue $f$ de $[x^{(0)},x^{(1)}]$ dans $\\mathbb{R}$, telle que $f(x^{(0)})f(x^{(1)})<0$, ce qui assure l'existence d'un zéro $\\xi$ de $f$. On pose alors $y^{(0)}=f(x^{(0)})$ et $y^{(1)}=f(x^{(1)})$. À l'étape $k$, avec $k$ un entier naturel non nul, on pose\n",
    "$$\n",
    "x^{(k+1)}=\\frac{x^{(k-1)}y^{(k)}-x^{(k)}y^{(k-1)}}{y^{(k)}-y^{(k-1)}}\\text{ et }y^{(k+1)}=f(x^{(k+1)}).\n",
    "$$\n",
    "Si $y^{(k+1)}y^{(k)}<0$, on passe à l'étape suivante. En revanche, si $y^{(k+1)}y^{(k)}>0$, on fait la mise à jour suivante\n",
    "$$\n",
    "x^{(k)}=x^{(k-1)}\\text{ et }y^{(k)}=\\alpha\\,y^{(k-1)}\n",
    "$$\n",
    "avant de passer à l'étape suivante, avec\n",
    "* $\\alpha=\\frac{1}{2}$ pour la <a href=\"https://doi.org/10.1007/BF01934364\">méthode Illinois</a>,\n",
    "* $\\alpha=\\frac{y^{(k)}}{y^{(k)}+y^{(k+1)}}$ pour la <a href=\"https://doi.org/10.1007/BF01932959\">méthode Pegasus</a>,\n",
    "* $\\alpha=\\frac{y^{(k)}-y^{(k+1)}}{y^{(k)}}$ si cette quantité est strictement positive, $\\alpha=\\frac{1}{2}$ sinon, pour la <a href=\"https://doi.org/10.1007/BF01951936\">méthode d'Anderson-Björck</a>.\n",
    "\n",
    "**1.** Sur le modèle de la fonction `regulafalsi` écrite dans l'exercice précédent, écrire des fonctions mettant en &oelig;uvre chacune des variantes données ci-dessus."
   ]
  },
  {
   "cell_type": "code",
   "execution_count": 13,
   "metadata": {},
   "outputs": [
    {
     "name": "stdout",
     "output_type": "stream",
     "text": [
      "[2.2460055892979742, 0.0, 440]\n",
      "[-1.0471975548143728, 0.0, 36]\n",
      "[-1.5707963267948966, -0.12782479158358806, 1000]\n",
      "\n",
      "[0.5235987755982989, 0.0, 105]\n",
      "[0.5235987755982989, 0.0, 8]\n",
      "[0, -0.5, 1000]\n"
     ]
    }
   ],
   "source": [
    "#pour les différentes méthodes, changer argMeth en 1,2 ou 3\n",
    "\n",
    "def falsePos(f,x0,x1,tol,itermax, argMeth):\n",
    "    alpha = 1\n",
    "    cpt_iter=0\n",
    "    resVal = x0\n",
    "    y0 = f(x0)\n",
    "    y1 = f(x1)\n",
    "    if f(x0)*f(x1)>0:\n",
    "        raise ValueError(\"Méthode inutilisable\")\n",
    "    while (cpt_iter<itermax and abs(f(resVal))>tol):\n",
    "        #print(\"y0\",y0)\n",
    "        #print(\"y1\",y1)\n",
    "        #print(\"x0\",x0)\n",
    "        #print(\"x1\",x1)\n",
    "        x2 = ((x0*y1)-(x1*y0))/(y1-y0)\n",
    "        #print(\"x2 = \",x2)\n",
    "        y2 = f(x2)\n",
    "        #print(\"y2 = \",y2,(\"\\n\"))\n",
    "        cpt_iter+=1\n",
    "        if y2*y1<0:\n",
    "            x0 = x1\n",
    "            x1 = x2\n",
    "            y0 = y1\n",
    "            y1 = y2\n",
    "            continue\n",
    "        elif y2*y1>0:\n",
    "            if argMeth == 1: #Illinois\n",
    "                x0 = x1\n",
    "                x1 = x2\n",
    "                y0 = y1\n",
    "                alpha = 1/2\n",
    "                y1 = alpha*y0\n",
    "                \n",
    "            elif argMeth == 2: #Pegasus\n",
    "                x0 = x1\n",
    "                x1 = x2\n",
    "                temp = y1\n",
    "                alpha = (y2)/(y1+y2)\n",
    "                y1 = alpha*y1\n",
    "                y0 = temp\n",
    "                \n",
    "            elif argMeth == 3: #Anderson-Björck\n",
    "                x0 = x1\n",
    "                x1 = x2\n",
    "                if (y1-y2)/y1>0:\n",
    "                    temp = y1\n",
    "                    alpha = (y1-y2)/y1\n",
    "                    y1 = alpha*y1\n",
    "                    y0 = temp\n",
    "                else:\n",
    "                    alpha = 1/2\n",
    "                    temp = y1\n",
    "                    y1 = alpha*y1\n",
    "                    y0 = temp\n",
    "            else:\n",
    "                raise ValueError(\"ArgMeth invalide\")\n",
    "            \n",
    "            continue\n",
    "            \n",
    "        else:\n",
    "            return [x2, f(x2), cpt_iter]\n",
    "        resVal = x2\n",
    "    return [resVal, f(resVal), cpt_iter]\n",
    "\n",
    "\n",
    "        \n",
    "print(falsePos(f,-pi/2,pi,1e-10,1000,1))\n",
    "print(falsePos(f,-pi/2,pi,1e-10,1000,2))\n",
    "print(falsePos(f,-pi/2,pi,1e-10,1000,3))\n",
    "\n",
    "\n",
    "def test(x):\n",
    "    return sin(x)-0.5\n",
    "\n",
    "print()\n",
    "print(falsePos(test,0,3/2,1e-10,1000,1))\n",
    "print(falsePos(test,0,3/2,1e-10,1000,2))\n",
    "print(falsePos(test,0,3/2,1e-10,1000,3))\n",
    "        \n"
   ]
  },
  {
   "cell_type": "markdown",
   "metadata": {},
   "source": [
    "**1.** Tester ces fonctions, ainsi que les fonctions `dichotomie` et `regulafalsi`, pour la détermination du zéro de la fonction $f(x)=11x^{11}-1$. On utilisera l'intervalle $\\left[\\frac{1}{10},1\\right]$ comme encadrement initial et une tolérance égale à $10^{-12}$."
   ]
  },
  {
   "cell_type": "code",
   "execution_count": 14,
   "metadata": {
    "scrolled": true
   },
   "outputs": [
    {
     "name": "stdout",
     "output_type": "stream",
     "text": [
      "[0.1, -0.99999999989, 1000]\n",
      "[0.1, -0.99999999989, 1000]\n",
      "\n",
      "(0.8041330975042003, 77, 7.331246720809759e-12, [0.55, 0.55, 0.775, 0.775, 0.8875, 0.8875, 0.83125, 0.83125, 0.8031250000000001, 0.8031250000000001, 0.8171875000000001, 0.8171875000000001, 0.8101562500000001, 0.8101562500000001, 0.8066406250000001, 0.8066406250000001, 0.8048828125, 0.8048828125, 0.8040039062500001, 0.8040039062500001, 0.804443359375, 0.804443359375, 0.8042236328125001, 0.8042236328125001, 0.8041137695312501, 0.8041137695312501, 0.8041687011718751, 0.8041687011718751, 0.8041412353515627, 0.8041412353515627, 0.8041275024414064, 0.8041275024414064, 0.8041343688964846, 0.8041343688964846, 0.8041309356689454, 0.8041309356689454, 0.804132652282715, 0.804132652282715, 0.8041335105895998, 0.8041335105895998, 0.8041330814361574, 0.8041330814361574, 0.8041332960128786, 0.8041332960128786, 0.804133188724518, 0.804133188724518, 0.8041331350803377, 0.8041331350803377, 0.8041331082582475, 0.8041331082582475, 0.8041330948472024, 0.8041330948472024, 0.8041331015527249, 0.8041331015527249, 0.8041330981999637, 0.8041330981999637, 0.8041330965235831, 0.8041330965235831, 0.8041330973617734, 0.8041330973617734, 0.8041330977808685, 0.8041330977808685, 0.804133097571321, 0.804133097571321, 0.8041330974665473, 0.8041330974665473, 0.8041330975189341, 0.8041330975189341, 0.8041330974927408, 0.8041330974927408, 0.8041330975058374, 0.8041330975058374, 0.8041330974992891, 0.8041330974992891, 0.8041330975025632, 0.8041330975025632, 0.8041330975042003, 0.8041330975042003])\n",
      "\n",
      "[0.8041330975035972, -9.18487508272392e-13, 103]\n"
     ]
    }
   ],
   "source": [
    "#aucune convergence des variantes\n",
    "def h(x):\n",
    "    return 11*x**11-1\n",
    "\n",
    "print(falsePos(h,1/10, 1, 1e-12, 1000,1))\n",
    "print(falsePos(h,1/10, 1, 1e-12, 1000,3))\n",
    "\n",
    "print()\n",
    "print(dichotomie(h,1/10, 1, 1e-12, 1000))\n",
    "print()\n",
    "print(regulaFalsi(h,1/10, 1, 1e-12, 1000))"
   ]
  },
  {
   "cell_type": "markdown",
   "metadata": {},
   "source": [
    "**2.** Reprendre la question précédente avec la fonction $f(x)=1-\\frac{1}{x^5}$. On utilisera l'intervalle $\\left[\\frac{1}{2},2\\right]$ comme encadrement initial et une tolérance égale à $10^{-12}$."
   ]
  },
  {
   "cell_type": "code",
   "execution_count": 15,
   "metadata": {
    "scrolled": false
   },
   "outputs": [
    {
     "name": "stdout",
     "output_type": "stream",
     "text": [
      "[1.0, 0.0, 118]\n",
      "[1.0, 0.0, 22]\n",
      "[0.5, -31.0, 1000]\n",
      "\n",
      "(0.9999999999995453, 79, -2.2737367544323206e-12, [1.25, 1.25, 0.875, 0.875, 1.0625, 1.0625, 0.96875, 0.96875, 1.015625, 1.015625, 0.9921875, 0.9921875, 1.00390625, 1.00390625, 0.998046875, 0.998046875, 1.0009765625, 1.0009765625, 0.99951171875, 0.99951171875, 1.000244140625, 1.000244140625, 0.9998779296875, 0.9998779296875, 1.00006103515625, 1.00006103515625, 0.999969482421875, 0.999969482421875, 1.0000152587890625, 1.0000152587890625, 0.9999923706054688, 0.9999923706054688, 1.0000038146972656, 1.0000038146972656, 0.9999980926513672, 0.9999980926513672, 1.0000009536743164, 1.0000009536743164, 0.9999995231628418, 0.9999995231628418, 1.000000238418579, 1.000000238418579, 0.9999998807907104, 0.9999998807907104, 1.0000000596046448, 1.0000000596046448, 0.9999999701976776, 0.9999999701976776, 1.0000000149011612, 1.0000000149011612, 0.9999999925494194, 0.9999999925494194, 1.0000000037252903, 1.0000000037252903, 0.9999999981373549, 0.9999999981373549, 1.0000000009313226, 1.0000000009313226, 0.9999999995343387, 0.9999999995343387, 1.0000000002328306, 1.0000000002328306, 0.9999999998835847, 0.9999999998835847, 1.0000000000582077, 1.0000000000582077, 0.9999999999708962, 0.9999999999708962, 1.000000000014552, 1.000000000014552, 0.999999999992724, 0.999999999992724, 1.000000000003638, 1.000000000003638, 0.999999999998181, 0.999999999998181, 1.0000000000009095, 1.0000000000009095, 0.9999999999995453, 0.9999999999995453])\n",
      "[1.0000000000001996, 9.980904991380157e-13, 360]\n"
     ]
    }
   ],
   "source": [
    "#convergence des deux premières méthodes\n",
    "def c(x):\n",
    "    return 1-(1/x**5)\n",
    "print(falsePos(c,1/2, 2, 1e-12, 1000,1))\n",
    "print(falsePos(c,1/2, 2, 1e-12, 1000,2))\n",
    "print(falsePos(c,1/2, 2, 1e-12, 1000,3))\n",
    "print()\n",
    "print(dichotomie(c,1/2, 2, 1e-12, 1000))\n",
    "print(regulaFalsi(c,1/2, 2, 1e-12, 1000))"
   ]
  },
  {
   "cell_type": "markdown",
   "metadata": {},
   "source": [
    "**3.** Reprendre la question précédente avec la fonction $f(x)=1-\\frac{1}{x}$. On utilisera l'intervalle $\\left[\\frac{1}{2},2\\right]$ comme encadrement initial et une tolérance égale à $10^{-12}$."
   ]
  },
  {
   "cell_type": "code",
   "execution_count": 16,
   "metadata": {},
   "outputs": [
    {
     "name": "stdout",
     "output_type": "stream",
     "text": [
      "[1.0, 0.0, 2]\n",
      "[1.0, 0.0, 10]\n",
      "[1.0, 0.0, 3]\n",
      "\n",
      "(0.9999999999995453, 79, -4.547473508864641e-13, [1.25, 1.25, 0.875, 0.875, 1.0625, 1.0625, 0.96875, 0.96875, 1.015625, 1.015625, 0.9921875, 0.9921875, 1.00390625, 1.00390625, 0.998046875, 0.998046875, 1.0009765625, 1.0009765625, 0.99951171875, 0.99951171875, 1.000244140625, 1.000244140625, 0.9998779296875, 0.9998779296875, 1.00006103515625, 1.00006103515625, 0.999969482421875, 0.999969482421875, 1.0000152587890625, 1.0000152587890625, 0.9999923706054688, 0.9999923706054688, 1.0000038146972656, 1.0000038146972656, 0.9999980926513672, 0.9999980926513672, 1.0000009536743164, 1.0000009536743164, 0.9999995231628418, 0.9999995231628418, 1.000000238418579, 1.000000238418579, 0.9999998807907104, 0.9999998807907104, 1.0000000596046448, 1.0000000596046448, 0.9999999701976776, 0.9999999701976776, 1.0000000149011612, 1.0000000149011612, 0.9999999925494194, 0.9999999925494194, 1.0000000037252903, 1.0000000037252903, 0.9999999981373549, 0.9999999981373549, 1.0000000009313226, 1.0000000009313226, 0.9999999995343387, 0.9999999995343387, 1.0000000002328306, 1.0000000002328306, 0.9999999998835847, 0.9999999998835847, 1.0000000000582077, 1.0000000000582077, 0.9999999999708962, 0.9999999999708962, 1.000000000014552, 1.000000000014552, 0.999999999992724, 0.999999999992724, 1.000000000003638, 1.000000000003638, 0.999999999998181, 0.999999999998181, 1.0000000000009095, 1.0000000000009095, 0.9999999999995453, 0.9999999999995453])\n",
      "\n",
      "[1.0000000000009095, 9.094947017729282e-13, 40]\n"
     ]
    }
   ],
   "source": [
    "#les trois méthodes convergent\n",
    "def f1(x):\n",
    "    return 1-(1/x)\n",
    "print(falsePos(f1,1/2, 2, 1e-12, 1000,1))\n",
    "print(falsePos(f1,1/2, 2, 1e-12, 1000,2))\n",
    "print(falsePos(f1,1/2, 2, 1e-12, 1000,3))\n",
    "print()\n",
    "print(dichotomie(f1,1/2, 2, 1e-12, 1000))\n",
    "print()\n",
    "print(regulaFalsi(f1,1/2, 2, 1e-12, 1000))"
   ]
  },
  {
   "cell_type": "markdown",
   "metadata": {
    "collapsed": true
   },
   "source": [
    "## Exercice 2 (calcul de $\\sqrt{2}$)\n",
    "Dans cet exercice, on cherche à calculer une approximation de $\\sqrt{2}$ de diverses façons.\n",
    "\n",
    "**1.** On peut tout d'abord obtenir une valeur approchée de $\\sqrt{2}$ en cherchant la racine positive de la fonction polynomiale $f(x)=x^2-2$. Pour cela, appliquer successivement à $f$ les méthodes de dichotomie et de de la fausse position sur l'intervalle $[1,2]$, de Newton-Raphson et de la sécante."
   ]
  },
  {
   "cell_type": "code",
   "execution_count": 17,
   "metadata": {
    "scrolled": true
   },
   "outputs": [
    {
     "name": "stdout",
     "output_type": "stream",
     "text": [
      "(1.4142135622678325, 65, -2.9772762033530853e-10, [1.5, 1.5, 1.25, 1.25, 1.375, 1.375, 1.4375, 1.4375, 1.40625, 1.40625, 1.421875, 1.421875, 1.4140625, 1.4140625, 1.41796875, 1.41796875, 1.416015625, 1.416015625, 1.4150390625, 1.4150390625, 1.41455078125, 1.41455078125, 1.414306640625, 1.414306640625, 1.4141845703125, 1.4141845703125, 1.41424560546875, 1.41424560546875, 1.414215087890625, 1.414215087890625, 1.4141998291015625, 1.4141998291015625, 1.4142074584960938, 1.4142074584960938, 1.4142112731933594, 1.4142112731933594, 1.4142131805419922, 1.4142131805419922, 1.4142141342163086, 1.4142141342163086, 1.4142136573791504, 1.4142136573791504, 1.4142134189605713, 1.4142134189605713, 1.4142135381698608, 1.4142135381698608, 1.4142135977745056, 1.4142135977745056, 1.4142135679721832, 1.4142135679721832, 1.414213553071022, 1.414213553071022, 1.4142135605216026, 1.4142135605216026, 1.414213564246893, 1.414213564246893, 1.4142135623842478, 1.4142135623842478, 1.4142135614529252, 1.4142135614529252, 1.4142135619185865, 1.4142135619185865, 1.4142135621514171, 1.4142135621514171, 1.4142135622678325, 1.4142135622678325])\n",
      "\n",
      "[1.4142135623637995, -2.6291857579963107e-11, 14]\n",
      "[1, -1, 1000]\n",
      "[1, -1, 1000]\n",
      "[1, -1, 1000]\n"
     ]
    }
   ],
   "source": [
    "def a(x):\n",
    "    return x**2-2\n",
    "print(dichotomie(a, 1, 2, 1e-10, 1000))\n",
    "print()\n",
    "print(regulaFalsi(a, 1, 2, 1e-10, 1000))\n",
    "print(falsePos(a, 1, 2, 1e-10, 1000,1))\n",
    "print(falsePos(a, 1, 2, 1e-10, 1000,2))\n",
    "print(falsePos(a, 1, 2, 1e-10, 1000,3))\n",
    "    "
   ]
  },
  {
   "cell_type": "markdown",
   "metadata": {
    "collapsed": true
   },
   "source": [
    "**2.** On peut également se servir de méthodes de point fixe, définies à partir des applications suivantes\n",
    "$$\n",
    "g_1(x)=2+x-x^2,\\ g_2(x)=\\frac{2}{x}\\text{ et }g_3(x)=\\frac{x+2}{x+1},\n",
    "$$\n",
    "considérées sur l'intervalle $[1,2]$.\n",
    "\n",
    "**(a)** Parmi les trois fonctions ci-dessus, lesquelles conduisent à une méthode de point fixe convergente ?"
   ]
  },
  {
   "cell_type": "markdown",
   "metadata": {},
   "source": []
  },
  {
   "cell_type": "markdown",
   "metadata": {},
   "source": [
    "**(b)** Vérifier cette affirmation en calculant les vingt premiers termes des suites définies par les relations de récurrence\n",
    "$$\n",
    "x^{(0)}=\\frac{1}{2}\\text{ et },\\forall k\\in\\mathbb{N},\\ x^{(k+1)}=g_i(x^{(k)}),\\ i\\in\\{1,2,3\\}.\n",
    "$$"
   ]
  },
  {
   "cell_type": "code",
   "execution_count": null,
   "metadata": {},
   "outputs": [],
   "source": []
  },
  {
   "cell_type": "markdown",
   "metadata": {},
   "source": [
    "## Exercice 3 (bassins de convergence de la méthode de Newton-Raphson)\n",
    "\n",
    "On s'intéresse à la recherche des solutions complexes de l'équation $z^3=1$ par la méthode de Newton-Raphson. On considère pour cela la fonction d'une variable complexe $f(z)=z^3-1$, qui s'annule en chaque point $z$ du plan complexe tel que $z^3=1$.\n",
    "\n",
    "**1.** &Eacute;crire deux fonctions `f` et `df` renvoyant respectivement les valeurs de $f(z)$ et de $f'(z)$ en un point quelconque $z$ de $\\mathbb{C}$."
   ]
  },
  {
   "cell_type": "code",
   "execution_count": 18,
   "metadata": {},
   "outputs": [],
   "source": [
    "def newF(z):\n",
    "    return z**3 - 1\n",
    "\n",
    "def dNewF(z):\n",
    "    return 3*z**2\n"
   ]
  },
  {
   "cell_type": "markdown",
   "metadata": {},
   "source": [
    "**2.** Pour tout entier naturel $n$ supérieur ou égal à $2$, on définit une grille de pas $h=\\frac{3}{n-1}$ couvrant le carré $[-1,5,1,5]\\times[-1,5\\mathrm{i},1,5\\mathrm{i}]$.\n",
    "\n",
    "&Eacute;crire un programme résolvant, pour une valeur donnée de $n$, l'équation $f(z)=0$ avec une tolérance égale à $10^{-4}$ par la méthode de Newton-Raphson utilisant successivement chaque point de la grille $z_{ij}=-1,5(1+\\mathrm{i})+(i+\\mathrm{i}j)h$, $0\\leq i,j\\leq n$ comme initialisation. Pour chaque couple $(i,j)$, stocker dans le tableau à deux dimensions `nrac` le numéro $k$ ($k=0$, $1$ ou $2$) de la racine cubique complexe de l'unité $e^{\\mathrm{i}\\frac{2k\\pi}{3}}$ vers laquelle la méthode aura convergée à partir de $z_{ij}$ (on posera $k=3$ lorsque la méthode n'a pas convergé après $100$ itérations) et dans le tableau `niter` le nombre d'itérations nécessaires pour atteindre la convergence (en stockant le nombre maximal d'itérations autorisées en l'absence de convergence).\n",
    "\n",
    "Pour automatiser le processus de reconnaissance de la racine approchée par la valeur `zero` renvoyée, on pourra utiliser les instructions suivantes (ci-dessous, `racines` désigne un tableau contenant les trois racines cubiques complexes de l'unité et `tol` est la tolérance du critère d'arrêt de la méthode de Newton-Raphson) :\n",
    "\n",
    "`d=racines-[zero,zero,zero]\n",
    " m,k=min(abs(d)),argmin(abs(d))\n",
    " if (abs(m)>tol):\n",
    "     k=3`\n",
    "     \n",
    "Lancer le programme avec $n$ valant $100$ et une tolérance fixée à $10^{-4}$ (compte tenu du nombre important d'appels de la méthode de Newton--Raphson)."
   ]
  },
  {
   "cell_type": "code",
   "execution_count": null,
   "metadata": {},
   "outputs": [],
   "source": []
  },
  {
   "cell_type": "markdown",
   "metadata": {},
   "source": [
    "**3.** &Agrave; l'aide des commandes `matshow(nrac.T)` et `matshow(niter.T)`, afficher une représentation des bassins de convergence de la méthode."
   ]
  },
  {
   "cell_type": "code",
   "execution_count": null,
   "metadata": {
    "scrolled": true
   },
   "outputs": [],
   "source": []
  },
  {
   "cell_type": "markdown",
   "metadata": {},
   "source": [
    "**4.** Refaire des tracés pour des pas de grille plus petits (c'est-à-dire de plus grandes valeurs de $n$). Que dire des &laquo; frontières &raquo; des trois bassins de convergence de la méthode ?"
   ]
  },
  {
   "cell_type": "code",
   "execution_count": null,
   "metadata": {
    "scrolled": true
   },
   "outputs": [],
   "source": []
  },
  {
   "cell_type": "markdown",
   "metadata": {},
   "source": []
  },
  {
   "cell_type": "code",
   "execution_count": null,
   "metadata": {},
   "outputs": [],
   "source": []
  },
  {
   "cell_type": "code",
   "execution_count": null,
   "metadata": {},
   "outputs": [],
   "source": []
  },
  {
   "cell_type": "code",
   "execution_count": null,
   "metadata": {},
   "outputs": [],
   "source": []
  },
  {
   "cell_type": "code",
   "execution_count": null,
   "metadata": {},
   "outputs": [],
   "source": []
  }
 ],
 "metadata": {
  "kernelspec": {
   "display_name": "Python 3 (ipykernel)",
   "language": "python",
   "name": "python3"
  },
  "language_info": {
   "codemirror_mode": {
    "name": "ipython",
    "version": 3
   },
   "file_extension": ".py",
   "mimetype": "text/x-python",
   "name": "python",
   "nbconvert_exporter": "python",
   "pygments_lexer": "ipython3",
   "version": "3.9.12"
  }
 },
 "nbformat": 4,
 "nbformat_minor": 1
}
