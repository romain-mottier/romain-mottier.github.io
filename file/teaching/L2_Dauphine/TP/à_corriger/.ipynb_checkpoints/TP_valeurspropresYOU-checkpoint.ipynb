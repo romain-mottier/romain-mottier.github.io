{
 "cells": [
  {
   "cell_type": "markdown",
   "metadata": {},
   "source": [
    "# Feuille de travaux pratiques. Calcul numérique de valeurs et de vecteurs propres"
   ]
  },
  {
   "cell_type": "code",
   "execution_count": 10,
   "metadata": {
    "scrolled": true
   },
   "outputs": [],
   "source": [
    "# chargement des bibliothèques\n",
    "import numpy as np\n",
    "import scipy\n",
    "\n",
    "%matplotlib inline\n",
    "import matplotlib.pyplot as plt"
   ]
  },
  {
   "cell_type": "markdown",
   "metadata": {},
   "source": [
    "\n",
    "\n",
    "## Exercice 1 (méthode de la puissance)\n",
    "\n",
    "La [méthode de la puissance](https://en.wikipedia.org/wiki/Power_iteration) est une méthode itérative très simple fournissant des approximations de la valeur propre de plus grand module d'une matrice (on parle de valeur propre dominante) et d'un vecteur propre associé.\n",
    "\n",
    "Soit $n$ un entier naturel non nul et $A$ une matrice d'ordre $n$ que l'on suppose  diagonalisable. On note $\\lambda_i$, $i=1,\\dots,n$, les valeurs propres de $A$, comptées avec leurs multiplicités respectives et ordonnées de la manière suivante\n",
    "$$\n",
    "|\\lambda_1|\\leq|\\lambda_2|\\leq\\dots\\leq|\\lambda_n|,\n",
    "$$\n",
    "et l'on désigne par $\\{v_i\\}_{i=1,\\dots,n}$ une base de vecteurs propres associés. On suppose de plus que $\\lambda_n$ a une multiplicité algébrique égale à un et qu'elle est la seule valeur propre de plus grand module.\n",
    "\n",
    "Dans toute la suite, on note $\\|\\cdot\\|_2$ la norme euclidienne sur $M_{n,1}(\\mathbb{C})$.\n",
    "\n",
    "La méthode de la puissance pour calculer $\\lambda_n$ et un vecteur propre $v_n$ associé consiste en l'algorithme suivant.\n",
    "\n",
    "* **Initialisation :**\n",
    "choisir $q^{(0)}\\in M_{n,1}(\\mathbb{C})$ tel que $\\|q^{(0)}\\|_2=1$,\n",
    "* **Itérations :** pour $k\\in\\mathbb{N}^*$, $z^{(k)}=Aq^{(k-1)}$, $\\displaystyle q^{(k)}=\\frac{z^{(k)}}{\\|z^{(k)}\\|_2}$, $\\nu^{(k)}=(q^{(k-1)})^*Aq^{(k-1)}$.\n",
    "\n",
    "En supposant que le vecteur $q^{(0)}$ n'est pas contenu dans le sous-espace engendré par les vecteurs propres associés aux valeurs propres autres que la valeur propre dominante $\\lambda_n$, on peut montrer que la suite des vecteurs $(q^{(k)})_{k\\in\\mathbb{N}}$ et la suite des quotients de Rayleigh $(\\nu^{(k)})_{k\\in\\mathbb{N}}$ convergent respectivement vers un vecteur colinéaire à $v_n$ et vers $\\lambda_n$ lorsque $k$ tend vers l'infini, la convergence\n",
    "étant d'autant plus rapide que le quotient $|\\lambda_{n-1}/\\lambda_n|$ est petit.\n",
    "\n",
    "**1.** Proposer un critère d'arrêt pour les itérations de l'algorithme de la méthode de la puissance introduit plus haut."
   ]
  },
  {
   "cell_type": "markdown",
   "metadata": {},
   "source": []
  },
  {
   "cell_type": "markdown",
   "metadata": {},
   "source": [
    "**2.** Écrire une fonction `[lambda,v,iter]=puissance(A,q0,tol,itermax)` mettant en &oelig;uvre l'algorithme de la méthode de la puissance ainsi obtenu, les paramètres d'entrée `tol` et `itermax` représentant respectivement la tolérance pour le critère d'arrêt et le nombre maximum d'itérations effectuées, les paramètres en sortie `lambda`, `v` et `iter` contenant respectivement l'approximation de la valeur propre dominante calculée, l'approximation d'un vecteur propre associé et le nombre d'itérations qui ont été nécessaires pour satisfaire le critère d'arrêt en cas de convergence."
   ]
  },
  {
   "cell_type": "code",
   "execution_count": null,
   "metadata": {},
   "outputs": [],
   "source": []
  },
  {
   "cell_type": "markdown",
   "metadata": {},
   "source": [
    "\n",
    "**3.** On considère la matrice\n",
    "$$\n",
    "A=\\begin{pmatrix}15&-2&2\\\\1&10&-3\\\\-2&1&0\\end{pmatrix}.\n",
    "$$\n",
    "**(a)** Utiliser la fonction `puissance` pour approcher la valeur propre dominante de $A$, ainsi qu'un vecteur propre associé, en prenant le vecteur $q^{(0)}=\\begin{pmatrix}1&1&1\\end{pmatrix}^\\top/\\sqrt{3}$ comme initialisation et une tolérance égale à $10^{-8}$ pour le critère d'arrêt."
   ]
  },
  {
   "cell_type": "code",
   "execution_count": 11,
   "metadata": {},
   "outputs": [],
   "source": [
    "A=np.array([[15.,-2.,2.],[1.,10.,-3.],[-2.,1.,0.]])\n",
    "q0=np.array([1.,1.,1.])/np.sqrt(3.)"
   ]
  },
  {
   "cell_type": "markdown",
   "metadata": {},
   "source": [
    "**(b)** Valider le résultat obtenu en utilisant la commande `eig`."
   ]
  },
  {
   "cell_type": "code",
   "execution_count": null,
   "metadata": {},
   "outputs": [],
   "source": []
  },
  {
   "cell_type": "markdown",
   "metadata": {},
   "source": [
    "**4.** On souhaite à présent évaluer l'influence de la condition initiale sur la convergence de la méthode. On considère pour cela la matrice réelle symétrique\n",
    "$$\n",
    "B=\\begin{pmatrix}\n",
    "0,5172&0,5473&-1,224&0,8012\\\\\n",
    "0,5473&1,388&1,353&-1,112\\\\\n",
    "-1,224&1,353&0,03642&2,893\\\\\n",
    "0,8012&-1,112&2,893&0,05827\n",
    "\\end{pmatrix}.\n",
    "$$\n",
    "**(a)** Pour chacune des trois initialisations qui suivent, tracer sur une même figure les termes de la suite $\\|z^{(k)}\\|_2$ en fonction de l'entier $k$ : $q^{(0)}=\\begin{pmatrix}1&0&0&0\\end{pmatrix}^\\top$, $\\begin{pmatrix}1&1&1&1\\end{pmatrix}^\\top/\\sqrt{4}$ et $\\begin{pmatrix}1&1&0&0\\end{pmatrix}^\\top/\\sqrt{2}$."
   ]
  },
  {
   "cell_type": "code",
   "execution_count": 12,
   "metadata": {},
   "outputs": [],
   "source": [
    "B=np.array([[ 0.5172, 0.5473,-1.224,   0.8012],\n",
    "         [ 0.5473, 1.388,  1.353,  -1.112],\n",
    "         [-1.224,  1.353,  0.03642, 2.893],\n",
    "         [ 0.8012,-1.112,  2.893,   0.05827]])\n",
    "\n",
    "q0=np.array([1.,0.,0.,0.])"
   ]
  },
  {
   "cell_type": "markdown",
   "metadata": {},
   "source": [
    "**(b)** Utiliser la commande `eig` pour obtenir les valeurs propres de $B$. Commenter alors les trois courbes obtenues à la question précédente en tentant de donner des explications."
   ]
  },
  {
   "cell_type": "code",
   "execution_count": null,
   "metadata": {},
   "outputs": [],
   "source": []
  },
  {
   "cell_type": "markdown",
   "metadata": {},
   "source": []
  },
  {
   "cell_type": "markdown",
   "metadata": {
    "collapsed": true
   },
   "source": []
  },
  {
   "cell_type": "markdown",
   "metadata": {},
   "source": [
    "## Exercice bonus (méthode de la puissance inverse)\n",
    "La méthode de la puissance inverse permet d'obtenir une approximation de la valeur propre d'une matrice $A$ d'ordre $n$ la plus proche d'un nombre complexe $\\mu$ donné n'appartenant pas au spectre de $A$. Ceci se fait en appliquant la méthode de la puissance à la matrice ${M_\\mu}^{-1}=(A-\\mu I_n)^{-1}$. Bien que plus coûteuse que la méthode de la puissance (elle nécessite en effet de résoudre un système linéaire à chaque itération de l'algorithme), la méthode de la puissance inverse a l'avantage de pouvoir converger vers n'importe quelle valeur propre de $A$ et se prête donc bien au raffinement d'une approximation d'une valeur propre, obtenue, par exemple, par une technique de localisation.\n",
    "\n",
    "Dans la pratique, on calcule une fois pour toute la factorisation LU de la matrice $M_\\mu$, ce qui permet de ne plus avoir ensuite qu'à résoudre deux systèmes triangulaires à chaque itération de la méthode.\n",
    "\n",
    "**1.** Sur le modèle de la fonction `puissance` de l'exercice précédent, écrire une fonction `[lambda,v,iter]=puissanceinv(A,q0,mu,tol,itermax)` mettant en oeuvre la méthode de la puissance inverse, le paramètre d'entrée `mu` étant l'approximation initiale de la valeur propre que l'on souhaite approcher. On utilisera les fonctions `linalg.lu` et `linalg.solve_triangular` de SciPy pour respectivement calculer la factorisation LU de la matrice $M_\\mu$ et résoudre les systèmes triangulaires (inférieur et supérieur) associés à cette factorisation."
   ]
  },
  {
   "cell_type": "code",
   "execution_count": 17,
   "metadata": {},
   "outputs": [],
   "source": [
    "def puissanceinv (A , q0 , mu , tol , itermax ):\n",
    "    m , n = A . shape\n",
    "    if n != m :\n",
    "        raise ValueError ( ' La matrice doit etre carree . ')\n",
    "    M = A - mu * np.eye ( n )\n",
    "    P ,L , U = scipy . linalg . lu ( M )\n",
    "    iter = 1\n",
    "    x = dot (P , q0 )\n",
    "    y = scipy . linalg . solve_triangular (L ,x , lower = True )\n",
    "    z = scipy . linalg . solve_triangular (U , y )\n",
    "    normz = array([ norm ( z )])\n",
    "    oldlambda = mu +1./ dot ( q0 , z )\n",
    "    q = z / normz [0]\n",
    "    res = tol + 1\n",
    "    while ( res > tol ) & ( iter < itermax ):\n",
    "        iter += 1\n",
    "        x = dot (P , q )\n",
    "        y = np . linalg . solve_triangular (L ,x , lower = True )\n",
    "        z = np . linalg . solve_triangular (U , y )\n",
    "        normz = append ( normz , norm ( z ))\n",
    "        newlambda = mu + 1./ dot (q , z )\n",
    "        q = z / normz [-1]\n",
    "        res = abs ( newlambda - oldlambda )\n",
    "        oldlambda = newlambda\n",
    "    if ( res > tol ):\n",
    "        print(' Nombre maximum d\\'iterations atteint . ')\n",
    "    return [newlambda ,q , iter , normz]"
   ]
  },
  {
   "cell_type": "markdown",
   "metadata": {},
   "source": [
    "**2.** Utiliser la fonction `puissanceinv` pour calculer la valeur propre de plus petit module de la matrice $A$ de l'exercice précédent, en prenant $q^{(0)}=\\begin{pmatrix}1&1&1\\end{pmatrix}^T/\\sqrt{3}$ comme initialisation et une tolérance égale à $10^{-8}$ pour le critère d'arrêt."
   ]
  },
  {
   "cell_type": "code",
   "execution_count": 16,
   "metadata": {},
   "outputs": [
    {
     "ename": "AttributeError",
     "evalue": "module 'scipy' has no attribute 'linalg'",
     "output_type": "error",
     "traceback": [
      "\u001b[0;31m---------------------------------------------------------------------------\u001b[0m",
      "\u001b[0;31mAttributeError\u001b[0m                            Traceback (most recent call last)",
      "Input \u001b[0;32mIn [16]\u001b[0m, in \u001b[0;36m<cell line: 6>\u001b[0;34m()\u001b[0m\n\u001b[1;32m      4\u001b[0m itermax \u001b[38;5;241m=\u001b[39m \u001b[38;5;241m1000\u001b[39m\n\u001b[1;32m      5\u001b[0m mu \u001b[38;5;241m=\u001b[39m \u001b[38;5;241m0.1\u001b[39m\n\u001b[0;32m----> 6\u001b[0m \u001b[38;5;28mprint\u001b[39m(\u001b[43mpuissanceinv\u001b[49m\u001b[43m(\u001b[49m\u001b[43mA\u001b[49m\u001b[43m,\u001b[49m\u001b[43m \u001b[49m\u001b[43mq0\u001b[49m\u001b[43m,\u001b[49m\u001b[43m \u001b[49m\u001b[43mmu\u001b[49m\u001b[43m,\u001b[49m\u001b[43mtol\u001b[49m\u001b[43m,\u001b[49m\u001b[43mitermax\u001b[49m\u001b[43m)\u001b[49m)\n",
      "Input \u001b[0;32mIn [15]\u001b[0m, in \u001b[0;36mpuissanceinv\u001b[0;34m(A, q0, mu, tol, itermax)\u001b[0m\n\u001b[1;32m      4\u001b[0m     \u001b[38;5;28;01mraise\u001b[39;00m \u001b[38;5;167;01mValueError\u001b[39;00m ( \u001b[38;5;124m'\u001b[39m\u001b[38;5;124m La matrice doit etre carree . \u001b[39m\u001b[38;5;124m'\u001b[39m)\n\u001b[1;32m      5\u001b[0m M \u001b[38;5;241m=\u001b[39m A \u001b[38;5;241m-\u001b[39m mu \u001b[38;5;241m*\u001b[39m np\u001b[38;5;241m.\u001b[39meye ( n )\n\u001b[0;32m----> 6\u001b[0m P ,L , U \u001b[38;5;241m=\u001b[39m \u001b[43mscipy\u001b[49m\u001b[43m \u001b[49m\u001b[38;5;241;43m.\u001b[39;49m\u001b[43m \u001b[49m\u001b[43mlinalg\u001b[49m \u001b[38;5;241m.\u001b[39m lu ( M )\n\u001b[1;32m      7\u001b[0m \u001b[38;5;28miter\u001b[39m \u001b[38;5;241m=\u001b[39m \u001b[38;5;241m1\u001b[39m\n\u001b[1;32m      8\u001b[0m x \u001b[38;5;241m=\u001b[39m dot (P , q0 )\n",
      "\u001b[0;31mAttributeError\u001b[0m: module 'scipy' has no attribute 'linalg'"
     ]
    }
   ],
   "source": [
    "q0 = np.array([1.,1.,1.])/np.sqrt(3.)\n",
    "A = np.array([[15.,-2.,2.],[1.,10.,-3.],[-2.,1.,0.]])\n",
    "tol = 10**-8\n",
    "itermax = 1000\n",
    "mu = 0.1\n",
    "print(puissanceinv(A, q0, mu,tol,itermax))"
   ]
  },
  {
   "cell_type": "code",
   "execution_count": null,
   "metadata": {},
   "outputs": [],
   "source": []
  },
  {
   "cell_type": "code",
   "execution_count": null,
   "metadata": {},
   "outputs": [],
   "source": []
  },
  {
   "cell_type": "code",
   "execution_count": null,
   "metadata": {},
   "outputs": [],
   "source": []
  },
  {
   "cell_type": "code",
   "execution_count": null,
   "metadata": {},
   "outputs": [],
   "source": []
  },
  {
   "cell_type": "code",
   "execution_count": null,
   "metadata": {},
   "outputs": [],
   "source": []
  },
  {
   "cell_type": "code",
   "execution_count": null,
   "metadata": {},
   "outputs": [],
   "source": []
  }
 ],
 "metadata": {
  "kernelspec": {
   "display_name": "Python 3 (ipykernel)",
   "language": "python",
   "name": "python3"
  },
  "language_info": {
   "codemirror_mode": {
    "name": "ipython",
    "version": 3
   },
   "file_extension": ".py",
   "mimetype": "text/x-python",
   "name": "python",
   "nbconvert_exporter": "python",
   "pygments_lexer": "ipython3",
   "version": "3.9.12"
  }
 },
 "nbformat": 4,
 "nbformat_minor": 1
}
