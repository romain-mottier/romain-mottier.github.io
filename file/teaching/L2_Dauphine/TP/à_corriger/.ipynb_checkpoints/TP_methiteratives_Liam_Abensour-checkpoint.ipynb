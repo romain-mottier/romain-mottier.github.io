{
 "cells": [
  {
   "cell_type": "markdown",
   "metadata": {},
   "source": [
    "# Feuille de travaux pratiques. Méthodes itératives de résolution des systèmes linéaires"
   ]
  },
  {
   "cell_type": "code",
   "execution_count": 1,
   "metadata": {},
   "outputs": [],
   "source": [
    "# chargement des bibliothèques\n",
    "import numpy as np\n",
    "\n",
    "%matplotlib inline\n",
    "import matplotlib.pyplot as plt"
   ]
  },
  {
   "cell_type": "markdown",
   "metadata": {},
   "source": [
    "## Exercice 1 (utilisation des méthodes de Gauss-Seidel et de Jacobi, d'après A. Quarteroni)\n",
    "Soit $n$ un entier naturel non nul et $\\varepsilon$ un réel appartenant à l'intervalle $[0,1]$. On considère le système linéaire $A_\\varepsilon x=b_\\varepsilon$ d'ordre $n$, dans lequel\n",
    "$$\n",
    "A_\\varepsilon=\\begin{pmatrix}1&\\varepsilon&\\varepsilon^2&0&\\cdots&0\\\\\\varepsilon&1&\\varepsilon&\\ddots&\\ddots&\\vdots\\\\\\varepsilon^2&\\varepsilon&\\ddots&\\ddots&\\ddots&0\\\\0&\\ddots&\\ddots&\\ddots&\\ddots&\\varepsilon^2\\\\\\vdots&\\ddots&\\ddots&\\ddots&1&\\varepsilon\\\\0&\\cdots&0&\\varepsilon^2&\\varepsilon&1\\end{pmatrix}\\text{ et }b_\\varepsilon=A_\\varepsilon\\begin{pmatrix}1\\\\1\\\\\\vdots\\\\1\\end{pmatrix}.\n",
    "$$\n",
    "La commande `A,b=systeme(n,epsilon)`, qui fait appel à la fonction codée ci-dessous, permet de construire les tableaux associés à la matrice $A_\\varepsilon$ et au vecteur $b_\\varepsilon$ pour des valeurs de l'entier $n$ et du réel $\\varepsilon$ données."
   ]
  },
  {
   "cell_type": "code",
   "execution_count": null,
   "metadata": {},
   "outputs": [],
   "source": [
    "def systeme(n,epsilon):\n",
    "    A=np.eye(n)\n",
    "    i,j=np.indices(A.shape)\n",
    "    A[i==j-1]=epsilon\n",
    "    A[i==j+1]=epsilon\n",
    "    A[i==j-2]=epsilon**2\n",
    "    A[i==j+2]=epsilon**2\n",
    "    b=np.dot(A,np.ones(n))\n",
    "    return A,b"
   ]
  },
  {
   "cell_type": "markdown",
   "metadata": {},
   "source": [
    "On pose dans un premier temps $n=5$."
   ]
  },
  {
   "cell_type": "code",
   "execution_count": null,
   "metadata": {},
   "outputs": [],
   "source": [
    "n=5"
   ]
  },
  {
   "cell_type": "markdown",
   "metadata": {},
   "source": [
    "**1.** On sait que si la matrice $A_\\varepsilon$ est à diagonale strictement dominante par lignes, alors la [méthode de Gauss-Seidel](https://fr.wikipedia.org/wiki/M%C3%A9thode_de_Gauss-Seidel), appliquée à la résolution du système ci-dessus, est convergente.\n",
    "\n",
    "  **(a)** Vérifier que $A_r$ est bien à diagonale strictement dominante par lignes quand $\\varepsilon=0,3$."
   ]
  },
  {
   "cell_type": "code",
   "execution_count": null,
   "metadata": {},
   "outputs": [],
   "source": []
  },
  {
   "cell_type": "markdown",
   "metadata": {},
   "source": [
    "**(b)** &Eacute;crire une fonction `gauss_seidel(A,b,x0,tol,itermax)` mettant en &oelig;uvre la méthode de Gauss-Seidel. Cette fonction renverra, en plus de la solution approchée, le nombre d'itérations nécessaires pour satisfaire le critère de convergence et la norme du résidu final."
   ]
  },
  {
   "cell_type": "code",
   "execution_count": null,
   "metadata": {},
   "outputs": [],
   "source": []
  },
  {
   "cell_type": "markdown",
   "metadata": {},
   "source": [
    "**(c)** Utiliser cette fonction pour calculer avec une solution approchée du système ci-dessus, en utilisant le vecteur $x^{(0)}=\\begin{pmatrix}0&0&0&0&0\\end{pmatrix}^\\top$ comme initialisation et une tolérance égale à $10^{-10}$ pour le critère d'arrêt."
   ]
  },
  {
   "cell_type": "code",
   "execution_count": null,
   "metadata": {},
   "outputs": [],
   "source": []
  },
  {
   "cell_type": "markdown",
   "metadata": {},
   "source": [
    "**2.** De la même manière, écrire une fonction `jacobi(A,b,x0,tol,itermax)` mettant en &oelig;uvre la [méthode de Jacobi](https://fr.wikipedia.org/wiki/M%C3%A9thode_de_Jacobi) et résoudre le système linéaire ci-dessus avec le même choix d'initialisation et de tolérance que précédemment. Quelle est la méthode la plus rapide ?"
   ]
  },
  {
   "cell_type": "code",
   "execution_count": null,
   "metadata": {},
   "outputs": [],
   "source": []
  },
  {
   "cell_type": "markdown",
   "metadata": {},
   "source": []
  },
  {
   "cell_type": "markdown",
   "metadata": {},
   "source": [
    "**3. (a)** Tracer le graphe des valeurs des rayons spectraux respectifs des matrices d'itération des méthodes de Jacobi et de Gauss-Seidel associées à $A_\\varepsilon$ en fonction de celle du paramètre $\\varepsilon$, pour $\\varepsilon$ prenant des valeurs $0$ entre $1$."
   ]
  },
  {
   "cell_type": "code",
   "execution_count": null,
   "metadata": {},
   "outputs": [],
   "source": []
  },
  {
   "cell_type": "markdown",
   "metadata": {},
   "source": [
    "**(b)** Que dire de la convergence des deux méthodes en fonction de la valeur de $\\varepsilon$ ?"
   ]
  },
  {
   "cell_type": "markdown",
   "metadata": {},
   "source": []
  },
  {
   "cell_type": "markdown",
   "metadata": {},
   "source": [
    "**(c)** Quelle méthode choisir pour résoudre le système lorsque $\\varepsilon=0,5$ ? Utiliser la méthode sélectionnée et comparer le nombre d'itérations nécessaires à celui observé en 1.(c). Comment expliquer la différence constatée ?"
   ]
  },
  {
   "cell_type": "markdown",
   "metadata": {},
   "source": []
  },
  {
   "cell_type": "code",
   "execution_count": null,
   "metadata": {},
   "outputs": [],
   "source": []
  },
  {
   "cell_type": "markdown",
   "metadata": {},
   "source": []
  },
  {
   "cell_type": "markdown",
   "metadata": {},
   "source": [
    "**4.** On pose à présent $n=100$. Pour $\\varepsilon=0,3$ et $\\varepsilon=0,35$, tracer (en utilisant la commande `semilogy` de Matplotlib) et comparer les graphes de la norme du résidu $r^{(k)}=b_\\varepsilon-A_\\varepsilon x^{(k)}$ en fonction du nombre d'itérations $1\\leq k\\leq 50$ pour la méthode de Jacobi (on modifiera pour cela la fonction précédemment écrite). Commenter en particulier la pente des courbes. Dans le cas où $\\varepsilon=0,35$, estimer à partir du graphe le nombre d'itérations nécessaires pour que la norme du résidu soit plus petite que $10^{-10}$."
   ]
  },
  {
   "cell_type": "code",
   "execution_count": null,
   "metadata": {},
   "outputs": [],
   "source": []
  },
  {
   "cell_type": "markdown",
   "metadata": {},
   "source": []
  },
  {
   "cell_type": "markdown",
   "metadata": {},
   "source": [
    "## Exercice 2 (paramètre optimal de la méthode de sur-relaxation successive)\n",
    "L'objectif de cet exercice est de déterminer un encadrement du paramètre de relaxation optimal de la [méthode de sur-relaxation successive](https://fr.wikipedia.org/wiki/M%C3%A9thode_de_surrelaxation_successive) appliquée la résolution d'un système linéaire $Ax=b$ particulier.\n",
    "\n",
    "**1.** &Eacute;crire, sur le modèle des fonctions de l'exercice précédent, une fonction `sor(A,b,omega,x0,tol,itermax)` mettant en &oelig;uvre la méthode de sur-relaxation successive."
   ]
  },
  {
   "cell_type": "code",
   "execution_count": 11,
   "metadata": {},
   "outputs": [],
   "source": [
    "def sor(A,b,omega,x0,tol,itermax):\n",
    "    k=0\n",
    "    n,m = A.shape\n",
    "    if n!=m:\n",
    "        raise ValueError('la matrice doit etre carré')   \n",
    "    x=x0.copy()\n",
    "    r=b-np.dot(A,x)\n",
    "    nr0=np.linalg.norm(r)\n",
    "    relnr=np.linalg.norm(r)/nr0\n",
    "    \n",
    "    if omega == 0:\n",
    "        ValueError('omega doit etre positif')\n",
    "    while k<itermax and relnr > tol:\n",
    "        k=k+1\n",
    "        for i in range(n):\n",
    "            r[i]=omega*r[i]/A[i,i]\n",
    "            for j in range(i+1,n):\n",
    "                r[j]=r[j]-A[j,i]*r[i]\n",
    "            x[i]=x[i]+r[i]\n",
    "        r=(b-np.dot(A,x))\n",
    "        relnr=np.linalg.norm(r)/nr0\n",
    "    if (relnr>tol):\n",
    "        print(\"Nbr max d'iterations atteint\")\n",
    "    return [x,k,relnr]\n"
   ]
  },
  {
   "cell_type": "markdown",
   "metadata": {},
   "source": [
    "On souhaite utiliser la méthode pour résoudre un système linéaire résultant de la discrétisation par une méthode de différences finies d'un [problème de Poisson](https://fr.wikipedia.org/wiki/%C3%89quation_de_Poisson), posé dans le carré unité, avec des conditions aux limites de Dirichlet homogènes et un second membre qui est la fonction constante égale à $1$. Ce problème modélise, de manière statique, la déformation d'une membrane élastique carrée, fixée en ses quatre côtés et soumise à une charge uniformément répartie en surface.\n",
    "\n",
    "On utilise $n$ points de discrétisation dans chaque direction d'espace, le système linéaire à résoudre ayant alors $(n-2)^2$ inconnues. On choisit dans un premier temps la valeur $n=6$."
   ]
  },
  {
   "cell_type": "code",
   "execution_count": 12,
   "metadata": {},
   "outputs": [],
   "source": [
    "# nombre de points de discrétisation dans chaque direction d'espace\n",
    "n=6\n",
    "# nombre d'inconnues du système linéaire\n",
    "N=(n-2)**2\n",
    "K=2*np.eye(n-2)-np.diag(np.ones(n-3),1)-np.diag(np.ones(n-3),-1)\n",
    "I=np.eye(n-2)\n",
    "# matrice du système linéaire\n",
    "A=(np.kron(K,I)+np.kron(I,K))*(n-1)**2"
   ]
  },
  {
   "cell_type": "markdown",
   "metadata": {},
   "source": [
    "**2.** Utiliser la méthode pour résoudre le système linéaire $Ax=b$ en faisant varier le paramètre de relaxation entre $1,2$ et $1,4$ par pas de longueur $10^{-5}$. Déterminer ainsi la valeur optimale du paramètre de relaxation. On choisira une approximation initiale nulle et on fixera la tolérance égale à $10^{-12}$ et le nombre d'itérations maximal égal à $1000$."
   ]
  },
  {
   "cell_type": "code",
   "execution_count": 13,
   "metadata": {},
   "outputs": [
    {
     "name": "stdout",
     "output_type": "stream",
     "text": [
      "la valeur optimal est:\n"
     ]
    },
    {
     "data": {
      "image/png": "[encoded data removed]",
      "text/plain": [
       "<Figure size 640x480 with 1 Axes>"
      ]
     },
     "metadata": {},
     "output_type": "display_data"
    }
   ],
   "source": [
    "b=np.ones(N)\n",
    "x0=np.zeros(N)\n",
    "omega_min,omega_max = 1.2,1.4\n",
    "ntrials = int((omega_max-omega_min)/(1e-5))+1\n",
    "omegas=np.linspace(omega_min,omega_max,ntrials)\n",
    "niter=np.zeros(ntrials)\n",
    "for i in range(ntrials):\n",
    "    [x,niter[i],relnr]=sor(A,b,omegas[i],x0,1e-12,1e3)\n",
    "plt.plot(omegas,niter)\n",
    "plt.xlabel(r'$\\omega$')\n",
    "plt.ylabel('nb d iterations')\n",
    "index=np.argmin(niter)\n",
    "print('la valeur optimal est:')"
   ]
  },
  {
   "cell_type": "markdown",
   "metadata": {},
   "source": [
    "La matrice du système considéré ci-dessus fait partie d'une classe de matrices pour lesquelles la valeur optimale du paramètre de relaxation est connue explicitement et vaut\n",
    "$$\n",
    "\\omega_o=\\frac{2}{1+\\sqrt{1-\\rho(B_J)^2}},\n",
    "$$\n",
    "où $\\rho(B_J)$ est le rayon spectral de la matrice d'itération de la méthode de Jacobi associée.\n",
    "\n",
    "**3.** Calculer la valeur du paramètre optimal et comparer avec l'encadrement trouvé heuristiquement dans la précédente question."
   ]
  },
  {
   "cell_type": "code",
   "execution_count": null,
   "metadata": {},
   "outputs": [],
   "source": []
  },
  {
   "cell_type": "markdown",
   "metadata": {},
   "source": [
    "**4.** Le code ci-dessous permet de représenter graphiquement, au moyen une élévation verticale, une solution approchée de l'équation de Poisson avec conditions aux limites de Dirichlet homogènes, la solution du système linéaire correspondant à la discrétisation du problème étant stockée dans le tableau `x`. Afficher l'approximation obtenue pour $n=15$."
   ]
  },
  {
   "cell_type": "code",
   "execution_count": null,
   "metadata": {},
   "outputs": [],
   "source": [
    "from mpl_toolkits import mplot3d\n",
    "\n",
    "xx,yy=np.linspace(0.,1.,n),np.linspace(0.,1.,n)\n",
    "X,Y=np.meshgrid(xx,yy)\n",
    "Z=np.zeros((n,n))\n",
    "Z[1:n-1,1:n-1]=x.reshape((n-2,n-2))\n",
    "\n",
    "fig=plt.figure()\n",
    "ax=plt.axes(projection='3d')\n",
    "ax.plot_surface(X,Y,Z,linewidth=0,antialiased=False,alpha=0.5)\n",
    "ax.set_xlabel(r'$x$')\n",
    "ax.set_ylabel(r'$y$')\n",
    "ax.set_zlabel(r'$u(x,y)')\n",
    "plt.show()"
   ]
  },
  {
   "cell_type": "markdown",
   "metadata": {},
   "source": [
    "## Exercice bonus (méthodes de Richardson, d'après G. Allaire et S. M. Kaber)\n",
    "\n",
    "Dans cet exercice, on considère la résolution d'un système linéaire $Ax=b$ issu de la discrétisation du problème de Poisson sur le segment unité, avec des conditions aux limites de Dirichlet homogènes et un second membre égal à la fonction $t\\mapsto t\\sin(t)$, par une méthode de Richardson.\n",
    "\n",
    "En supposant que l'on utilise $n$ points de discrétisation sur le segment, le système linéaire possède dans ce cas $n-2$ inconnues. On choisit la valeur $n=12$."
   ]
  },
  {
   "cell_type": "code",
   "execution_count": 23,
   "metadata": {},
   "outputs": [],
   "source": [
    "# nombre de points de discrétisation sur le segment\n",
    "n=12\n",
    "# nombre d'inconnues du système linéaire\n",
    "N=n-2\n",
    "# matrice du système linéaire\n",
    "A=(2*np.eye(N)-np.diag(np.ones(N-1),1)-np.diag(np.ones(N-1),-1))*(n-1)**2"
   ]
  },
  {
   "cell_type": "markdown",
   "metadata": {},
   "source": [
    "On considère tout d'abord la méthode de Richardson stationnaire.\n",
    "\n",
    "**1.** &Eacute;crire, sur le modèle des fonctions des exercices précédents, une fonction `richardson_stationnaire(A,b,alpha,x0,tol,itermax)` mettant en &oelig;uvre la méthode de Richardson stationnaire."
   ]
  },
  {
   "cell_type": "code",
   "execution_count": 24,
   "metadata": {},
   "outputs": [],
   "source": [
    "def richardson_stationnaire(A, b, alpha, x0, tol=1e-6, itermax=1000):\n",
    "    x = x0.copy()\n",
    "    r = b - np.dot(A, x)\n",
    "    err = np.linalg.norm(r)\n",
    "    i = 0\n",
    "    while err > tol and i < itermax:\n",
    "        x = x + alpha * r\n",
    "        r = b - np.dot(A, x)\n",
    "        err = np.linalg.norm(r)\n",
    "        i += 1\n",
    "    return x, i\n"
   ]
  },
  {
   "cell_type": "markdown",
   "metadata": {},
   "source": [
    "**2.** Résoudre le système linéaire avec la méthode de Richardson stationnaire et une valeur du paramètre de la méthode égale à $10^{-4}$. On choisira une approximation initiale nulle et on fixera la tolérance égale à $10^{-4}$ et le nombre d'itérations maximal à $10000$. On pourra comparer la solution obtenue avec celle calculée par la commande `linalg.solve(A,b)` de NumPy."
   ]
  },
  {
   "cell_type": "code",
   "execution_count": 25,
   "metadata": {},
   "outputs": [
    {
     "name": "stdout",
     "output_type": "stream",
     "text": [
      "Solution obtenue :\n",
      "[0.00703008 0.01399206 0.02068252 0.02676613 0.03178116 0.0351472\n",
      " 0.03617487 0.03407745 0.02798429 0.01695583]\n",
      "Solution exacte :\n",
      "[0.00703131 0.01399441 0.0206858  0.02677008 0.03178546 0.0351515\n",
      " 0.03617882 0.03408073 0.02798664 0.01695705]\n",
      "Nombre d'itérations :\n",
      "9180\n"
     ]
    }
   ],
   "source": [
    "xx = np.linspace(0, 1, n)\n",
    "b = xx[1:N+1] * np.sin(xx[1:N+1])\n",
    "x0 = np.zeros(N)\n",
    "\n",
    "alpha = 1e-4\n",
    "tol = 1e-4\n",
    "itermax = 10000\n",
    "\n",
    "# méthode de Richardson stationnaire\n",
    "x_rich, i_rich = richardson_stationnaire(A, b, alpha, x0, tol, itermax)\n",
    "\n",
    "# solution exacte\n",
    "x_exact = np.linalg.solve(A, b)\n",
    "\n",
    "# vérification de la solution\n",
    "print(\"Solution obtenue :\")\n",
    "print(x_rich)\n",
    "print(\"Solution exacte :\")\n",
    "print(x_exact)\n",
    "print(\"Nombre d'itérations :\")\n",
    "print(i_rich)\n"
   ]
  },
  {
   "cell_type": "markdown",
   "metadata": {},
   "source": [
    "La matrice $A$ du système étant réelle symétrique définie positive, on sait que la méthode est convergente pour toute valeur du paramètre $\\alpha$ telle que\n",
    "$$\n",
    "0<\\alpha<\\frac{2}{\\lambda_\\max}\n",
    "$$\n",
    "et que la valeur optimale du paramètre $\\alpha$ de la méthode de Richardson est\n",
    "$$\n",
    "\\alpha_o=\\frac{2}{\\lambda_\\max+\\lambda_\\min},\n",
    "$$\n",
    "    où $\\lambda_\\max$ et $\\lambda_\\min$ sont respectivement la plus grande et la plus petite valeur propre de $A$. Les valeurs propres de la matrice $A$ sont par ailleurs données par\n",
    "$$\n",
    "4(n-1)^2\\sin\\left(\\frac{i\\pi}{2(n-1)}\\right)^2,\\ i=1,\\dots,n-2.\n",
    "$$\n",
    "\n",
    "**2.** Utiliser la méthode de Richardson stationnaire pour résoudre le système linéaire $Ax=b$ en faisant varier le paramètre de la méthode entre $32\\times10^{-4}$ et $42\\times10^{-4}$ par pas de longueur $10^{-5}$. On choisira une approximation initiale nulle et on fixera la tolérance égale à $10^{-10}$ et le nombre d'itérations maximal à $10000$. Déterminer ainsi la valeur conduisant au nombre minimal d'itérations effectuées et la comparer à la valeur théorique $\\alpha_o$."
   ]
  },
  {
   "cell_type": "code",
   "execution_count": null,
   "metadata": {
    "scrolled": false
   },
   "outputs": [],
   "source": [
    "\n",
    "# calcul des valeurs propres de A\n",
    "lambdas = np.sort(4*(n-1)**2*np.sin(np.pi*np.arange(1, N+1)/(2*(n-1)))**2)\n",
    "lambdamin = lambdas[0]\n",
    "lambdamax = lambdas[-1]\n",
    "\n",
    "# valeur optimale de alpha\n",
    "alpha_opt = 2*lambdamax + lambdamin\n",
    "\n",
    "# paramètres de la méthode de Richardson stationnaire\n",
    "tol = 1e-10\n",
    "itermax = 10000\n",
    "\n",
    "# initialisation des tableaux pour stocker les résultats\n",
    "alphas = np.arange(32, 42.0001, 0.0001)*1e-4\n",
    "iterations = np.zeros_like(alphas)\n",
    "\n",
    "# résolution du système pour chaque valeur de alpha\n",
    "for i, alpha in enumerate(alphas):\n",
    "    x0 = np.zeros(N)\n",
    "    x, iterations[i] = richardson_stationnaire(A, b, alpha, x0, tol, itermax)\n",
    "\n",
    "# affichage de la valeur optimale de alpha et du nombre minimal d'itérations\n",
    "imin = np.argmin(iterations)\n",
    "alpha_min = alphas[imin]\n",
    "niter_min = iterations[imin]\n",
    "print(\"Valeur optimale de alpha :\", alpha_opt)\n",
    "print(\"Valeur minimale de nombre d'itérations :\", niter_min, \"pour alpha =\", alpha_min)\n"
   ]
  },
  {
   "cell_type": "markdown",
   "metadata": {},
   "source": [
    "Pour améliorer la méthode, on se propose de faire varier le paramètre $\\alpha$ à chaque étape, la méthode étant alors dite <i>instationnaire</i>.\n",
    "À chaque itération, on choisit la valeur de $\\alpha^{(k)}$ minimisant la forme quadratique\n",
    "$$\n",
    "q(x^{(k+1)})=\\frac{1}{2}(x^{(k+1)})^\\top Ax^{(k+1)}-(x^{(k+1)})^\\top b,\\text{ avec }x^{(k+1)}=x^{(k)}+\\alpha r^{(k)}.\n",
    "$$\n",
    "On peut en effet montrer que minimiser $q(x)$ (par rapport à $x$) équivaut à résoudre le système linéaire $Ax=b$ et l'on vise par conséquent à minimiser à chape étape la forme quadratique le long de la direction donnée par le résidu courant $r^{(k)}$. En dérivant l'expression ci-dessus par rapport à $\\alpha$ et cherchant la valeur de $\\alpha$ annnulant cette dérivée, on trouve\n",
    "$$\n",
    "\\alpha^{(k)}=\\frac{{\\|r^{(k)}\\|_2}^2}{(r^{(k)})^\\top Ar^{(k)}}.\n",
    "$$\n",
    "\n",
    "**4.** &Eacute;crire, sur le modèle de la précédente fonction, une fonction `richardson_instationnaire(A,b,x0,tol,itermax)` mettant en &oelig;uvre la méthode de Richardson instationnaire dans laquelle la valeur du paramètre de la méthode est donnée à chaque itération par la formule ci-dessus. Comparer alors les deux méthodes de Richardson, notamment en termes du nombre d'itérations, en utilisant les paramètres numériques de la question précédente et la valeur optimale $\\alpha_o$ pour la méthode stationnaire."
   ]
  },
  {
   "cell_type": "code",
   "execution_count": null,
   "metadata": {},
   "outputs": [],
   "source": []
  }
 ],
 "metadata": {
  "kernelspec": {
   "display_name": "Python 3 (ipykernel)",
   "language": "python",
   "name": "python3"
  },
  "language_info": {
   "codemirror_mode": {
    "name": "ipython",
    "version": 3
   },
   "file_extension": ".py",
   "mimetype": "text/x-python",
   "name": "python",
   "nbconvert_exporter": "python",
   "pygments_lexer": "ipython3",
   "version": "3.9.12"
  }
 },
 "nbformat": 4,
 "nbformat_minor": 1
}
