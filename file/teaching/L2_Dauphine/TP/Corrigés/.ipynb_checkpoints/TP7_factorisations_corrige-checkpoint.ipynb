{
 "cells": [
  {
   "cell_type": "markdown",
   "metadata": {},
   "source": [
    "# Feuille de travaux pratiques. Méthodes directes de résolution des systèmes linéaires"
   ]
  },
  {
   "cell_type": "code",
   "execution_count": null,
   "metadata": {},
   "outputs": [],
   "source": [
    "# chargement des bibliothèques\n",
    "import numpy as np\n",
    "\n",
    "%matplotlib inline\n",
    "import matplotlib.pyplot as plt"
   ]
  },
  {
   "cell_type": "markdown",
   "metadata": {},
   "source": [
    "## Exercice 1 (factorisation LU)\n",
    "On rappelle que le procédé d'élimination de Gauss sans échange, lorsqu'il est applicable à une matrice carrée inversible $A$, s'interprète comme un procédé de factorisation de $A$ sous la forme d'un produit $LU$, où la matrice $L$ est triangulaire inférieure, à éléments diagonaux tous égaux à $1$ et la matrice $U$ est triangulaire supérieure.\n",
    "\n",
    "**1.** En se servant des formules vues en cours, écrire une fonction `LU`, prenant en argument un tableau contenant la matrice $A$ et retournant les matrices $L$ et $U$ de la factorisation $A=LU$, toutes deux stockées dans un tableau de même taille que celui contenant $A$. On rappelle que les éléments diagonaux de la matrice $L$ étant connus a priori, il n'est pas utile de les stocker."
   ]
  },
  {
   "cell_type": "code",
   "execution_count": null,
   "metadata": {},
   "outputs": [],
   "source": [
    "def LU(A):\n",
    "# calcul de la factorisation LU d'une matrice carrée (version \"kji\")\n",
    "    m,n=A.shape\n",
    "    if m!=n:\n",
    "        raise ValueError('La matrice n\\'est pas carrée.')\n",
    "    matLU=A.copy()\n",
    "    for k in range(n):\n",
    "        if matLU[k,k]!=0:\n",
    "            for i in range(k+1,n):\n",
    "                matLU[i,k]=matLU[i,k]/matLU[k,k]\n",
    "                for j in range(k+1,n):\n",
    "                    matLU[i,j]=matLU[i,j]-matLU[i,k]*matLU[k,j]\n",
    "        else:\n",
    "            raise ValueError('Le ',k+1,'e pivot est nul.')\n",
    "    return matLU  "
   ]
  },
  {
   "cell_type": "markdown",
   "metadata": {},
   "source": [
    "**2.** Utiliser cette fonction pour calculer la décomposition LU de la matrice\n",
    "$$\n",
    "A=\n",
    "\\begin{pmatrix}\n",
    "2 & -1 & 0 \\\\\n",
    "-1 & 2 & -1 \\\\\n",
    "0 & -1 & 3 \\\\\n",
    "\\end{pmatrix}.\n",
    "$$"
   ]
  },
  {
   "cell_type": "code",
   "execution_count": null,
   "metadata": {},
   "outputs": [],
   "source": [
    "A=np.array([[2.,-1.,0.],[-1.,2.,-1.],[0.,-1.,3.]])\n",
    "matLU=LU(A)\n",
    "print(matLU)"
   ]
  },
  {
   "cell_type": "markdown",
   "metadata": {},
   "source": [
    "**3.** Utiliser cette factorisation pour résoudre le système linaire $Ax=b$ avec $b=(1,2,3)^\\top$. Vérifier que le résultat trouvé est correct en le comparant à celui calculé par la commande `linalg.solve(A,b)` de NumPy."
   ]
  },
  {
   "cell_type": "code",
   "execution_count": null,
   "metadata": {},
   "outputs": [],
   "source": [
    "b=np.array([1.,2.,3.])\n",
    "n=A.shape[0]\n",
    "# résolution de Ly=b par une méthode de descente\n",
    "y=b.copy()\n",
    "for i in range(n):\n",
    "    for j in range(i+1,n):\n",
    "        y[j]=y[j]-matLU[j,i]*y[i]\n",
    "# résolution de Ux=y par une méthode de remontée\n",
    "x=np.zeros(n)\n",
    "for i in range(n-1,-1,-1):\n",
    "    x[i]=y[i]/matLU[i,i]\n",
    "    for j in range(i-1,-1,-1):\n",
    "         y[j]=y[j]-matLU[j,i]*x[i]\n",
    "print('solution  :',x)\n",
    "print('norme de la différence avec la solution de référence :',np.linalg.norm(x-np.linalg.solve(A,b)))"
   ]
  },
  {
   "cell_type": "markdown",
   "metadata": {},
   "source": [
    "## Exercice 2 (factorisation QR)\n",
    "\n",
    "\n",
    "**1.** En s'inspirant de l'algorithme du procédé d'orthonormalisation Gram-Schmidt modifié mis en &oelig;uvre lors d'une précédente séance, écrire une fonction `QR` retournant la factorisation QR d'une matrice carrée."
   ]
  },
  {
   "cell_type": "code",
   "execution_count": null,
   "metadata": {},
   "outputs": [],
   "source": [
    "def QR(A):\n",
    "# calcul de la factorisation QR d'une matrice carrée via le procédé de Gram-Schmidt modifié\n",
    "    m,n=A.shape\n",
    "    if m!=n:\n",
    "        raise ValueError('La matrice n\\'est pas carrée.')\n",
    "    Q=A.copy()\n",
    "    R=np.zeros((n,n))\n",
    "    for i in range(n):\n",
    "        R[i,i]=np.linalg.norm(Q[:,i],2)\n",
    "        if R[i,i]<1e-14:\n",
    "            raise ValueError('Il semble que la matrice n\\'est pas inversible.')\n",
    "        else:\n",
    "            Q[:,i]=Q[:,i]/R[i,i]\n",
    "            for j in range(i+1,n):\n",
    "                R[i,j]=np.dot(Q[:,i],Q[:,j])\n",
    "                Q[:,j]=Q[:,j]-R[i,j]*Q[:,i]\n",
    "    return [Q,R]"
   ]
  },
  {
   "cell_type": "markdown",
   "metadata": {},
   "source": [
    "**2.** Utiliser cette fonction pour résoudre le système linéaire de l'exercice précédent."
   ]
  },
  {
   "cell_type": "code",
   "execution_count": null,
   "metadata": {},
   "outputs": [],
   "source": [
    "A=np.array([[2.,-1.,0.],[-1.,2.,-1.],[0.,-1.,3.]])\n",
    "b=np.array([1.,2.,3.])\n",
    "n=A.shape[0]\n",
    "# factorisation QR de A\n",
    "[Q,R]=QR(A)\n",
    "print(Q)\n",
    "print(R)\n",
    "# résolution de Qy=b\n",
    "y=np.dot(Q.T,b)\n",
    "# résolution du système Rx=y par remontée\n",
    "x=np.zeros(Q.shape[0])\n",
    "for i in range(n-1,-1,-1):\n",
    "    x[i]=y[i]/R[i,i]\n",
    "    for j in range(i-1,-1,-1):\n",
    "         y[j]=y[j]-R[j,i]*x[i]\n",
    "print('solution :',x)"
   ]
  },
  {
   "cell_type": "markdown",
   "metadata": {},
   "source": [
    "## Exercice 3 (erreurs d'arrondi et conditionnement)\n",
    "On veut dans cet exercice mettre en évidence les problèmes, liés à la présence d'erreurs d'arrondi dans les calculs, apparaissant lors de la résolution numérique de certains systèmes linéaires. On va pour cela considérer la famille des [matrices de Hilbert](https://en.wikipedia.org/wiki/Hilbert_matrix). Avec la bibliothèque SciPy, la matrice de Hilbert $H$ d'ordre $n$ est obtenue en entrant la commande `linalg.hilbert(n)`.\n",
    "\n",
    "**1.** Poser $n=10$ et choisir un vecteur non nul $x$ de $R^n$ (par exemple le vecteur dont toutes les composantes sont égales à $1$). Calculer ensuite le vecteur $b=Hx$."
   ]
  },
  {
   "cell_type": "code",
   "execution_count": null,
   "metadata": {},
   "outputs": [],
   "source": [
    "from scipy import linalg\n",
    "\n",
    "n=10\n",
    "x=np.ones(n)\n",
    "H=linalg.hilbert(10)\n",
    "b=np.dot(H,x)"
   ]
  },
  {
   "cell_type": "markdown",
   "metadata": {},
   "source": [
    "**2.** Résoudre alors numériquement le système $Hx=b$ en utilisant la commande `solve`. Que constate-t-on ? En notant $\\hat{x}$ la solution calculée, comparer précisément $\\hat{x}$ avec $x$ en calculant l'erreur relative\n",
    "$$\n",
    "\\frac{\\|\\hat{x}-x\\|_2}{\\|x\\|_2}.\n",
    "$$ "
   ]
  },
  {
   "cell_type": "code",
   "execution_count": null,
   "metadata": {},
   "outputs": [],
   "source": [
    "xh=np.linalg.solve(H,b)\n",
    "print('Solution calculée :',xh)\n",
    "print('Erreur relative :',np.linalg.norm(xh-x)/np.linalg.norm(x))"
   ]
  },
  {
   "cell_type": "markdown",
   "metadata": {},
   "source": [
    "On observe que l'erreur est grande en regard de la précision machine."
   ]
  },
  {
   "cell_type": "markdown",
   "metadata": {},
   "source": [
    "**3.** L'erreur relative dépend-elle fortement du choix du second membre du système linéaire ?"
   ]
  },
  {
   "cell_type": "markdown",
   "metadata": {},
   "source": [
    "Pour évaluer cette dépendance, on tire une solution $x$ aléatoirement au moyen de la commande `random.rand` de NumPy et on calcule le second membre correspondant comme dans la première question. On effectue ensuite la résolution du système linéaire ainsi obtenu. On répète plusieurs fois l'opération."
   ]
  },
  {
   "cell_type": "code",
   "execution_count": null,
   "metadata": {},
   "outputs": [],
   "source": [
    "for i in range(10):\n",
    "    x=np.random.rand(n)\n",
    "    b=np.dot(H,x)\n",
    "    xh=np.linalg.solve(H,b)\n",
    "    print('Erreur relative :',np.linalg.norm(xh-x)/np.linalg.norm(x))"
   ]
  },
  {
   "cell_type": "markdown",
   "metadata": {},
   "source": [
    "On constate que l'erreur ne dépend pas beaucoup du choix initial."
   ]
  },
  {
   "cell_type": "markdown",
   "metadata": {},
   "source": [
    "**4.** Tracer le graphe, en utilisant une échelle logarithmique pour l'axe des ordonnées, de l'erreur relative en fonction de l'ordre $n$ de la matrice de Hilbert pour la solution dont toutes les composantes sont égales à 1. Tracer sur la même figure le graphe du [conditionnement](https://fr.wikipedia.org/wiki/Conditionnement_%28analyse_num%C3%A9rique%29#Conditionnement_d'une_matrice) en norme $\\|\\cdot\\|_2$ de la matrice, obtenu au moyen de la commande `linalg.cond(.,2)` de NumPy, en fonction de son ordre. Que peut-on remarquer ? "
   ]
  },
  {
   "cell_type": "code",
   "execution_count": null,
   "metadata": {},
   "outputs": [],
   "source": [
    "err_rel,conditionnement=np.zeros(10),np.zeros(10)\n",
    "i=0\n",
    "for n in range(2,12):\n",
    "    x=np.ones(n)\n",
    "    H=linalg.hilbert(n)\n",
    "    conditionnement[i]=np.linalg.cond(H,2)\n",
    "    b=np.dot(H,x)\n",
    "    xh=np.linalg.solve(H,b)\n",
    "    err_rel[i]=np.linalg.norm(xh-x)/np.linalg.norm(x)\n",
    "    i=i+1\n",
    "plt.semilogy(np.arange(2,12),err_rel,label='erreur relative')\n",
    "plt.semilogy(np.arange(2,12),conditionnement,label='conditionnement')\n",
    "plt.legend()"
   ]
  },
  {
   "cell_type": "markdown",
   "metadata": {},
   "source": [
    "On observe que l'erreur numérique est proportionnelle au conditionnement du problème résolu (donné ici par le conditionnement de la matrice)."
   ]
  }
 ],
 "metadata": {
  "kernelspec": {
   "display_name": "Python 3 (ipykernel)",
   "language": "python",
   "name": "python3"
  },
  "language_info": {
   "codemirror_mode": {
    "name": "ipython",
    "version": 3
   },
   "file_extension": ".py",
   "mimetype": "text/x-python",
   "name": "python",
   "nbconvert_exporter": "python",
   "pygments_lexer": "ipython3",
   "version": "3.9.12"
  }
 },
 "nbformat": 4,
 "nbformat_minor": 1
}
