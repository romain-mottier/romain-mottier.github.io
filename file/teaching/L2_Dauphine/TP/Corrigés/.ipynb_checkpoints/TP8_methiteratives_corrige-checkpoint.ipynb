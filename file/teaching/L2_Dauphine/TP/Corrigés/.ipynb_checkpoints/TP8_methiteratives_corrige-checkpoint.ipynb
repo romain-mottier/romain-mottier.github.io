{
 "cells": [
  {
   "cell_type": "markdown",
   "metadata": {},
   "source": [
    "# Feuille de travaux pratiques. Méthodes itératives de résolution des systèmes linéaires"
   ]
  },
  {
   "cell_type": "code",
   "execution_count": null,
   "metadata": {},
   "outputs": [],
   "source": [
    "# chargement des bibliothèques\n",
    "import numpy as np\n",
    "\n",
    "%matplotlib inline\n",
    "import matplotlib.pyplot as plt"
   ]
  },
  {
   "cell_type": "markdown",
   "metadata": {},
   "source": [
    "## Exercice 1 (utilisation des méthodes de Gauss-Seidel et de Jacobi, d'après A. Quarteroni)\n",
    "Soit $n$ un entier naturel non nul et $\\varepsilon$ un réel appartenant à l'intervalle $[0,1]$. On considère le système linéaire $A_\\varepsilon x=b_\\varepsilon$ d'ordre $n$, dans lequel\n",
    "$$\n",
    "A_\\varepsilon=\\begin{pmatrix}1&\\varepsilon&\\varepsilon^2&0&\\cdots&0\\\\\\varepsilon&1&\\varepsilon&\\ddots&\\ddots&\\vdots\\\\\\varepsilon^2&\\varepsilon&\\ddots&\\ddots&\\ddots&0\\\\0&\\ddots&\\ddots&\\ddots&\\ddots&\\varepsilon^2\\\\\\vdots&\\ddots&\\ddots&\\ddots&1&\\varepsilon\\\\0&\\cdots&0&\\varepsilon^2&\\varepsilon&1\\end{pmatrix}\\text{ et }b_\\varepsilon=A_\\varepsilon\\begin{pmatrix}1\\\\1\\\\\\vdots\\\\1\\end{pmatrix}.\n",
    "$$\n",
    "La commande `A,b=systeme(n,epsilon)`, qui fait appel à la fonction codée ci-dessous, permet de construire les tableaux associés à la matrice $A_\\varepsilon$ et au vecteur $b_\\varepsilon$ pour des valeurs de l'entier $n$ et du réel $\\varepsilon$ données."
   ]
  },
  {
   "cell_type": "code",
   "execution_count": null,
   "metadata": {},
   "outputs": [],
   "source": [
    "def systeme(n,epsilon):\n",
    "    A=np.eye(n)\n",
    "    i,j=np.indices(A.shape)\n",
    "    A[i==j-1]=epsilon\n",
    "    A[i==j+1]=epsilon\n",
    "    A[i==j-2]=epsilon**2\n",
    "    A[i==j+2]=epsilon**2\n",
    "    b=np.dot(A,np.ones(n))\n",
    "    return A,b"
   ]
  },
  {
   "cell_type": "markdown",
   "metadata": {},
   "source": [
    "On pose dans un premier temps $n=5$."
   ]
  },
  {
   "cell_type": "code",
   "execution_count": null,
   "metadata": {},
   "outputs": [],
   "source": [
    "n=5"
   ]
  },
  {
   "cell_type": "markdown",
   "metadata": {},
   "source": [
    "**1.** On sait que si la matrice $A_\\varepsilon$ est à diagonale strictement dominante par lignes, alors la [méthode de Gauss-Seidel](https://fr.wikipedia.org/wiki/M%C3%A9thode_de_Gauss-Seidel), appliquée à la résolution du système ci-dessus, est convergente.\n",
    "\n",
    "  **(a)** Vérifier que $A_r$ est bien à diagonale strictement dominante par lignes quand $\\varepsilon=0,3$."
   ]
  },
  {
   "cell_type": "code",
   "execution_count": null,
   "metadata": {},
   "outputs": [],
   "source": [
    "epsilon=0.3\n",
    "A,b=systeme(n,epsilon)\n",
    "D=np.diag(A)\n",
    "if all(abs(D)>np.sum(abs(A-np.diag(D)),1)):\n",
    "    print('La matrice est à diagonale dominante par lignes')\n",
    "else:\n",
    "    print('La matrice n\\'est pas à diagonale dominante par lignes')"
   ]
  },
  {
   "cell_type": "markdown",
   "metadata": {},
   "source": [
    "**(b)** &Eacute;crire une fonction `gaussseidel(A,b,x0,tol,itermax)` mettant en &oelig;uvre la méthode de Gauss-Seidel. Cette fonction renverra, en plus de la solution approchée, le nombre d'itérations nécessaires pour satisfaire le critère de convergence et la norme du résidu final."
   ]
  },
  {
   "cell_type": "code",
   "execution_count": null,
   "metadata": {},
   "outputs": [],
   "source": [
    "def gaussseidel(A,b,x0,tol,itermax):\n",
    "# Résolution du système linéaire Ax=b par la méthode itérative de Gauss-Seidel.\n",
    "# La matrice A du système doit être inversible et le second membre b doit être de taille compatible avec l'ordre de A.\n",
    "# En entrée :\n",
    "# le tableau x0 contient le premier terme de la suite des vecteurs itérés,\n",
    "# le réel tol est la tolérance utilisée pour le critère d'arrêt,\n",
    "# l'entier itermax est le nombre maximal d'itérations autorisées.\n",
    "# En sortie :  \n",
    "# le tableau x contient la solution approchée obtenue,\n",
    "# l'entier iter contient le nombre d'itérations nécessaires pour atteindre la convergence,\n",
    "# le réel relnr contient la norme du résidu relatif à la dernière itération.\n",
    "    m,n=A.shape\n",
    "    if n!=m:\n",
    "        raise ValueError('La matrice doit être carrée.')\n",
    "    # initialisation\n",
    "    iter=0\n",
    "    x=x0.copy()\n",
    "    r=b-np.dot(A,x)\n",
    "    nr0=np.linalg.norm(r)\n",
    "    relnr=np.linalg.norm(r)/nr0\n",
    "    while (relnr>tol) and (iter<itermax):\n",
    "        iter=iter+1\n",
    "        for i in range(n):\n",
    "            r[i]=r[i]/A[i,i]\n",
    "            for j in range(i+1,n):\n",
    "                r[j]=r[j]-A[j,i]*r[i]\n",
    "            x[i]=x[i]+r[i]\n",
    "        r=b-np.dot(A,x)\n",
    "        relnr=np.linalg.norm(r)/nr0\n",
    "    if (relnr>tol):\n",
    "        print('Nombre maximum d\\'itérations atteint sans que le critère d\\'arrêt soit satisfait.')\n",
    "    return [x,iter,relnr]"
   ]
  },
  {
   "cell_type": "markdown",
   "metadata": {},
   "source": [
    "**(c)** Utiliser cette fonction pour calculer avec une solution approchée du système ci-dessus, en utilisant le vecteur $x^{(0)}=\\begin{pmatrix}0&0&0&0&0\\end{pmatrix}^\\top$ comme initialisation et une tolérance égale à $10^{-10}$ pour le critère d'arrêt."
   ]
  },
  {
   "cell_type": "code",
   "execution_count": null,
   "metadata": {},
   "outputs": [],
   "source": [
    "x0=np.zeros(n)\n",
    "tol=1e-10\n",
    "itermax=1e3\n",
    "[x,iter,res]=gaussseidel(A,b,x0,tol,itermax)\n",
    "print('Solution approchée obtenue après',iter,'itérations :',x)"
   ]
  },
  {
   "cell_type": "markdown",
   "metadata": {},
   "source": [
    "**2.** De la même manière, écrire une fonction `jacobi(A,b,x0,tol,itermax)` mettant en &oelig;uvre la [méthode de Jacobi](https://fr.wikipedia.org/wiki/M%C3%A9thode_de_Jacobi) et résoudre le système linéaire ci-dessus avec le même choix d'initialisation et de tolérance que précédemment. Quelle est la méthode la plus rapide ?"
   ]
  },
  {
   "cell_type": "code",
   "execution_count": null,
   "metadata": {},
   "outputs": [],
   "source": [
    "def jacobi(A,b,x0,tol,itermax):\n",
    "# Résolution du système linéaire Ax=b par la méthode itérative de Jacobi.\n",
    "# La matrice A du système doit être inversible et le second membre b doit être de taille compatible avec l'ordre de A.\n",
    "# En entrée :\n",
    "# le tableau x0 contient le premier terme de la suite des vecteurs itérés,\n",
    "# le réel tol est la tolérance utilisée pour le critère d'arrêt,\n",
    "# l'entier itermax est le nombre maximal d'itérations autorisées.\n",
    "# En sortie :\n",
    "# le tableau x contient la solution approchée obtenue,\n",
    "# l'entier iter contient le nombre d'itérations nécessaires pour atteindre la convergence,\n",
    "# le réel relnr contient la norme du résidu relatif à la dernière itération.\n",
    "    m,n=A.shape\n",
    "    if n!=m:\n",
    "        raise ValueError('La matrice doit être carrée.')\n",
    "    # initialisation\n",
    "    iter=0\n",
    "    x=x0.copy()\n",
    "    r=b-np.dot(A,x)\n",
    "    nr0=np.linalg.norm(r)\n",
    "    relnr=np.linalg.norm(r)/nr0\n",
    "    while (relnr>tol) and (iter<itermax):\n",
    "        iter=iter+1\n",
    "        for i in range(n):\n",
    "            x[i]=x[i]+r[i]/A[i,i]\n",
    "        r=b-np.dot(A,x)\n",
    "        relnr=np.linalg.norm(r)/nr0\n",
    "    if (relnr>tol):\n",
    "        print('Nombre maximum d\\'itérations atteint sans que le critère d\\'arrêt soit satisfait.')\n",
    "    return [x,iter,relnr]\n",
    "\n",
    "[x,iter,res]=jacobi(A,b,x0,tol,itermax)\n",
    "print('Solution approchée obtenue après',iter,'itérations :',x)"
   ]
  },
  {
   "cell_type": "markdown",
   "metadata": {},
   "source": [
    "On a besoin d'effectuer 50 itérations avec la méthode de Jacobi contre 14 pour la méthode de Gauss-Seidel. La méthode la plus rapide est la méthode de Gauss-Seidel."
   ]
  },
  {
   "cell_type": "markdown",
   "metadata": {},
   "source": [
    "**3. (a)** Tracer le graphe des valeurs des rayons spectraux respectifs des matrices d'itération des méthodes de Jacobi et de Gauss-Seidel associées à $A_\\varepsilon$ en fonction de celle du paramètre $\\varepsilon$, pour $\\varepsilon$ prenant des valeurs $0$ entre $1$."
   ]
  },
  {
   "cell_type": "code",
   "execution_count": null,
   "metadata": {},
   "outputs": [],
   "source": [
    "tabepsilon=np.linspace(0,1,20)\n",
    "rayon_spectral_GS,rayon_spectral_J=np.zeros(tabepsilon.shape[0]),np.zeros(tabepsilon.shape[0])\n",
    "for k in range(tabepsilon.shape[0]):\n",
    "    A,b=systeme(n,tabepsilon[k])\n",
    "    B_GS=-np.dot(np.linalg.inv(np.tril(A)),np.triu(A,1))\n",
    "    [valp,vectp]=np.linalg.eig(B_GS)\n",
    "    rayon_spectral_GS[k]=max(abs(valp))\n",
    "    B_J=-np.dot(np.diag(1./np.diag(A)),(np.tril(A,-1)+np.triu(A,1)))\n",
    "    [valp,vectp]=np.linalg.eig(B_J)\n",
    "    rayon_spectral_J[k]=max(abs(valp))\n",
    "\n",
    "fig=plt.figure()\n",
    "plt.plot(tabepsilon,rayon_spectral_GS,label='Gauss-Seidel')\n",
    "plt.plot(tabepsilon,rayon_spectral_J,label='Jacobi')\n",
    "plt.plot(tabepsilon,np.ones(tabepsilon.shape[0]))\n",
    "plt.legend()"
   ]
  },
  {
   "cell_type": "markdown",
   "metadata": {},
   "source": [
    "**(b)** Que dire de la convergence des deux méthodes en fonction de la valeur de $\\varepsilon$ ?"
   ]
  },
  {
   "cell_type": "markdown",
   "metadata": {},
   "source": [
    "On observe sur la figure ci-dessus que le rayon spectral de la matrice d'itération de la méthode de Gauss-Seidel est toujours plus petit que celui de la matrice d'itération de la méthode de Jacobi. On confirme ainsi ce qui a été constaté à la question 2 pour le cas particulier $\\varepsilon=0,3$: la convergence de la méthode de Gauss-Seidel est plus rapide que celle de la méthode de Jacobi pour ce problème. Par ailleurs, on voit encore que la méthode de Jacobi ne converge que si la valeur de $\\varepsilon$ est inférieure à un nombre compris entre $0,4$ et $0,45$, alors que la méthode de Gauss-Seidel converge pour toute valeur de $\\varepsilon$ inférieure à un nombre proche de $0,7$."
   ]
  },
  {
   "cell_type": "markdown",
   "metadata": {},
   "source": [
    "**(c)** Quelle méthode choisir pour résoudre le système lorsque $\\varepsilon=0,5$ ? Utiliser la méthode sélectionnée et comparer le nombre d'itérations nécessaires à celui observé en 1.(c). Comment expliquer la différence constatée ?"
   ]
  },
  {
   "cell_type": "markdown",
   "metadata": {},
   "source": [
    "Lorsque le paramètre $\\varepsilon$ vaut $0,5$, on voit sur la figure ci-dessus que le rayon spectral de la matrice d'itération de la méthode de Jacobi est supérieur à $1$. Cette méthode ne converge donc pas et il faut lui préférer la méthode de Gauss-Seidel pour la résolution approchée dans ce cas."
   ]
  },
  {
   "cell_type": "code",
   "execution_count": null,
   "metadata": {},
   "outputs": [],
   "source": [
    "A,b=systeme(n,0.5)\n",
    "x0=np.zeros(n)\n",
    "[x,iter,res]=gaussseidel(A,b,x0,tol,itermax)\n",
    "print('Solution approchée obtenue après',iter,'itérations :',x)"
   ]
  },
  {
   "cell_type": "markdown",
   "metadata": {},
   "source": [
    "L'augmentation du nombre d'itérations requises par rapport à la question 1.(c) s'explique par le fait que le rayon spectral de la matrice d'itération de la méthode a augmenté."
   ]
  },
  {
   "cell_type": "markdown",
   "metadata": {},
   "source": [
    "**4.** On pose à présent $n=100$. Pour $\\varepsilon=0,3$ et $\\varepsilon=0,35$, tracer (en utilisant la commande `semilogy` de Matplotlib) et comparer les graphes de la norme du résidu $r^{(k)}=b_\\varepsilon-A_\\varepsilon x^{(k)}$ en fonction du nombre d'itérations $1\\leq k\\leq 50$ pour la méthode de Jacobi (on modifiera pour cela la fonction précédemment écrite). Commenter en particulier la pente des courbes. Dans le cas où $\\varepsilon=0,35$, estimer à partir du graphe le nombre d'itérations nécessaires pour que la norme du résidu soit plus petite que $10^{-10}$."
   ]
  },
  {
   "cell_type": "code",
   "execution_count": null,
   "metadata": {},
   "outputs": [],
   "source": [
    "def jacobi_res(A,b,x0,tol,itermax):\n",
    "# Résolution du système linéaire Ax=b par la méthode itérative de Jacobi.\n",
    "# La matrice A du système doit être inversible et le second membre b doit être de taille compatible avec l'ordre de A.\n",
    "# En entrée :\n",
    "# le tableau x0 contient le premier terme de la suite des vecteurs itérés,\n",
    "# le réel tol est la tolérance utilisée pour le critère d'arrêt,\n",
    "# l'entier itermax est le nombre maximal d'itérations autorisées.\n",
    "# En sortie :\n",
    "# le tableau x contient la solution approchée obtenue,\n",
    "# l'entier iter contient le nombre d'itérations nécessaires pour atteindre la convergence,\n",
    "# le tableau res contient la norme du résidu relatif à chaque itération.\n",
    "    m,n=A.shape\n",
    "    if n!=m:\n",
    "        raise ValueError('La matrice doit être carrée.')\n",
    "    res=np.zeros(itermax)\n",
    "    # initialisation\n",
    "    iter=0\n",
    "    x=x0.copy()\n",
    "    r=b-np.dot(A,x)\n",
    "    nr0=np.linalg.norm(r)\n",
    "    relnr=np.linalg.norm(r)/nr0\n",
    "    while (relnr>tol) and (iter<itermax):\n",
    "        res[iter]=relnr\n",
    "        iter=iter+1\n",
    "        for i in range(n):\n",
    "            x[i]=x[i]+r[i]/A[i,i]\n",
    "        r=b-np.dot(A,x)\n",
    "        relnr=np.linalg.norm(r)/nr0\n",
    "    if (relnr>tol):\n",
    "        print('Nombre maximum d\\'itérations atteint sans que le critère d\\'arrêt soit satisfait.');\n",
    "    return [x,iter,res]\n",
    "\n",
    "n=100\n",
    "x0=np.zeros(n)\n",
    "itermax=50\n",
    "\n",
    "A,b=systeme(n,0.3)\n",
    "[x,iter,res1]=jacobi_res(A,b,x0,tol,itermax)\n",
    "\n",
    "A,b=systeme(n,0.35)\n",
    "[x,iter,res2]=jacobi_res(A,b,x0,tol,itermax)\n",
    "\n",
    "fig=plt.figure()\n",
    "plt.semilogy(res1,label='$\\\\varepsilon=0,3$')\n",
    "plt.semilogy(res2,label='$\\\\varepsilon=0,35$')\n",
    "plt.legend()"
   ]
  },
  {
   "cell_type": "markdown",
   "metadata": {},
   "source": [
    "On observe sur la figure que la convergence est beaucoup moins rapide pour $\\varepsilon=0,35$ car la pente du segment de droite correspant sur le graphe est moindre. Dans ce cas, la norme du résidu est à peu près divisée par 10 toutes les 40 itérations (à l'itération 10, la norme du résidu vaut environ 10, et environ 1 à l'itération 50). Il faudra donc environ 450 itérations pour obtenir une norme inférieure à $10^{-10}$."
   ]
  }
 ],
 "metadata": {
  "kernelspec": {
   "display_name": "Python 3 (ipykernel)",
   "language": "python",
   "name": "python3"
  },
  "language_info": {
   "codemirror_mode": {
    "name": "ipython",
    "version": 3
   },
   "file_extension": ".py",
   "mimetype": "text/x-python",
   "name": "python",
   "nbconvert_exporter": "python",
   "pygments_lexer": "ipython3",
   "version": "3.9.12"
  }
 },
 "nbformat": 4,
 "nbformat_minor": 1
}
