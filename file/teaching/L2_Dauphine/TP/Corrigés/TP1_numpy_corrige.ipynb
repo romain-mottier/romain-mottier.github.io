{
 "cells": [
  {
   "cell_type": "markdown",
   "metadata": {},
   "source": [
    "# Feuille de travaux pratiques. Prise en main de NumPy et Matplotlib, utilisation de Jupyter notebook"
   ]
  },
  {
   "cell_type": "code",
   "execution_count": null,
   "metadata": {},
   "outputs": [],
   "source": [
    "# chargement des bibliothèques\n",
    "import numpy as np\n",
    "\n",
    "%matplotlib inline\n",
    "import matplotlib.pyplot as plt"
   ]
  },
  {
   "cell_type": "markdown",
   "metadata": {},
   "source": [
    "## Exercice 1 (manipulation et opérations sur les tableaux, calcul matriciel)\n",
    "\n",
    "**1.** On considère les matrices suivantes\n",
    "$$\n",
    "l=\n",
    "\\begin{pmatrix}\n",
    " 1 & 2 & 3\n",
    "\\end{pmatrix},\\ \n",
    "c=\n",
    "\\begin{pmatrix}\n",
    " 3 \\\\ 4 \\\\ 5\n",
    "\\end{pmatrix},\\\n",
    "A=\n",
    "\\begin{pmatrix}\n",
    "1 & 2 & 0 \\\\\n",
    "0 & 1 & 2 \\\\\n",
    "0 & 2 & 1 \\\\\n",
    "\\end{pmatrix},\\ \n",
    "B=\n",
    "\\begin{pmatrix}\n",
    "-3 & 5 & 0 \\\\\n",
    "0 & 7 & 2 \\\\\n",
    "0 & -2 & 1 \\\\\n",
    "\\end{pmatrix}\n",
    ".\n",
    "$$\n",
    "**(a)** Créer des tableaux correspondant à ces matrices."
   ]
  },
  {
   "cell_type": "code",
   "execution_count": null,
   "metadata": {},
   "outputs": [],
   "source": [
    "l=np.array([1,2,3])\n",
    "c=np.array([3,4,5]) \n",
    "# NumPy ne fait pas de distinction entre les matrices ligne et colonne.\n",
    "# Elles sont toutes deux stockées dans des tableaux (arrays) à une dimension.\n",
    "# Ce sont les fonctions utilisant ces tableaux les interpréteront comme des matrices ligne ou colonne.\n",
    "A=np.array([[1,2,0],[0,1,2],[0,2,1]])\n",
    "B=np.array([[-3,5,0],[0,7,2],[0,-2,1]])\n",
    "# Les matrices carrées sont stockées dans des tableaux de tableaux (array of arrays)"
   ]
  },
  {
   "cell_type": "markdown",
   "metadata": {},
   "source": [
    "**(b)** Extraire le deuxième élément de $l$, la première ligne, la deuxième colonne et la sous-matrice $(a_{ij})_{2\\leq i\\leq3,2\\leq j\\leq3}$ de la matrice $A$, les termes diagonaux de la matrice $B$."
   ]
  },
  {
   "cell_type": "code",
   "execution_count": null,
   "metadata": {},
   "outputs": [],
   "source": [
    "l[1] # L'indexation commence à 0 en NumPy.\n",
    "A[0,:] # Première ligne de A\n",
    "A[:,1] # Deuxième colonne de A\n",
    "A[1:3,1:3] # Sous-matrice demandée (observer les indices utilisés)\n",
    "np.diag(B) # La diagonale de la matrice est stockée dans un tableau à une dimension."
   ]
  },
  {
   "cell_type": "markdown",
   "metadata": {},
   "source": [
    "**(c)** En utilisant la fonction `print` de Python, analyser et commenter le résultat produit par chacune des commandes suivantes : `l.shape`, `A.shape`, `A.shape[0]`, `A.shape[1]`, `l*c`, `np.sum(l*c)`, `np.dot(l,c)`, `np.linalg.norm(l)`, `np.linalg.norm(l,ord=1)`, `np.linalg.norm(l,ord=np.inf)`, `A*B`, `A*l`, `A**2`, `np.dot(A,l)`, `np.dot(A,B)`, `A.T`, `np.linalg.matrix_rank(A)`, `np.linalg.solve(A,l)`."
   ]
  },
  {
   "cell_type": "code",
   "execution_count": null,
   "metadata": {},
   "outputs": [],
   "source": [
    "print(l.shape) # Nombre d'éléments de l\n",
    "print(A.shape) # Nombres de lignes et de colonnes de A\n",
    "print(A.shape[0]) # Nombre de lignes de A\n",
    "print(A.shape[1]) # Nombre de colonnes de A\n",
    "print(l*c) # Produit d'Hadamard (terme à terme) des deux tableaux\n",
    "print(np.sum(l*c)) # Produit scalaire de l et c\n",
    "print(np.dot(l,c)) # Produit scalaire de l et c \n",
    "print(np.linalg.norm(l)) # Norme euclidienne\n",
    "print(np.linalg.norm(l,ord=1) # Norme 1\n",
    "print(np.linalg.norm(l,ord=np.inf)) # Norme sup\n",
    "print(A*B) # Produit d'Hadamard (terme à terme). Ce n'est pas le produit matriciel !\n",
    "print(A*l) # Produit terme à terme (chaque colonne de A est multiplié par l'élément correspondant de l)\n",
    "print(A**2) # Carré au sens du produit d'Hadamard (chaque élément du tableau est élevé au carré)\n",
    "print(np.dot(A,l) # Produit matrice-vecteur\n",
    "print(np.dot(A,B) # Produit de matrices\n",
    "print(A.T) # Tranposée de A\n",
    "print(np.linalg.matrix_rank(A)) # Rang de la matrice A\n",
    "print(np.linalg.solve(A,l)) # Résolution du système linéaire de matrice A et second membre l"
   ]
  },
  {
   "cell_type": "markdown",
   "metadata": {},
   "source": [
    "**2.** Certaines commandes permettent la création automatique des tableaux particuliers. À titre d'illustration, étudier le résultat produit par chacune des commandes suivantes : `np.arange(1.3,15.8)`, `np.arange(1.3,15.8,0.4)`, `np.linspace(1.3,15.8,5)`, `np.zeros(5)`, `np.ones((3,5))`, `np.sin(np.arange(0,np.pi,np.pi/6))`, `np.eye(3)`, `np.random.rand(2,4)`, `np.random.randn(2,4)`."
   ]
  },
  {
   "cell_type": "code",
   "execution_count": null,
   "metadata": {},
   "outputs": [],
   "source": [
    "print(np.arange(1.3,15.8)) # Tableau contenant des valeurs uniformément espacées contenues entre le premier nombre (1.3) et le second (15.8), la différence étant par défaut égale à 1.\n",
    "print(np.arange(1.3,15.8,0.4)) # Tableau contenant des valeurs uniformément espacées contenues entre le premier nombre (1.3) et le deuxième (15.8), la différence étant égale au troisième nombre (0.4).\n",
    "print(np.linspace(1.3,15.8,5)) # Tableau contenant 5 valeurs équiréparties entre le premier nombre et le deuxième.\n",
    "print(np.zeros(5)) # Tableau contenant 5 zéros\n",
    "print(np.ones((3,5))) # Tableau de uns à 3 lignes et 5 colonnes\n",
    "print(np.sin(np.arange(0,np.pi,np.pi/6))) # Tableau contenant les valeurs du sinus des valeurs contenues dans le premier tableau créé.\n",
    "print(np.eye(3)) # Tableau contenant la matrice identité d'ordre 3\n",
    "print(np.random.rand(2,4)) # Tableau à 2 lignes et 4 colonnes, dont les éléments sont tirés suivant une loi uniforme sur [0,1] simulée.\n",
    "print(np.random.randn(2,4)) # Tableau à 2 lignes et 4 colonnes, dont les éléments sont tirés suivant une loi normale centrée réduite simulée."
   ]
  },
  {
   "cell_type": "markdown",
   "metadata": {},
   "source": [
    "**3.** On considère les vecteurs de $\\mathbb{R}^3$ suivants :\n",
    "$$\n",
    "u=(1,2,3),\\ v=(-5,2,1)\\text{ et }w=(-1,-3,-7).\n",
    "$$\n",
    "\n",
    "**(a)** Créer des tableaux correspondant à ces vecteurs."
   ]
  },
  {
   "cell_type": "code",
   "execution_count": null,
   "metadata": {},
   "outputs": [],
   "source": [
    "u=np.array([1,2,3])\n",
    "v=np.array([-5,2,1])\n",
    "w=np.array([-1,-3,-7])"
   ]
  },
  {
   "cell_type": "markdown",
   "metadata": {},
   "source": [
    "**(b)** Calculer $u+v$, $u+3v-5w$, $\\frac{1}{8}w$."
   ]
  },
  {
   "cell_type": "code",
   "execution_count": null,
   "metadata": {},
   "outputs": [],
   "source": [
    "print(u+v)\n",
    "print(u+3*v-5*w)\n",
    "print(w/8)"
   ]
  },
  {
   "cell_type": "markdown",
   "metadata": {},
   "source": [
    "**(c)** En utilisant les fonctions appropriées, calculer le cosinus de l'angle formé par les vecteurs $v$ et $w$."
   ]
  },
  {
   "cell_type": "code",
   "execution_count": null,
   "metadata": {},
   "outputs": [],
   "source": [
    "print(np.dot(v,w)/(np.linalg.norm(v)*np.linalg.norm(w)))"
   ]
  },
  {
   "cell_type": "markdown",
   "metadata": {},
   "source": [
    "**4.** On considère la matrice\n",
    "$$\n",
    "A=\\begin{pmatrix}2&3&4\\\\7&6&5\\\\2&8&7\\end{pmatrix}.\n",
    "$$\n",
    "\n",
    "**(a)** Créer un tableau correspondant à $A$."
   ]
  },
  {
   "cell_type": "code",
   "execution_count": null,
   "metadata": {},
   "outputs": [],
   "source": [
    "A=np.array([[2,3,4],[7,6,5],[2,8,7]])"
   ]
  },
  {
   "cell_type": "markdown",
   "metadata": {},
   "source": [
    "**(b)** En utilisant les fonctions appropriées, calculer le déterminant, l'inverse et les valeurs propres et vecteurs propres associés de $A$."
   ]
  },
  {
   "cell_type": "code",
   "execution_count": null,
   "metadata": {},
   "outputs": [],
   "source": [
    "print(np.linalg.det(A))\n",
    "print(np.linalg.inv(A))\n",
    "print(np.linalg.eig(A))"
   ]
  },
  {
   "cell_type": "markdown",
   "metadata": {},
   "source": [
    "**5.** Soit $n$ un entier naturel supérieur ou égal à $2$.\n",
    "\n",
    "(a) Donner une valeur à $n$ et exécuter la suite d'intructions suivante :<br>\n",
    "`A=2*np.eye(n)`<br>\n",
    "`i,j=np.indices(A.shape)`<br>\n",
    "`A[i==j-1]=-1`<br>\n",
    "`A[i==j+1]=-1`<br>\n",
    "Quelle est la matrice contenue dans le tableau créé ?"
   ]
  },
  {
   "cell_type": "code",
   "execution_count": null,
   "metadata": {},
   "outputs": [],
   "source": [
    "n=5\n",
    "A=2*np.eye(n)\n",
    "i,j=np.indices(A.shape)\n",
    "A[i==j-1]=-1\n",
    "A[i==j+1]=-1\n",
    "print(A) # A est une matrice tridiagonale"
   ]
  },
  {
   "cell_type": "markdown",
   "metadata": {},
   "source": [
    "(b) Créer le même tableau en utilisant cette fois la commande `np.diag`."
   ]
  },
  {
   "cell_type": "code",
   "execution_count": null,
   "metadata": {},
   "outputs": [],
   "source": [
    "A=np.diag(2*np.ones(n))-np.diag(np.ones(n-1),-1)-np.diag(np.ones(n-1),1)\n",
    "print(A)"
   ]
  },
  {
   "cell_type": "markdown",
   "metadata": {},
   "source": [
    "## Exercice 2 (représentation graphique d'une fonction)\n",
    "\n",
    "On cherche à obtenir une représentation graphique de la fonction $f(x)=\\exp(-x)\\sin(4x)$ sur l’intervalle $[0,2\\pi]$.\n",
    "\n",
    "**1.** Que contiennent les tableaux créés par la suite d'instructions ci-après ?\n",
    "\n",
    "`x=np.linspace(0,2*np.pi,101)`<br>\n",
    "`y=np.exp(-x)*np.sin(4*x)`"
   ]
  },
  {
   "cell_type": "code",
   "execution_count": null,
   "metadata": {},
   "outputs": [],
   "source": [
    "x=np.linspace(0,2*np.pi,101)\n",
    "print(x)\n",
    "y=np.exp(-x)*np.sin(4*x)\n",
    "print(y)"
   ]
  },
  {
   "cell_type": "markdown",
   "metadata": {},
   "source": [
    "Le premier tableau contient 101 points équidistribués sur l'intervalle $[0,2\\pi]$. Le second tableau contint les images de ces points par la fonction $t\\mapsto\\exp(-t)\\sin(4t)$."
   ]
  },
  {
   "cell_type": "markdown",
   "metadata": {},
   "source": [
    "**2.** Tracer à présent le graphe de la fonction $f$ en utilisant la fonction `plot` de Matplolib et les tableaux `x` et `y`. Compléter la figure en ajoutant un titre, en nommant les axes des abscisses et des ordonnées à l'aide des commandes suivantes<br>\n",
    "`plt.title('titre')`<br>\n",
    "`plt.xlabel('nom abscisses')`<br>\n",
    "`plt.ylabel('nom ordonnées')`<br>"
   ]
  },
  {
   "cell_type": "code",
   "execution_count": null,
   "metadata": {},
   "outputs": [],
   "source": [
    "plt.plot(x,y)\n",
    "plt.title('graphe de la fonction $f$')\n",
    "plt.xlabel('$x$')\n",
    "plt.ylabel('$f(x)$')"
   ]
  },
  {
   "cell_type": "markdown",
   "metadata": {},
   "source": [
    "**3.** Tracer sur la même figure les graphes de $f$ et de la fonction $g$, définie par\n",
    "$$\n",
    "g(x)=\\frac{\\sin(x)}{\\arctan(x+1)},\n",
    "$$\n",
    "sur l'intervalle $[0,2\\pi]$, en ajoutant aux appels à la fonction `plot` l'attribut `label='nom de la fonction'` pour chacun des graphes. Afficher alors une légende avec la fonction `legend` de Matplotlib."
   ]
  },
  {
   "cell_type": "code",
   "execution_count": null,
   "metadata": {},
   "outputs": [],
   "source": [
    "y=np.exp(-x)*np.sin(4*x)\n",
    "plt.plot(x,y,label='$f(x)$')\n",
    "y=np.sin(x)/np.arctan(x+1)\n",
    "plt.plot(x,y,label='$g(x)$')\n",
    "plt.legend()"
   ]
  },
  {
   "cell_type": "markdown",
   "metadata": {},
   "source": [
    "## Exercice 3 (manipulation de nombres complexes)\n",
    "\n",
    "Soit $u$ et $v$ les nombres complexes\n",
    "$$\n",
    "u=11-7\\mathrm{i}\\text{ et }v=-1+\\sqrt{3}\\mathrm{i}.\n",
    "$$\n",
    "Créer des variables correspondant à ces deux nombres et calculer le module de $u$ et l'argument de $v$, le produit $u\\overline{v}$, ainsi que les parties réelle et imaginaire de $u^3+v^2$ en utilisant les commandes appropriées."
   ]
  },
  {
   "cell_type": "code",
   "execution_count": null,
   "metadata": {},
   "outputs": [],
   "source": [
    "u=11-7j\n",
    "v=-1+np.sqrt(3)*1j\n",
    "abs(u) # Module de u\n",
    "np.angle(v) # Argument de v\n",
    "u*np.conj(v) # Produit de u avec le conjugué de v\n",
    "np.real(u**3+v**2) # Partie réelle de u^3+v^2\n",
    "np.imag(u**3+v**2) # Partie imaginaire de u^3+v^2"
   ]
  }
 ],
 "metadata": {
  "kernelspec": {
   "display_name": "Python 3",
   "language": "python",
   "name": "python3"
  },
  "language_info": {
   "codemirror_mode": {
    "name": "ipython",
    "version": 3
   },
   "file_extension": ".py",
   "mimetype": "text/x-python",
   "name": "python",
   "nbconvert_exporter": "python",
   "pygments_lexer": "ipython3",
   "version": "3.8.10"
  }
 },
 "nbformat": 4,
 "nbformat_minor": 1
}
