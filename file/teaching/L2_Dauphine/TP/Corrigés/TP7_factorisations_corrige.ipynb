{
 "cells": [
  {
   "cell_type": "markdown",
   "metadata": {},
   "source": [
    "# Feuille de travaux pratiques. Méthodes directes de résolution des systèmes linéaires"
   ]
  },
  {
   "cell_type": "code",
   "execution_count": 2,
   "metadata": {},
   "outputs": [],
   "source": [
    "# chargement des bibliothèques\n",
    "import numpy as np\n",
    "\n",
    "%matplotlib inline\n",
    "import matplotlib.pyplot as plt"
   ]
  },
  {
   "cell_type": "markdown",
   "metadata": {},
   "source": [
    "## Exercice 1 (factorisation LU)\n",
    "On rappelle que le procédé d'élimination de Gauss sans échange, lorsqu'il est applicable à une matrice réelle carrée inversible $A$, s'interprète comme un procédé de factorisation de $A$ sous la forme d'un produit $LU$, où la matrice $L$ est triangulaire inférieure, à éléments diagonaux tous égaux à $1$ et la matrice $U$ est triangulaire supérieure.\n",
    "\n",
    "**1.** En se servant des formules vues en cours, écrire une fonction `LU`, prenant en argument un tableau contenant la matrice $A$ et retournant les matrices $L$ et $U$ de la factorisation $A=LU$, toutes deux stockées dans un tableau de même taille que celui contenant $A$. On rappelle que les éléments diagonaux de la matrice $L$ étant connus a priori, il n'est pas utile de les stocker."
   ]
  },
  {
   "cell_type": "code",
   "execution_count": 3,
   "metadata": {},
   "outputs": [],
   "source": [
    "def LU(A):\n",
    "# calcul de la factorisation LU d'une matrice carrée (version \"kji\")\n",
    "    m,n=A.shape\n",
    "    if m!=n:\n",
    "        raise ValueError('La matrice n\\'est pas carrée.')\n",
    "    factLU=A.copy()\n",
    "    for k in range(n-1):\n",
    "        if factLU[k,k]!=0:\n",
    "            for i in range(k+1,n):\n",
    "                factLU[i,k]=factLU[i,k]/factLU[k,k]\n",
    "                for j in range(k+1,n):\n",
    "                    factLU[i,j]=factLU[i,j]-factLU[i,k]*factLU[k,j]\n",
    "        else:\n",
    "            raise ValueError('Le ',k+1,'ème pivot est nul.')\n",
    "    return factLU"
   ]
  },
  {
   "cell_type": "markdown",
   "metadata": {},
   "source": [
    "**2.** Utiliser cette fonction pour calculer la décomposition LU de la matrice\n",
    "$$\n",
    "A=\n",
    "\\begin{pmatrix}1&4&7\\\\2&5&8\\\\3&6&10\\\\\n",
    "\\end{pmatrix}.\n",
    "$$"
   ]
  },
  {
   "cell_type": "code",
   "execution_count": 4,
   "metadata": {},
   "outputs": [
    {
     "name": "stdout",
     "output_type": "stream",
     "text": [
      "[[ 1.  4.  7.]\n",
      " [ 2. -3. -6.]\n",
      " [ 3.  2.  1.]]\n"
     ]
    }
   ],
   "source": [
    "A=np.array([[1.,4.,7.],[2.,5.,8.],[3.,6.,10.]])\n",
    "# factorisation LU de A\n",
    "factLU=LU(A)\n",
    "print(factLU)"
   ]
  },
  {
   "cell_type": "markdown",
   "metadata": {},
   "source": [
    "**3.** Utiliser cette factorisation pour résoudre le système linéaire $Ax=b$ avec $b=(1,1,1)^\\top$. Vérifier que le résultat obtenu est correct en le comparant à celui calculé par la commande `linalg.solve(A,b)` de NumPy."
   ]
  },
  {
   "cell_type": "code",
   "execution_count": 5,
   "metadata": {},
   "outputs": [
    {
     "name": "stdout",
     "output_type": "stream",
     "text": [
      "solution obtenue : [-0.33333333  0.33333333  0.        ]\n",
      "norme de la différence avec la solution de référence : 2.725767734238167e-16\n"
     ]
    }
   ],
   "source": [
    "b=np.array([1.,1.,1.])\n",
    "n=A.shape[0]\n",
    "# résolution du système triangulaire Ly=b par une méthode de descente\n",
    "y=b.copy()\n",
    "for i in range(n):\n",
    "    for j in range(i+1,n):\n",
    "        y[j]=y[j]-factLU[j,i]*y[i]\n",
    "# résolution du système triangulaire Ux=y par une méthode de remontée\n",
    "x=np.zeros(n)\n",
    "for i in range(n-1,-1,-1):\n",
    "    x[i]=y[i]/factLU[i,i]\n",
    "    for j in range(i-1,-1,-1):\n",
    "         y[j]=y[j]-factLU[j,i]*x[i]\n",
    "print('solution obtenue :',x)\n",
    "# comparaison de la solution calculée avec celle calculé par NumPy\n",
    "print('norme de la différence avec la solution de référence :',np.linalg.norm(x-np.linalg.solve(A,b)))"
   ]
  },
  {
   "cell_type": "markdown",
   "metadata": {},
   "source": [
    "On considère à présent la version du procédé utilisant une stratégie de choix de pivot partiel, ce qui implique de possibles échanges de lignes lors de la factorisation.\n",
    "\n",
    "**4.** Écrire une fonction `LUP`, prenant en argument un tableau contenant la matrice $A$ et retournant les matrices $P$, $L$ et $U$ de la factorisation $PA=LU$ correspondant à l'utilisation d'une stratégie de choix de pivot partiel. Comme précédemment, les matrices $L$ et $U$ seront toutes deux stockées dans un tableau de même taille que celui contenant $A$, et la matrice de permutation $P$ sera stockées sous la forme d'un tableau indiquant la position des lignes de $A$ dans la matrice $PA$."
   ]
  },
  {
   "cell_type": "code",
   "execution_count": 6,
   "metadata": {},
   "outputs": [],
   "source": [
    "def LUP(A):\n",
    "# calcul de la factorisation LU d'une matrice carrée, avec stratégie de choix de pivot partiel\n",
    "    m,n=A.shape\n",
    "    if m!=n:\n",
    "        raise ValueError('La matrice n\\'est pas carrée.')\n",
    "    factLU=A.copy()\n",
    "    P=np.arange(0,n)\n",
    "    for k in range(n-1):\n",
    "# choix du pivot\n",
    "        indice_ligne_pivot=np.argmax(abs(factLU[k:n,k]))+k\n",
    "        P[[k,indice_ligne_pivot]]=P[[indice_ligne_pivot,k]]\n",
    "        factLU[[k,indice_ligne_pivot],0:n]=factLU[[indice_ligne_pivot,k],0:n]\n",
    "        if factLU[k,k]!=0:\n",
    "            for i in range(k+1,n):\n",
    "                factLU[i,k]=factLU[i,k]/factLU[k,k]\n",
    "                for j in range(k+1,n):\n",
    "                    factLU[i,j]=factLU[i,j]-factLU[i,k]*factLU[k,j]\n",
    "    return [factLU,P]"
   ]
  },
  {
   "cell_type": "markdown",
   "metadata": {},
   "source": [
    "**5.** Utiliser cette fonction pour la résolution du système linéaire $Ax=b$, avec\n",
    "$$\n",
    "A=\\begin{pmatrix}3&17&10\\\\2&4&-2\\\\6&18&-12\\end{pmatrix}\\text{ et }b=\\begin{pmatrix}1\\\\2\\\\3\\end{pmatrix}.\n",
    "$$\n",
    "Vérifier que le résultat trouvé est correct en le comparant à celui calculé par la commande `linalg.solve(A,b)` de NumPy."
   ]
  },
  {
   "cell_type": "code",
   "execution_count": 7,
   "metadata": {},
   "outputs": [
    {
     "name": "stdout",
     "output_type": "stream",
     "text": [
      "solution obtenue : [ 1.85416667 -0.35416667  0.14583333]\n",
      "norme de la différence avec la solution de référence : 0.0\n"
     ]
    }
   ],
   "source": [
    "A=np.array([[3.,17.,10.],[2.,4.,-2.],[6.,18.,-12.]])\n",
    "b=np.array([1.,2.,3.])\n",
    "# factorisation PA=LU de A\n",
    "[factLU,P]=LUP(A)\n",
    "n=A.shape[0]\n",
    "# permutation du second membre du système\n",
    "y=b[P]\n",
    "# résolution du système triangulaire Ly=Pb par une méthode de descente\n",
    "for i in range(n):\n",
    "    for j in range(i+1,n):\n",
    "        y[j]=y[j]-factLU[j,i]*y[i]\n",
    "# résolution du système triangulaire Ux=y par une méthode de remontée\n",
    "x=np.zeros(n)\n",
    "for i in range(n-1,-1,-1):\n",
    "    x[i]=y[i]/factLU[i,i]\n",
    "    for j in range(i-1,-1,-1):\n",
    "         y[j]=y[j]-factLU[j,i]*x[i]\n",
    "print('solution obtenue :',x)\n",
    "# comparaison de la solution calculée avec celle calculé par NumPy\n",
    "print('norme de la différence avec la solution de référence :',np.linalg.norm(x-np.linalg.solve(A,b)))"
   ]
  },
  {
   "cell_type": "markdown",
   "metadata": {},
   "source": [
    "## Exercice 2 (factorisation QR)\n",
    "La [factorisation QR](https://en.wikipedia.org/wiki/QR_decomposition) est un procédé permettant d'écrire une matrice réelle $A$ sous la forme d'un produit de la forme $A=QR$, dans lequel $Q$ est une matrice orthogonale et $R$ est une matrice triangulaire supérieure. Elle s'applique aussi bien à des matrice réelles carrées que rectangulaires.\n",
    "\n",
    "On se propose dans cet exercice de mettre en &oelig;uvre la factorisation QR de deux manières distinctes pour des matrices réelles carrées inversibles.\n",
    "\n",
    "Une première interprétation de la factorisation repose sur le [procédé d'orthonormalisation de Gram-Schmidt](https://en.wikipedia.org/wiki/Gram%E2%80%93Schmidt_process). Les colonnes de la matrice orthogonale $Q$ sont les vecteurs orthonormés obtenus à l'issue de l'application du procédé à la famille des colonnes de la matrice $A$, les coefficients des colonnes de la matrice triangulaire supérieure $R$ correspondant alors aux coefficients respectifs des colonnes de $A$ écrites dans la base orthonormées par les colonnes de $Q$ (ceux-ci sont des quantités calculées par l'algorithme du procédé de Gram-Schmidt).\n",
    "\n",
    "**1.** En s'inspirant de l'algorithme du procédé d'orthonormalisation Gram-Schmidt modifié mis en &oelig;uvre dans une précédente feuille, écrire une fonction `QR_gramschmidt` retournant la factorisation QR d'une matrice carrée inversible obtenue par application du procédé de Gram-Schmidt."
   ]
  },
  {
   "cell_type": "code",
   "execution_count": 8,
   "metadata": {},
   "outputs": [],
   "source": [
    "def QR_gramschmidt(A):\n",
    "# calcul de la factorisation QR d'une matrice carrée inversible via le procédé de Gram-Schmidt modifié\n",
    "    m,n=A.shape\n",
    "    if m!=n:\n",
    "        raise ValueError('La matrice n\\'est pas carrée.')\n",
    "    Q=A.copy()\n",
    "    R=np.zeros((n,n))\n",
    "    for i in range(n):\n",
    "        R[i,i]=np.linalg.norm(Q[:,i],2)\n",
    "        if R[i,i]<1e-14:\n",
    "            raise ValueError('Il semble que la matrice n\\'est pas inversible.')\n",
    "        else:\n",
    "            Q[:,i]=Q[:,i]/R[i,i]\n",
    "            for j in range(i+1,n):\n",
    "                R[i,j]=np.dot(Q[:,i],Q[:,j])\n",
    "                Q[:,j]=Q[:,j]-R[i,j]*Q[:,i]\n",
    "    return [Q,R]"
   ]
  },
  {
   "cell_type": "markdown",
   "metadata": {},
   "source": [
    "**2.** Utiliser cette fonction pour résoudre le dernier système linéaire de l'exercice précédent. On pourra vérifier que le résultat trouvé est correct en le comparant à celui calculé par la commande `linalg.solve(A,b)` de NumPy."
   ]
  },
  {
   "cell_type": "code",
   "execution_count": 9,
   "metadata": {},
   "outputs": [
    {
     "name": "stdout",
     "output_type": "stream",
     "text": [
      "solution obtenue : [ 1.85416667 -0.35416667  0.14583333]\n",
      "norme de la différence avec la solution de référence : 6.228390748164847e-15\n"
     ]
    }
   ],
   "source": [
    "A=np.array([[3.,17.,10.],[2.,4.,-2.],[6.,18.,-12.]])\n",
    "b=np.array([1.,2.,3.])\n",
    "n=A.shape[0]\n",
    "# factorisation QR de A\n",
    "[Q,R]=QR_gramschmidt(A)\n",
    "# résolution du système Qy=b\n",
    "y=np.dot(Q.T,b)\n",
    "# résolution du système triangulaire Rx=y par une méthode de remontée\n",
    "x=np.zeros(Q.shape[0])\n",
    "for i in range(n-1,-1,-1):\n",
    "    x[i]=y[i]/R[i,i]\n",
    "    for j in range(i-1,-1,-1):\n",
    "         y[j]=y[j]-R[j,i]*x[i]\n",
    "print('solution obtenue :',x)\n",
    "print('norme de la différence avec la solution de référence :',np.linalg.norm(x-np.linalg.solve(A,b)))"
   ]
  },
  {
   "cell_type": "markdown",
   "metadata": {},
   "source": [
    "Même sous sa forme modifiée, le procédé d'orthonormalisation de Gram-Schmidt reste numériquement instable. On lui préfère pour cette raison des méthodes reposant sur des isométries vectorielles pour la mise en &oelig;uvre de la factorisation QR d'une matrice réelle. L'utilisation des [réflexions de Householder](https://en.wikipedia.org/wiki/Householder_transformation) est l'une de ces méthodes (une seconde possibilité est de se servir des [rotations de Givens](https://en.wikipedia.org/wiki/Givens_rotation)).\n",
    "\n",
    "Étant donné un vecteur $\\vec{v}$ de l'espace $\\mathbb{R}^n$, la transformation de Householder associée au vecteur $\\vec{v}$ est la symétrie orthogonale par rapport à l'hyperplan orthogonal à $\\vec{v}$. Si la matrice colonne $v$ represente le vecteur $\\vec{v}$ dans la base canonique de l'espace, la matrice $H_v$ de la transformation dans la base canonique est donnée par\n",
    "$$\n",
    "H_v=I_n-\\frac{2}{v^\\top v}vv^\\top.\n",
    "$$\n",
    "\n",
    "**3.** Écrire une fonction `householder` ayant comme argument d'entrée un tableau contenant la matrice colonne $v$ représentant un vecteur $\\vec{v}$ dans la base canonique et renvoyant la matrice $H_v$ de la transformation de Householder associée dans la base canonique."
   ]
  },
  {
   "cell_type": "code",
   "execution_count": 10,
   "metadata": {},
   "outputs": [],
   "source": [
    "def householder(v):\n",
    "# calcul de la matrice de la transformation de Householder associée au vecteur v\n",
    "    n=v.shape[0]\n",
    "    H=np.eye(n)\n",
    "    norme=np.linalg.norm(v)\n",
    "    if norme!=0.:\n",
    "        w=v/norme\n",
    "        H-=2.*np.outer(w,w)\n",
    "    return H"
   ]
  },
  {
   "cell_type": "markdown",
   "metadata": {},
   "source": [
    "\n"
   ]
  },
  {
   "cell_type": "code",
   "execution_count": 11,
   "metadata": {},
   "outputs": [],
   "source": [
    "def QR_householder(A):\n",
    "# calcul de la factorisation QR d'une matrice carrée par applications successives de réflexions de Householder\n",
    "    m,n=A.shape\n",
    "    if m!=n:\n",
    "        raise ValueError('La matrice n\\'est pas carrée.')\n",
    "    Q=np.eye(n)\n",
    "    R=A.copy()\n",
    "    for k in range(n-1):\n",
    "        v=np.concatenate((np.zeros(k),R[k:n,k]))\n",
    "        v[k]+=np.sign(R[k,k])*np.linalg.norm(v)\n",
    "        H=householder(v)\n",
    "        Q,R=np.dot(Q,H),np.dot(H,R)\n",
    "    return [Q,np.triu(R)]"
   ]
  },
  {
   "cell_type": "markdown",
   "metadata": {},
   "source": [
    "**5.** Utiliser cette nouvelle fonction pour résoudre le système linéaire précédent."
   ]
  },
  {
   "cell_type": "code",
   "execution_count": 12,
   "metadata": {
    "scrolled": true
   },
   "outputs": [
    {
     "name": "stdout",
     "output_type": "stream",
     "text": [
      "solution obtenue : [ 1.85416667 -0.35416667  0.14583333]\n",
      "norme de la différence avec la solution de référence : 2.3055512673781017e-16\n"
     ]
    }
   ],
   "source": [
    "A=np.array([[3.,17.,10.],[2.,4.,-2.],[6.,18.,-12.]])\n",
    "b=np.array([1.,2.,3.])\n",
    "n=A.shape[0]\n",
    "# factorisation QR de A\n",
    "[Q,R]=QR_householder(A)\n",
    "# résolution du système Qy=b\n",
    "y=np.dot(Q.T,b)\n",
    "# résolution du système Rx=y par remontée\n",
    "x=np.zeros(Q.shape[0])\n",
    "for i in range(n-1,-1,-1):\n",
    "    x[i]=y[i]/R[i,i]\n",
    "    for j in range(i-1,-1,-1):\n",
    "         y[j]=y[j]-R[j,i]*x[i]\n",
    "print('solution obtenue :',x)\n",
    "print('norme de la différence avec la solution de référence :',np.linalg.norm(x-np.linalg.solve(A,b)))"
   ]
  },
  {
   "cell_type": "markdown",
   "metadata": {},
   "source": [
    "## Exercice bonus (erreurs d'arrondi et conditionnement)\n",
    "On veut dans cet exercice mettre en évidence les problèmes, liés à la présence d'erreurs d'arrondi dans les calculs, apparaissant lors de la résolution numérique de certains systèmes linéaires. On va pour cela considérer la famille des [matrices de Hilbert](https://en.wikipedia.org/wiki/Hilbert_matrix). Avec la bibliothèque SciPy, la matrice de Hilbert $H$ d'ordre $n$ est obtenue en entrant la commande `linalg.hilbert(n)`.\n",
    "\n",
    "**1.** Poser $n=10$ et choisir un vecteur non nul $x$ de $R^n$ (par exemple le vecteur dont toutes les composantes sont égales à $1$). Calculer ensuite le vecteur $b=Hx$."
   ]
  },
  {
   "cell_type": "code",
   "execution_count": 13,
   "metadata": {},
   "outputs": [],
   "source": [
    "from scipy import linalg\n",
    "\n",
    "n=10\n",
    "x=np.ones(n)\n",
    "H=linalg.hilbert(10)\n",
    "b=np.dot(H,x)"
   ]
  },
  {
   "cell_type": "markdown",
   "metadata": {},
   "source": [
    "**2.** Résoudre alors numériquement le système $Hx=b$ en utilisant la commande `solve`. Que constate-t-on ? En notant $\\hat{x}$ la solution calculée, comparer précisément $\\hat{x}$ avec $x$ en calculant l'erreur relative\n",
    "$$\n",
    "\\frac{\\|\\hat{x}-x\\|_2}{\\|x\\|_2}.\n",
    "$$ "
   ]
  },
  {
   "cell_type": "code",
   "execution_count": 14,
   "metadata": {},
   "outputs": [
    {
     "name": "stdout",
     "output_type": "stream",
     "text": [
      "Solution calculée : [1.         0.9999998  1.00000424 0.99996169 1.0001819  0.9995019\n",
      " 1.00081456 0.99921504 1.00041109 0.99990979]\n",
      "Erreur relative : 0.0004170709495986796\n"
     ]
    }
   ],
   "source": [
    "xh=np.linalg.solve(H,b)\n",
    "print('Solution calculée :',xh)\n",
    "print('Erreur relative :',np.linalg.norm(xh-x)/np.linalg.norm(x))"
   ]
  },
  {
   "cell_type": "markdown",
   "metadata": {},
   "source": [
    "On observe que l'erreur est grande en regard de la précision machine."
   ]
  },
  {
   "cell_type": "markdown",
   "metadata": {},
   "source": [
    "**3.** L'erreur relative dépend-elle fortement du choix du second membre du système linéaire ?"
   ]
  },
  {
   "cell_type": "markdown",
   "metadata": {},
   "source": [
    "Pour évaluer cette dépendance, on tire une solution $x$ aléatoirement au moyen de la commande `random.rand` de NumPy et on calcule le second membre correspondant comme dans la première question. On effectue ensuite la résolution du système linéaire ainsi obtenu. On répète plusieurs fois l'opération."
   ]
  },
  {
   "cell_type": "code",
   "execution_count": 15,
   "metadata": {},
   "outputs": [
    {
     "name": "stdout",
     "output_type": "stream",
     "text": [
      "Erreur relative : 9.867698509095858e-05\n",
      "Erreur relative : 0.00035012158456228557\n",
      "Erreur relative : 1.4835241491454081e-05\n",
      "Erreur relative : 0.00017722226518056088\n",
      "Erreur relative : 2.1728957049669254e-05\n",
      "Erreur relative : 0.00020374507569158345\n",
      "Erreur relative : 0.00022359635251282146\n",
      "Erreur relative : 9.828320154288243e-05\n",
      "Erreur relative : 3.773912810502776e-05\n",
      "Erreur relative : 0.0001821167722068232\n"
     ]
    }
   ],
   "source": [
    "for i in range(10):\n",
    "    x=np.random.rand(n)\n",
    "    b=np.dot(H,x)\n",
    "    xh=np.linalg.solve(H,b)\n",
    "    print('Erreur relative :',np.linalg.norm(xh-x)/np.linalg.norm(x))"
   ]
  },
  {
   "cell_type": "markdown",
   "metadata": {},
   "source": [
    "On constate que l'erreur ne dépend pas beaucoup du second membre choisi."
   ]
  },
  {
   "cell_type": "markdown",
   "metadata": {},
   "source": [
    "**4.** Tracer le graphe, en utilisant une échelle logarithmique pour l'axe des ordonnées, de l'erreur relative en fonction de l'ordre $n$ de la matrice de Hilbert pour la solution dont toutes les composantes sont égales à 1. Tracer sur la même figure le graphe du [conditionnement](https://fr.wikipedia.org/wiki/Conditionnement_%28analyse_num%C3%A9rique%29#Conditionnement_d'une_matrice) en norme $\\|\\cdot\\|_2$ de la matrice, obtenu au moyen de la commande `linalg.cond(.,2)` de NumPy, en fonction de son ordre. Que peut-on remarquer ? "
   ]
  },
  {
   "cell_type": "code",
   "execution_count": 17,
   "metadata": {},
   "outputs": [
    {
     "data": {
      "text/plain": [
       "<matplotlib.legend.Legend at 0x7f009ae54310>"
      ]
     },
     "execution_count": 17,
     "metadata": {},
     "output_type": "execute_result"
    },
    {
     "data": {
      "image/png": "[encoded data removed]",
      "text/plain": [
       "<Figure size 432x288 with 1 Axes>"
      ]
     },
     "metadata": {
      "needs_background": "light"
     },
     "output_type": "display_data"
    }
   ],
   "source": [
    "err_rel,conditionnement=np.zeros(10),np.zeros(10)\n",
    "i=0\n",
    "for n in range(2,12):\n",
    "    x=np.ones(n)\n",
    "    H=linalg.hilbert(n)\n",
    "    conditionnement[i]=np.linalg.cond(H,2)\n",
    "    b=np.dot(H,x)\n",
    "    xh=np.linalg.solve(H,b)\n",
    "    err_rel[i]=np.linalg.norm(xh-x)/np.linalg.norm(x)\n",
    "    i=i+1\n",
    "plt.semilogy(np.arange(2,12),err_rel,label='erreur relative')\n",
    "plt.semilogy(np.arange(2,12),conditionnement,label='conditionnement')\n",
    "plt.legend()"
   ]
  },
  {
   "cell_type": "markdown",
   "metadata": {},
   "source": [
    "On observe que l'erreur numérique est proportionnelle au conditionnement du problème résolu (donné ici par le conditionnement de la matrice)."
   ]
  },
  {
   "cell_type": "code",
   "execution_count": null,
   "metadata": {},
   "outputs": [],
   "source": []
  },
  {
   "cell_type": "code",
   "execution_count": null,
   "metadata": {},
   "outputs": [],
   "source": []
  },
  {
   "cell_type": "code",
   "execution_count": null,
   "metadata": {},
   "outputs": [],
   "source": []
  },
  {
   "cell_type": "code",
   "execution_count": null,
   "metadata": {},
   "outputs": [],
   "source": []
  },
  {
   "cell_type": "code",
   "execution_count": null,
   "metadata": {},
   "outputs": [],
   "source": []
  }
 ],
 "metadata": {
  "kernelspec": {
   "display_name": "Python 3 (ipykernel)",
   "language": "python",
   "name": "python3"
  },
  "language_info": {
   "codemirror_mode": {
    "name": "ipython",
    "version": 3
   },
   "file_extension": ".py",
   "mimetype": "text/x-python",
   "name": "python",
   "nbconvert_exporter": "python",
   "pygments_lexer": "ipython3",
   "version": "3.9.12"
  }
 },
 "nbformat": 4,
 "nbformat_minor": 1
}
