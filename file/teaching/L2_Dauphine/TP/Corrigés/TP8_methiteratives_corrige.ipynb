{
 "cells": [
  {
   "cell_type": "markdown",
   "metadata": {},
   "source": [
    "# Feuille de travaux pratiques. Méthodes itératives de résolution des systèmes linéaires"
   ]
  },
  {
   "cell_type": "code",
   "execution_count": 3,
   "metadata": {},
   "outputs": [],
   "source": [
    "# chargement des bibliothèques\n",
    "import numpy as np\n",
    "\n",
    "%matplotlib inline\n",
    "import matplotlib.pyplot as plt"
   ]
  },
  {
   "cell_type": "markdown",
   "metadata": {},
   "source": [
    "## Exercice 1 (utilisation des méthodes de Gauss-Seidel et de Jacobi, d'après A. Quarteroni)\n",
    "Soit $n$ un entier naturel non nul et $\\varepsilon$ un réel appartenant à l'intervalle $[0,1]$. On considère le système linéaire $A_\\varepsilon x=b_\\varepsilon$ d'ordre $n$, dans lequel\n",
    "$$\n",
    "A_\\varepsilon=\\begin{pmatrix}1&\\varepsilon&\\varepsilon^2&0&\\cdots&0\\\\\\varepsilon&1&\\varepsilon&\\ddots&\\ddots&\\vdots\\\\\\varepsilon^2&\\varepsilon&\\ddots&\\ddots&\\ddots&0\\\\0&\\ddots&\\ddots&\\ddots&\\ddots&\\varepsilon^2\\\\\\vdots&\\ddots&\\ddots&\\ddots&1&\\varepsilon\\\\0&\\cdots&0&\\varepsilon^2&\\varepsilon&1\\end{pmatrix}\\text{ et }b_\\varepsilon=A_\\varepsilon\\begin{pmatrix}1\\\\1\\\\\\vdots\\\\1\\end{pmatrix}.\n",
    "$$\n",
    "La commande `A,b=systeme(n,epsilon)`, qui fait appel à la fonction codée ci-dessous, permet de construire les tableaux associés à la matrice $A_\\varepsilon$ et au vecteur $b_\\varepsilon$ pour des valeurs de l'entier $n$ et du réel $\\varepsilon$ données."
   ]
  },
  {
   "cell_type": "code",
   "execution_count": 4,
   "metadata": {},
   "outputs": [],
   "source": [
    "def systeme(n,epsilon):\n",
    "    A=np.eye(n)\n",
    "    i,j=np.indices(A.shape)\n",
    "    A[i==j-1]=epsilon\n",
    "    A[i==j+1]=epsilon\n",
    "    A[i==j-2]=epsilon**2\n",
    "    A[i==j+2]=epsilon**2\n",
    "    b=np.dot(A,np.ones(n))\n",
    "    return A,b"
   ]
  },
  {
   "cell_type": "markdown",
   "metadata": {},
   "source": [
    "On pose dans un premier temps $n=5$."
   ]
  },
  {
   "cell_type": "code",
   "execution_count": 5,
   "metadata": {},
   "outputs": [],
   "source": [
    "n=5"
   ]
  },
  {
   "cell_type": "markdown",
   "metadata": {},
   "source": [
    "**1.** On sait que si la matrice $A_\\varepsilon$ est à diagonale strictement dominante par lignes, alors la [méthode de Gauss-Seidel](https://fr.wikipedia.org/wiki/M%C3%A9thode_de_Gauss-Seidel), appliquée à la résolution du système ci-dessus, est convergente.\n",
    "\n",
    "  **(a)** Vérifier que $A_r$ est bien à diagonale strictement dominante par lignes quand $\\varepsilon=0,3$."
   ]
  },
  {
   "cell_type": "code",
   "execution_count": 6,
   "metadata": {},
   "outputs": [
    {
     "name": "stdout",
     "output_type": "stream",
     "text": [
      "La matrice est à diagonale dominante par lignes\n",
      "[1.39 1.69 1.78 1.69 1.39]\n"
     ]
    }
   ],
   "source": [
    "epsilon=0.3\n",
    "A,b=systeme(n,epsilon)\n",
    "D=np.diag(A)\n",
    "if all(abs(D)>np.sum(abs(A-np.diag(D)),1)):\n",
    "    print('La matrice est à diagonale dominante par lignes')\n",
    "else:\n",
    "    print('La matrice n\\'est pas à diagonale dominante par lignes')\n",
    "print(b)"
   ]
  },
  {
   "cell_type": "markdown",
   "metadata": {},
   "source": [
    "**(b)** &Eacute;crire une fonction `gauss_seidel(A,b,x0,tol,itermax)` mettant en &oelig;uvre la méthode de Gauss-Seidel. Cette fonction renverra, en plus de la solution approchée, le nombre d'itérations nécessaires pour satisfaire le critère de convergence et la norme du résidu final."
   ]
  },
  {
   "cell_type": "code",
   "execution_count": 7,
   "metadata": {},
   "outputs": [],
   "source": [
    "def gauss_seidel(A,b,x0,tol,itermax):\n",
    "# Résolution du système linéaire Ax=b par la méthode itérative de Gauss-Seidel.\n",
    "# La matrice A du système doit être inversible et le second membre b doit être de taille compatible avec l'ordre de A.\n",
    "# En entrée :\n",
    "# le tableau x0 contient le premier terme de la suite des vecteurs itérés,\n",
    "# le réel tol est la tolérance utilisée pour le critère d'arrêt,\n",
    "# l'entier itermax est le nombre maximal d'itérations autorisées.\n",
    "# En sortie :  \n",
    "# le tableau x contient la solution approchée obtenue,\n",
    "# l'entier iter contient le nombre d'itérations nécessaires pour atteindre la convergence,\n",
    "# le réel relnr contient la norme du résidu relatif à la dernière itération.\n",
    "    m,n=A.shape\n",
    "    if n!=m:\n",
    "        raise ValueError('La matrice doit être carrée.')\n",
    "    # initialisation\n",
    "    iter=0\n",
    "    x=x0.copy()\n",
    "    r=b-np.dot(A,x)\n",
    "    print()\n",
    "    nr0=np.linalg.norm(r)\n",
    "    relnr=np.linalg.norm(r)/nr0\n",
    "    while (relnr>tol) and (iter<itermax):\n",
    "        iter=iter+1\n",
    "        for i in range(n):\n",
    "            r[i]=r[i]/A[i,i]\n",
    "            for j in range(i+1,n):\n",
    "                r[j]=r[j]-A[j,i]*r[i]\n",
    "            x[i]=x[i]+r[i]\n",
    "        r=b-np.dot(A,x)\n",
    "        relnr=np.linalg.norm(r)/nr0\n",
    "    if (relnr>tol):\n",
    "        print('Nombre maximum d\\'itérations atteint sans que le critère d\\'arrêt soit satisfait.')\n",
    "    return [x,iter,relnr]"
   ]
  },
  {
   "cell_type": "markdown",
   "metadata": {},
   "source": [
    "**(c)** Utiliser cette fonction pour calculer avec une solution approchée du système ci-dessus, en utilisant le vecteur $x^{(0)}=\\begin{pmatrix}0&0&0&0&0\\end{pmatrix}^\\top$ comme initialisation et une tolérance égale à $10^{-10}$ pour le critère d'arrêt."
   ]
  },
  {
   "cell_type": "code",
   "execution_count": 8,
   "metadata": {},
   "outputs": [
    {
     "name": "stdout",
     "output_type": "stream",
     "text": [
      "\n",
      "Solution approchée obtenue après 14 itérations : [1. 1. 1. 1. 1.] .\n"
     ]
    }
   ],
   "source": [
    "x0=np.zeros(n)\n",
    "tol=1e-10\n",
    "itermax=1e3\n",
    "[x,iter,res]=gauss_seidel(A,b,x0,tol,itermax)\n",
    "print('Solution approchée obtenue après',iter,'itérations :',x,'.')"
   ]
  },
  {
   "cell_type": "markdown",
   "metadata": {},
   "source": [
    "**2.** De la même manière, écrire une fonction `jacobi(A,b,x0,tol,itermax)` mettant en &oelig;uvre la [méthode de Jacobi](https://fr.wikipedia.org/wiki/M%C3%A9thode_de_Jacobi) et résoudre le système linéaire ci-dessus avec le même choix d'initialisation et de tolérance que précédemment. Quelle est la méthode la plus rapide ?"
   ]
  },
  {
   "cell_type": "code",
   "execution_count": 9,
   "metadata": {},
   "outputs": [
    {
     "name": "stdout",
     "output_type": "stream",
     "text": [
      "Solution approchée obtenue après 50 itérations : [1. 1. 1. 1. 1.] .\n"
     ]
    }
   ],
   "source": [
    "def jacobi(A,b,x0,tol,itermax):\n",
    "# Résolution du système linéaire Ax=b par la méthode itérative de Jacobi.\n",
    "# La matrice A du système doit être inversible et le second membre b doit être de taille compatible avec l'ordre de A.\n",
    "# En entrée :\n",
    "# le tableau x0 contient le premier terme de la suite des vecteurs itérés,\n",
    "# le réel tol est la tolérance utilisée pour le critère d'arrêt,\n",
    "# l'entier itermax est le nombre maximal d'itérations autorisées.\n",
    "# En sortie :\n",
    "# le tableau x contient la solution approchée obtenue,\n",
    "# l'entier iter contient le nombre d'itérations nécessaires pour atteindre la convergence,\n",
    "# le réel relnr contient la norme du résidu relatif à la dernière itération.\n",
    "    m,n=A.shape\n",
    "    if n!=m:\n",
    "        raise ValueError('La matrice doit être carrée.')\n",
    "    # initialisation\n",
    "    iter=0\n",
    "    x=x0.copy()\n",
    "    r=b-np.dot(A,x)\n",
    "    nr0=np.linalg.norm(r)\n",
    "    relnr=np.linalg.norm(r)/nr0\n",
    "    while (relnr>tol) and (iter<itermax):\n",
    "        iter=iter+1\n",
    "        for i in range(n):\n",
    "            x[i]=x[i]+r[i]/A[i,i]\n",
    "        r=b-np.dot(A,x)\n",
    "        relnr=np.linalg.norm(r)/nr0\n",
    "    if (relnr>tol):\n",
    "        print('Nombre maximum d\\'itérations atteint sans que le critère d\\'arrêt soit satisfait.')\n",
    "    return [x,iter,relnr]\n",
    "\n",
    "[x,iter,res]=jacobi(A,b,x0,tol,itermax)\n",
    "print('Solution approchée obtenue après',iter,'itérations :',x,'.')"
   ]
  },
  {
   "cell_type": "markdown",
   "metadata": {},
   "source": [
    "On a besoin d'effectuer plus de trois plus d'itérations avec la méthode de Jacobi qu'avec la méthode de Gauss-Seidel. La méthode la plus rapide est donc la méthode de Gauss-Seidel."
   ]
  },
  {
   "cell_type": "markdown",
   "metadata": {},
   "source": [
    "**3. (a)** Tracer le graphe des valeurs des rayons spectraux respectifs des matrices d'itération des méthodes de Jacobi et de Gauss-Seidel associées à $A_\\varepsilon$ en fonction de celle du paramètre $\\varepsilon$, pour $\\varepsilon$ prenant des valeurs $0$ entre $1$."
   ]
  },
  {
   "cell_type": "code",
   "execution_count": 10,
   "metadata": {},
   "outputs": [
    {
     "data": {
      "text/plain": [
       "<matplotlib.legend.Legend at 0x7f4800153670>"
      ]
     },
     "execution_count": 10,
     "metadata": {},
     "output_type": "execute_result"
    },
    {
     "data": {
      "image/png": "[encoded data removed]",
      "text/plain": [
       "<Figure size 432x288 with 1 Axes>"
      ]
     },
     "metadata": {
      "needs_background": "light"
     },
     "output_type": "display_data"
    }
   ],
   "source": [
    "tabepsilon=np.linspace(0,1,20)\n",
    "rayon_spectral_GS,rayon_spectral_J=np.zeros(tabepsilon.shape[0]),np.zeros(tabepsilon.shape[0])\n",
    "for k in range(tabepsilon.shape[0]):\n",
    "    A,b=systeme(n,tabepsilon[k])\n",
    "    B_GS=-np.dot(np.linalg.inv(np.tril(A)),np.triu(A,1))\n",
    "    [valp,vectp]=np.linalg.eig(B_GS)\n",
    "    rayon_spectral_GS[k]=max(abs(valp))\n",
    "    B_J=-np.dot(np.diag(1./np.diag(A)),(np.tril(A,-1)+np.triu(A,1)))\n",
    "    [valp,vectp]=np.linalg.eig(B_J)\n",
    "    rayon_spectral_J[k]=max(abs(valp))\n",
    "\n",
    "fig=plt.figure()\n",
    "plt.plot(tabepsilon,rayon_spectral_GS,label='Gauss-Seidel')\n",
    "plt.plot(tabepsilon,rayon_spectral_J,label='Jacobi')\n",
    "plt.plot(tabepsilon,np.ones(tabepsilon.shape[0]))\n",
    "plt.xlabel(r'$\\varepsilon$')\n",
    "plt.ylabel('rayon spectral de la matrice d\\'itération')\n",
    "plt.legend()"
   ]
  },
  {
   "cell_type": "markdown",
   "metadata": {},
   "source": [
    "**(b)** Que dire de la convergence des deux méthodes en fonction de la valeur de $\\varepsilon$ ?"
   ]
  },
  {
   "cell_type": "markdown",
   "metadata": {},
   "source": [
    "On observe sur la figure ci-dessus que le rayon spectral de la matrice d'itération de la méthode de Gauss-Seidel est toujours plus petit que celui de la matrice d'itération de la méthode de Jacobi. On confirme ainsi ce qui a été constaté à la question 2 pour le cas particulier $\\varepsilon=0,3$: la convergence de la méthode de Gauss-Seidel est plus rapide que celle de la méthode de Jacobi pour ce problème. Par ailleurs, on voit encore que la méthode de Jacobi ne converge que si la valeur de $\\varepsilon$ est inférieure à un nombre compris entre $0,4$ et $0,45$, alors que la méthode de Gauss-Seidel converge pour toute valeur de $\\varepsilon$ inférieure à un nombre proche de $0,7$."
   ]
  },
  {
   "cell_type": "markdown",
   "metadata": {},
   "source": [
    "**(c)** Quelle méthode choisir pour résoudre le système lorsque $\\varepsilon=0,5$ ? Utiliser la méthode sélectionnée et comparer le nombre d'itérations nécessaires à celui observé en 1.(c). Comment expliquer la différence constatée ?"
   ]
  },
  {
   "cell_type": "markdown",
   "metadata": {},
   "source": [
    "Lorsque le paramètre $\\varepsilon$ vaut $0,5$, on voit sur la figure ci-dessus que le rayon spectral de la matrice d'itération de la méthode de Jacobi est supérieur à $1$. Cette méthode ne converge donc pas et il faut lui préférer la méthode de Gauss-Seidel pour la résolution approchée dans ce cas."
   ]
  },
  {
   "cell_type": "code",
   "execution_count": 11,
   "metadata": {},
   "outputs": [
    {
     "name": "stdout",
     "output_type": "stream",
     "text": [
      "\n",
      "Solution approchée obtenue après 27 itérations : [1. 1. 1. 1. 1.] .\n"
     ]
    }
   ],
   "source": [
    "A,b=systeme(n,0.5)\n",
    "x0=np.zeros(n)\n",
    "[x,iter,res]=gauss_seidel(A,b,x0,tol,itermax)\n",
    "print('Solution approchée obtenue après',iter,'itérations :',x,'.')"
   ]
  },
  {
   "cell_type": "markdown",
   "metadata": {},
   "source": [
    "L'augmentation du nombre d'itérations requises par rapport à la question 1.(c) s'explique par le fait que le rayon spectral de la matrice d'itération de la méthode a augmenté."
   ]
  },
  {
   "cell_type": "markdown",
   "metadata": {},
   "source": [
    "**4.** On pose à présent $n=100$. Pour $\\varepsilon=0,3$ et $\\varepsilon=0,35$, tracer (en utilisant la commande `semilogy` de Matplotlib) et comparer les graphes de la norme du résidu $r^{(k)}=b_\\varepsilon-A_\\varepsilon x^{(k)}$ en fonction du nombre d'itérations $1\\leq k\\leq 50$ pour la méthode de Jacobi (on modifiera pour cela la fonction précédemment écrite). Commenter en particulier la pente des courbes. Dans le cas où $\\varepsilon=0,35$, estimer à partir du graphe le nombre d'itérations nécessaires pour que la norme du résidu soit plus petite que $10^{-10}$."
   ]
  },
  {
   "cell_type": "code",
   "execution_count": 12,
   "metadata": {},
   "outputs": [
    {
     "name": "stdout",
     "output_type": "stream",
     "text": [
      "Nombre maximum d'itérations atteint sans que le critère d'arrêt soit satisfait.\n",
      "Nombre maximum d'itérations atteint sans que le critère d'arrêt soit satisfait.\n"
     ]
    },
    {
     "data": {
      "text/plain": [
       "<matplotlib.legend.Legend at 0x7f47efd84580>"
      ]
     },
     "execution_count": 12,
     "metadata": {},
     "output_type": "execute_result"
    },
    {
     "data": {
      "image/png": "[encoded data removed]",
      "text/plain": [
       "<Figure size 432x288 with 1 Axes>"
      ]
     },
     "metadata": {
      "needs_background": "light"
     },
     "output_type": "display_data"
    }
   ],
   "source": [
    "def jacobi_res(A,b,x0,tol,itermax):\n",
    "# Résolution du système linéaire Ax=b par la méthode itérative de Jacobi.\n",
    "# La matrice A du système doit être inversible et le second membre b doit être de taille compatible avec l'ordre de A.\n",
    "# En entrée :\n",
    "# le tableau x0 contient le premier terme de la suite des vecteurs itérés,\n",
    "# le réel tol est la tolérance utilisée pour le critère d'arrêt,\n",
    "# l'entier itermax est le nombre maximal d'itérations autorisées.\n",
    "# En sortie :\n",
    "# le tableau x contient la solution approchée obtenue,\n",
    "# l'entier iter contient le nombre d'itérations nécessaires pour atteindre la convergence,\n",
    "# le tableau res contient la norme du résidu relatif à chaque itération.\n",
    "    m,n=A.shape\n",
    "    if n!=m:\n",
    "        raise ValueError('La matrice doit être carrée.')\n",
    "    res=np.zeros(itermax)\n",
    "    # initialisation\n",
    "    iter=0\n",
    "    x=x0.copy()\n",
    "    r=b-np.dot(A,x)\n",
    "    nr0=np.linalg.norm(r)\n",
    "    relnr=np.linalg.norm(r)/nr0\n",
    "    while (relnr>tol) and (iter<itermax):\n",
    "        res[iter]=relnr\n",
    "        iter=iter+1\n",
    "        for i in range(n):\n",
    "            x[i]=x[i]+r[i]/A[i,i]\n",
    "        r=b-np.dot(A,x)\n",
    "        relnr=np.linalg.norm(r)/nr0\n",
    "    if (relnr>tol):\n",
    "        print('Nombre maximum d\\'itérations atteint sans que le critère d\\'arrêt soit satisfait.');\n",
    "    return [x,iter,res]\n",
    "\n",
    "n=100\n",
    "x0=np.zeros(n)\n",
    "itermax=50\n",
    "\n",
    "A,b=systeme(n,0.3)\n",
    "[x,iter,res1]=jacobi_res(A,b,x0,tol,itermax)\n",
    "\n",
    "A,b=systeme(n,0.35)\n",
    "[x,iter,res2]=jacobi_res(A,b,x0,tol,itermax)\n",
    "\n",
    "fig=plt.figure()\n",
    "plt.semilogy(res1,label='$\\\\varepsilon=0,3$')\n",
    "plt.semilogy(res2,label='$\\\\varepsilon=0,35$')\n",
    "plt.xlabel('itération')\n",
    "plt.ylabel('norme du résidu')\n",
    "plt.legend()"
   ]
  },
  {
   "cell_type": "markdown",
   "metadata": {},
   "source": [
    "On observe sur la figure que la convergence est beaucoup moins rapide pour $\\varepsilon=0,35$ car la pente du segment de droite correspant sur le graphe est moindre. Dans ce cas, la norme du résidu est à peu près divisée par 10 toutes les 40 itérations (à l'itération 10, la norme du résidu vaut environ 10, et environ 1 à l'itération 50). Il faudra donc environ 450 itérations pour obtenir une norme inférieure à $10^{-10}$."
   ]
  },
  {
   "cell_type": "markdown",
   "metadata": {},
   "source": [
    "## Exercice 2 (paramètre optimal de la méthode de sur-relaxation successive)\n",
    "L'objectif de cet exercice est de déterminer un encadrement du paramètre de relaxation optimal de la [méthode de sur-relaxation successive](https://fr.wikipedia.org/wiki/M%C3%A9thode_de_surrelaxation_successive) appliquée la résolution d'un système linéaire $Ax=b$ particulier.\n",
    "\n",
    "**1.** &Eacute;crire, sur le modèle des fonctions de l'exercice précédent, une fonction `sor(A,b,omega,x0,tol,itermax)` mettant en &oelig;uvre la méthode de sur-relaxation successive."
   ]
  },
  {
   "cell_type": "code",
   "execution_count": 13,
   "metadata": {},
   "outputs": [],
   "source": [
    "def sor(A,b,omega,x0,tol,itermax):\n",
    "# Résolution du système linéaire Ax=b par la méthode itérative de sur-relaxation successive.\n",
    "# La matrice A du système doit être inversible et le second membre b doit être de taille compatible avec l'ordre de A.\n",
    "# En entrée :\n",
    "# le réel omega non nul est le paramètre de relaxation de la méthode,\n",
    "# le tableau x0 contient le premier terme de la suite des vecteurs itérés,\n",
    "# le réel tol est la tolérance utilisée pour le critère d'arrêt,\n",
    "# l'entier itermax est le nombre maximal d'itérations autorisées.\n",
    "# En sortie :  \n",
    "# le tableau x contient la solution approchée obtenue,\n",
    "# l'entier iter contient le nombre d'itérations nécessaires pour atteindre la convergence,\n",
    "# le réel relnr contient la norme du résidu relatif à la dernière itération.\n",
    "    m,n=A.shape\n",
    "    if n!=m:\n",
    "        raise ValueError('La matrice doit être carrée.')\n",
    "    if omega==0.:\n",
    "        raise ValueError('Le paramètre de relaxation doit être non nul.')\n",
    "    # initialisation\n",
    "    iter=0\n",
    "    x=x0.copy()\n",
    "    r=b-np.dot(A,x)\n",
    "    nr0=np.linalg.norm(r)\n",
    "    relnr=np.linalg.norm(r)/nr0\n",
    "    while (relnr>tol) and (iter<itermax):\n",
    "        iter=iter+1\n",
    "        for i in range(n):\n",
    "            r[i]=omega*r[i]/A[i,i]\n",
    "            for j in range(i+1,n):\n",
    "                r[j]=r[j]-A[j,i]*r[i]\n",
    "            x[i]=x[i]+r[i]\n",
    "        r=b-np.dot(A,x)\n",
    "        relnr=np.linalg.norm(r)/nr0\n",
    "    if (relnr>tol):\n",
    "        print('Nombre maximum d\\'itérations atteint sans que le critère d\\'arrêt soit satisfait.')\n",
    "    return [x,iter,relnr]\n"
   ]
  },
  {
   "cell_type": "markdown",
   "metadata": {},
   "source": [
    "On souhaite utiliser la méthode pour résoudre un système linéaire résultant de la discrétisation par une méthode de différences finies d'un [problème de Poisson](https://fr.wikipedia.org/wiki/%C3%89quation_de_Poisson), posé dans le carré unité, avec des conditions aux limites de Dirichlet homogènes et un second membre qui est la fonction constante égale à $1$. Ce problème modélise, de manière statique, la déformation d'une membrane élastique carrée, fixée en ses quatre côtés et soumise à une charge uniformément répartie en surface.\n",
    "\n",
    "On utilise $n$ points de discrétisation dans chaque direction d'espace, le système linéaire à résoudre ayant alors $(n-2)^2$ inconnues. On choisit dans un premier temps la valeur $n=6$."
   ]
  },
  {
   "cell_type": "code",
   "execution_count": 14,
   "metadata": {},
   "outputs": [],
   "source": [
    "# nombre de points de discrétisation dans chaque direction d'espace\n",
    "n=6\n",
    "# nombre d'inconnues du système linéaire\n",
    "N=(n-2)**2\n",
    "K=2*np.eye(n-2)-np.diag(np.ones(n-3),1)-np.diag(np.ones(n-3),-1)\n",
    "I=np.eye(n-2)\n",
    "# matrice du système linéaire\n",
    "A=(np.kron(K,I)+np.kron(I,K))*(n-1)**2"
   ]
  },
  {
   "cell_type": "markdown",
   "metadata": {},
   "source": [
    "**2.** Utiliser la méthode pour résoudre le système linéaire $Ax=b$ en faisant varier le paramètre de relaxation entre $1,2$ et $1,4$ par pas de longueur $10^{-5}$. Déterminer ainsi la valeur optimale du paramètre de relaxation. On choisira une approximation initiale nulle et on fixera la tolérance égale à $10^{-12}$ et le nombre d'itérations maximal égal à $1000$."
   ]
  },
  {
   "cell_type": "code",
   "execution_count": 17,
   "metadata": {},
   "outputs": [
    {
     "name": "stdout",
     "output_type": "stream",
     "text": [
      "La valeur optimale du paramètre obtenue numériquement est :  1.2612530626531326 .\n"
     ]
    },
    {
     "data": {
      "image/png": "[encoded data removed]",
      "text/plain": [
       "<Figure size 432x288 with 1 Axes>"
      ]
     },
     "metadata": {
      "needs_background": "light"
     },
     "output_type": "display_data"
    }
   ],
   "source": [
    "# second membre du système linéaire\n",
    "b=np.ones(N)\n",
    "# initialisation\n",
    "x0=np.zeros(N)\n",
    "\n",
    "omega_min,omega_max=1.2,1.4\n",
    "ntrials=int((omega_max-omega_min)/(1e-5))+1\n",
    "omegas=np.linspace(omega_min,omega_max,ntrials)\n",
    "niter=np.zeros(ntrials)\n",
    "for i in range(ntrials):\n",
    "    [x,niter[i],relnr]=sor(A,b,omegas[i],x0,1e-12,1e3)\n",
    "plt.plot(omegas,niter)\n",
    "plt.xlabel(r'$\\omega$')\n",
    "plt.ylabel('nombre d\\'itérations')\n",
    "index=np.argmin(niter)\n",
    "print('La valeur optimale du paramètre obtenue numériquement est : ',omegas[index],'.')"
   ]
  },
  {
   "cell_type": "markdown",
   "metadata": {},
   "source": [
    "La matrice du système considéré ci-dessus fait partie d'une classe de matrices pour lesquelles la valeur optimale du paramètre de relaxation est connue explicitement et vaut\n",
    "$$\n",
    "\\omega_o=\\frac{2}{1+\\sqrt{1-\\rho(B_J)^2}},\n",
    "$$\n",
    "où $\\rho(B_J)$ est le rayon spectral de la matrice d'itération de la méthode de Jacobi associée.\n",
    "\n",
    "**3.** Calculer la valeur du paramètre optimal et comparer avec l'encadrement trouvé heuristiquement dans la précédente question."
   ]
  },
  {
   "cell_type": "code",
   "execution_count": 20,
   "metadata": {},
   "outputs": [
    {
     "name": "stdout",
     "output_type": "stream",
     "text": [
      "La valeur optimale du paramètre de relaxation obtenue par calcul numérique vaut 1.2596161836824997 .\n"
     ]
    }
   ],
   "source": [
    "rhoBj=max(np.abs(np.linalg.eigvals(np.dot(np.diag(1./np.diag(A)),A-np.diag(np.diag(A))))))\n",
    "\n",
    "print('La valeur optimale du paramètre de relaxation obtenue par calcul numérique vaut',2./(1.+np.sqrt(1.-rhoBj**2)),'.')"
   ]
  },
  {
   "cell_type": "markdown",
   "metadata": {},
   "source": [
    "On notera que le rayon spectral de la matrice d'itération de la méthode de Jacobi associée à la matrice $A$ issue de la discrétisation du problème de Poisson-Dirichlet introduit ci-desssus peut être analytiquement déterminé et vaut dans ce cas particulier $\\cos\\left(\\frac{\\pi}{n-1}\\right)$."
   ]
  },
  {
   "cell_type": "code",
   "execution_count": 21,
   "metadata": {},
   "outputs": [
    {
     "name": "stdout",
     "output_type": "stream",
     "text": [
      "La valeur optimale du paramètre de relaxation théorique vaut 1.2596161836824997 .\n"
     ]
    }
   ],
   "source": [
    "omega_opt=2./(1.+np.sqrt(1.-np.cos(np.pi/(n-1))**2))\n",
    "print('La valeur optimale du paramètre de relaxation théorique vaut',omega_opt,'.')"
   ]
  },
  {
   "cell_type": "markdown",
   "metadata": {},
   "source": [
    "**4.** Le code ci-dessous permet de représenter graphiquement, au moyen une élévation verticale, une solution approchée de l'équation de Poisson avec conditions aux limites de Dirichlet homogènes, la solution du système linéaire correspondant à la discrétisation du problème étant stockée dans le tableau `x`. Afficher l'approximation obtenue pour $n=15$."
   ]
  },
  {
   "cell_type": "code",
   "execution_count": 22,
   "metadata": {},
   "outputs": [
    {
     "data": {
      "image/png": "[encoded data removed]",
      "text/plain": [
       "<Figure size 432x288 with 1 Axes>"
      ]
     },
     "metadata": {
      "needs_background": "light"
     },
     "output_type": "display_data"
    }
   ],
   "source": [
    "from mpl_toolkits import mplot3d\n",
    "\n",
    "n=15\n",
    "N=(n-2)**2\n",
    "\n",
    "K=2*np.eye(n-2)-np.diag(np.ones(n-3),1)-np.diag(np.ones(n-3),-1)\n",
    "I=np.eye(n-2)\n",
    "A=(np.kron(K,I)+np.kron(I,K))*(n-1)**2\n",
    "\n",
    "b=np.ones(N)\n",
    "x0=np.zeros(N)\n",
    "[x,niter[i],relnr]=sor(A,b,np.cos(np.pi/(n-1)),x0,1e-8,1e3)\n",
    "\n",
    "xx,yy=np.linspace(0.,1.,n),np.linspace(0.,1.,n)\n",
    "X,Y=np.meshgrid(xx,yy)\n",
    "Z=np.zeros((n,n))\n",
    "Z[1:n-1,1:n-1]=x.reshape((n-2,n-2))\n",
    "\n",
    "fig=plt.figure()\n",
    "ax=plt.axes(projection='3d')\n",
    "ax.plot_surface(X,Y,Z,linewidth=0,antialiased=False,alpha=0.5)\n",
    "ax.set_xlabel(r'$x$')\n",
    "ax.set_ylabel(r'$y$')\n",
    "ax.set_zlabel(r'$u(x,y)$')\n",
    "plt.show()"
   ]
  },
  {
   "cell_type": "markdown",
   "metadata": {},
   "source": [
    "## Exercice bonus (méthodes de Richardson, d'après G. Allaire et S. M. Kaber)\n",
    "\n",
    "Dans cet exercice, on considère la résolution d'un système linéaire $Ax=b$ issu de la discrétisation du problème de Poisson sur le segment unité, avec des conditions aux limites de Dirichlet homogènes et un second membre égal à la fonction $t\\mapsto t\\sin(t)$, par une méthode de Richardson.\n",
    "\n",
    "En supposant que l'on utilise $n$ points de discrétisation sur le segment, le système linéaire possède dans ce cas $n-2$ inconnues. On choisit la valeur $n=12$."
   ]
  },
  {
   "cell_type": "code",
   "execution_count": null,
   "metadata": {},
   "outputs": [],
   "source": [
    "# nombre de points de discrétisation sur le segment\n",
    "n=12\n",
    "# nombre d'inconnues du système linéaire\n",
    "N=n-2\n",
    "# matrice du système linéaire\n",
    "A=(2*np.eye(N)-np.diag(np.ones(N-1),1)-np.diag(np.ones(N-1),-1))*(n-1)**2"
   ]
  },
  {
   "cell_type": "markdown",
   "metadata": {},
   "source": [
    "On considère tout d'abord la méthode de Richardson stationnaire.\n",
    "\n",
    "**1.** &Eacute;crire, sur le modèle des fonctions des exercices précédents, une fonction `richardson_stationnaire(A,b,alpha,x0,tol,itermax)` mettant en &oelig;uvre la méthode de Richardson stationnaire."
   ]
  },
  {
   "cell_type": "code",
   "execution_count": null,
   "metadata": {},
   "outputs": [],
   "source": [
    "def richardson_stationnaire(A,b,alpha,x0,tol,itermax):\n",
    "    m,n=A.shape\n",
    "    if n!=m:\n",
    "        raise ValueError ('La matrice doit être carrée.')\n",
    "    if alpha ==0.:\n",
    "        raise ValueError ('Le paramètre ne doit pas être nul.')\n",
    "    iter=0\n",
    "    x=x0.copy()\n",
    "    r=b-np.dot(A,x)\n",
    "    nr0=np.linalg.norm(r)\n",
    "    relnr=np.linalg.norm(r)/nr0\n",
    "    while (relnr>tol) & (iter<itermax):\n",
    "        iter=iter+1\n",
    "        x=x+alpha*r\n",
    "        r=b-np.dot(A,x)\n",
    "        relnr=np.linalg.norm(r)/nr0\n",
    "    if (relnr>tol):\n",
    "        print('Nombre maximum d\\'itérations atteint sans que le critère d\\'arrêt soit satisfait.')\n",
    "    return [x,iter,relnr]"
   ]
  },
  {
   "cell_type": "markdown",
   "metadata": {},
   "source": [
    "**2.** Résoudre le système linéaire avec la méthode de Richardson stationnaire et une valeur du paramètre de la méthode égale à $10^{-4}$. On choisira une approximation initiale nulle et on fixera la tolérance égale à $10^{-4}$ et le nombre d'itérations maximal à $10000$. On pourra comparer la solution obtenue avec celle calculée par la commande `linalg.solve(A,b)` de NumPy."
   ]
  },
  {
   "cell_type": "code",
   "execution_count": null,
   "metadata": {},
   "outputs": [],
   "source": [
    "# second membre du système linéaire\n",
    "xx=np.linspace(0,1,n)\n",
    "b=xx[1:n-1]*np.sin(xx[1:n-1])\n",
    "# initialisation\n",
    "x0=np.zeros(N)\n",
    "[x,iter,relnr]=richardson_stationnaire(A,b,1e-4,x0,1e-4,1e5)\n",
    "print('nombre d\\'itérations nécessaires :',iter)\n",
    "print('norme de la différence avec la solution de référence :',np.linalg.norm(x-np.linalg.solve(A,b)))"
   ]
  },
  {
   "cell_type": "markdown",
   "metadata": {},
   "source": [
    "On peut représenter graphiquement l'approximation de la solution du problème de Poisson calculée."
   ]
  },
  {
   "cell_type": "code",
   "execution_count": null,
   "metadata": {},
   "outputs": [],
   "source": [
    "plt.plot(xx,np.concatenate(([0.],x,[0.])))\n",
    "plt.xlabel(r'$x$')\n",
    "plt.ylabel(r'$u(x)$')"
   ]
  },
  {
   "cell_type": "markdown",
   "metadata": {},
   "source": [
    "La matrice $A$ du système étant réelle symétrique définie positive, on sait que la méthode est convergente pour toute valeur du paramètre $\\alpha$ telle que\n",
    "$$\n",
    "0<\\alpha<\\frac{2}{\\lambda_\\max}\n",
    "$$\n",
    "et que la valeur optimale du paramètre $\\alpha$ de la méthode de Richardson est\n",
    "$$\n",
    "\\alpha_o=\\frac{2}{\\lambda_\\max+\\lambda_\\min},\n",
    "$$\n",
    "    où $\\lambda_\\max$ et $\\lambda_\\min$ sont respectivement la plus grande et la plus petite valeur propre de $A$. Les valeurs propres de la matrice $A$ sont par ailleurs données par\n",
    "$$\n",
    "4(n-1)^2\\sin\\left(\\frac{i\\pi}{2(n-1)}\\right)^2,\\ i=1,\\dots,n-2.\n",
    "$$\n",
    "\n",
    "**2.** Utiliser la méthode de Richardson stationnaire pour résoudre le système linéaire $Ax=b$ en faisant varier le paramètre de la méthode entre $32\\times10^{-4}$ et $42\\times10^{-4}$ par pas de longueur $10^{-5}$. On choisira une approximation initiale nulle et on fixera la tolérance égale à $10^{-10}$ et le nombre d'itérations maximal à $10000$. Déterminer ainsi la valeur conduisant au nombre minimal d'itérations effectuées et la comparer à la valeur théorique $\\alpha_o$."
   ]
  },
  {
   "cell_type": "code",
   "execution_count": null,
   "metadata": {
    "scrolled": true
   },
   "outputs": [],
   "source": [
    "alpha_min,alpha_max=32e-4,42e-4\n",
    "ntrials=int((alpha_max-alpha_min)/(1e-5))+1\n",
    "alphas=np.linspace(alpha_min,alpha_max,ntrials)\n",
    "niter=np.zeros(ntrials)\n",
    "for i in range(ntrials):\n",
    "    [x,niter[i],relnr]=richardson_stationnaire(A,b,alphas[i],x0,1e-10,1e5)\n",
    "plt.semilogy(alphas[0:ntrials],niter)\n",
    "plt.xlabel(r'$\\alpha$')\n",
    "plt.ylabel('nombre d\\'itérations')\n",
    "index=np.argmin(niter)\n",
    "print('La valeur optimale du paramètre de la méthode de Richardson stationnaire déterminée numériquement est : ',alphas[index])"
   ]
  },
  {
   "cell_type": "markdown",
   "metadata": {},
   "source": [
    "On déduit de la croissance de la fonction $\\sin^2$ sur l'intervalle $\\left[0,\\frac{\\pi}{2}\\right]$ que $\\lambda_\\max$ est obtenue en prenant $i=n-2$ dans la formule ci-dessus et $\\lambda_\\min$ en prenant $i=1$."
   ]
  },
  {
   "cell_type": "code",
   "execution_count": null,
   "metadata": {},
   "outputs": [],
   "source": [
    "alpha_opt=2./(4*(n-1)**2*(np.sin(np.pi/(2*(n-1)))**2+np.sin((n-2)*np.pi/(2*(n-1)))**2))\n",
    "print('La valeur optimale du paramètre de la méthode de Richardson stationnaire théorique est ',alpha_opt,'.')"
   ]
  },
  {
   "cell_type": "markdown",
   "metadata": {},
   "source": [
    "Pour améliorer la méthode, on se propose de faire varier le paramètre $\\alpha$ à chaque étape, la méthode étant alors dite <i>instationnaire</i>.\n",
    "À chaque itération, on choisit la valeur de $\\alpha^{(k)}$ minimisant la forme quadratique\n",
    "$$\n",
    "q(x^{(k+1)})=\\frac{1}{2}(x^{(k+1)})^\\top Ax^{(k+1)}-(x^{(k+1)})^\\top b,\\text{ avec }x^{(k+1)}=x^{(k)}+\\alpha r^{(k)}.\n",
    "$$\n",
    "On peut en effet montrer que minimiser $q(x)$ équivaut à résoudre le système linéaire $Ax=b$ et l'on vise par conséquent à minimiser à chape étape la forme quadratique le long de la direction donnée par le résidu courant $r^{(k)}$. En dérivant l'expression ci-dessus par rapport à $\\alpha$ et cherchant la valeur de $\\alpha$ annnulant cette dérivée, on trouve\n",
    "$$\n",
    "\\alpha^{(k)}=\\frac{{\\|r^{(k)}\\|_2}^2}{(r^{(k)})^\\top Ar^{(k)}}.\n",
    "$$\n",
    "\n",
    "**4.** &Eacute;crire, sur le modèle de la précédente fonction, une fonction `richardson_instationnaire(A,b,x0,tol,itermax)` mettant en &oelig;uvre la méthode de Richardson instationnaire dans laquelle la valeur du paramètre de la méthode est donnée à chaque itération par la formule ci-dessus. Comparer alors les deux méthodes de Richardson, notamment en termes du nombre d'itérations, en utilisant les paramètres numériques de la question précédente et la valeur optimale $\\alpha_o$ pour la méthode stationnaire."
   ]
  },
  {
   "cell_type": "code",
   "execution_count": null,
   "metadata": {},
   "outputs": [],
   "source": [
    "def richardson_instationnaire(A,b,x0,tol,itermax):\n",
    "    m,n=A.shape\n",
    "    if n!=m:\n",
    "        raise ValueError ('La matrice doit être carrée.')\n",
    "    iter=0\n",
    "    x=x0.copy()\n",
    "    r=b-np.dot(A,x)\n",
    "    nr0=np.linalg.norm(r)\n",
    "    relnr=np.linalg.norm(r)/nr0\n",
    "    while (relnr>tol) & (iter<itermax):\n",
    "        alpha=np.linalg.norm(r)**2/np.dot(r,np.dot(A,r))\n",
    "        iter=iter+1\n",
    "        x=x+alpha*r\n",
    "        r=b-np.dot(A,x)\n",
    "        relnr=np.linalg.norm(r)/nr0\n",
    "    if (relnr>tol):\n",
    "        print('Nombre maximum d\\'itérations atteint sans que le critère d\\'arrêt soit satisfait.')\n",
    "    return [x,iter,relnr]"
   ]
  },
  {
   "cell_type": "code",
   "execution_count": null,
   "metadata": {},
   "outputs": [],
   "source": [
    "[x,iter,relnr]=richardson_stationnaire(A,b,alpha_opt,x0,1e-10,1e5)\n",
    "print('nombre d\\'itérations nécessaires pour la méthode de Richardson stationnaire :',iter)\n",
    "print('norme de la différence avec la solution de référence :',np.linalg.norm(x-np.linalg.solve(A,b)))\n",
    "\n",
    "[x,iter,relnr]=richardson_instationnaire(A,b,x0,1e-10,1e5)\n",
    "print('nombre d\\'itérations nécessaires pour la méthode de Richardson instationnaire :',iter)\n",
    "print('norme de la différence avec la solution de référence :',np.linalg.norm(x-np.linalg.solve(A,b)))"
   ]
  }
 ],
 "metadata": {
  "kernelspec": {
   "display_name": "Python 3 (ipykernel)",
   "language": "python",
   "name": "python3"
  },
  "language_info": {
   "codemirror_mode": {
    "name": "ipython",
    "version": 3
   },
   "file_extension": ".py",
   "mimetype": "text/x-python",
   "name": "python",
   "nbconvert_exporter": "python",
   "pygments_lexer": "ipython3",
   "version": "3.9.12"
  }
 },
 "nbformat": 4,
 "nbformat_minor": 1
}
