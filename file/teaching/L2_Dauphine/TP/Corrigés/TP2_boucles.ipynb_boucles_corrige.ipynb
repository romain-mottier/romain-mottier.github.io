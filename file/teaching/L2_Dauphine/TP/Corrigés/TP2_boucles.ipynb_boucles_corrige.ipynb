{
 "cells": [
  {
   "cell_type": "markdown",
   "metadata": {},
   "source": [
    "# Feuille de travaux pratiques. Boucles et récursivité"
   ]
  },
  {
   "cell_type": "code",
   "execution_count": null,
   "metadata": {},
   "outputs": [],
   "source": [
    "# chargement des bibliothèques\n",
    "import numpy as np\n",
    "\n",
    "%matplotlib inline\n",
    "import matplotlib.pyplot as plt"
   ]
  },
  {
   "cell_type": "markdown",
   "metadata": {},
   "source": [
    "## Exercice 1 (suite de Fibonacci)\n",
    "\n",
    "**1.** Écrire une boucle calculant les valeurs des vingt premiers termes de la [suite de Fibonacci](https://fr.wikipedia.org/wiki/Suite_de_Fibonacci), définie par\n",
    "$$\n",
    "u^{(0)}=0,\\ u^{(1)}=1\\text{ et},\\ \\forall k\\in\\mathbb{N},\\ u^{(k+2)}=u^{(k+1)}+u^{(k)},\n",
    "$$\n",
    "et conservant ces valeurs dans un tableau."
   ]
  },
  {
   "cell_type": "code",
   "execution_count": null,
   "metadata": {},
   "outputs": [],
   "source": [
    "N=20\n",
    "u=np.zeros(N).astype(int)\n",
    "u[0],u[1]=0,1\n",
    "for n in range(2,N):\n",
    "    u[n]=u[n-1]+u[n-2]\n",
    "print(u)"
   ]
  },
  {
   "cell_type": "markdown",
   "metadata": {},
   "source": [
    "**2.** Écrire une boucle calculant les termes successifs de la suite de Fibonacci dont la valeur est inférieure ou égale à $50000$ et afficher le dernier de ces termes."
   ]
  },
  {
   "cell_type": "code",
   "execution_count": null,
   "metadata": {},
   "outputs": [],
   "source": [
    "max=50000\n",
    "un,un1=0,1\n",
    "un2=un1+un\n",
    "n=3\n",
    "while un2<=max:\n",
    "    n=n+1\n",
    "    un,un1=un1,un2\n",
    "    un2=un1+un\n",
    "print('Le dernier terme de la suite inférieur ou égal à',max,'est',un1,' (',n-1,'e terme).')"
   ]
  },
  {
   "cell_type": "markdown",
   "metadata": {},
   "source": [
    "**3.** Écrire enfin une fonction `fibonacci(n)` calculant de manière itérative $n$<sup>e</sup> terme de la suite de Fibonacci, sans toutefois conserver les valeurs de tous les termes de la suite."
   ]
  },
  {
   "cell_type": "code",
   "execution_count": null,
   "metadata": {},
   "outputs": [],
   "source": [
    "def fibonacci(n):\n",
    "    if n==1: return 0\n",
    "    elif n==2: return 1\n",
    "    elif n>2:\n",
    "        un,un1=0,1\n",
    "        for k in range(2,n):\n",
    "            un2=un1+un\n",
    "            un,un1=un1,un2\n",
    "        return un2\n",
    "\n",
    "print(fibonacci(10))"
   ]
  },
  {
   "cell_type": "markdown",
   "metadata": {},
   "source": [
    "## Exercice 2 (suites adjacentes)\n",
    "\n",
    "On définit deux suites $(u^{(k)})_{k\\in\\mathbb{N}}$ et $(v^{(k)})_{k\\in\\mathbb{N}}$ par\n",
    "$$\n",
    "u^{(0)}=1,\\ v^{(0)}=2\\text{ et, }\\forall k\\in\\mathbb{N},\\\n",
    "u^{(k+1)}=\\frac{u^{(k)}+v^{(k)}}{2},\\ v^{(k+1)}=\\sqrt{u^{(k+1)}v^{(k)}}.\n",
    "$$\n",
    "On admet que ces suites sont adjacentes, de limite $\\dfrac{\\sqrt{27}}{\\pi}$.\n",
    "\n",
    "**1.** Écrire une fonction ayant pour argument un entier $n$ et renvoyant l'approximation du nombre $\\pi$ obtenue à partir de la valeur de $v^{(n)}$."
   ]
  },
  {
   "cell_type": "code",
   "execution_count": null,
   "metadata": {},
   "outputs": [],
   "source": [
    "def approxPi(n):\n",
    "    if n==0: return np.sqrt(27)/2\n",
    "    elif n>0:\n",
    "        u,v=1,2\n",
    "        for i in range(1,n+1):\n",
    "            u=(u+v)/2\n",
    "            v=np.sqrt(u*v)\n",
    "        return np.sqrt(27)/v\n",
    "\n",
    "approximation=approxPi(10)\n",
    "print('Approximation obtenue =',approximation)\n",
    "print('Erreur relative =',abs(approximation-np.pi)/np.pi)"
   ]
  },
  {
   "cell_type": "markdown",
   "metadata": {},
   "source": [
    "**2.** Écrire une fonction ayant pour argument un réel $\\varepsilon$ strictement positif et renvoyant l'approximation du nombre $\\pi$ obtenue à partir de la valeur de $v^{(n)}$, premier terme de la suite $(v^{(k)})_{k\\in\\mathbb{N}}$ à satisfaire la condition\n",
    "$$\n",
    "\\left\\vert\\frac{u^{(n)}-v^{(n)}}{u^{(n)}+v^{(n)}}\\right\\vert\\leq\\varepsilon.\n",
    "$$"
   ]
  },
  {
   "cell_type": "code",
   "execution_count": null,
   "metadata": {},
   "outputs": [],
   "source": [
    "def approxPi(eps):\n",
    "    u,v=1,2\n",
    "    while(abs((u-v)/(u+v))>eps):\n",
    "        u=(u+v)/2\n",
    "        v=np.sqrt(u*v)\n",
    "    return np.sqrt(27)/v\n",
    "\n",
    "approximation=approxPi(1e-8)\n",
    "print('Approximation obtenue =',approximation)\n",
    "print('Erreur relative =',abs(approximation-np.pi)/np.pi)"
   ]
  },
  {
   "cell_type": "markdown",
   "metadata": {},
   "source": [
    "## Exercice 3 (développements en série entière de $\\cos$ et $\\sin$)\n",
    "\n",
    "**1.** Écrire une fonction `cosn(n,x)`, prenant comme arguments un entier naturel non nul $n$ et un réel $x$, calculant une approximation de la valeur de la fonction cosinus en $x$ obtenue en ne conservant que les $n$ premiers termes du développement en série entière\n",
    "$$\n",
    "\\cos(x)=1-\\frac{x^2}{2!}+\\dots+(-1)^k\\frac{x^{2k}}{(2k)!}+\\dots\n",
    "$$\n",
    "Comparer l'erreur entre le résultat `cosn(n,x)` et la valeur exacte `cos(x)` pour différentes valeurs de $n$ et de $x$."
   ]
  },
  {
   "cell_type": "code",
   "execution_count": null,
   "metadata": {},
   "outputs": [],
   "source": [
    "def cosn(n,x):\n",
    "# fonction calculant une approximation de cos(x) par un développement en série entière tronqué après n termes\n",
    "    if n>=0:\n",
    "        value=0\n",
    "        for k in range(n+1):\n",
    "            value=value+pow(-pow(x,2),k)/np.math.factorial(2*k)\n",
    "        return value\n",
    "\n",
    "# calcul et tracé de l'approximation et l'erreur d'approximation en des points de l'intervalle [0,2pi]\n",
    "x=np.linspace(0,2*np.pi,500)\n",
    "\n",
    "exact=np.cos(x)\n",
    "cos3=cosn(3,x)\n",
    "error3=abs(cos3-exact)\n",
    "cos5=cosn(5,x)\n",
    "error5=abs(cos5-exact)\n",
    "cos7=cosn(7,x)\n",
    "error7=abs(cos7-exact)\n",
    "\n",
    "fig=plt.figure()\n",
    "plt.plot(x,exact,label='cosinus')\n",
    "plt.plot(x,cos5,label='approx. à 5 termes')\n",
    "plt.plot(x,cos7,label='approx. à 7 termes')\n",
    "plt.title('Fonction cosinus et ses approximations sur $[0,2\\pi]$')\n",
    "plt.legend(loc='best')\n",
    "\n",
    "fig=plt.figure()\n",
    "plt.plot(x,error3,label='ordre 3')\n",
    "plt.plot(x,error5,label='ordre 5')\n",
    "plt.plot(x,error7,label='ordre 7')\n",
    "plt.yscale('log')\n",
    "plt.title('Erreur d\\'approximation sur $[0,2\\pi]$')\n",
    "plt.legend(loc='lower right')"
   ]
  },
  {
   "cell_type": "markdown",
   "metadata": {},
   "source": [
    "**2.** Même question avec la fonction `sinn(n,x)` basée sur le développement en série entière de la fonction sinus\n",
    "$$\n",
    "\\sin(x)=x-\\frac{x^3}{3!}+\\dots+(-1)^k\\frac{x^{2k+1}}{(2k+1)!}+\\dots\n",
    "$$"
   ]
  },
  {
   "cell_type": "code",
   "execution_count": null,
   "metadata": {},
   "outputs": [],
   "source": [
    "def sinn(n,x):\n",
    "    if n>=0:\n",
    "        value=0\n",
    "        for k in range(n+1):\n",
    "            value=value+x*pow(-pow(x,2),k)/np.math.factorial(2*k+1)\n",
    "        return value\n",
    "\n",
    "# calcul et tracé de l'erreur en des points de l'intervalle [0,2pi]\n",
    "x=np.linspace(0,2*np.pi,500)\n",
    "\n",
    "exact=np.sin(x)\n",
    "error3=abs(sinn(3,x)-exact)\n",
    "error5=abs(sinn(5,x)-exact)\n",
    "error7=abs(sinn(7,x)-exact)\n",
    "\n",
    "fig=plt.figure()\n",
    "plt.plot(x,error3,label='approx. 3 termes')\n",
    "plt.plot(x,error5,label='approx. 5 termes')\n",
    "plt.plot(x,error7,label='approx. 7 termes')\n",
    "plt.yscale('log')\n",
    "plt.title('Erreur d\\'approximation sur $[0,2\\pi]$')\n",
    "plt.legend(loc='best')"
   ]
  },
  {
   "cell_type": "markdown",
   "metadata": {},
   "source": [
    "## Exercice 4 (programmation récursive)\n",
    "\n",
    "En informatique, une fonction est dite *récursive* lorsqu'elle s'appelle elle-même. En pratique, une telle fonction aura toujours au moins une instruction conditionnelle, afin que, dans certains cas au moins, il n'y ait pas d'appel récursif (sans quoi la fonction s'appellerait indéfiniment jusqu'à la saturation de la pile, provoquant une interruption du programme). Le concept de fonction récursive est généralement opposé à celui de fonction itérative, qui s'exécute sans s'invoquer ou s'appeler explicitement.\n",
    "\n",
    "Bien que cette forme de programmation aboutisse à des programmes concis et proches des formulations mathématiques qui en sont à l'origine, il peut parfois être mal indiqué ou même catastrophique d'employer la récursivité (toute fonction récursive pouvant être remplacée par une fonction itérative), comme on le vérifiera à la troisième question du présent exercice.\n",
    "\n",
    "**1.** Écrire une fonction récursive `rfactorielle(n)` calculant $n!$."
   ]
  },
  {
   "cell_type": "code",
   "execution_count": null,
   "metadata": {},
   "outputs": [],
   "source": [
    "def rfactorielle(n):\n",
    "# fonction calculant n! de manière récursive\n",
    "    if n==0:\n",
    "       value=1\n",
    "    elif n>0:\n",
    "       value=n*rfactorielle(n-1)\n",
    "    return value\n",
    "\n",
    "# test\n",
    "print(rfactorielle(8))"
   ]
  },
  {
   "cell_type": "markdown",
   "metadata": {},
   "source": [
    "**2.** Écrire, en utilisant la fonction `remainder` de NumPy donnant le reste de la division euclidienne de deux entiers, une fonction récursive `rpgcd(a,b)` renvoyant le plus grand commun diviseur des entiers naturels $a$ et $b$ calculé par l'[algorithme d'Euclide](https://fr.wikipedia.org/wiki/Algorithme_d%27Euclide)."
   ]
  },
  {
   "cell_type": "code",
   "execution_count": null,
   "metadata": {},
   "outputs": [],
   "source": [
    "def rpgcd(a,b):\n",
    "# fonction calculant le pgcd des entiers a et b de manière récursive\n",
    "    if a>=b:\n",
    "        x,y=a,b\n",
    "    else:\n",
    "        x,y=b,a\n",
    "    r=np.remainder(x,y)\n",
    "    if r==0:\n",
    "        pgcd=y\n",
    "    else:\n",
    "        pgcd=rpgcd(y,r)\n",
    "    return pgcd\n",
    "\n",
    "# test\n",
    "print(rpgcd(21,15))"
   ]
  },
  {
   "cell_type": "markdown",
   "metadata": {},
   "source": [
    "**3.** Écrire une fonction récursive `rfibonacci(n)` calculant le $n$<sup>e</sup> terme de la suite de Fibonacci et comparer son temps d'exécution avec celui de la fonction `fibonacci(n)` de l'exercice 1."
   ]
  },
  {
   "cell_type": "code",
   "execution_count": null,
   "metadata": {},
   "outputs": [],
   "source": [
    "def rfibonacci(n):\n",
    "# fonction calculant le n-ième terme de la suite de Fibonacci de manière récursive\n",
    "    if n==1:\n",
    "        value=0\n",
    "    elif n==2:\n",
    "        value=1\n",
    "    elif n>2:\n",
    "        value=rfibonacci(n-1)+rfibonacci(n-2)\n",
    "    return value\n",
    "\n",
    "# test et comparaison\n",
    "t=time.time()\n",
    "print(rfibonacci(35))\n",
    "elapsed=time.time()-t\n",
    "print('Temps écoulé : ',elapsed,'s.')\n",
    "\n",
    "t=time.time()\n",
    "print(fibonacci(35))\n",
    "elapsed=time.time()-t\n",
    "print('Temps écoulé : ',elapsed,'s.')"
   ]
  },
  {
   "cell_type": "markdown",
   "metadata": {},
   "source": [
    "**4.** Écrire une fonction récursive `rcollatz(n)` renvoyant la valeur booléenne `True` si la [conjecture de Collatz](https://fr.wikipedia.org/wiki/Conjecture_de_Syracuse) est vérifiée pour l'entier naturel non nul $n$. On pourra utiliser la fonction `remainder` de NumPy."
   ]
  },
  {
   "cell_type": "code",
   "execution_count": null,
   "metadata": {},
   "outputs": [],
   "source": [
    "def rcollatz(n):\n",
    "# fonction vérifiant la conjecture de Collatz pour l'entier strictement positif n de manière récursive\n",
    "    bool=False\n",
    "    if n==1:\n",
    "        bool=True\n",
    "    elif np.remainder(n,2): # n est impair et plus grand que 1\n",
    "        bool=rcollatz(3*n+1)\n",
    "    else: # n est pair et plus grand que 1 \n",
    "        bool=rcollatz(n/2)\n",
    "    return bool\n",
    "\n",
    "# test avec les entiers de 1 à 500\n",
    "print(np.vectorize(rcollatz)(np.arange(1,501)))"
   ]
  },
  {
   "cell_type": "markdown",
   "metadata": {},
   "source": [
    "**5.** Écrire une fonction récursive `rcosn(n,x)` calculant l'approximation de $\\cos(x)$ vue dans l'exercice 3 et utilisant la relation existant entre les termes de la série, c'est-à-dire\n",
    "$$\n",
    "u^{(0)}=1\\mbox{ et},\\ \\forall k\\in\\mathbb{N}^*,\\ u^{(k)}=-\\frac{x^2}{2k(2k-1)}\\,u^{(k-1)}.\n",
    "$$"
   ]
  },
  {
   "cell_type": "code",
   "execution_count": null,
   "metadata": {},
   "outputs": [],
   "source": [
    "def rcosn(n,x):\n",
    "# fonction calculant une approximation de cos(x) par un développement en série entière tronqué après n termes de manière récursive\n",
    "    if n==1:\n",
    "        lastterm,value=1,1\n",
    "    elif n==2:\n",
    "        lastterm=-pow(x,2)/2\n",
    "        value=1+lastterm\n",
    "    elif n>2:\n",
    "        value,lastterm=rcosn(n-1,x)\n",
    "        lastterm=-lastterm*pow(x,2)/(2*(n-1)*(2*n-3))\n",
    "        value=value+lastterm\n",
    "    return value,lastterm\n",
    "\n",
    "# test\n",
    "print(rcosn(10,2))\n",
    "print(cosn(10,2))\n",
    "print(np.cos(2))"
   ]
  },
  {
   "cell_type": "markdown",
   "metadata": {},
   "source": [
    "## Exercice bonus (procédé $\\Delta^2$ d'Aitken)\n",
    "\n",
    "On peut obtenir une valeur approchée du réel $\\pi$ en sommant un nombre fini de termes de la [série de Madhava-Gregory-Leibniz](https://en.wikipedia.org/wiki/Leibniz_formula_for_%CF%80),\n",
    "$$\n",
    "\\sum_{n=0}^{+\\infty}\\frac{(-1)^n}{2n+1}=\\frac{\\pi}{4}.\n",
    "$$\n",
    "La convergence de cette série est malheureusement lente et, pour l'accélérer, on se propose d'utiliser le [procédé $\\Delta^2$ d'Aitken](https://en.wikipedia.org/wiki/Aitken%27s_delta-squared_process). Cette technique consiste en la construction d'une suite $(u^{(k)})_{k\\in\\mathbb{N}}$ définie par\n",
    "$$\n",
    "\\forall k\\in\\mathbb{N},\\ u^{(k)}=s^{(k)}-\\frac{\\left(s^{(k+1)}-s^{(k)}\\right)^2}{s^{(k)}-2\\,s^{(k+1)}+s^{(k+2)}},\\text{ avec},\\forall m\\in\\mathbb{N},\\ s^{(m)}=\\sum_{n=0}^m\\frac{(-1)^n}{2n+1},\n",
    "$$\n",
    "ayant même limite que la suite $(s^{(k)})_{k\\in\\mathbb{N}}$ des sommes partielles de la série de Madhava-Gregory-Leibniz et convergeant plus rapidement.\n",
    "\n",
    "**1.** Écrire une boucle calculant les termes de la suite $(s^{(k)})_{k\\in\\mathbb{N}}$ et s'arrêtant lorsque la condition $\\vert s^{(k)}-\\frac{\\pi}{4}\\vert\\leq\\varepsilon$ est vérifiée, avec $\\varepsilon$ un réel strictement positif fixé. En prenant $\\varepsilon=10^{-6}$, combien faut-il calculer de termes pour satisfaire le critère ? On mesurera le temps nécessaire au calcul de la série tronquée au moyen de la fonction `time.time` de Python."
   ]
  },
  {
   "cell_type": "code",
   "execution_count": null,
   "metadata": {},
   "outputs": [],
   "source": [
    "import time\n",
    "\n",
    "epsilon=1e-6\n",
    "t=time.time()\n",
    "s,k=1.,0\n",
    "while (abs(s-np.pi/4)>epsilon):\n",
    "    k=k+1\n",
    "    s=s+pow(-1,k)/(2*k+1)\n",
    "elapsed=time.time()-t\n",
    "print('Temps écoulé :',elapsed,'s.')\n",
    "print('On a besoin de ',k+1,'termes.')"
   ]
  },
  {
   "cell_type": "markdown",
   "metadata": {},
   "source": [
    "**2.** Modifier la boucle de façon à calculer les termes de la suite $(u^{(k)})_{k\\in\\mathbb{N}}$. Pour quelle valeur de l'entier $k$ a-t-on $\\vert u^{(k)}-\\frac{\\pi}{4}\\vert\\leq\\varepsilon$, avec $\\varepsilon=10^{-6}$ ?"
   ]
  },
  {
   "cell_type": "code",
   "execution_count": null,
   "metadata": {},
   "outputs": [],
   "source": [
    "t=time.time()\n",
    "s,j=1.,0\n",
    "sp1,j=s-1./3.,1\n",
    "u,k=0.,-1\n",
    "while (abs(u-np.pi/4)>epsilon):\n",
    "    j=j+1\n",
    "    sp2=sp1+pow(-1,j)/(2*j+1)\n",
    "    k=k+1;\n",
    "    u=s-pow(sp1-s,2)/(s-2*sp1+sp2)\n",
    "    s,sp1=sp1,sp2\n",
    "elapsed=time.time()-t\n",
    "print('Temps écoulé :',elapsed,'s.')\n",
    "print('On a besoin de ',k+1,'termes.')"
   ]
  },
  {
   "cell_type": "markdown",
   "metadata": {},
   "source": [
    "**3.** Reprendre les questions précédentes avec $\\varepsilon=10^{-8}$."
   ]
  },
  {
   "cell_type": "code",
   "execution_count": null,
   "metadata": {},
   "outputs": [],
   "source": [
    "epsilon=1e-8\n",
    "t=time.time()\n",
    "s,k=1.,0\n",
    "while (abs(s-np.pi/4)>epsilon):\n",
    "    k=k+1\n",
    "    s=s+pow(-1,k)/(2*k+1)\n",
    "elapsed=time.time()-t\n",
    "print('Temps écoulé :',elapsed,'s.')\n",
    "print('On a besoin de ',k+1,'termes.')\n",
    "\n",
    "t=time.time()\n",
    "s,j=1.,0\n",
    "sp1,j=s-1./3.,1\n",
    "u,k=0.,-1\n",
    "while (abs(u-np.pi/4)>epsilon):\n",
    "    j=j+1\n",
    "    sp2=sp1+pow(-1,j)/(2*j+1)\n",
    "    k=k+1\n",
    "    u=s-pow(sp1-s,2)/(s-2*sp1+sp2)\n",
    "    s,sp1=sp1,sp2\n",
    "elapsed=time.time()-t\n",
    "print('Temps écoulé :',elapsed,'s.')\n",
    "print('On a besoin de ',k+1,'termes.')"
   ]
  }
 ],
 "metadata": {
  "kernelspec": {
   "display_name": "Python 3",
   "language": "python",
   "name": "python3"
  },
  "language_info": {
   "codemirror_mode": {
    "name": "ipython",
    "version": 3
   },
   "file_extension": ".py",
   "mimetype": "text/x-python",
   "name": "python",
   "nbconvert_exporter": "python",
   "pygments_lexer": "ipython3",
   "version": "3.8.10"
  }
 },
 "nbformat": 4,
 "nbformat_minor": 1
}
