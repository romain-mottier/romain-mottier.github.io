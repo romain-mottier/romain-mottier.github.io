{
 "cells": [
  {
   "cell_type": "markdown",
   "metadata": {},
   "source": [
    "# Feuille de travaux pratiques. Calcul numérique de valeurs et de vecteurs propres"
   ]
  },
  {
   "cell_type": "code",
   "execution_count": 3,
   "metadata": {
    "scrolled": true
   },
   "outputs": [],
   "source": [
    "# chargement des bibliothèques\n",
    "import numpy as np\n",
    "\n",
    "%matplotlib inline\n",
    "import matplotlib.pyplot as plt"
   ]
  },
  {
   "cell_type": "markdown",
   "metadata": {},
   "source": [
    "\n",
    "\n",
    "## Exercice 1 (méthode de la puissance)\n",
    "\n",
    "La [méthode de la puissance](https://en.wikipedia.org/wiki/Power_iteration) est une méthode itérative très simple fournissant des approximations de la valeur propre de plus grand module d'une matrice (on parle de valeur propre dominante) et d'un vecteur propre associé.\n",
    "\n",
    "Soit $n$ un entier naturel non nul et $A$ une matrice d'ordre $n$ que l'on suppose  diagonalisable. On note $\\lambda_i$, $i=1,\\dots,n$, les valeurs propres de $A$, comptées avec leurs multiplicités respectives et ordonnées de la manière suivante\n",
    "$$\n",
    "|\\lambda_1|\\leq|\\lambda_2|\\leq\\dots\\leq|\\lambda_n|,\n",
    "$$\n",
    "et l'on désigne par $\\{v_i\\}_{i=1,\\dots,n}$ une base de vecteurs propres associés. On suppose de plus que $\\lambda_n$ a une multiplicité algébrique égale à un et qu'elle est la seule valeur propre de plus grand module.\n",
    "\n",
    "Dans toute la suite, on note $\\|\\cdot\\|_2$ la norme euclidienne sur $M_{n,1}(\\mathbb{C})$.\n",
    "\n",
    "La méthode de la puissance pour calculer $\\lambda_n$ et un vecteur propre $v_n$ associé consiste en l'algorithme suivant.\n",
    "\n",
    "* **Initialisation :**\n",
    "choisir $q^{(0)}\\in M_{n,1}(\\mathbb{C})$ tel que $\\|q^{(0)}\\|_2=1$,\n",
    "* **Itérations :** pour $k\\in\\mathbb{N}^*$, $z^{(k)}=Aq^{(k-1)}$, $\\displaystyle q^{(k)}=\\frac{z^{(k)}}{\\|z^{(k)}\\|_2}$, $\\nu^{(k)}=(q^{(k-1)})^*Aq^{(k-1)}$.\n",
    "\n",
    "En supposant que le vecteur $q^{(0)}$ n'est pas contenu dans le sous-espace engendré par les vecteurs propres associés aux valeurs propres autres que la valeur propre dominante $\\lambda_n$, on peut montrer que la suite des vecteurs $(q^{(k)})_{k\\in\\mathbb{N}}$ et la suite des quotients de Rayleigh $(\\nu^{(k)})_{k\\in\\mathbb{N}}$ convergent respectivement vers un vecteur colinéaire à $v_n$ et vers $\\lambda_n$ lorsque $k$ tend vers l'infini, la convergence\n",
    "étant d'autant plus rapide que le quotient $|\\lambda_{n-1}/\\lambda_n|$ est petit.\n",
    "\n",
    "**1.** Proposer un critère d'arrêt pour les itérations de l'algorithme de la méthode de la puissance introduit plus haut."
   ]
  },
  {
   "cell_type": "markdown",
   "metadata": {},
   "source": [
    "On peut mettre fin aux itérations de l'algorithme de la méthode de la puissance lorsque la quantité $\\lvert\\nu^{(k+1)}−\\nu^{(k)}\\rvert$, $k\\in\\mathbb{N}^*$, définie à partir de la différence entre deux approximations successives de la valeur propre dominante de la matrice $A$, est inférieure à une tolérance choisie par l'utilisateur."
   ]
  },
  {
   "cell_type": "markdown",
   "metadata": {},
   "source": [
    "**2.** Écrire une fonction `[lambda,v,iter]=puissance(A,q0,tol,itermax)` mettant en &oelig;uvre l'algorithme de la méthode de la puissance ainsi obtenu, les paramètres d'entrée `tol` et `itermax` représentant respectivement la tolérance pour le critère d'arrêt et le nombre maximum d'itérations effectuées, les paramètres en sortie `lambda`, `v` et `iter` contenant respectivement l'approximation de la valeur propre dominante calculée, l'approximation d'un vecteur propre associé et le nombre d'itérations qui ont été nécessaires pour satisfaire le critère d'arrêt en cas de convergence."
   ]
  },
  {
   "cell_type": "code",
   "execution_count": 4,
   "metadata": {},
   "outputs": [],
   "source": [
    "def puissance(A,q0,tol,itermax):\n",
    "# calcul de la valeur propre de plus grand module de la matrice A\n",
    "# et d'un vecteur propre associé de norme égale à 1 par la méthode de la puissance\n",
    "    m,n=A.shape\n",
    "    if n!=m:\n",
    "        raise ValueError('La matrice doit etre carrée.')\n",
    "    iter=1\n",
    "    z=np.dot(A,q0) \n",
    "    normz=np.array([np.linalg.norm(z)])\n",
    "    oldlambda=np.dot(q0,z)\n",
    "    q=z/normz[0]\n",
    "    res=tol+1\n",
    "    while (res>tol) and (iter<itermax):\n",
    "        iter=iter+1 \n",
    "        z=np.dot(A,q)\n",
    "        normz=np.append(normz,np.linalg.norm(z))\n",
    "        newlambda=np.dot(q,z)\n",
    "        q=z/normz[-1]        \n",
    "        res=abs(newlambda-oldlambda)\n",
    "        oldlambda=newlambda\n",
    "    if (res>tol):\n",
    "        print('Nombre maximum d\\'itérations atteint sans que le critère d\\'arrêt soit satisfait.')\n",
    "    return newlambda,q,iter,normz"
   ]
  },
  {
   "cell_type": "markdown",
   "metadata": {},
   "source": [
    "\n",
    "**3.** On considère la matrice\n",
    "$$\n",
    "A=\\begin{pmatrix}15&-2&2\\\\1&10&-3\\\\-2&1&0\\end{pmatrix}.\n",
    "$$\n",
    "**(a)** Utiliser la fonction `puissance` pour approcher la valeur propre dominante de $A$, ainsi qu'un vecteur propre associé, en prenant le vecteur $q^{(0)}=\\begin{pmatrix}1&1&1\\end{pmatrix}^\\top/\\sqrt{3}$ comme initialisation et une tolérance égale à $10^{-8}$ pour le critère d'arrêt."
   ]
  },
  {
   "cell_type": "code",
   "execution_count": 5,
   "metadata": {},
   "outputs": [
    {
     "name": "stdout",
     "output_type": "stream",
     "text": [
      "Valeur propre approchée : 14.102555738098438\n",
      "Vecteur propre associé : [ 0.94359219  0.31169404 -0.11171665]\n"
     ]
    }
   ],
   "source": [
    "A=np.array([[15.,-2.,2.],[1.,10.,-3.],[-2.,1.,0.]])\n",
    "q0=np.array([1.,1.,1.])/np.sqrt(3.)\n",
    "tol=1e-8\n",
    "itermax=1000\n",
    "valp,vectp,iter,normz=puissance(A,q0,tol,itermax)\n",
    "print('Valeur propre approchée :',valp)\n",
    "print('Vecteur propre associé :',vectp)"
   ]
  },
  {
   "cell_type": "markdown",
   "metadata": {},
   "source": [
    "**(b)** Valider le résultat obtenu en utilisant la commande `eig`."
   ]
  },
  {
   "cell_type": "code",
   "execution_count": 7,
   "metadata": {},
   "outputs": [
    {
     "name": "stdout",
     "output_type": "stream",
     "text": [
      "Valeur propre dominante calculée avec eig : 14.102555760088627\n",
      "Valeur absolue de la différence avec la valeur calculée par eig : 2.1990189225107315e-08\n"
     ]
    }
   ],
   "source": [
    "valA,vectA=np.linalg.eig(A)\n",
    "print('Valeur propre dominante calculée avec eig :',valA[np.argmax(abs(valA))])\n",
    "print('Valeur absolue de la différence avec la valeur calculée par eig :',abs(valp-valA[np.argmax(abs(valA))]))"
   ]
  },
  {
   "cell_type": "markdown",
   "metadata": {},
   "source": [
    "**4.** On souhaite à présent évaluer l'influence de la condition initiale sur la convergence de la méthode. On considère pour cela la matrice réelle symétrique\n",
    "$$\n",
    "B=\\begin{pmatrix}\n",
    "0,5172&0,5473&-1,224&0,8012\\\\\n",
    "0,5473&1,388&1,353&-1,112\\\\\n",
    "-1,224&1,353&0,03642&2,893\\\\\n",
    "0,8012&-1,112&2,893&0,05827\n",
    "\\end{pmatrix}.\n",
    "$$\n",
    "**(a)** Pour chacune des trois initialisations qui suivent, tracer sur une même figure les termes de la suite $\\|z^{(k)}\\|_2$ en fonction de l'entier $k$ : $q^{(0)}=\\begin{pmatrix}1&0&0&0\\end{pmatrix}^\\top$, $\\begin{pmatrix}1&1&1&1\\end{pmatrix}^\\top/\\sqrt{4}$ et $\\begin{pmatrix}1&1&0&0\\end{pmatrix}^\\top/\\sqrt{2}$."
   ]
  },
  {
   "cell_type": "code",
   "execution_count": 8,
   "metadata": {},
   "outputs": [
    {
     "name": "stdout",
     "output_type": "stream",
     "text": [
      "Valeur propre approchée avec l'initialisation 1 : -3.9956706987041213\n",
      "Valeur propre approchée avec l'initialisation 2 : -3.9956707032870553\n",
      "Valeur propre approchée avec l'initialisation 3 : -3.995670702884494\n"
     ]
    },
    {
     "data": {
      "text/plain": [
       "<matplotlib.legend.Legend at 0x7f76696af3d0>"
      ]
     },
     "execution_count": 8,
     "metadata": {},
     "output_type": "execute_result"
    },
    {
     "data": {
      "image/png": "[encoded data removed]",
      "text/plain": [
       "<Figure size 432x288 with 1 Axes>"
      ]
     },
     "metadata": {
      "needs_background": "light"
     },
     "output_type": "display_data"
    }
   ],
   "source": [
    "B=np.array([[ 0.5172, 0.5473,-1.224,   0.8012],\n",
    "         [ 0.5473, 1.388,  1.353,  -1.112],\n",
    "         [-1.224,  1.353,  0.03642, 2.893],\n",
    "         [ 0.8012,-1.112,  2.893,   0.05827]])\n",
    "\n",
    "q0=np.array([1.,0.,0.,0.])\n",
    "lambda1,v,iter,normz1=puissance(B,q0,tol,itermax)\n",
    "print('Valeur propre approchée avec l\\'initialisation 1 :',lambda1)\n",
    "\n",
    "q0=np.array([1.,1.,1.,1.])/np.sqrt(4.)\n",
    "lambda2,v,iter,normz2=puissance(B,q0,tol,itermax)\n",
    "print('Valeur propre approchée avec l\\'initialisation 2 :',lambda2)\n",
    "\n",
    "q0=np.array([1.,1.,0.,0.])/np.sqrt(2.)\n",
    "lambda3,v,iter,normz3=puissance(B,q0,tol,itermax)\n",
    "print('Valeur propre approchée avec l\\'initialisation 3 :',lambda3)\n",
    "\n",
    "fig=plt.figure()\n",
    "plt.plot(np.array(normz1),label='Initialisation 1')\n",
    "plt.plot(np.array(normz2),label='Initialisation 2')\n",
    "plt.plot(np.array(normz3),label='Initialisation 3')\n",
    "plt.legend()"
   ]
  },
  {
   "cell_type": "markdown",
   "metadata": {},
   "source": [
    "**(b)** Utiliser la commande `eig` pour obtenir les valeurs propres de $B$. Commenter alors les trois courbes obtenues à la question précédente en tentant de donner des explications."
   ]
  },
  {
   "cell_type": "code",
   "execution_count": 9,
   "metadata": {},
   "outputs": [
    {
     "name": "stdout",
     "output_type": "stream",
     "text": [
      "Valeurs propres de la matrice B calculée avec eig : [-3.99567071  1.00052008  3.00229491  1.99274573]\n"
     ]
    }
   ],
   "source": [
    "valB,vecB=np.linalg.eig(B)\n",
    "print('Valeurs propres de la matrice B calculée avec eig :',valB)"
   ]
  },
  {
   "cell_type": "markdown",
   "metadata": {},
   "source": [
    "Ce calcul permet d'interpréter les différences entre les trois courbes tracées à la question précédente. Avec la première initialisation, l'approximation calculée par la méthode de la puissance converge directement vers la valeur propre dominante de $B$. En revanche, avec la deuxième ou la troisième initialisation, on semble tout d'abord converger vers une autre valeur propre (celle proche de $3$ pour la deuxième initialisation, celle proche de $2$ pour la troisième) pour finalement atteindre la valeur propre dominante.\n",
    "\n",
    "Une étude attentive du vecteur initial choisi dans chacun de ces cas montre que celui-ci possède une composante le long du sous-espace propre associé à la valeur propre vers laquelle la convergence est initialement observée qui est bien plus importante que sa composante le long du sous-espace propre associé à la valeur propre dominante (la rapport est de plus de $40$ pour la deuxième initialisation et de plus de $835$ pour la troisième, contre un peu moins de $3$ pour la première). Néanmoins, après quelques itérations, la méthode a rendu cette dernière composante suffisamment grande pour que la convergence vers la valeur propre dominante ait lieu, induisant le changement de régime observé sur la courbe de convergence."
   ]
  },
  {
   "cell_type": "markdown",
   "metadata": {
    "collapsed": true
   },
   "source": [
    "## Exercice bonus (méthode de la puissance inverse)\n",
    "La méthode de la puissance inverse permet d'obtenir une approximation de la valeur propre d'une matrice $A$ d'ordre $n$ la plus proche d'un nombre complexe $\\mu$ donné n'appartenant pas au spectre de $A$. Ceci se fait en appliquant la méthode de la puissance à la matrice ${M_\\mu}^{-1}=(A-\\mu I_n)^{-1}$. Bien que plus coûteuse que la méthode de la puissance (elle nécessite en effet de résoudre un système linéaire à chaque itération de l'algorithme), la méthode de la puissance inverse a l'avantage de pouvoir converger vers n'importe quelle valeur propre de $A$ et se prête donc bien au raffinement d'une approximation d'une valeur propre, obtenue, par exemple, par une technique de localisation.\n",
    "\n",
    "Dans la pratique, on calcule une fois pour toute la factorisation LU de la matrice $M_\\mu$, ce qui permet de ne plus avoir ensuite qu'à résoudre deux systèmes triangulaires à chaque itération de la méthode.\n",
    "\n",
    "**1.** Sur le modèle de la fonction `puissance` de l'exercice précédent, écrire une fonction `[lambda,v,iter]=puissanceinv(A,q0,mu,tol,itermax)` mettant en oeuvre la méthode de la puissance inverse, le paramètre d'entrée `mu` étant l'approximation initiale de la valeur propre que l'on souhaite approcher. On utilisera les fonctions `linalg.lu` et `linalg.solve_triangular` de SciPy pour respectivement calculer la factorisation LU de la matrice $M_\\mu$ et résoudre les systèmes triangulaires (inférieur et supérieur) associés à cette factorisation."
   ]
  },
  {
   "cell_type": "code",
   "execution_count": 10,
   "metadata": {},
   "outputs": [],
   "source": [
    "from scipy import linalg\n",
    "\n",
    "def puissanceinv(A,q0,mu,tol,itermax):\n",
    "# calcul de la valeur propre de la matrice A la plus proche du nombre mu\n",
    "# et d'un vecteur propre associé de norme égale à 1 par la méthode de la puissance inverse\n",
    "    m,n=A.shape\n",
    "    if n!=m:\n",
    "        raise ValueError('La matrice doit etre carrée.')    \n",
    "    M=A-mu*np.eye(n) \n",
    "    P,L,U=linalg.lu(M)\n",
    "    iter=1\n",
    "    x=np.dot(P,q0)\n",
    "    y=linalg.solve_triangular(L,x,lower=True)\n",
    "    z=linalg.solve_triangular(U,y)\n",
    "    normz=np.array([np.linalg.norm(z)])\n",
    "    normz=np.array([np.linalg.norm(z)])\n",
    "    oldlambda=mu+1./np.dot(q0,z)\n",
    "    q=z/normz[0]\n",
    "    res=tol+1\n",
    "    while (res>tol) and (iter<itermax):\n",
    "        iter+=1 \n",
    "        x=np.dot(P,q)\n",
    "        y=linalg.solve_triangular(L,x,lower=True)\n",
    "        z=linalg.solve_triangular(U,y)\n",
    "        normz=np.append(normz,np.linalg.norm(z))\n",
    "        newlambda=mu+1./np.dot(q,z)\n",
    "        q=z/normz[-1]        \n",
    "        res=abs(newlambda-oldlambda)\n",
    "        oldlambda=newlambda\n",
    "    if (res>tol):\n",
    "        print('Nombre maximum d\\'itérations atteint sans que le critère d\\'arrêt soit satisfait.')\n",
    "    return newlambda,q,iter,normz"
   ]
  },
  {
   "cell_type": "markdown",
   "metadata": {
    "collapsed": true
   },
   "source": [
    "**2.** Utiliser la fonction `puissanceinv` pour calculer la valeur propre de plus petit module de la matrice $A$ de l'exercice précédent, en prenant $q^{(0)}=\\begin{pmatrix}1&1&1\\end{pmatrix}^T/\\sqrt{3}$ comme initialisation et une tolérance égale à $10^{-8}$ pour le critère d'arrêt."
   ]
  },
  {
   "cell_type": "code",
   "execution_count": 11,
   "metadata": {},
   "outputs": [
    {
     "name": "stdout",
     "output_type": "stream",
     "text": [
      "Valeur propre de plus petit module de A approchée : 0.5120848260210503\n",
      "Valeur propre de plus petit module de A calculée par eig : 0.5120848255718702\n"
     ]
    }
   ],
   "source": [
    "q0=np.array([1.,1.,1.])/np.sqrt(3.)\n",
    "mu=0.\n",
    "valp,vectp,iter,normz=puissanceinv(A,q0,mu,tol,itermax)\n",
    "print('Valeur propre de plus petit module de A approchée :',valp)\n",
    "print('Valeur propre de plus petit module de A calculée par eig :',valA[np.argmin(abs(valA))])"
   ]
  },
  {
   "cell_type": "code",
   "execution_count": null,
   "metadata": {},
   "outputs": [],
   "source": []
  }
 ],
 "metadata": {
  "kernelspec": {
   "display_name": "Python 3 (ipykernel)",
   "language": "python",
   "name": "python3"
  },
  "language_info": {
   "codemirror_mode": {
    "name": "ipython",
    "version": 3
   },
   "file_extension": ".py",
   "mimetype": "text/x-python",
   "name": "python",
   "nbconvert_exporter": "python",
   "pygments_lexer": "ipython3",
   "version": "3.9.12"
  }
 },
 "nbformat": 4,
 "nbformat_minor": 1
}
